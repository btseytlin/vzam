{
  "cells": [
    {
      "cell_type": "code",
      "execution_count": 2,
      "metadata": {
        "pycharm": {
          "is_executing": false
        }
      },
      "outputs": [],
      "source": "import pandas as pd\nimport numpy as np\nimport seaborn as sns\nimport matplotlib.pyplot as plt \nimport os\nfrom vzam.searcher import FaissRhashVideoSearcher\nfrom sklearn.metrics import classification_report\n%matplotlib inline"
    },
    {
      "cell_type": "code",
      "execution_count": 3,
      "metadata": {
        "pycharm": {
          "is_executing": false
        }
      },
      "outputs": [
        {
          "data": {
            "text/plain": "\u0027/home/boris/study/курсовой/vzam\u0027"
          },
          "metadata": {},
          "output_type": "execute_result",
          "execution_count": 3
        }
      ],
      "source": [
        "initial_cwd \u003d os.getcwd()\n",
        "initial_cwd"
      ]
    },
    {
      "cell_type": "code",
      "execution_count": 3,
      "metadata": {
        "pycharm": {
          "is_executing": false
        }
      },
      "outputs": [],
      "source": []
    },
    {
      "cell_type": "code",
      "execution_count": 4,
      "metadata": {
        "pycharm": {
          "is_executing": false
        }
      },
      "outputs": [],
      "source": "# print(initial_cwd)\n# os.chdir(initial_cwd)\n# os.chdir(\u0027..\u0027)\n# print(os.getcwd())"
    },
    {
      "cell_type": "code",
      "execution_count": 4,
      "metadata": {
        "pycharm": {
          "is_executing": false
        }
      },
      "outputs": [],
      "source": []
    },
    {
      "cell_type": "code",
      "execution_count": 5,
      "metadata": {
        "pycharm": {
          "is_executing": false
        }
      },
      "outputs": [],
      "source": [
        "from vzam import *"
      ]
    },
    {
      "cell_type": "code",
      "execution_count": 46,
      "metadata": {
        "pycharm": {
          "is_executing": false
        }
      },
      "outputs": [],
      "source": "vcdb \u003d pd.read_csv(\u0027data/vcdb.csv\u0027)\nvcdb_lut \u003d pd.read_csv(\u0027data/vcdb_query_source_lut.csv\u0027)\nvcdb_lut.index \u003d vcdb_lut[\u0027query_id\u0027]"
    },
    {
      "cell_type": "code",
      "execution_count": 47,
      "outputs": [
        {
          "data": {
            "text/plain": "                                               query  \\\n0  core_dataset/baggio_penalty_1994\\3504e360accba...   \n1  core_dataset/baggio_penalty_1994\\37b31d607d31a...   \n2  core_dataset/baggio_penalty_1994\\458db5aa227ae...   \n3  core_dataset/baggio_penalty_1994\\5c5714c0a56fd...   \n4  core_dataset/baggio_penalty_1994\\67824b87c0698...   \n\n                                              source  \\\n0  core_dataset/baggio_penalty_1994\\bb604f57a1845...   \n1  core_dataset/baggio_penalty_1994\\bb604f57a1845...   \n2  core_dataset/baggio_penalty_1994\\bb604f57a1845...   \n3  core_dataset/baggio_penalty_1994\\bb604f57a1845...   \n4  core_dataset/baggio_penalty_1994\\bb604f57a1845...   \n\n                                      source_id  \n0  bb604f57a18455867544e79c2e32bf5583c358d4.flv  \n1  bb604f57a18455867544e79c2e32bf5583c358d4.flv  \n2  bb604f57a18455867544e79c2e32bf5583c358d4.flv  \n3  bb604f57a18455867544e79c2e32bf5583c358d4.flv  \n4  bb604f57a18455867544e79c2e32bf5583c358d4.flv  ",
            "text/html": "\u003cdiv\u003e\n\u003cstyle scoped\u003e\n    .dataframe tbody tr th:only-of-type {\n        vertical-align: middle;\n    }\n\n    .dataframe tbody tr th {\n        vertical-align: top;\n    }\n\n    .dataframe thead th {\n        text-align: right;\n    }\n\u003c/style\u003e\n\u003ctable border\u003d\"1\" class\u003d\"dataframe\"\u003e\n  \u003cthead\u003e\n    \u003ctr style\u003d\"text-align: right;\"\u003e\n      \u003cth\u003e\u003c/th\u003e\n      \u003cth\u003equery\u003c/th\u003e\n      \u003cth\u003esource\u003c/th\u003e\n      \u003cth\u003esource_id\u003c/th\u003e\n    \u003c/tr\u003e\n  \u003c/thead\u003e\n  \u003ctbody\u003e\n    \u003ctr\u003e\n      \u003cth\u003e0\u003c/th\u003e\n      \u003ctd\u003ecore_dataset/baggio_penalty_1994\\3504e360accba...\u003c/td\u003e\n      \u003ctd\u003ecore_dataset/baggio_penalty_1994\\bb604f57a1845...\u003c/td\u003e\n      \u003ctd\u003ebb604f57a18455867544e79c2e32bf5583c358d4.flv\u003c/td\u003e\n    \u003c/tr\u003e\n    \u003ctr\u003e\n      \u003cth\u003e1\u003c/th\u003e\n      \u003ctd\u003ecore_dataset/baggio_penalty_1994\\37b31d607d31a...\u003c/td\u003e\n      \u003ctd\u003ecore_dataset/baggio_penalty_1994\\bb604f57a1845...\u003c/td\u003e\n      \u003ctd\u003ebb604f57a18455867544e79c2e32bf5583c358d4.flv\u003c/td\u003e\n    \u003c/tr\u003e\n    \u003ctr\u003e\n      \u003cth\u003e2\u003c/th\u003e\n      \u003ctd\u003ecore_dataset/baggio_penalty_1994\\458db5aa227ae...\u003c/td\u003e\n      \u003ctd\u003ecore_dataset/baggio_penalty_1994\\bb604f57a1845...\u003c/td\u003e\n      \u003ctd\u003ebb604f57a18455867544e79c2e32bf5583c358d4.flv\u003c/td\u003e\n    \u003c/tr\u003e\n    \u003ctr\u003e\n      \u003cth\u003e3\u003c/th\u003e\n      \u003ctd\u003ecore_dataset/baggio_penalty_1994\\5c5714c0a56fd...\u003c/td\u003e\n      \u003ctd\u003ecore_dataset/baggio_penalty_1994\\bb604f57a1845...\u003c/td\u003e\n      \u003ctd\u003ebb604f57a18455867544e79c2e32bf5583c358d4.flv\u003c/td\u003e\n    \u003c/tr\u003e\n    \u003ctr\u003e\n      \u003cth\u003e4\u003c/th\u003e\n      \u003ctd\u003ecore_dataset/baggio_penalty_1994\\67824b87c0698...\u003c/td\u003e\n      \u003ctd\u003ecore_dataset/baggio_penalty_1994\\bb604f57a1845...\u003c/td\u003e\n      \u003ctd\u003ebb604f57a18455867544e79c2e32bf5583c358d4.flv\u003c/td\u003e\n    \u003c/tr\u003e\n  \u003c/tbody\u003e\n\u003c/table\u003e\n\u003c/div\u003e"
          },
          "metadata": {},
          "output_type": "execute_result",
          "execution_count": 47
        }
      ],
      "source": "vcdb.head()",
      "metadata": {
        "pycharm": {
          "metadata": false,
          "name": "#%%\n",
          "is_executing": false
        }
      }
    },
    {
      "cell_type": "code",
      "execution_count": 48,
      "outputs": [
        {
          "data": {
            "text/plain": "                                                                                  query_id  \\\nquery_id                                                                                     \n3504e360accbaccb1580befbb441f1019664c2bb.mp4  3504e360accbaccb1580befbb441f1019664c2bb.mp4   \n37b31d607d31a47d347b15dae2b8aa63e57861eb.flv  37b31d607d31a47d347b15dae2b8aa63e57861eb.flv   \n458db5aa227ae49ceb8bc1bed5f9cf5b4bed63f2.flv  458db5aa227ae49ceb8bc1bed5f9cf5b4bed63f2.flv   \n5c5714c0a56fd2a96f99db2f59b0d03659d77cdf.flv  5c5714c0a56fd2a96f99db2f59b0d03659d77cdf.flv   \n67824b87c0698c499acad123b7498ae17f97bf6d.flv  67824b87c0698c499acad123b7498ae17f97bf6d.flv   \n\n                                                                                 source_id  \nquery_id                                                                                    \n3504e360accbaccb1580befbb441f1019664c2bb.mp4  bb604f57a18455867544e79c2e32bf5583c358d4.flv  \n37b31d607d31a47d347b15dae2b8aa63e57861eb.flv  bb604f57a18455867544e79c2e32bf5583c358d4.flv  \n458db5aa227ae49ceb8bc1bed5f9cf5b4bed63f2.flv  bb604f57a18455867544e79c2e32bf5583c358d4.flv  \n5c5714c0a56fd2a96f99db2f59b0d03659d77cdf.flv  bb604f57a18455867544e79c2e32bf5583c358d4.flv  \n67824b87c0698c499acad123b7498ae17f97bf6d.flv  bb604f57a18455867544e79c2e32bf5583c358d4.flv  ",
            "text/html": "\u003cdiv\u003e\n\u003cstyle scoped\u003e\n    .dataframe tbody tr th:only-of-type {\n        vertical-align: middle;\n    }\n\n    .dataframe tbody tr th {\n        vertical-align: top;\n    }\n\n    .dataframe thead th {\n        text-align: right;\n    }\n\u003c/style\u003e\n\u003ctable border\u003d\"1\" class\u003d\"dataframe\"\u003e\n  \u003cthead\u003e\n    \u003ctr style\u003d\"text-align: right;\"\u003e\n      \u003cth\u003e\u003c/th\u003e\n      \u003cth\u003equery_id\u003c/th\u003e\n      \u003cth\u003esource_id\u003c/th\u003e\n    \u003c/tr\u003e\n    \u003ctr\u003e\n      \u003cth\u003equery_id\u003c/th\u003e\n      \u003cth\u003e\u003c/th\u003e\n      \u003cth\u003e\u003c/th\u003e\n    \u003c/tr\u003e\n  \u003c/thead\u003e\n  \u003ctbody\u003e\n    \u003ctr\u003e\n      \u003cth\u003e3504e360accbaccb1580befbb441f1019664c2bb.mp4\u003c/th\u003e\n      \u003ctd\u003e3504e360accbaccb1580befbb441f1019664c2bb.mp4\u003c/td\u003e\n      \u003ctd\u003ebb604f57a18455867544e79c2e32bf5583c358d4.flv\u003c/td\u003e\n    \u003c/tr\u003e\n    \u003ctr\u003e\n      \u003cth\u003e37b31d607d31a47d347b15dae2b8aa63e57861eb.flv\u003c/th\u003e\n      \u003ctd\u003e37b31d607d31a47d347b15dae2b8aa63e57861eb.flv\u003c/td\u003e\n      \u003ctd\u003ebb604f57a18455867544e79c2e32bf5583c358d4.flv\u003c/td\u003e\n    \u003c/tr\u003e\n    \u003ctr\u003e\n      \u003cth\u003e458db5aa227ae49ceb8bc1bed5f9cf5b4bed63f2.flv\u003c/th\u003e\n      \u003ctd\u003e458db5aa227ae49ceb8bc1bed5f9cf5b4bed63f2.flv\u003c/td\u003e\n      \u003ctd\u003ebb604f57a18455867544e79c2e32bf5583c358d4.flv\u003c/td\u003e\n    \u003c/tr\u003e\n    \u003ctr\u003e\n      \u003cth\u003e5c5714c0a56fd2a96f99db2f59b0d03659d77cdf.flv\u003c/th\u003e\n      \u003ctd\u003e5c5714c0a56fd2a96f99db2f59b0d03659d77cdf.flv\u003c/td\u003e\n      \u003ctd\u003ebb604f57a18455867544e79c2e32bf5583c358d4.flv\u003c/td\u003e\n    \u003c/tr\u003e\n    \u003ctr\u003e\n      \u003cth\u003e67824b87c0698c499acad123b7498ae17f97bf6d.flv\u003c/th\u003e\n      \u003ctd\u003e67824b87c0698c499acad123b7498ae17f97bf6d.flv\u003c/td\u003e\n      \u003ctd\u003ebb604f57a18455867544e79c2e32bf5583c358d4.flv\u003c/td\u003e\n    \u003c/tr\u003e\n  \u003c/tbody\u003e\n\u003c/table\u003e\n\u003c/div\u003e"
          },
          "metadata": {},
          "output_type": "execute_result",
          "execution_count": 48
        }
      ],
      "source": "vcdb_lut.head()",
      "metadata": {
        "pycharm": {
          "metadata": false,
          "name": "#%%\n",
          "is_executing": false
        }
      }
    },
    {
      "cell_type": "code",
      "execution_count": 50,
      "outputs": [
        {
          "data": {
            "text/plain": "(106, 2)"
          },
          "metadata": {},
          "output_type": "execute_result",
          "execution_count": 50
        }
      ],
      "source": "vcdb_lut.shape",
      "metadata": {
        "pycharm": {
          "metadata": false,
          "name": "#%%\n",
          "is_executing": false
        }
      }
    },
    {
      "cell_type": "code",
      "execution_count": 51,
      "outputs": [],
      "source": "# vcdb[\u0027query_id\u0027] \u003d vcdb[\u0027query\u0027].apply(lambda x: os.path.basename(x).split(\u0027\\\\\u0027)[-1])\n# vcdb.head()",
      "metadata": {
        "pycharm": {
          "metadata": false,
          "name": "#%%\n",
          "is_executing": false
        }
      }
    },
    {
      "cell_type": "code",
      "execution_count": 52,
      "outputs": [],
      "source": "# vcdb_lut \u003d vcdb[[\u0027query_id\u0027, \u0027source_id\u0027]]\n# vcdb_lut.index \u003d vcdb_lut.query_id",
      "metadata": {
        "pycharm": {
          "metadata": false,
          "name": "#%%\n",
          "is_executing": false
        }
      }
    },
    {
      "cell_type": "code",
      "execution_count": 53,
      "outputs": [
        {
          "data": {
            "text/plain": "\u0027bb604f57a18455867544e79c2e32bf5583c358d4.flv\u0027"
          },
          "metadata": {},
          "output_type": "execute_result",
          "execution_count": 53
        }
      ],
      "source": "\nvcdb_lut.ix[\u00273504e360accbaccb1580befbb441f1019664c2bb.mp4\u0027].source_id",
      "metadata": {
        "pycharm": {
          "metadata": false,
          "name": "#%%\n",
          "is_executing": false
        }
      }
    },
    {
      "cell_type": "code",
      "execution_count": 54,
      "outputs": [],
      "source": "SOURCE_DATASET \u003d \u0027data/vcdb_rhash_source.csv\u0027\nQUERY_DATASET \u003d \u0027data/vcdb_rhash_query.csv\u0027",
      "metadata": {
        "pycharm": {
          "metadata": false,
          "name": "#%%\n",
          "is_executing": false
        }
      }
    },
    {
      "cell_type": "code",
      "execution_count": 55,
      "outputs": [
        {
          "data": {
            "text/plain": "                                             feature    ts  \\\n0  [0, 0, 0, 1, 0, 0, 1, 1, 0, 1, 0, 1, 1, 1, 1, ...  0.45   \n1  [0, 0, 0, 1, 0, 0, 1, 1, 1, 1, 0, 1, 1, 1, 1, ...  0.95   \n2  [0, 0, 0, 1, 0, 0, 1, 1, 1, 1, 0, 1, 1, 1, 1, ...  1.45   \n3  [0, 0, 0, 1, 0, 0, 1, 1, 1, 1, 0, 1, 1, 1, 1, ...  1.95   \n4  [0, 1, 1, 1, 1, 0, 0, 1, 0, 1, 0, 0, 1, 1, 1, ...  2.45   \n\n                                             id  \n0  bb604f57a18455867544e79c2e32bf5583c358d4.flv  \n1  bb604f57a18455867544e79c2e32bf5583c358d4.flv  \n2  bb604f57a18455867544e79c2e32bf5583c358d4.flv  \n3  bb604f57a18455867544e79c2e32bf5583c358d4.flv  \n4  bb604f57a18455867544e79c2e32bf5583c358d4.flv  ",
            "text/html": "\u003cdiv\u003e\n\u003cstyle scoped\u003e\n    .dataframe tbody tr th:only-of-type {\n        vertical-align: middle;\n    }\n\n    .dataframe tbody tr th {\n        vertical-align: top;\n    }\n\n    .dataframe thead th {\n        text-align: right;\n    }\n\u003c/style\u003e\n\u003ctable border\u003d\"1\" class\u003d\"dataframe\"\u003e\n  \u003cthead\u003e\n    \u003ctr style\u003d\"text-align: right;\"\u003e\n      \u003cth\u003e\u003c/th\u003e\n      \u003cth\u003efeature\u003c/th\u003e\n      \u003cth\u003ets\u003c/th\u003e\n      \u003cth\u003eid\u003c/th\u003e\n    \u003c/tr\u003e\n  \u003c/thead\u003e\n  \u003ctbody\u003e\n    \u003ctr\u003e\n      \u003cth\u003e0\u003c/th\u003e\n      \u003ctd\u003e[0, 0, 0, 1, 0, 0, 1, 1, 0, 1, 0, 1, 1, 1, 1, ...\u003c/td\u003e\n      \u003ctd\u003e0.45\u003c/td\u003e\n      \u003ctd\u003ebb604f57a18455867544e79c2e32bf5583c358d4.flv\u003c/td\u003e\n    \u003c/tr\u003e\n    \u003ctr\u003e\n      \u003cth\u003e1\u003c/th\u003e\n      \u003ctd\u003e[0, 0, 0, 1, 0, 0, 1, 1, 1, 1, 0, 1, 1, 1, 1, ...\u003c/td\u003e\n      \u003ctd\u003e0.95\u003c/td\u003e\n      \u003ctd\u003ebb604f57a18455867544e79c2e32bf5583c358d4.flv\u003c/td\u003e\n    \u003c/tr\u003e\n    \u003ctr\u003e\n      \u003cth\u003e2\u003c/th\u003e\n      \u003ctd\u003e[0, 0, 0, 1, 0, 0, 1, 1, 1, 1, 0, 1, 1, 1, 1, ...\u003c/td\u003e\n      \u003ctd\u003e1.45\u003c/td\u003e\n      \u003ctd\u003ebb604f57a18455867544e79c2e32bf5583c358d4.flv\u003c/td\u003e\n    \u003c/tr\u003e\n    \u003ctr\u003e\n      \u003cth\u003e3\u003c/th\u003e\n      \u003ctd\u003e[0, 0, 0, 1, 0, 0, 1, 1, 1, 1, 0, 1, 1, 1, 1, ...\u003c/td\u003e\n      \u003ctd\u003e1.95\u003c/td\u003e\n      \u003ctd\u003ebb604f57a18455867544e79c2e32bf5583c358d4.flv\u003c/td\u003e\n    \u003c/tr\u003e\n    \u003ctr\u003e\n      \u003cth\u003e4\u003c/th\u003e\n      \u003ctd\u003e[0, 1, 1, 1, 1, 0, 0, 1, 0, 1, 0, 0, 1, 1, 1, ...\u003c/td\u003e\n      \u003ctd\u003e2.45\u003c/td\u003e\n      \u003ctd\u003ebb604f57a18455867544e79c2e32bf5583c358d4.flv\u003c/td\u003e\n    \u003c/tr\u003e\n  \u003c/tbody\u003e\n\u003c/table\u003e\n\u003c/div\u003e"
          },
          "metadata": {},
          "output_type": "execute_result",
          "execution_count": 55
        }
      ],
      "source": "def list_converter(text):\n    return eval(text.replace(\u0027 \u0027, \u0027,\u0027))\n\nsource_df \u003d pd.read_csv(SOURCE_DATASET, converters\u003d{\"feature\": list_converter})\nsource_df.head()",
      "metadata": {
        "pycharm": {
          "metadata": false,
          "name": "#%%\n",
          "is_executing": false
        }
      }
    },
    {
      "cell_type": "code",
      "execution_count": 56,
      "outputs": [
        {
          "data": {
            "text/plain": "(2677, 3)"
          },
          "metadata": {},
          "output_type": "execute_result",
          "execution_count": 56
        }
      ],
      "source": "source_df.shape",
      "metadata": {
        "pycharm": {
          "metadata": false,
          "name": "#%%\n",
          "is_executing": false
        }
      }
    },
    {
      "cell_type": "code",
      "execution_count": 57,
      "outputs": [
        {
          "data": {
            "text/plain": "array([[0, 0, 0, ..., 0, 0, 0],\n       [0, 0, 0, ..., 0, 0, 0],\n       [0, 0, 0, ..., 0, 0, 0],\n       ...,\n       [1, 1, 0, ..., 0, 0, 0],\n       [1, 1, 0, ..., 0, 0, 0],\n       [1, 1, 0, ..., 0, 0, 0]])"
          },
          "metadata": {},
          "output_type": "execute_result",
          "execution_count": 57
        }
      ],
      "source": "frame_times \u003d source_df[\u0027ts\u0027]\nlabels \u003d source_df.id.values\nframe_vectors \u003d np.vstack(source_df[\u0027feature\u0027].values)\nframe_vectors",
      "metadata": {
        "pycharm": {
          "metadata": false,
          "name": "#%%\n",
          "is_executing": false
        }
      }
    },
    {
      "cell_type": "code",
      "execution_count": 58,
      "outputs": [],
      "source": "searcher \u003d FaissRhashVideoSearcher(frame_vectors, labels, frame_times)\n",
      "metadata": {
        "pycharm": {
          "metadata": false,
          "name": "#%%\n",
          "is_executing": false
        }
      }
    },
    {
      "cell_type": "code",
      "execution_count": 59,
      "outputs": [
        {
          "data": {
            "text/plain": "                                             feature   ts  \\\n0  [1, 0, 0, 1, 1, 1, 0, 1, 1, 0, 0, 0, 1, 1, 1, ...  0.8   \n1  [0, 1, 1, 1, 1, 0, 1, 1, 1, 0, 0, 1, 1, 1, 1, ...  1.8   \n2  [0, 1, 1, 1, 1, 0, 1, 1, 1, 0, 0, 1, 1, 1, 1, ...  2.8   \n3  [0, 1, 1, 1, 1, 0, 1, 1, 1, 0, 0, 1, 1, 1, 1, ...  3.8   \n4  [1, 1, 1, 0, 0, 0, 1, 1, 1, 0, 0, 1, 1, 1, 1, ...  4.8   \n\n                                             id  \n0  3504e360accbaccb1580befbb441f1019664c2bb.mp4  \n1  3504e360accbaccb1580befbb441f1019664c2bb.mp4  \n2  3504e360accbaccb1580befbb441f1019664c2bb.mp4  \n3  3504e360accbaccb1580befbb441f1019664c2bb.mp4  \n4  3504e360accbaccb1580befbb441f1019664c2bb.mp4  ",
            "text/html": "\u003cdiv\u003e\n\u003cstyle scoped\u003e\n    .dataframe tbody tr th:only-of-type {\n        vertical-align: middle;\n    }\n\n    .dataframe tbody tr th {\n        vertical-align: top;\n    }\n\n    .dataframe thead th {\n        text-align: right;\n    }\n\u003c/style\u003e\n\u003ctable border\u003d\"1\" class\u003d\"dataframe\"\u003e\n  \u003cthead\u003e\n    \u003ctr style\u003d\"text-align: right;\"\u003e\n      \u003cth\u003e\u003c/th\u003e\n      \u003cth\u003efeature\u003c/th\u003e\n      \u003cth\u003ets\u003c/th\u003e\n      \u003cth\u003eid\u003c/th\u003e\n    \u003c/tr\u003e\n  \u003c/thead\u003e\n  \u003ctbody\u003e\n    \u003ctr\u003e\n      \u003cth\u003e0\u003c/th\u003e\n      \u003ctd\u003e[1, 0, 0, 1, 1, 1, 0, 1, 1, 0, 0, 0, 1, 1, 1, ...\u003c/td\u003e\n      \u003ctd\u003e0.8\u003c/td\u003e\n      \u003ctd\u003e3504e360accbaccb1580befbb441f1019664c2bb.mp4\u003c/td\u003e\n    \u003c/tr\u003e\n    \u003ctr\u003e\n      \u003cth\u003e1\u003c/th\u003e\n      \u003ctd\u003e[0, 1, 1, 1, 1, 0, 1, 1, 1, 0, 0, 1, 1, 1, 1, ...\u003c/td\u003e\n      \u003ctd\u003e1.8\u003c/td\u003e\n      \u003ctd\u003e3504e360accbaccb1580befbb441f1019664c2bb.mp4\u003c/td\u003e\n    \u003c/tr\u003e\n    \u003ctr\u003e\n      \u003cth\u003e2\u003c/th\u003e\n      \u003ctd\u003e[0, 1, 1, 1, 1, 0, 1, 1, 1, 0, 0, 1, 1, 1, 1, ...\u003c/td\u003e\n      \u003ctd\u003e2.8\u003c/td\u003e\n      \u003ctd\u003e3504e360accbaccb1580befbb441f1019664c2bb.mp4\u003c/td\u003e\n    \u003c/tr\u003e\n    \u003ctr\u003e\n      \u003cth\u003e3\u003c/th\u003e\n      \u003ctd\u003e[0, 1, 1, 1, 1, 0, 1, 1, 1, 0, 0, 1, 1, 1, 1, ...\u003c/td\u003e\n      \u003ctd\u003e3.8\u003c/td\u003e\n      \u003ctd\u003e3504e360accbaccb1580befbb441f1019664c2bb.mp4\u003c/td\u003e\n    \u003c/tr\u003e\n    \u003ctr\u003e\n      \u003cth\u003e4\u003c/th\u003e\n      \u003ctd\u003e[1, 1, 1, 0, 0, 0, 1, 1, 1, 0, 0, 1, 1, 1, 1, ...\u003c/td\u003e\n      \u003ctd\u003e4.8\u003c/td\u003e\n      \u003ctd\u003e3504e360accbaccb1580befbb441f1019664c2bb.mp4\u003c/td\u003e\n    \u003c/tr\u003e\n  \u003c/tbody\u003e\n\u003c/table\u003e\n\u003c/div\u003e"
          },
          "metadata": {},
          "output_type": "execute_result",
          "execution_count": 59
        }
      ],
      "source": "query_df \u003d pd.read_csv(QUERY_DATASET, converters\u003d{\"feature\": list_converter})\nquery_df.head()",
      "metadata": {
        "pycharm": {
          "metadata": false,
          "name": "#%%\n",
          "is_executing": false
        }
      }
    },
    {
      "cell_type": "code",
      "execution_count": 60,
      "outputs": [
        {
          "data": {
            "text/plain": "(94619, 3)"
          },
          "metadata": {},
          "output_type": "execute_result",
          "execution_count": 60
        }
      ],
      "source": "query_df.shape",
      "metadata": {
        "pycharm": {
          "metadata": false,
          "name": "#%%\n",
          "is_executing": false
        }
      }
    },
    {
      "cell_type": "code",
      "execution_count": 61,
      "outputs": [
        {
          "data": {
            "text/plain": "519"
          },
          "metadata": {},
          "output_type": "execute_result",
          "execution_count": 61
        }
      ],
      "source": "query_ids \u003d query_df.id.unique()\nlen(query_ids)",
      "metadata": {
        "pycharm": {
          "metadata": false,
          "name": "#%%\n",
          "is_executing": false
        }
      }
    },
    {
      "cell_type": "code",
      "execution_count": 62,
      "outputs": [],
      "source": "searcher.dist_threshold \u003d 20",
      "metadata": {
        "pycharm": {
          "metadata": false,
          "name": "#%%\n",
          "is_executing": false
        }
      }
    },
    {
      "cell_type": "code",
      "execution_count": 67,
      "outputs": [],
      "source": "import time",
      "metadata": {
        "pycharm": {
          "metadata": false,
          "name": "#%%\n",
          "is_executing": false
        }
      }
    },
    {
      "cell_type": "code",
      "execution_count": 68,
      "outputs": [
        {
          "name": "stdout",
          "text": [
            "0\n",
            "                                              precision    recall  f1-score   support\n\nbb604f57a18455867544e79c2e32bf5583c358d4.flv       0.00      0.00      0.00         5\n                                        miss       0.00      0.00      0.00         0\n\n                                   micro avg       0.00      0.00      0.00         5\n                                   macro avg       0.00      0.00      0.00         5\n                                weighted avg       0.00      0.00      0.00         5\n\n"
          ],
          "output_type": "stream"
        }
      ],
      "source": "true_labels \u003d []\npredictions \u003d []\ntimes \u003d []\nfor i, query_id in enumerate(query_ids[:5]):\n    start_time \u003d time.time()\n    tdf \u003d query_df[query_df.id \u003d\u003d query_id]\n    try:\n        true_label \u003d vcdb_lut.ix[query_id].source_id\n    except KeyError:\n        true_label \u003d \u0027miss\u0027\n    true_labels.append(\u0027miss\u0027 if true_label !\u003d true_label else true_label)\n    query_vectors \u003d np.vstack(tdf[\u0027feature\u0027].values)\n    prediction \u003d searcher.lookup(query_vectors, conf_threshold\u003d0.7)\n    predicted_label \u003d prediction[0][0] if prediction else \u0027miss\u0027\n    predictions.append(predicted_label)\n    times.append(time.time() - start_time)\n    if i % 50 \u003d\u003d 0:\n        print(i)\nprint(classification_report(true_labels, predictions))",
      "metadata": {
        "pycharm": {
          "metadata": false,
          "name": "#%%\n",
          "is_executing": false
        }
      }
    },
    {
      "cell_type": "code",
      "execution_count": 69,
      "outputs": [
        {
          "name": "stdout",
          "text": [
            "0.15899910926818847\n"
          ],
          "output_type": "stream"
        }
      ],
      "source": "print(np.mean(times))",
      "metadata": {
        "pycharm": {
          "metadata": false,
          "name": "#%%\n",
          "is_executing": false
        }
      }
    },
    {
      "cell_type": "code",
      "execution_count": 22,
      "outputs": [],
      "source": "# predictions",
      "metadata": {
        "pycharm": {
          "metadata": false,
          "name": "#%%\n",
          "is_executing": false
        }
      }
    },
    {
      "cell_type": "code",
      "execution_count": 70,
      "outputs": [
        {
          "name": "stdout",
          "text": [
            "0\n",
            "50\n",
            "100\n",
            "150\n",
            "200\n",
            "250\n",
            "300\n",
            "350\n",
            "400\n",
            "450\n",
            "500\n",
            "                                              precision    recall  f1-score   support\n\n098df9c477ecf6c4f3818b198490b0258163015d.flv       0.17      0.09      0.12        11\n127dab55025984673f65d3a23b1fea99ecc79b15.mp4       0.11      0.27      0.16        26\n3499b9fd4316131ebf0f5d9bbecf6f3f8600c4fb.flv       0.13      0.18      0.15        11\n3df02ec5ddb74647d8fb96f08adba8e152050ef9.flv       0.70      1.00      0.82         7\n410ba1c253fb8d4a8ba6e59aa9e39d39cb3b245b.flv       1.00      0.33      0.50         6\n46f2e964ae16f5c27fad70d6849c76616fad7502.flv       0.00      0.00      0.00         4\n97c71f57e83f6ab16906fdd7edc8e3f88d2ceee1.flv       0.07      0.12      0.09        24\nbb604f57a18455867544e79c2e32bf5583c358d4.flv       0.00      0.00      0.00        10\nd2015b438b70f022967713d6f977ebc67a16839e.flv       0.00      0.00      0.00         7\n                                        miss       0.85      0.73      0.79       413\n\n                                   micro avg       0.62      0.62      0.62       519\n                                   macro avg       0.30      0.27      0.26       519\n                                weighted avg       0.71      0.62      0.66       519\n\n0.02119124326173051\n"
          ],
          "output_type": "stream"
        }
      ],
      "source": "true_labels \u003d []\npredictions \u003d []\ntimes \u003d []\nfor i, query_id in enumerate(query_ids):\n    start_time \u003d time.time()\n    tdf \u003d query_df[query_df.id \u003d\u003d query_id]\n    try:\n        true_label \u003d vcdb_lut.ix[query_id].source_id\n    except KeyError:\n        true_label \u003d \u0027miss\u0027\n    true_labels.append(\u0027miss\u0027 if true_label is np.NaN else true_label)\n    query_vectors \u003d np.vstack(tdf[\u0027feature\u0027].values)\n    prediction \u003d searcher.lookup_sequence(query_vectors)\n    prediction \u003d prediction[0] if prediction else None\n    predicted_label \u003d prediction[\u0027label\u0027] if prediction else \u0027miss\u0027\n    predictions.append(predicted_label)\n    times.append(time.time() - start_time)\n    if i % 50 \u003d\u003d 0:\n        print(i)\n    \nprint(classification_report(true_labels, predictions))\nprint(np.mean(times))",
      "metadata": {
        "pycharm": {
          "metadata": false,
          "name": "#%%\n",
          "is_executing": false
        }
      }
    },
    {
      "cell_type": "code",
      "execution_count": 71,
      "outputs": [
        {
          "name": "stdout",
          "text": [
            "0\n",
            "50\n",
            "100\n",
            "150\n",
            "200\n",
            "250\n",
            "300\n",
            "350\n",
            "400\n",
            "450\n",
            "500\n",
            "                                              precision    recall  f1-score   support\n\n098df9c477ecf6c4f3818b198490b0258163015d.flv       0.67      0.18      0.29        11\n127dab55025984673f65d3a23b1fea99ecc79b15.mp4       0.46      0.81      0.58        26\n3499b9fd4316131ebf0f5d9bbecf6f3f8600c4fb.flv       1.00      0.18      0.31        11\n3df02ec5ddb74647d8fb96f08adba8e152050ef9.flv       0.44      1.00      0.61         7\n410ba1c253fb8d4a8ba6e59aa9e39d39cb3b245b.flv       1.00      0.67      0.80         6\n46f2e964ae16f5c27fad70d6849c76616fad7502.flv       0.00      0.00      0.00         4\n97c71f57e83f6ab16906fdd7edc8e3f88d2ceee1.flv       0.05      0.17      0.07        24\nbb604f57a18455867544e79c2e32bf5583c358d4.flv       0.00      0.00      0.00        10\nd2015b438b70f022967713d6f977ebc67a16839e.flv       0.00      0.00      0.00         7\n                                        miss       0.87      0.76      0.81       413\n\n                                   micro avg       0.68      0.68      0.68       519\n                                   macro avg       0.45      0.38      0.35       519\n                                weighted avg       0.77      0.68      0.71       519\n\n0.01585364847054601\n"
          ],
          "output_type": "stream"
        }
      ],
      "source": "# Majority vote\ntrue_labels \u003d []\npredictions \u003d []\ntimes \u003d []\nfor i, query_id in enumerate(query_ids):\n    start_time \u003d time.time()\n    tdf \u003d query_df[query_df.id \u003d\u003d query_id]\n    try:\n        true_label \u003d vcdb_lut.ix[query_id].source_id\n    except KeyError:\n        true_label \u003d \u0027miss\u0027\n    true_labels.append(\u0027miss\u0027 if true_label is np.NaN else true_label)\n    query_vectors \u003d np.vstack(tdf[\u0027feature\u0027].values)\n    prediction \u003d searcher.lookup_mv(query_vectors)\n    predicted_label \u003d prediction[0] if prediction else \u0027miss\u0027\n    predictions.append(predicted_label)\n    times.append(time.time() - start_time)\n    if i % 50 \u003d\u003d 0:\n        print(i)\nprint(classification_report(true_labels, predictions))\nprint(np.mean(times))",
      "metadata": {
        "pycharm": {
          "metadata": false,
          "name": "#%%\n",
          "is_executing": false
        }
      }
    },
    {
      "cell_type": "code",
      "execution_count": 26,
      "outputs": [],
      "source": "",
      "metadata": {
        "pycharm": {
          "metadata": false,
          "name": "#%%\n",
          "is_executing": false
        }
      }
    },
    {
      "cell_type": "code",
      "execution_count": 26,
      "outputs": [],
      "source": "",
      "metadata": {
        "pycharm": {
          "metadata": false,
          "name": "#%%\n",
          "is_executing": false
        }
      }
    },
    {
      "cell_type": "code",
      "execution_count": 45,
      "outputs": [
        {
          "name": "stdout",
          "text": [
            "0\n",
            "50\n",
            "100\n",
            "150\n",
            "200\n",
            "250\n"
          ],
          "output_type": "stream"
        },
        {
          "traceback": [
            "\u001b[0;31m---------------------------------------------------------------------------\u001b[0m",
            "\u001b[0;31mKeyboardInterrupt\u001b[0m                         Traceback (most recent call last)",
            "\u001b[0;32m\u003cipython-input-45-0f7a8fdc6b2d\u003e\u001b[0m in \u001b[0;36m\u003cmodule\u003e\u001b[0;34m\u001b[0m\n\u001b[1;32m     34\u001b[0m     \u001b[0mtrue_labels\u001b[0m\u001b[0;34m.\u001b[0m\u001b[0mappend\u001b[0m\u001b[0;34m(\u001b[0m\u001b[0;34m\u0027miss\u0027\u001b[0m \u001b[0;32mif\u001b[0m \u001b[0mtrue_label\u001b[0m \u001b[0;32mis\u001b[0m \u001b[0mnp\u001b[0m\u001b[0;34m.\u001b[0m\u001b[0mNaN\u001b[0m \u001b[0;32melse\u001b[0m \u001b[0mtrue_label\u001b[0m\u001b[0;34m)\u001b[0m\u001b[0;34m\u001b[0m\u001b[0;34m\u001b[0m\u001b[0m\n\u001b[1;32m     35\u001b[0m     \u001b[0mquery_vectors\u001b[0m \u001b[0;34m\u003d\u001b[0m \u001b[0mnp\u001b[0m\u001b[0;34m.\u001b[0m\u001b[0mvstack\u001b[0m\u001b[0;34m(\u001b[0m\u001b[0mtdf\u001b[0m\u001b[0;34m[\u001b[0m\u001b[0;34m\u0027feature\u0027\u001b[0m\u001b[0;34m]\u001b[0m\u001b[0;34m.\u001b[0m\u001b[0mvalues\u001b[0m\u001b[0;34m)\u001b[0m\u001b[0;34m\u001b[0m\u001b[0;34m\u001b[0m\u001b[0m\n\u001b[0;32m---\u003e 36\u001b[0;31m     \u001b[0mprediction\u001b[0m \u001b[0;34m\u003d\u001b[0m \u001b[0msequential_search\u001b[0m\u001b[0;34m(\u001b[0m\u001b[0msearcher\u001b[0m\u001b[0;34m,\u001b[0m \u001b[0mquery_vectors\u001b[0m\u001b[0;34m)\u001b[0m\u001b[0;34m\u001b[0m\u001b[0;34m\u001b[0m\u001b[0m\n\u001b[0m\u001b[1;32m     37\u001b[0m     \u001b[0mpredicted_label\u001b[0m \u001b[0;34m\u003d\u001b[0m \u001b[0mprediction\u001b[0m\u001b[0;34m[\u001b[0m\u001b[0;36m0\u001b[0m\u001b[0;34m]\u001b[0m \u001b[0;32mif\u001b[0m \u001b[0mprediction\u001b[0m \u001b[0;32melse\u001b[0m \u001b[0;34m\u0027miss\u0027\u001b[0m\u001b[0;34m\u001b[0m\u001b[0;34m\u001b[0m\u001b[0m\n\u001b[1;32m     38\u001b[0m     \u001b[0mpredictions\u001b[0m\u001b[0;34m.\u001b[0m\u001b[0mappend\u001b[0m\u001b[0;34m(\u001b[0m\u001b[0mpredicted_label\u001b[0m\u001b[0;34m)\u001b[0m\u001b[0;34m\u001b[0m\u001b[0;34m\u001b[0m\u001b[0m\n",
            "\u001b[0;32m\u003cipython-input-45-0f7a8fdc6b2d\u003e\u001b[0m in \u001b[0;36msequential_search\u001b[0;34m(searcher, vectors)\u001b[0m\n\u001b[1;32m     19\u001b[0m             \u001b[0mvecs\u001b[0m \u001b[0;34m\u003d\u001b[0m \u001b[0mlabel_vectors\u001b[0m\u001b[0;34m[\u001b[0m\u001b[0mi\u001b[0m\u001b[0;34m:\u001b[0m\u001b[0mi\u001b[0m\u001b[0;34m+\u001b[0m\u001b[0mlen\u001b[0m\u001b[0;34m(\u001b[0m\u001b[0mvectors\u001b[0m\u001b[0;34m)\u001b[0m\u001b[0;34m]\u001b[0m\u001b[0;34m\u001b[0m\u001b[0;34m\u001b[0m\u001b[0m\n\u001b[1;32m     20\u001b[0m \u001b[0;34m\u001b[0m\u001b[0m\n\u001b[0;32m---\u003e 21\u001b[0;31m             \u001b[0mdists\u001b[0m \u001b[0;34m\u003d\u001b[0m \u001b[0mham_dist\u001b[0m\u001b[0;34m(\u001b[0m\u001b[0mvectors\u001b[0m\u001b[0;34m,\u001b[0m \u001b[0mvecs\u001b[0m\u001b[0;34m)\u001b[0m\u001b[0;34m\u001b[0m\u001b[0;34m\u001b[0m\u001b[0m\n\u001b[0m\u001b[1;32m     22\u001b[0m \u001b[0;34m\u001b[0m\u001b[0m\n\u001b[1;32m     23\u001b[0m             \u001b[0;32mif\u001b[0m \u001b[0mmin_dist\u001b[0m \u001b[0;32mis\u001b[0m \u001b[0;32mNone\u001b[0m \u001b[0;32mor\u001b[0m \u001b[0msum\u001b[0m\u001b[0;34m(\u001b[0m\u001b[0mdists\u001b[0m\u001b[0;34m)\u001b[0m \u001b[0;34m\u003c\u001b[0m \u001b[0mmin_dist\u001b[0m\u001b[0;34m:\u001b[0m\u001b[0;34m\u001b[0m\u001b[0;34m\u001b[0m\u001b[0m\n",
            "\u001b[0;32m\u003cipython-input-45-0f7a8fdc6b2d\u003e\u001b[0m in \u001b[0;36mham_dist\u001b[0;34m(vecs1, vecs2)\u001b[0m\n\u001b[1;32m      4\u001b[0m     \u001b[0mdists\u001b[0m \u001b[0;34m\u003d\u001b[0m \u001b[0;34m[\u001b[0m\u001b[0;34m]\u001b[0m\u001b[0;34m\u001b[0m\u001b[0;34m\u001b[0m\u001b[0m\n\u001b[1;32m      5\u001b[0m     \u001b[0;32mfor\u001b[0m \u001b[0mu\u001b[0m\u001b[0;34m,\u001b[0m \u001b[0mv\u001b[0m \u001b[0;32min\u001b[0m \u001b[0mzip\u001b[0m\u001b[0;34m(\u001b[0m\u001b[0mvecs1\u001b[0m\u001b[0;34m,\u001b[0m \u001b[0mvecs2\u001b[0m\u001b[0;34m)\u001b[0m\u001b[0;34m:\u001b[0m\u001b[0;34m\u001b[0m\u001b[0;34m\u001b[0m\u001b[0m\n\u001b[0;32m----\u003e 6\u001b[0;31m         \u001b[0mdists\u001b[0m\u001b[0;34m.\u001b[0m\u001b[0mappend\u001b[0m\u001b[0;34m(\u001b[0m\u001b[0mscipy\u001b[0m\u001b[0;34m.\u001b[0m\u001b[0mspatial\u001b[0m\u001b[0;34m.\u001b[0m\u001b[0mdistance\u001b[0m\u001b[0;34m.\u001b[0m\u001b[0mhamming\u001b[0m\u001b[0;34m(\u001b[0m\u001b[0mu\u001b[0m\u001b[0;34m,\u001b[0m \u001b[0mv\u001b[0m\u001b[0;34m)\u001b[0m\u001b[0;34m)\u001b[0m\u001b[0;34m\u001b[0m\u001b[0;34m\u001b[0m\u001b[0m\n\u001b[0m\u001b[1;32m      7\u001b[0m     \u001b[0;32mreturn\u001b[0m \u001b[0mdists\u001b[0m\u001b[0;34m\u001b[0m\u001b[0;34m\u001b[0m\u001b[0m\n\u001b[1;32m      8\u001b[0m \u001b[0;34m\u001b[0m\u001b[0m\n",
            "\u001b[0;32m~/anaconda3/envs/prototype/lib/python3.7/site-packages/scipy/spatial/distance.py\u001b[0m in \u001b[0;36mhamming\u001b[0;34m(u, v, w)\u001b[0m\n\u001b[1;32m    794\u001b[0m     \"\"\"\n\u001b[1;32m    795\u001b[0m     \u001b[0mu\u001b[0m \u001b[0;34m\u003d\u001b[0m \u001b[0m_validate_vector\u001b[0m\u001b[0;34m(\u001b[0m\u001b[0mu\u001b[0m\u001b[0;34m)\u001b[0m\u001b[0;34m\u001b[0m\u001b[0;34m\u001b[0m\u001b[0m\n\u001b[0;32m--\u003e 796\u001b[0;31m     \u001b[0mv\u001b[0m \u001b[0;34m\u003d\u001b[0m \u001b[0m_validate_vector\u001b[0m\u001b[0;34m(\u001b[0m\u001b[0mv\u001b[0m\u001b[0;34m)\u001b[0m\u001b[0;34m\u001b[0m\u001b[0;34m\u001b[0m\u001b[0m\n\u001b[0m\u001b[1;32m    797\u001b[0m     \u001b[0;32mif\u001b[0m \u001b[0mu\u001b[0m\u001b[0;34m.\u001b[0m\u001b[0mshape\u001b[0m \u001b[0;34m!\u003d\u001b[0m \u001b[0mv\u001b[0m\u001b[0;34m.\u001b[0m\u001b[0mshape\u001b[0m\u001b[0;34m:\u001b[0m\u001b[0;34m\u001b[0m\u001b[0;34m\u001b[0m\u001b[0m\n\u001b[1;32m    798\u001b[0m         \u001b[0;32mraise\u001b[0m \u001b[0mValueError\u001b[0m\u001b[0;34m(\u001b[0m\u001b[0;34m\u0027The 1d arrays must have equal lengths.\u0027\u001b[0m\u001b[0;34m)\u001b[0m\u001b[0;34m\u001b[0m\u001b[0;34m\u001b[0m\u001b[0m\n",
            "\u001b[0;32m~/anaconda3/envs/prototype/lib/python3.7/site-packages/scipy/spatial/distance.py\u001b[0m in \u001b[0;36m_validate_vector\u001b[0;34m(u, dtype)\u001b[0m\n\u001b[1;32m    323\u001b[0m \u001b[0;32mdef\u001b[0m \u001b[0m_validate_vector\u001b[0m\u001b[0;34m(\u001b[0m\u001b[0mu\u001b[0m\u001b[0;34m,\u001b[0m \u001b[0mdtype\u001b[0m\u001b[0;34m\u003d\u001b[0m\u001b[0;32mNone\u001b[0m\u001b[0;34m)\u001b[0m\u001b[0;34m:\u001b[0m\u001b[0;34m\u001b[0m\u001b[0;34m\u001b[0m\u001b[0m\n\u001b[1;32m    324\u001b[0m     \u001b[0;31m# XXX Is order\u003d\u0027c\u0027 really necessary?\u001b[0m\u001b[0;34m\u001b[0m\u001b[0;34m\u001b[0m\u001b[0;34m\u001b[0m\u001b[0m\n\u001b[0;32m--\u003e 325\u001b[0;31m     \u001b[0mu\u001b[0m \u001b[0;34m\u003d\u001b[0m \u001b[0mnp\u001b[0m\u001b[0;34m.\u001b[0m\u001b[0masarray\u001b[0m\u001b[0;34m(\u001b[0m\u001b[0mu\u001b[0m\u001b[0;34m,\u001b[0m \u001b[0mdtype\u001b[0m\u001b[0;34m\u003d\u001b[0m\u001b[0mdtype\u001b[0m\u001b[0;34m,\u001b[0m \u001b[0morder\u001b[0m\u001b[0;34m\u003d\u001b[0m\u001b[0;34m\u0027c\u0027\u001b[0m\u001b[0;34m)\u001b[0m\u001b[0;34m.\u001b[0m\u001b[0msqueeze\u001b[0m\u001b[0;34m(\u001b[0m\u001b[0;34m)\u001b[0m\u001b[0;34m\u001b[0m\u001b[0;34m\u001b[0m\u001b[0m\n\u001b[0m\u001b[1;32m    326\u001b[0m     \u001b[0;31m# Ensure values such as u\u003d1 and u\u003d[1] still return 1-D arrays.\u001b[0m\u001b[0;34m\u001b[0m\u001b[0;34m\u001b[0m\u001b[0;34m\u001b[0m\u001b[0m\n\u001b[1;32m    327\u001b[0m     \u001b[0mu\u001b[0m \u001b[0;34m\u003d\u001b[0m \u001b[0mnp\u001b[0m\u001b[0;34m.\u001b[0m\u001b[0matleast_1d\u001b[0m\u001b[0;34m(\u001b[0m\u001b[0mu\u001b[0m\u001b[0;34m)\u001b[0m\u001b[0;34m\u001b[0m\u001b[0;34m\u001b[0m\u001b[0m\n",
            "\u001b[0;31mKeyboardInterrupt\u001b[0m: "
          ],
          "ename": "KeyboardInterrupt",
          "evalue": "",
          "output_type": "error"
        }
      ],
      "source": "import scipy\n\ndef ham_dist(vecs1, vecs2):\n    dists \u003d []\n    for u, v in zip(vecs1, vecs2):\n        dists.append(scipy.spatial.distance.hamming(u, v))\n    return dists\n\ndef sequential_search(searcher, vectors):\n    # df \u003d pd.DataFrame({\u0027vectors\u0027: searcher.vectors, \u0027labels\u0027: searcher.labels}, index\u003drange(len(searcher.vectors)))\n    min_dist \u003d None\n    min_label \u003d None\n    \n    for label in set(searcher.labels):\n        mask \u003d searcher.labels \u003d\u003d label\n        label_vectors \u003d searcher.vectors[mask]\n        \n        for i in range(len(label_vectors) - len(vectors)):\n            vecs \u003d label_vectors[i:i+len(vectors)]\n            \n            dists \u003d ham_dist(vectors, vecs)\n            \n            if min_dist is None or sum(dists) \u003c min_dist:\n                min_dist \u003d sum(dists)\n                min_label \u003d label\n                \n    return min_label, min_dist\n\ntrue_labels \u003d []\npredictions \u003d []\nfor i, query_id in enumerate(query_ids):\n    tdf \u003d query_df[query_df.id \u003d\u003d query_id]\n    try:\n        true_label \u003d vcdb_lut.ix[query_id].source_id\n    except KeyError:\n        true_label \u003d \u0027miss\u0027\n    true_labels.append(\u0027miss\u0027 if true_label is np.NaN else true_label)\n    query_vectors \u003d np.vstack(tdf[\u0027feature\u0027].values)\n    prediction \u003d sequential_search(searcher, query_vectors)\n    predicted_label \u003d prediction[0] if prediction else \u0027miss\u0027\n    predictions.append(predicted_label)\n    \n    if i % 50 \u003d\u003d 0:\n        print(i)\nprint(classification_report(true_labels, predictions))",
      "metadata": {
        "pycharm": {
          "metadata": false,
          "name": "#%%\n",
          "is_executing": false
        }
      }
    },
    {
      "cell_type": "code",
      "execution_count": 39,
      "outputs": [
        {
          "data": {
            "text/plain": "(2.2600000000000002, \u0027d2015b438b70f022967713d6f977ebc67a16839e.flv\u0027)"
          },
          "metadata": {},
          "output_type": "execute_result",
          "execution_count": 39
        }
      ],
      "source": "sequential_search(searcher, query_vectors)",
      "metadata": {
        "pycharm": {
          "metadata": false,
          "name": "#%%\n",
          "is_executing": false
        }
      }
    }
  ],
  "metadata": {
    "kernelspec": {
      "display_name": "Python 3",
      "language": "python",
      "name": "python3"
    }
  },
  "nbformat": 4,
  "nbformat_minor": 2
}