{
  "cells": [
    {
      "cell_type": "code",
      "execution_count": 4,
      "metadata": {
        "pycharm": {
          "is_executing": false
        }
      },
      "outputs": [],
      "source": "import pandas as pd\nimport numpy as np\nimport seaborn as sns\nimport matplotlib.pyplot as plt \nimport os\nfrom vzam.searcher import FaissRhashVideoSearcher\nfrom sklearn.metrics import classification_report\n%matplotlib inline"
    },
    {
      "cell_type": "code",
      "execution_count": null,
      "metadata": {
        "pycharm": {
          "is_executing": true
        }
      },
      "outputs": [],
      "source": [
        "initial_cwd \u003d os.getcwd()\n",
        "initial_cwd"
      ]
    },
    {
      "cell_type": "code",
      "execution_count": null,
      "metadata": {
        "pycharm": {
          "is_executing": true
        }
      },
      "outputs": [],
      "source": []
    },
    {
      "cell_type": "code",
      "execution_count": 4,
      "metadata": {
        "pycharm": {}
      },
      "outputs": [
        {
          "name": "stdout",
          "output_type": "stream",
          "text": [
            "D:\\projects\\kr\\vzam\\notebooks\n",
            "D:\\projects\\kr\\vzam\n"
          ]
        }
      ],
      "source": [
        "print(initial_cwd)\n",
        "os.chdir(initial_cwd)\n",
        "os.chdir(\u0027..\u0027)\n",
        "print(os.getcwd())"
      ]
    },
    {
      "cell_type": "code",
      "execution_count": null,
      "metadata": {
        "pycharm": {}
      },
      "outputs": [],
      "source": []
    },
    {
      "cell_type": "code",
      "execution_count": 6,
      "metadata": {
        "pycharm": {
          "is_executing": false
        }
      },
      "outputs": [],
      "source": [
        "from vzam import *"
      ]
    },
    {
      "cell_type": "code",
      "execution_count": 7,
      "metadata": {
        "pycharm": {
          "is_executing": false
        }
      },
      "outputs": [],
      "source": "vcdb \u003d pd.read_csv(\u0027data/vcdb.csv\u0027)"
    },
    {
      "cell_type": "code",
      "execution_count": 8,
      "outputs": [
        {
          "data": {
            "text/plain": "                                               query  \\\n0  core_dataset/baggio_penalty_1994\\3504e360accba...   \n1  core_dataset/baggio_penalty_1994\\37b31d607d31a...   \n2  core_dataset/baggio_penalty_1994\\458db5aa227ae...   \n3  core_dataset/baggio_penalty_1994\\5c5714c0a56fd...   \n4  core_dataset/baggio_penalty_1994\\67824b87c0698...   \n\n                                              source  \\\n0  core_dataset/baggio_penalty_1994\\bb604f57a1845...   \n1  core_dataset/baggio_penalty_1994\\bb604f57a1845...   \n2  core_dataset/baggio_penalty_1994\\bb604f57a1845...   \n3  core_dataset/baggio_penalty_1994\\bb604f57a1845...   \n4  core_dataset/baggio_penalty_1994\\bb604f57a1845...   \n\n                                      source_id  \n0  bb604f57a18455867544e79c2e32bf5583c358d4.flv  \n1  bb604f57a18455867544e79c2e32bf5583c358d4.flv  \n2  bb604f57a18455867544e79c2e32bf5583c358d4.flv  \n3  bb604f57a18455867544e79c2e32bf5583c358d4.flv  \n4  bb604f57a18455867544e79c2e32bf5583c358d4.flv  ",
            "text/html": "\u003cdiv\u003e\n\u003cstyle scoped\u003e\n    .dataframe tbody tr th:only-of-type {\n        vertical-align: middle;\n    }\n\n    .dataframe tbody tr th {\n        vertical-align: top;\n    }\n\n    .dataframe thead th {\n        text-align: right;\n    }\n\u003c/style\u003e\n\u003ctable border\u003d\"1\" class\u003d\"dataframe\"\u003e\n  \u003cthead\u003e\n    \u003ctr style\u003d\"text-align: right;\"\u003e\n      \u003cth\u003e\u003c/th\u003e\n      \u003cth\u003equery\u003c/th\u003e\n      \u003cth\u003esource\u003c/th\u003e\n      \u003cth\u003esource_id\u003c/th\u003e\n    \u003c/tr\u003e\n  \u003c/thead\u003e\n  \u003ctbody\u003e\n    \u003ctr\u003e\n      \u003cth\u003e0\u003c/th\u003e\n      \u003ctd\u003ecore_dataset/baggio_penalty_1994\\3504e360accba...\u003c/td\u003e\n      \u003ctd\u003ecore_dataset/baggio_penalty_1994\\bb604f57a1845...\u003c/td\u003e\n      \u003ctd\u003ebb604f57a18455867544e79c2e32bf5583c358d4.flv\u003c/td\u003e\n    \u003c/tr\u003e\n    \u003ctr\u003e\n      \u003cth\u003e1\u003c/th\u003e\n      \u003ctd\u003ecore_dataset/baggio_penalty_1994\\37b31d607d31a...\u003c/td\u003e\n      \u003ctd\u003ecore_dataset/baggio_penalty_1994\\bb604f57a1845...\u003c/td\u003e\n      \u003ctd\u003ebb604f57a18455867544e79c2e32bf5583c358d4.flv\u003c/td\u003e\n    \u003c/tr\u003e\n    \u003ctr\u003e\n      \u003cth\u003e2\u003c/th\u003e\n      \u003ctd\u003ecore_dataset/baggio_penalty_1994\\458db5aa227ae...\u003c/td\u003e\n      \u003ctd\u003ecore_dataset/baggio_penalty_1994\\bb604f57a1845...\u003c/td\u003e\n      \u003ctd\u003ebb604f57a18455867544e79c2e32bf5583c358d4.flv\u003c/td\u003e\n    \u003c/tr\u003e\n    \u003ctr\u003e\n      \u003cth\u003e3\u003c/th\u003e\n      \u003ctd\u003ecore_dataset/baggio_penalty_1994\\5c5714c0a56fd...\u003c/td\u003e\n      \u003ctd\u003ecore_dataset/baggio_penalty_1994\\bb604f57a1845...\u003c/td\u003e\n      \u003ctd\u003ebb604f57a18455867544e79c2e32bf5583c358d4.flv\u003c/td\u003e\n    \u003c/tr\u003e\n    \u003ctr\u003e\n      \u003cth\u003e4\u003c/th\u003e\n      \u003ctd\u003ecore_dataset/baggio_penalty_1994\\67824b87c0698...\u003c/td\u003e\n      \u003ctd\u003ecore_dataset/baggio_penalty_1994\\bb604f57a1845...\u003c/td\u003e\n      \u003ctd\u003ebb604f57a18455867544e79c2e32bf5583c358d4.flv\u003c/td\u003e\n    \u003c/tr\u003e\n  \u003c/tbody\u003e\n\u003c/table\u003e\n\u003c/div\u003e"
          },
          "metadata": {},
          "output_type": "execute_result",
          "execution_count": 8
        }
      ],
      "source": "vcdb.head()",
      "metadata": {
        "pycharm": {
          "metadata": false,
          "name": "#%%\n",
          "is_executing": false
        }
      }
    },
    {
      "cell_type": "code",
      "execution_count": 9,
      "outputs": [
        {
          "data": {
            "text/plain": "                                               query  \\\n0  core_dataset/baggio_penalty_1994\\3504e360accba...   \n1  core_dataset/baggio_penalty_1994\\37b31d607d31a...   \n2  core_dataset/baggio_penalty_1994\\458db5aa227ae...   \n3  core_dataset/baggio_penalty_1994\\5c5714c0a56fd...   \n4  core_dataset/baggio_penalty_1994\\67824b87c0698...   \n\n                                              source  \\\n0  core_dataset/baggio_penalty_1994\\bb604f57a1845...   \n1  core_dataset/baggio_penalty_1994\\bb604f57a1845...   \n2  core_dataset/baggio_penalty_1994\\bb604f57a1845...   \n3  core_dataset/baggio_penalty_1994\\bb604f57a1845...   \n4  core_dataset/baggio_penalty_1994\\bb604f57a1845...   \n\n                                      source_id  \\\n0  bb604f57a18455867544e79c2e32bf5583c358d4.flv   \n1  bb604f57a18455867544e79c2e32bf5583c358d4.flv   \n2  bb604f57a18455867544e79c2e32bf5583c358d4.flv   \n3  bb604f57a18455867544e79c2e32bf5583c358d4.flv   \n4  bb604f57a18455867544e79c2e32bf5583c358d4.flv   \n\n                                       query_id  \n0  3504e360accbaccb1580befbb441f1019664c2bb.mp4  \n1  37b31d607d31a47d347b15dae2b8aa63e57861eb.flv  \n2  458db5aa227ae49ceb8bc1bed5f9cf5b4bed63f2.flv  \n3  5c5714c0a56fd2a96f99db2f59b0d03659d77cdf.flv  \n4  67824b87c0698c499acad123b7498ae17f97bf6d.flv  ",
            "text/html": "\u003cdiv\u003e\n\u003cstyle scoped\u003e\n    .dataframe tbody tr th:only-of-type {\n        vertical-align: middle;\n    }\n\n    .dataframe tbody tr th {\n        vertical-align: top;\n    }\n\n    .dataframe thead th {\n        text-align: right;\n    }\n\u003c/style\u003e\n\u003ctable border\u003d\"1\" class\u003d\"dataframe\"\u003e\n  \u003cthead\u003e\n    \u003ctr style\u003d\"text-align: right;\"\u003e\n      \u003cth\u003e\u003c/th\u003e\n      \u003cth\u003equery\u003c/th\u003e\n      \u003cth\u003esource\u003c/th\u003e\n      \u003cth\u003esource_id\u003c/th\u003e\n      \u003cth\u003equery_id\u003c/th\u003e\n    \u003c/tr\u003e\n  \u003c/thead\u003e\n  \u003ctbody\u003e\n    \u003ctr\u003e\n      \u003cth\u003e0\u003c/th\u003e\n      \u003ctd\u003ecore_dataset/baggio_penalty_1994\\3504e360accba...\u003c/td\u003e\n      \u003ctd\u003ecore_dataset/baggio_penalty_1994\\bb604f57a1845...\u003c/td\u003e\n      \u003ctd\u003ebb604f57a18455867544e79c2e32bf5583c358d4.flv\u003c/td\u003e\n      \u003ctd\u003e3504e360accbaccb1580befbb441f1019664c2bb.mp4\u003c/td\u003e\n    \u003c/tr\u003e\n    \u003ctr\u003e\n      \u003cth\u003e1\u003c/th\u003e\n      \u003ctd\u003ecore_dataset/baggio_penalty_1994\\37b31d607d31a...\u003c/td\u003e\n      \u003ctd\u003ecore_dataset/baggio_penalty_1994\\bb604f57a1845...\u003c/td\u003e\n      \u003ctd\u003ebb604f57a18455867544e79c2e32bf5583c358d4.flv\u003c/td\u003e\n      \u003ctd\u003e37b31d607d31a47d347b15dae2b8aa63e57861eb.flv\u003c/td\u003e\n    \u003c/tr\u003e\n    \u003ctr\u003e\n      \u003cth\u003e2\u003c/th\u003e\n      \u003ctd\u003ecore_dataset/baggio_penalty_1994\\458db5aa227ae...\u003c/td\u003e\n      \u003ctd\u003ecore_dataset/baggio_penalty_1994\\bb604f57a1845...\u003c/td\u003e\n      \u003ctd\u003ebb604f57a18455867544e79c2e32bf5583c358d4.flv\u003c/td\u003e\n      \u003ctd\u003e458db5aa227ae49ceb8bc1bed5f9cf5b4bed63f2.flv\u003c/td\u003e\n    \u003c/tr\u003e\n    \u003ctr\u003e\n      \u003cth\u003e3\u003c/th\u003e\n      \u003ctd\u003ecore_dataset/baggio_penalty_1994\\5c5714c0a56fd...\u003c/td\u003e\n      \u003ctd\u003ecore_dataset/baggio_penalty_1994\\bb604f57a1845...\u003c/td\u003e\n      \u003ctd\u003ebb604f57a18455867544e79c2e32bf5583c358d4.flv\u003c/td\u003e\n      \u003ctd\u003e5c5714c0a56fd2a96f99db2f59b0d03659d77cdf.flv\u003c/td\u003e\n    \u003c/tr\u003e\n    \u003ctr\u003e\n      \u003cth\u003e4\u003c/th\u003e\n      \u003ctd\u003ecore_dataset/baggio_penalty_1994\\67824b87c0698...\u003c/td\u003e\n      \u003ctd\u003ecore_dataset/baggio_penalty_1994\\bb604f57a1845...\u003c/td\u003e\n      \u003ctd\u003ebb604f57a18455867544e79c2e32bf5583c358d4.flv\u003c/td\u003e\n      \u003ctd\u003e67824b87c0698c499acad123b7498ae17f97bf6d.flv\u003c/td\u003e\n    \u003c/tr\u003e\n  \u003c/tbody\u003e\n\u003c/table\u003e\n\u003c/div\u003e"
          },
          "metadata": {},
          "output_type": "execute_result",
          "execution_count": 9
        }
      ],
      "source": "vcdb[\u0027query_id\u0027] \u003d vcdb[\u0027query\u0027].apply(lambda x: os.path.basename(x).split(\u0027\\\\\u0027)[-1])\nvcdb.head()",
      "metadata": {
        "pycharm": {
          "metadata": false,
          "name": "#%%\n",
          "is_executing": false
        }
      }
    },
    {
      "cell_type": "code",
      "execution_count": 10,
      "outputs": [],
      "source": "vcdb_lut \u003d vcdb[[\u0027query_id\u0027, \u0027source_id\u0027]]\nvcdb_lut.index \u003d vcdb_lut.query_id",
      "metadata": {
        "pycharm": {
          "metadata": false,
          "name": "#%%\n",
          "is_executing": false
        }
      }
    },
    {
      "cell_type": "code",
      "execution_count": 11,
      "outputs": [
        {
          "data": {
            "text/plain": "\u0027bb604f57a18455867544e79c2e32bf5583c358d4.flv\u0027"
          },
          "metadata": {},
          "output_type": "execute_result",
          "execution_count": 11
        }
      ],
      "source": "\nvcdb_lut.ix[\u00273504e360accbaccb1580befbb441f1019664c2bb.mp4\u0027].source_id",
      "metadata": {
        "pycharm": {
          "metadata": false,
          "name": "#%%\n",
          "is_executing": false
        }
      }
    },
    {
      "cell_type": "code",
      "execution_count": 12,
      "outputs": [],
      "source": "SOURCE_DATASET \u003d \u0027data/vcdb_rhash_source.csv\u0027\nQUERY_DATASET \u003d \u0027data/vcdb_rhash_query.csv\u0027",
      "metadata": {
        "pycharm": {
          "metadata": false,
          "name": "#%%\n",
          "is_executing": false
        }
      }
    },
    {
      "cell_type": "code",
      "execution_count": 13,
      "outputs": [
        {
          "data": {
            "text/plain": "                                             feature    ts  \\\n0  [0, 0, 1, 1, 0, 1, 1, 1, 0, 0, 1, 1, 0, 0, 1, ...  1.85   \n1  [1, 1, 1, 1, 0, 0, 0, 0, 0, 1, 1, 1, 0, 0, 1, ...  3.85   \n2  [1, 1, 1, 1, 0, 0, 0, 0, 1, 1, 1, 1, 0, 0, 0, ...  5.85   \n3  [1, 1, 1, 1, 0, 0, 0, 0, 1, 1, 0, 0, 1, 1, 0, ...  7.85   \n4  [1, 1, 1, 1, 0, 0, 0, 0, 1, 1, 0, 0, 1, 1, 0, ...  9.85   \n\n                                              id  \n0  _bb604f57a18455867544e79c2e32bf5583c358d4.flv  \n1  _bb604f57a18455867544e79c2e32bf5583c358d4.flv  \n2  _bb604f57a18455867544e79c2e32bf5583c358d4.flv  \n3  _bb604f57a18455867544e79c2e32bf5583c358d4.flv  \n4  _bb604f57a18455867544e79c2e32bf5583c358d4.flv  ",
            "text/html": "\u003cdiv\u003e\n\u003cstyle scoped\u003e\n    .dataframe tbody tr th:only-of-type {\n        vertical-align: middle;\n    }\n\n    .dataframe tbody tr th {\n        vertical-align: top;\n    }\n\n    .dataframe thead th {\n        text-align: right;\n    }\n\u003c/style\u003e\n\u003ctable border\u003d\"1\" class\u003d\"dataframe\"\u003e\n  \u003cthead\u003e\n    \u003ctr style\u003d\"text-align: right;\"\u003e\n      \u003cth\u003e\u003c/th\u003e\n      \u003cth\u003efeature\u003c/th\u003e\n      \u003cth\u003ets\u003c/th\u003e\n      \u003cth\u003eid\u003c/th\u003e\n    \u003c/tr\u003e\n  \u003c/thead\u003e\n  \u003ctbody\u003e\n    \u003ctr\u003e\n      \u003cth\u003e0\u003c/th\u003e\n      \u003ctd\u003e[0, 0, 1, 1, 0, 1, 1, 1, 0, 0, 1, 1, 0, 0, 1, ...\u003c/td\u003e\n      \u003ctd\u003e1.85\u003c/td\u003e\n      \u003ctd\u003e_bb604f57a18455867544e79c2e32bf5583c358d4.flv\u003c/td\u003e\n    \u003c/tr\u003e\n    \u003ctr\u003e\n      \u003cth\u003e1\u003c/th\u003e\n      \u003ctd\u003e[1, 1, 1, 1, 0, 0, 0, 0, 0, 1, 1, 1, 0, 0, 1, ...\u003c/td\u003e\n      \u003ctd\u003e3.85\u003c/td\u003e\n      \u003ctd\u003e_bb604f57a18455867544e79c2e32bf5583c358d4.flv\u003c/td\u003e\n    \u003c/tr\u003e\n    \u003ctr\u003e\n      \u003cth\u003e2\u003c/th\u003e\n      \u003ctd\u003e[1, 1, 1, 1, 0, 0, 0, 0, 1, 1, 1, 1, 0, 0, 0, ...\u003c/td\u003e\n      \u003ctd\u003e5.85\u003c/td\u003e\n      \u003ctd\u003e_bb604f57a18455867544e79c2e32bf5583c358d4.flv\u003c/td\u003e\n    \u003c/tr\u003e\n    \u003ctr\u003e\n      \u003cth\u003e3\u003c/th\u003e\n      \u003ctd\u003e[1, 1, 1, 1, 0, 0, 0, 0, 1, 1, 0, 0, 1, 1, 0, ...\u003c/td\u003e\n      \u003ctd\u003e7.85\u003c/td\u003e\n      \u003ctd\u003e_bb604f57a18455867544e79c2e32bf5583c358d4.flv\u003c/td\u003e\n    \u003c/tr\u003e\n    \u003ctr\u003e\n      \u003cth\u003e4\u003c/th\u003e\n      \u003ctd\u003e[1, 1, 1, 1, 0, 0, 0, 0, 1, 1, 0, 0, 1, 1, 0, ...\u003c/td\u003e\n      \u003ctd\u003e9.85\u003c/td\u003e\n      \u003ctd\u003e_bb604f57a18455867544e79c2e32bf5583c358d4.flv\u003c/td\u003e\n    \u003c/tr\u003e\n  \u003c/tbody\u003e\n\u003c/table\u003e\n\u003c/div\u003e"
          },
          "metadata": {},
          "output_type": "execute_result",
          "execution_count": 13
        }
      ],
      "source": "def list_converter(text):\n    return eval(text.replace(\u0027 \u0027, \u0027,\u0027))\n\nsource_df \u003d pd.read_csv(SOURCE_DATASET, converters\u003d{\"feature\": list_converter})\nsource_df.head()",
      "metadata": {
        "pycharm": {
          "metadata": false,
          "name": "#%%\n",
          "is_executing": false
        }
      }
    },
    {
      "cell_type": "code",
      "execution_count": 14,
      "outputs": [
        {
          "data": {
            "text/plain": "array([[0, 0, 1, ..., 0, 0, 0],\n       [1, 1, 1, ..., 1, 0, 0],\n       [1, 1, 1, ..., 1, 0, 0],\n       ...,\n       [1, 1, 1, ..., 1, 0, 0],\n       [1, 1, 1, ..., 1, 0, 0],\n       [1, 1, 0, ..., 0, 0, 0]])"
          },
          "metadata": {},
          "output_type": "execute_result",
          "execution_count": 14
        }
      ],
      "source": "frame_times \u003d source_df[\u0027ts\u0027]\nlabels \u003d source_df.id.values\nframe_vectors \u003d np.vstack(source_df[\u0027feature\u0027].values)\nframe_vectors",
      "metadata": {
        "pycharm": {
          "metadata": false,
          "name": "#%%\n",
          "is_executing": false
        }
      }
    },
    {
      "cell_type": "code",
      "execution_count": 121,
      "outputs": [],
      "source": "searcher \u003d FaissRhashVideoSearcher(frame_vectors, labels, frame_times)\n",
      "metadata": {
        "pycharm": {
          "metadata": false,
          "name": "#%%\n",
          "is_executing": false
        }
      }
    },
    {
      "cell_type": "code",
      "execution_count": 122,
      "outputs": [
        {
          "data": {
            "text/plain": "                                             feature     ts  \\\n0  [0, 0, 1, 1, 0, 1, 1, 1, 0, 0, 1, 0, 1, 1, 0, ...  1.800   \n1  [0, 1, 1, 1, 0, 1, 1, 0, 0, 0, 1, 1, 0, 0, 0, ...  3.800   \n2  [1, 1, 0, 0, 0, 1, 1, 0, 0, 1, 1, 1, 0, 0, 0, ...  5.800   \n3  [1, 1, 1, 0, 1, 1, 0, 0, 1, 1, 0, 0, 0, 1, 0, ...  7.800   \n4  [1, 0, 1, 0, 0, 0, 0, 0, 0, 0, 1, 1, 1, 1, 1, ...  1.825   \n\n                                              id  \\\n0  _3504e360accbaccb1580befbb441f1019664c2bb.mp4   \n1  _3504e360accbaccb1580befbb441f1019664c2bb.mp4   \n2  _3504e360accbaccb1580befbb441f1019664c2bb.mp4   \n3  _3504e360accbaccb1580befbb441f1019664c2bb.mp4   \n4  _37b31d607d31a47d347b15dae2b8aa63e57861eb.flv   \n\n                                      source_id  \n0  bb604f57a18455867544e79c2e32bf5583c358d4.flv  \n1  bb604f57a18455867544e79c2e32bf5583c358d4.flv  \n2  bb604f57a18455867544e79c2e32bf5583c358d4.flv  \n3  bb604f57a18455867544e79c2e32bf5583c358d4.flv  \n4  bb604f57a18455867544e79c2e32bf5583c358d4.flv  ",
            "text/html": "\u003cdiv\u003e\n\u003cstyle scoped\u003e\n    .dataframe tbody tr th:only-of-type {\n        vertical-align: middle;\n    }\n\n    .dataframe tbody tr th {\n        vertical-align: top;\n    }\n\n    .dataframe thead th {\n        text-align: right;\n    }\n\u003c/style\u003e\n\u003ctable border\u003d\"1\" class\u003d\"dataframe\"\u003e\n  \u003cthead\u003e\n    \u003ctr style\u003d\"text-align: right;\"\u003e\n      \u003cth\u003e\u003c/th\u003e\n      \u003cth\u003efeature\u003c/th\u003e\n      \u003cth\u003ets\u003c/th\u003e\n      \u003cth\u003eid\u003c/th\u003e\n      \u003cth\u003esource_id\u003c/th\u003e\n    \u003c/tr\u003e\n  \u003c/thead\u003e\n  \u003ctbody\u003e\n    \u003ctr\u003e\n      \u003cth\u003e0\u003c/th\u003e\n      \u003ctd\u003e[0, 0, 1, 1, 0, 1, 1, 1, 0, 0, 1, 0, 1, 1, 0, ...\u003c/td\u003e\n      \u003ctd\u003e1.800\u003c/td\u003e\n      \u003ctd\u003e_3504e360accbaccb1580befbb441f1019664c2bb.mp4\u003c/td\u003e\n      \u003ctd\u003ebb604f57a18455867544e79c2e32bf5583c358d4.flv\u003c/td\u003e\n    \u003c/tr\u003e\n    \u003ctr\u003e\n      \u003cth\u003e1\u003c/th\u003e\n      \u003ctd\u003e[0, 1, 1, 1, 0, 1, 1, 0, 0, 0, 1, 1, 0, 0, 0, ...\u003c/td\u003e\n      \u003ctd\u003e3.800\u003c/td\u003e\n      \u003ctd\u003e_3504e360accbaccb1580befbb441f1019664c2bb.mp4\u003c/td\u003e\n      \u003ctd\u003ebb604f57a18455867544e79c2e32bf5583c358d4.flv\u003c/td\u003e\n    \u003c/tr\u003e\n    \u003ctr\u003e\n      \u003cth\u003e2\u003c/th\u003e\n      \u003ctd\u003e[1, 1, 0, 0, 0, 1, 1, 0, 0, 1, 1, 1, 0, 0, 0, ...\u003c/td\u003e\n      \u003ctd\u003e5.800\u003c/td\u003e\n      \u003ctd\u003e_3504e360accbaccb1580befbb441f1019664c2bb.mp4\u003c/td\u003e\n      \u003ctd\u003ebb604f57a18455867544e79c2e32bf5583c358d4.flv\u003c/td\u003e\n    \u003c/tr\u003e\n    \u003ctr\u003e\n      \u003cth\u003e3\u003c/th\u003e\n      \u003ctd\u003e[1, 1, 1, 0, 1, 1, 0, 0, 1, 1, 0, 0, 0, 1, 0, ...\u003c/td\u003e\n      \u003ctd\u003e7.800\u003c/td\u003e\n      \u003ctd\u003e_3504e360accbaccb1580befbb441f1019664c2bb.mp4\u003c/td\u003e\n      \u003ctd\u003ebb604f57a18455867544e79c2e32bf5583c358d4.flv\u003c/td\u003e\n    \u003c/tr\u003e\n    \u003ctr\u003e\n      \u003cth\u003e4\u003c/th\u003e\n      \u003ctd\u003e[1, 0, 1, 0, 0, 0, 0, 0, 0, 0, 1, 1, 1, 1, 1, ...\u003c/td\u003e\n      \u003ctd\u003e1.825\u003c/td\u003e\n      \u003ctd\u003e_37b31d607d31a47d347b15dae2b8aa63e57861eb.flv\u003c/td\u003e\n      \u003ctd\u003ebb604f57a18455867544e79c2e32bf5583c358d4.flv\u003c/td\u003e\n    \u003c/tr\u003e\n  \u003c/tbody\u003e\n\u003c/table\u003e\n\u003c/div\u003e"
          },
          "metadata": {},
          "output_type": "execute_result",
          "execution_count": 122
        }
      ],
      "source": "query_df \u003d pd.read_csv(QUERY_DATASET, converters\u003d{\"feature\": list_converter})\nquery_df.head()",
      "metadata": {
        "pycharm": {
          "metadata": false,
          "name": "#%%\n",
          "is_executing": false
        }
      }
    },
    {
      "cell_type": "code",
      "execution_count": 123,
      "outputs": [
        {
          "data": {
            "text/plain": "519"
          },
          "metadata": {},
          "output_type": "execute_result",
          "execution_count": 123
        }
      ],
      "source": "query_ids \u003d query_df.id.unique()\nlen(query_ids)",
      "metadata": {
        "pycharm": {
          "metadata": false,
          "name": "#%%\n",
          "is_executing": false
        }
      }
    },
    {
      "cell_type": "code",
      "execution_count": 126,
      "outputs": [],
      "source": "searcher.dist_threshold \u003d 15",
      "metadata": {
        "pycharm": {
          "metadata": false,
          "name": "#%%\n",
          "is_executing": false
        }
      }
    },
    {
      "cell_type": "code",
      "execution_count": 127,
      "outputs": [
        {
          "name": "stdout",
          "text": [
            "0\n",
            "50\n",
            "100\n",
            "150\n",
            "200\n",
            "250\n",
            "300\n",
            "350\n",
            "400\n",
            "450\n",
            "500\n",
            "                                              precision    recall  f1-score   support\n\n098df9c477ecf6c4f3818b198490b0258163015d.flv       0.50      0.18      0.27        11\n127dab55025984673f65d3a23b1fea99ecc79b15.mp4       0.10      0.08      0.09        26\n3499b9fd4316131ebf0f5d9bbecf6f3f8600c4fb.flv       0.67      0.18      0.29        11\n3df02ec5ddb74647d8fb96f08adba8e152050ef9.flv       0.44      1.00      0.61         7\n410ba1c253fb8d4a8ba6e59aa9e39d39cb3b245b.flv       0.80      0.67      0.73         6\n46f2e964ae16f5c27fad70d6849c76616fad7502.flv       0.00      0.00      0.00         4\n97c71f57e83f6ab16906fdd7edc8e3f88d2ceee1.flv       0.41      0.54      0.46        24\nbb604f57a18455867544e79c2e32bf5583c358d4.flv       0.00      0.00      0.00        10\nd2015b438b70f022967713d6f977ebc67a16839e.flv       0.00      0.00      0.00         7\n                                        miss       0.84      0.84      0.84       413\n\n                                   micro avg       0.73      0.73      0.73       519\n                                   macro avg       0.38      0.35      0.33       519\n                                weighted avg       0.73      0.73      0.72       519\n\n"
          ],
          "output_type": "stream"
        }
      ],
      "source": "true_labels \u003d []\npredictions \u003d []\nfor i, query_id in enumerate(query_ids):\n    tdf \u003d query_df[query_df.id \u003d\u003d query_id]\n    true_label \u003d vcdb_lut.ix[query_id.replace(\u0027_\u0027, \u0027\u0027)].source_id\n    true_labels.append(\u0027miss\u0027 if true_label is np.NaN else true_label)\n    query_vectors \u003d np.vstack(tdf[\u0027feature\u0027].values)\n    prediction \u003d searcher.lookup_fun(query_vectors)\n    predicted_label \u003d prediction[0][0].replace(\u0027_\u0027, \u0027\u0027) if prediction else \u0027miss\u0027\n    predictions.append(predicted_label)\n    \n    if i % 50 \u003d\u003d 0:\n        print(i)\nprint(classification_report(true_labels, predictions))",
      "metadata": {
        "pycharm": {
          "metadata": false,
          "name": "#%%\n",
          "is_executing": false
        }
      }
    },
    {
      "cell_type": "code",
      "execution_count": 117,
      "outputs": [
        {
          "data": {
            "text/plain": "[{\u0027start_index\u0027: 279,\n  \u0027ts\u0027: 137.825,\n  \u0027label\u0027: \u0027_46f2e964ae16f5c27fad70d6849c76616fad7502.flv\u0027,\n  \u0027dist\u0027: 0.20833333333333334},\n {\u0027start_index\u0027: 634,\n  \u0027ts\u0027: 3.825,\n  \u0027label\u0027: \u0027_d2015b438b70f022967713d6f977ebc67a16839e.flv\u0027,\n  \u0027dist\u0027: 0.21875},\n {\u0027start_index\u0027: 353,\n  \u0027ts\u0027: 1.85,\n  \u0027label\u0027: \u0027_410ba1c253fb8d4a8ba6e59aa9e39d39cb3b245b.flv\u0027,\n  \u0027dist\u0027: 0.22916666666666666},\n {\u0027start_index\u0027: 729,\n  \u0027ts\u0027: 193.825,\n  \u0027label\u0027: \u0027_d2015b438b70f022967713d6f977ebc67a16839e.flv\u0027,\n  \u0027dist\u0027: 0.23958333333333334},\n {\u0027start_index\u0027: 531,\n  \u0027ts\u0027: 87.85,\n  \u0027label\u0027: \u0027_098df9c477ecf6c4f3818b198490b0258163015d.flv\u0027,\n  \u0027dist\u0027: 0.25},\n {\u0027start_index\u0027: 218,\n  \u0027ts\u0027: 15.825,\n  \u0027label\u0027: \u0027_46f2e964ae16f5c27fad70d6849c76616fad7502.flv\u0027,\n  \u0027dist\u0027: 0.2604166666666667},\n {\u0027start_index\u0027: 754,\n  \u0027ts\u0027: 243.825,\n  \u0027label\u0027: \u0027_d2015b438b70f022967713d6f977ebc67a16839e.flv\u0027,\n  \u0027dist\u0027: 0.2604166666666667},\n {\u0027start_index\u0027: 281,\n  \u0027ts\u0027: 141.825,\n  \u0027label\u0027: \u0027_46f2e964ae16f5c27fad70d6849c76616fad7502.flv\u0027,\n  \u0027dist\u0027: 0.28125}]"
          },
          "metadata": {},
          "output_type": "execute_result",
          "execution_count": 117
        }
      ],
      "source": "import scipy\ndef lookup_sequence(clf, vectors):\n    vectors \u003d np.asarray(vectors).astype(\u0027uint8\u0027)\n    D, I \u003d clf.index.search(vectors, 10)\n    labels \u003d clf.labels[I]\n    timestamps \u003d clf.timestamps.values[I]\n    # print(D)\n    # print(I)\n    sequence_starts \u003d I[0]\n    candidates \u003d []\n    for i, start_index in enumerate(sequence_starts):\n        dist \u003d D[0][i]\n        if dist \u003e clf.dist_threshold:\n            continue\n        candidate \u003d {\u0027start_index\u0027: start_index,\n                     \u0027dist\u0027: dist,\n                     \u0027label\u0027: clf.labels[start_index],\n                     \u0027ts\u0027: clf.timestamps.values[start_index],\n                     }\n        candidates.append(candidate)\n    # print(candidates)\n    # sequences \u003d []\n    # data_df \u003d pd.DataFrame({\u0027vector\u0027: vectors, \u0027label\u0027: labels}, index\u003drange(len(vectors)))\n    # print(data_df.head())\n    seq_candidates \u003d []\n    for candidate in candidates:\n        # Extract sequence for that candidate\n        index_seq \u003d slice(candidate[\u0027start_index\u0027]+1,candidate[\u0027start_index\u0027]+len(query_vectors)-1)\n        label_sequence \u003d clf.labels[index_seq]\n        if len(np.unique(label_sequence)) !\u003d 1:\n            # print(\u0027impossible candidate\u0027, candidate)\n            # print(label_sequence)\n            continue\n        \n        source_vectors \u003d clf.vectors[index_seq]\n        distances \u003d []\n        for qv, v in zip(vectors, source_vectors):\n            distances.append(scipy.spatial.distance.hamming(qv, v))\n        total_dist \u003d (candidate[\u0027dist\u0027]/len(vectors[0]) + sum(distances))/len(vectors)\n        seq_candidates.append({\n            \u0027start_index\u0027: candidate[\u0027start_index\u0027],\n            \u0027ts\u0027: candidate[\u0027ts\u0027],\n            \u0027label\u0027: candidate[\u0027label\u0027],\n            \u0027dist\u0027: total_dist,\n        })\n    seq_candidates \u003d sorted(seq_candidates, key\u003dlambda x: x[\u0027dist\u0027])\n    return seq_candidates\n        \nlookup_sequence(searcher, query_vectors)",
      "metadata": {
        "pycharm": {
          "metadata": false,
          "name": "#%%\n",
          "is_executing": false
        }
      }
    },
    {
      "cell_type": "code",
      "execution_count": 118,
      "outputs": [
        {
          "name": "stdout",
          "text": [
            "0\n",
            "50\n",
            "100\n",
            "150\n",
            "200\n",
            "250\n",
            "300\n",
            "350\n",
            "400\n",
            "450\n",
            "500\n                                              precision    recall  f1-score   support\n\n098df9c477ecf6c4f3818b198490b0258163015d.flv       0.05      0.09      0.06        11\n127dab55025984673f65d3a23b1fea99ecc79b15.mp4       0.19      0.85      0.31        26\n3499b9fd4316131ebf0f5d9bbecf6f3f8600c4fb.flv       0.03      0.27      0.06        11\n3df02ec5ddb74647d8fb96f08adba8e152050ef9.flv       0.00      0.00      0.00         7\n410ba1c253fb8d4a8ba6e59aa9e39d39cb3b245b.flv       0.08      0.33      0.13         6\n46f2e964ae16f5c27fad70d6849c76616fad7502.flv       0.00      0.00      0.00         4\n97c71f57e83f6ab16906fdd7edc8e3f88d2ceee1.flv       0.33      0.67      0.44        24\nbb604f57a18455867544e79c2e32bf5583c358d4.flv       0.16      0.50      0.24        10\nd2015b438b70f022967713d6f977ebc67a16839e.flv       0.03      0.29      0.05         7\n                                        miss       0.89      0.23      0.36       413\n\n                                   micro avg       0.28      0.28      0.28       519\n                                   macro avg       0.18      0.32      0.17       519\n                                weighted avg       0.74      0.28      0.33       519\n\n"
          ],
          "output_type": "stream"
        }
      ],
      "source": "true_labels \u003d []\npredictions \u003d []\nfor i, query_id in enumerate(query_ids):\n    tdf \u003d query_df[query_df.id \u003d\u003d query_id]\n    true_label \u003d vcdb_lut.ix[query_id.replace(\u0027_\u0027, \u0027\u0027)].source_id\n    true_labels.append(\u0027miss\u0027 if true_label is np.NaN else true_label)\n    query_vectors \u003d np.vstack(tdf[\u0027feature\u0027].values)\n    prediction \u003d lookup_sequence(searcher, query_vectors)\n    prediction \u003d prediction[0] if prediction else None\n    predicted_label \u003d prediction[\u0027label\u0027].replace(\u0027_\u0027, \u0027\u0027) if prediction else \u0027miss\u0027\n    predictions.append(predicted_label)\n    \n    if i % 50 \u003d\u003d 0:\n        print(i)\nprint(classification_report(true_labels, predictions))",
      "metadata": {
        "pycharm": {
          "metadata": false,
          "name": "#%%\n",
          "is_executing": false
        }
      }
    },
    {
      "cell_type": "code",
      "execution_count": 119,
      "outputs": [
        {
          "name": "stdout",
          "text": [
            "0\n",
            "50\n",
            "100\n",
            "150\n",
            "200\n",
            "250\n",
            "300\n",
            "350\n",
            "400\n",
            "450\n",
            "500\n",
            "                                              precision    recall  f1-score   support\n\n098df9c477ecf6c4f3818b198490b0258163015d.flv       0.27      0.64      0.38        11\n127dab55025984673f65d3a23b1fea99ecc79b15.mp4       0.26      0.96      0.41        26\n3499b9fd4316131ebf0f5d9bbecf6f3f8600c4fb.flv       0.67      0.18      0.29        11\n3df02ec5ddb74647d8fb96f08adba8e152050ef9.flv       0.33      1.00      0.50         7\n410ba1c253fb8d4a8ba6e59aa9e39d39cb3b245b.flv       0.40      0.67      0.50         6\n46f2e964ae16f5c27fad70d6849c76616fad7502.flv       0.00      0.00      0.00         4\n97c71f57e83f6ab16906fdd7edc8e3f88d2ceee1.flv       0.16      0.92      0.27        24\nbb604f57a18455867544e79c2e32bf5583c358d4.flv       0.06      0.60      0.11        10\nd2015b438b70f022967713d6f977ebc67a16839e.flv       0.03      0.43      0.05         7\n                                        miss       0.00      0.00      0.00       413\n\n                                   micro avg       0.15      0.15      0.15       519\n                                   macro avg       0.22      0.54      0.25       519\n                                weighted avg       0.05      0.15      0.06       519\n\n"
          ],
          "output_type": "stream"
        }
      ],
      "source": "# Majority vote\ntrue_labels \u003d []\npredictions \u003d []\nfor i, query_id in enumerate(query_ids):\n    tdf \u003d query_df[query_df.id \u003d\u003d query_id]\n    true_label \u003d vcdb_lut.ix[query_id.replace(\u0027_\u0027, \u0027\u0027)].source_id# tdf.source_id.unique()[0] or \u0027miss\u0027 \n    true_labels.append(\u0027miss\u0027 if true_label is np.NaN else true_label)\n    query_vectors \u003d np.vstack(tdf[\u0027feature\u0027].values)\n    prediction \u003d searcher.lookup(query_vectors)\n    predicted_label \u003d prediction[0].replace(\u0027_\u0027, \u0027\u0027) if prediction else \u0027miss\u0027\n    predictions.append(predicted_label)\n    \n    if i % 50 \u003d\u003d 0:\n        print(i)\nprint(classification_report(true_labels, predictions))",
      "metadata": {
        "pycharm": {
          "metadata": false,
          "name": "#%%\n",
          "is_executing": false
        }
      }
    },
    {
      "cell_type": "code",
      "execution_count": 90,
      "outputs": [
        {
          "data": {
            "text/plain": "([\u00273499b9fd4316131ebf0f5d9bbecf6f3f8600c4fb.flv\u0027,\n  \u00273499b9fd4316131ebf0f5d9bbecf6f3f8600c4fb.flv\u0027,\n  \u00273499b9fd4316131ebf0f5d9bbecf6f3f8600c4fb.flv\u0027,\n  \u00273499b9fd4316131ebf0f5d9bbecf6f3f8600c4fb.flv\u0027,\n  \u00273499b9fd4316131ebf0f5d9bbecf6f3f8600c4fb.flv\u0027,\n  \u00273499b9fd4316131ebf0f5d9bbecf6f3f8600c4fb.flv\u0027,\n  \u0027miss\u0027,\n  \u0027miss\u0027,\n  \u0027miss\u0027,\n  \u0027miss\u0027,\n  \u0027miss\u0027,\n  \u0027miss\u0027,\n  \u0027miss\u0027,\n  \u0027miss\u0027,\n  \u0027miss\u0027,\n  \u0027miss\u0027,\n  \u0027miss\u0027,\n  \u0027miss\u0027,\n  \u0027miss\u0027,\n  \u0027miss\u0027,\n  \u0027miss\u0027,\n  \u0027miss\u0027,\n  \u0027miss\u0027,\n  \u0027miss\u0027,\n  \u0027miss\u0027,\n  \u0027miss\u0027,\n  \u0027miss\u0027,\n  \u0027miss\u0027,\n  \u0027miss\u0027,\n  \u0027miss\u0027,\n  \u0027miss\u0027,\n  \u0027miss\u0027,\n  \u0027miss\u0027,\n  \u0027miss\u0027,\n  \u0027miss\u0027,\n  \u0027miss\u0027,\n  \u0027miss\u0027,\n  \u0027miss\u0027,\n  \u0027miss\u0027,\n  \u0027miss\u0027,\n  \u0027miss\u0027,\n  \u0027miss\u0027,\n  \u0027miss\u0027,\n  \u0027miss\u0027,\n  \u0027miss\u0027,\n  \u0027miss\u0027,\n  \u0027miss\u0027,\n  \u0027miss\u0027,\n  \u0027miss\u0027,\n  \u0027miss\u0027,\n  \u0027miss\u0027,\n  \u0027miss\u0027,\n  \u0027miss\u0027,\n  \u0027miss\u0027,\n  \u0027miss\u0027,\n  \u0027miss\u0027,\n  \u0027miss\u0027,\n  \u0027miss\u0027,\n  \u0027miss\u0027,\n  \u0027miss\u0027,\n  \u0027miss\u0027,\n  \u0027miss\u0027,\n  \u0027miss\u0027,\n  \u0027miss\u0027,\n  \u0027miss\u0027,\n  \u0027miss\u0027,\n  \u0027miss\u0027,\n  \u0027miss\u0027,\n  \u0027miss\u0027,\n  \u0027miss\u0027,\n  \u0027miss\u0027,\n  \u0027miss\u0027,\n  \u0027miss\u0027,\n  \u0027miss\u0027,\n  \u0027miss\u0027,\n  \u0027miss\u0027,\n  \u0027miss\u0027,\n  \u0027miss\u0027,\n  \u0027miss\u0027,\n  \u0027miss\u0027,\n  \u0027miss\u0027,\n  \u0027miss\u0027,\n  \u0027miss\u0027,\n  \u0027miss\u0027,\n  \u0027miss\u0027,\n  \u0027miss\u0027,\n  \u0027miss\u0027,\n  \u0027miss\u0027,\n  \u0027miss\u0027,\n  \u0027miss\u0027,\n  \u0027miss\u0027,\n  \u0027miss\u0027,\n  \u0027miss\u0027,\n  \u0027miss\u0027,\n  \u0027miss\u0027,\n  \u0027miss\u0027,\n  \u0027miss\u0027,\n  \u0027miss\u0027,\n  \u0027miss\u0027,\n  \u0027miss\u0027],\n [\u002797c71f57e83f6ab16906fdd7edc8e3f88d2ceee1.flv\u0027,\n  \u00273499b9fd4316131ebf0f5d9bbecf6f3f8600c4fb.flv\u0027,\n  \u002797c71f57e83f6ab16906fdd7edc8e3f88d2ceee1.flv\u0027,\n  \u0027127dab55025984673f65d3a23b1fea99ecc79b15.mp4\u0027,\n  \u002797c71f57e83f6ab16906fdd7edc8e3f88d2ceee1.flv\u0027,\n  \u002797c71f57e83f6ab16906fdd7edc8e3f88d2ceee1.flv\u0027,\n  \u002797c71f57e83f6ab16906fdd7edc8e3f88d2ceee1.flv\u0027,\n  \u0027127dab55025984673f65d3a23b1fea99ecc79b15.mp4\u0027,\n  \u0027127dab55025984673f65d3a23b1fea99ecc79b15.mp4\u0027,\n  \u0027127dab55025984673f65d3a23b1fea99ecc79b15.mp4\u0027,\n  \u0027d2015b438b70f022967713d6f977ebc67a16839e.flv\u0027,\n  \u0027127dab55025984673f65d3a23b1fea99ecc79b15.mp4\u0027,\n  \u0027127dab55025984673f65d3a23b1fea99ecc79b15.mp4\u0027,\n  \u0027127dab55025984673f65d3a23b1fea99ecc79b15.mp4\u0027,\n  \u0027127dab55025984673f65d3a23b1fea99ecc79b15.mp4\u0027,\n  \u0027127dab55025984673f65d3a23b1fea99ecc79b15.mp4\u0027,\n  \u002797c71f57e83f6ab16906fdd7edc8e3f88d2ceee1.flv\u0027,\n  \u002797c71f57e83f6ab16906fdd7edc8e3f88d2ceee1.flv\u0027,\n  \u0027127dab55025984673f65d3a23b1fea99ecc79b15.mp4\u0027,\n  \u002797c71f57e83f6ab16906fdd7edc8e3f88d2ceee1.flv\u0027,\n  \u0027127dab55025984673f65d3a23b1fea99ecc79b15.mp4\u0027,\n  \u0027127dab55025984673f65d3a23b1fea99ecc79b15.mp4\u0027,\n  \u002797c71f57e83f6ab16906fdd7edc8e3f88d2ceee1.flv\u0027,\n  \u002797c71f57e83f6ab16906fdd7edc8e3f88d2ceee1.flv\u0027,\n  \u0027d2015b438b70f022967713d6f977ebc67a16839e.flv\u0027,\n  \u002797c71f57e83f6ab16906fdd7edc8e3f88d2ceee1.flv\u0027,\n  \u0027127dab55025984673f65d3a23b1fea99ecc79b15.mp4\u0027,\n  \u002797c71f57e83f6ab16906fdd7edc8e3f88d2ceee1.flv\u0027,\n  \u00273df02ec5ddb74647d8fb96f08adba8e152050ef9.flv\u0027,\n  \u0027127dab55025984673f65d3a23b1fea99ecc79b15.mp4\u0027,\n  \u0027d2015b438b70f022967713d6f977ebc67a16839e.flv\u0027,\n  \u00273df02ec5ddb74647d8fb96f08adba8e152050ef9.flv\u0027,\n  \u0027d2015b438b70f022967713d6f977ebc67a16839e.flv\u0027,\n  \u0027d2015b438b70f022967713d6f977ebc67a16839e.flv\u0027,\n  \u0027d2015b438b70f022967713d6f977ebc67a16839e.flv\u0027,\n  \u002797c71f57e83f6ab16906fdd7edc8e3f88d2ceee1.flv\u0027,\n  \u002797c71f57e83f6ab16906fdd7edc8e3f88d2ceee1.flv\u0027,\n  \u0027d2015b438b70f022967713d6f977ebc67a16839e.flv\u0027,\n  \u002797c71f57e83f6ab16906fdd7edc8e3f88d2ceee1.flv\u0027,\n  \u0027d2015b438b70f022967713d6f977ebc67a16839e.flv\u0027,\n  \u0027127dab55025984673f65d3a23b1fea99ecc79b15.mp4\u0027,\n  \u0027d2015b438b70f022967713d6f977ebc67a16839e.flv\u0027,\n  \u0027127dab55025984673f65d3a23b1fea99ecc79b15.mp4\u0027,\n  \u0027d2015b438b70f022967713d6f977ebc67a16839e.flv\u0027,\n  \u002746f2e964ae16f5c27fad70d6849c76616fad7502.flv\u0027,\n  \u0027d2015b438b70f022967713d6f977ebc67a16839e.flv\u0027,\n  \u002797c71f57e83f6ab16906fdd7edc8e3f88d2ceee1.flv\u0027,\n  \u0027127dab55025984673f65d3a23b1fea99ecc79b15.mp4\u0027,\n  \u0027d2015b438b70f022967713d6f977ebc67a16839e.flv\u0027,\n  \u0027d2015b438b70f022967713d6f977ebc67a16839e.flv\u0027,\n  \u0027d2015b438b70f022967713d6f977ebc67a16839e.flv\u0027,\n  \u0027d2015b438b70f022967713d6f977ebc67a16839e.flv\u0027,\n  \u0027d2015b438b70f022967713d6f977ebc67a16839e.flv\u0027,\n  \u0027d2015b438b70f022967713d6f977ebc67a16839e.flv\u0027,\n  \u0027d2015b438b70f022967713d6f977ebc67a16839e.flv\u0027,\n  \u0027098df9c477ecf6c4f3818b198490b0258163015d.flv\u0027,\n  \u0027d2015b438b70f022967713d6f977ebc67a16839e.flv\u0027,\n  \u0027098df9c477ecf6c4f3818b198490b0258163015d.flv\u0027,\n  \u0027127dab55025984673f65d3a23b1fea99ecc79b15.mp4\u0027,\n  \u0027d2015b438b70f022967713d6f977ebc67a16839e.flv\u0027,\n  \u0027d2015b438b70f022967713d6f977ebc67a16839e.flv\u0027,\n  \u0027d2015b438b70f022967713d6f977ebc67a16839e.flv\u0027,\n  \u0027d2015b438b70f022967713d6f977ebc67a16839e.flv\u0027,\n  \u0027d2015b438b70f022967713d6f977ebc67a16839e.flv\u0027,\n  \u00273df02ec5ddb74647d8fb96f08adba8e152050ef9.flv\u0027,\n  \u0027d2015b438b70f022967713d6f977ebc67a16839e.flv\u0027,\n  \u0027d2015b438b70f022967713d6f977ebc67a16839e.flv\u0027,\n  \u0027d2015b438b70f022967713d6f977ebc67a16839e.flv\u0027,\n  \u0027d2015b438b70f022967713d6f977ebc67a16839e.flv\u0027,\n  \u002797c71f57e83f6ab16906fdd7edc8e3f88d2ceee1.flv\u0027,\n  \u0027d2015b438b70f022967713d6f977ebc67a16839e.flv\u0027,\n  \u002797c71f57e83f6ab16906fdd7edc8e3f88d2ceee1.flv\u0027,\n  \u0027d2015b438b70f022967713d6f977ebc67a16839e.flv\u0027,\n  \u0027d2015b438b70f022967713d6f977ebc67a16839e.flv\u0027,\n  \u0027d2015b438b70f022967713d6f977ebc67a16839e.flv\u0027,\n  \u002797c71f57e83f6ab16906fdd7edc8e3f88d2ceee1.flv\u0027,\n  \u0027127dab55025984673f65d3a23b1fea99ecc79b15.mp4\u0027,\n  \u002797c71f57e83f6ab16906fdd7edc8e3f88d2ceee1.flv\u0027,\n  \u002797c71f57e83f6ab16906fdd7edc8e3f88d2ceee1.flv\u0027,\n  \u0027bb604f57a18455867544e79c2e32bf5583c358d4.flv\u0027,\n  \u0027d2015b438b70f022967713d6f977ebc67a16839e.flv\u0027,\n  \u002797c71f57e83f6ab16906fdd7edc8e3f88d2ceee1.flv\u0027,\n  \u002746f2e964ae16f5c27fad70d6849c76616fad7502.flv\u0027,\n  \u0027bb604f57a18455867544e79c2e32bf5583c358d4.flv\u0027,\n  \u0027d2015b438b70f022967713d6f977ebc67a16839e.flv\u0027,\n  \u002797c71f57e83f6ab16906fdd7edc8e3f88d2ceee1.flv\u0027,\n  \u0027410ba1c253fb8d4a8ba6e59aa9e39d39cb3b245b.flv\u0027,\n  \u002797c71f57e83f6ab16906fdd7edc8e3f88d2ceee1.flv\u0027,\n  \u0027d2015b438b70f022967713d6f977ebc67a16839e.flv\u0027,\n  \u0027d2015b438b70f022967713d6f977ebc67a16839e.flv\u0027,\n  \u0027d2015b438b70f022967713d6f977ebc67a16839e.flv\u0027,\n  \u002797c71f57e83f6ab16906fdd7edc8e3f88d2ceee1.flv\u0027,\n  \u002797c71f57e83f6ab16906fdd7edc8e3f88d2ceee1.flv\u0027,\n  \u0027127dab55025984673f65d3a23b1fea99ecc79b15.mp4\u0027,\n  \u0027127dab55025984673f65d3a23b1fea99ecc79b15.mp4\u0027,\n  \u0027410ba1c253fb8d4a8ba6e59aa9e39d39cb3b245b.flv\u0027,\n  \u0027127dab55025984673f65d3a23b1fea99ecc79b15.mp4\u0027,\n  \u00273df02ec5ddb74647d8fb96f08adba8e152050ef9.flv\u0027,\n  \u0027127dab55025984673f65d3a23b1fea99ecc79b15.mp4\u0027,\n  \u0027127dab55025984673f65d3a23b1fea99ecc79b15.mp4\u0027])"
          },
          "metadata": {},
          "output_type": "execute_result",
          "execution_count": 90
        }
      ],
      "source": "",
      "metadata": {
        "pycharm": {
          "metadata": false,
          "name": "#%%\n",
          "is_executing": false
        }
      }
    }
  ],
  "metadata": {
    "kernelspec": {
      "display_name": "Python 3",
      "language": "python",
      "name": "python3"
    }
  },
  "nbformat": 4,
  "nbformat_minor": 2
}