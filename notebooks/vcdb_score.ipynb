{
  "cells": [
    {
      "cell_type": "code",
      "execution_count": 2,
      "metadata": {
        "pycharm": {
          "is_executing": false
        }
      },
      "outputs": [],
      "source": "import pandas as pd\nimport numpy as np\nimport seaborn as sns\nimport matplotlib.pyplot as plt \nimport os\nfrom vzam.searcher import FaissRhashVideoSearcher\nfrom sklearn.metrics import classification_report\n%matplotlib inline"
    },
    {
      "cell_type": "code",
      "execution_count": 3,
      "metadata": {
        "pycharm": {
          "is_executing": false
        }
      },
      "outputs": [
        {
          "data": {
            "text/plain": "\u0027/home/boris/study/курсовой/vzam\u0027"
          },
          "metadata": {},
          "output_type": "execute_result",
          "execution_count": 3
        }
      ],
      "source": [
        "initial_cwd \u003d os.getcwd()\n",
        "initial_cwd"
      ]
    },
    {
      "cell_type": "code",
      "execution_count": 3,
      "metadata": {
        "pycharm": {
          "is_executing": false
        }
      },
      "outputs": [],
      "source": []
    },
    {
      "cell_type": "code",
      "execution_count": 4,
      "metadata": {
        "pycharm": {
          "is_executing": false
        }
      },
      "outputs": [],
      "source": "# print(initial_cwd)\n# os.chdir(initial_cwd)\n# os.chdir(\u0027..\u0027)\n# print(os.getcwd())"
    },
    {
      "cell_type": "code",
      "execution_count": 4,
      "metadata": {
        "pycharm": {
          "is_executing": false
        }
      },
      "outputs": [],
      "source": []
    },
    {
      "cell_type": "code",
      "execution_count": 5,
      "metadata": {
        "pycharm": {
          "is_executing": false
        }
      },
      "outputs": [],
      "source": [
        "from vzam import *"
      ]
    },
    {
      "cell_type": "code",
      "execution_count": 25,
      "metadata": {
        "pycharm": {
          "is_executing": false
        }
      },
      "outputs": [],
      "source": "vcdb \u003d pd.read_csv(\u0027data/vcdb.csv\u0027)\nvcdb_lut \u003d pd.read_csv(\u0027data/vcdb_query_source_lut.csv\u0027)\nvcdb_lut.index \u003d vcdb_lut[\u0027query_id\u0027]"
    },
    {
      "cell_type": "code",
      "execution_count": 26,
      "outputs": [
        {
          "data": {
            "text/plain": "                                               query  \\\n0  core_dataset/baggio_penalty_1994\\3504e360accba...   \n1  core_dataset/baggio_penalty_1994\\37b31d607d31a...   \n2  core_dataset/baggio_penalty_1994\\458db5aa227ae...   \n3  core_dataset/baggio_penalty_1994\\5c5714c0a56fd...   \n4  core_dataset/baggio_penalty_1994\\67824b87c0698...   \n\n                                              source  \\\n0  core_dataset/baggio_penalty_1994\\bb604f57a1845...   \n1  core_dataset/baggio_penalty_1994\\bb604f57a1845...   \n2  core_dataset/baggio_penalty_1994\\bb604f57a1845...   \n3  core_dataset/baggio_penalty_1994\\bb604f57a1845...   \n4  core_dataset/baggio_penalty_1994\\bb604f57a1845...   \n\n                                      source_id  \n0  bb604f57a18455867544e79c2e32bf5583c358d4.flv  \n1  bb604f57a18455867544e79c2e32bf5583c358d4.flv  \n2  bb604f57a18455867544e79c2e32bf5583c358d4.flv  \n3  bb604f57a18455867544e79c2e32bf5583c358d4.flv  \n4  bb604f57a18455867544e79c2e32bf5583c358d4.flv  ",
            "text/html": "\u003cdiv\u003e\n\u003cstyle scoped\u003e\n    .dataframe tbody tr th:only-of-type {\n        vertical-align: middle;\n    }\n\n    .dataframe tbody tr th {\n        vertical-align: top;\n    }\n\n    .dataframe thead th {\n        text-align: right;\n    }\n\u003c/style\u003e\n\u003ctable border\u003d\"1\" class\u003d\"dataframe\"\u003e\n  \u003cthead\u003e\n    \u003ctr style\u003d\"text-align: right;\"\u003e\n      \u003cth\u003e\u003c/th\u003e\n      \u003cth\u003equery\u003c/th\u003e\n      \u003cth\u003esource\u003c/th\u003e\n      \u003cth\u003esource_id\u003c/th\u003e\n    \u003c/tr\u003e\n  \u003c/thead\u003e\n  \u003ctbody\u003e\n    \u003ctr\u003e\n      \u003cth\u003e0\u003c/th\u003e\n      \u003ctd\u003ecore_dataset/baggio_penalty_1994\\3504e360accba...\u003c/td\u003e\n      \u003ctd\u003ecore_dataset/baggio_penalty_1994\\bb604f57a1845...\u003c/td\u003e\n      \u003ctd\u003ebb604f57a18455867544e79c2e32bf5583c358d4.flv\u003c/td\u003e\n    \u003c/tr\u003e\n    \u003ctr\u003e\n      \u003cth\u003e1\u003c/th\u003e\n      \u003ctd\u003ecore_dataset/baggio_penalty_1994\\37b31d607d31a...\u003c/td\u003e\n      \u003ctd\u003ecore_dataset/baggio_penalty_1994\\bb604f57a1845...\u003c/td\u003e\n      \u003ctd\u003ebb604f57a18455867544e79c2e32bf5583c358d4.flv\u003c/td\u003e\n    \u003c/tr\u003e\n    \u003ctr\u003e\n      \u003cth\u003e2\u003c/th\u003e\n      \u003ctd\u003ecore_dataset/baggio_penalty_1994\\458db5aa227ae...\u003c/td\u003e\n      \u003ctd\u003ecore_dataset/baggio_penalty_1994\\bb604f57a1845...\u003c/td\u003e\n      \u003ctd\u003ebb604f57a18455867544e79c2e32bf5583c358d4.flv\u003c/td\u003e\n    \u003c/tr\u003e\n    \u003ctr\u003e\n      \u003cth\u003e3\u003c/th\u003e\n      \u003ctd\u003ecore_dataset/baggio_penalty_1994\\5c5714c0a56fd...\u003c/td\u003e\n      \u003ctd\u003ecore_dataset/baggio_penalty_1994\\bb604f57a1845...\u003c/td\u003e\n      \u003ctd\u003ebb604f57a18455867544e79c2e32bf5583c358d4.flv\u003c/td\u003e\n    \u003c/tr\u003e\n    \u003ctr\u003e\n      \u003cth\u003e4\u003c/th\u003e\n      \u003ctd\u003ecore_dataset/baggio_penalty_1994\\67824b87c0698...\u003c/td\u003e\n      \u003ctd\u003ecore_dataset/baggio_penalty_1994\\bb604f57a1845...\u003c/td\u003e\n      \u003ctd\u003ebb604f57a18455867544e79c2e32bf5583c358d4.flv\u003c/td\u003e\n    \u003c/tr\u003e\n  \u003c/tbody\u003e\n\u003c/table\u003e\n\u003c/div\u003e"
          },
          "metadata": {},
          "output_type": "execute_result",
          "execution_count": 26
        }
      ],
      "source": "vcdb.head()",
      "metadata": {
        "pycharm": {
          "metadata": false,
          "name": "#%%\n",
          "is_executing": false
        }
      }
    },
    {
      "cell_type": "code",
      "execution_count": 27,
      "outputs": [
        {
          "data": {
            "text/plain": "                                                                                  query_id  \\\nquery_id                                                                                     \n3504e360accbaccb1580befbb441f1019664c2bb.mp4  3504e360accbaccb1580befbb441f1019664c2bb.mp4   \n37b31d607d31a47d347b15dae2b8aa63e57861eb.flv  37b31d607d31a47d347b15dae2b8aa63e57861eb.flv   \n458db5aa227ae49ceb8bc1bed5f9cf5b4bed63f2.flv  458db5aa227ae49ceb8bc1bed5f9cf5b4bed63f2.flv   \n5c5714c0a56fd2a96f99db2f59b0d03659d77cdf.flv  5c5714c0a56fd2a96f99db2f59b0d03659d77cdf.flv   \n67824b87c0698c499acad123b7498ae17f97bf6d.flv  67824b87c0698c499acad123b7498ae17f97bf6d.flv   \n\n                                                                                 source_id  \nquery_id                                                                                    \n3504e360accbaccb1580befbb441f1019664c2bb.mp4  bb604f57a18455867544e79c2e32bf5583c358d4.flv  \n37b31d607d31a47d347b15dae2b8aa63e57861eb.flv  bb604f57a18455867544e79c2e32bf5583c358d4.flv  \n458db5aa227ae49ceb8bc1bed5f9cf5b4bed63f2.flv  bb604f57a18455867544e79c2e32bf5583c358d4.flv  \n5c5714c0a56fd2a96f99db2f59b0d03659d77cdf.flv  bb604f57a18455867544e79c2e32bf5583c358d4.flv  \n67824b87c0698c499acad123b7498ae17f97bf6d.flv  bb604f57a18455867544e79c2e32bf5583c358d4.flv  ",
            "text/html": "\u003cdiv\u003e\n\u003cstyle scoped\u003e\n    .dataframe tbody tr th:only-of-type {\n        vertical-align: middle;\n    }\n\n    .dataframe tbody tr th {\n        vertical-align: top;\n    }\n\n    .dataframe thead th {\n        text-align: right;\n    }\n\u003c/style\u003e\n\u003ctable border\u003d\"1\" class\u003d\"dataframe\"\u003e\n  \u003cthead\u003e\n    \u003ctr style\u003d\"text-align: right;\"\u003e\n      \u003cth\u003e\u003c/th\u003e\n      \u003cth\u003equery_id\u003c/th\u003e\n      \u003cth\u003esource_id\u003c/th\u003e\n    \u003c/tr\u003e\n    \u003ctr\u003e\n      \u003cth\u003equery_id\u003c/th\u003e\n      \u003cth\u003e\u003c/th\u003e\n      \u003cth\u003e\u003c/th\u003e\n    \u003c/tr\u003e\n  \u003c/thead\u003e\n  \u003ctbody\u003e\n    \u003ctr\u003e\n      \u003cth\u003e3504e360accbaccb1580befbb441f1019664c2bb.mp4\u003c/th\u003e\n      \u003ctd\u003e3504e360accbaccb1580befbb441f1019664c2bb.mp4\u003c/td\u003e\n      \u003ctd\u003ebb604f57a18455867544e79c2e32bf5583c358d4.flv\u003c/td\u003e\n    \u003c/tr\u003e\n    \u003ctr\u003e\n      \u003cth\u003e37b31d607d31a47d347b15dae2b8aa63e57861eb.flv\u003c/th\u003e\n      \u003ctd\u003e37b31d607d31a47d347b15dae2b8aa63e57861eb.flv\u003c/td\u003e\n      \u003ctd\u003ebb604f57a18455867544e79c2e32bf5583c358d4.flv\u003c/td\u003e\n    \u003c/tr\u003e\n    \u003ctr\u003e\n      \u003cth\u003e458db5aa227ae49ceb8bc1bed5f9cf5b4bed63f2.flv\u003c/th\u003e\n      \u003ctd\u003e458db5aa227ae49ceb8bc1bed5f9cf5b4bed63f2.flv\u003c/td\u003e\n      \u003ctd\u003ebb604f57a18455867544e79c2e32bf5583c358d4.flv\u003c/td\u003e\n    \u003c/tr\u003e\n    \u003ctr\u003e\n      \u003cth\u003e5c5714c0a56fd2a96f99db2f59b0d03659d77cdf.flv\u003c/th\u003e\n      \u003ctd\u003e5c5714c0a56fd2a96f99db2f59b0d03659d77cdf.flv\u003c/td\u003e\n      \u003ctd\u003ebb604f57a18455867544e79c2e32bf5583c358d4.flv\u003c/td\u003e\n    \u003c/tr\u003e\n    \u003ctr\u003e\n      \u003cth\u003e67824b87c0698c499acad123b7498ae17f97bf6d.flv\u003c/th\u003e\n      \u003ctd\u003e67824b87c0698c499acad123b7498ae17f97bf6d.flv\u003c/td\u003e\n      \u003ctd\u003ebb604f57a18455867544e79c2e32bf5583c358d4.flv\u003c/td\u003e\n    \u003c/tr\u003e\n  \u003c/tbody\u003e\n\u003c/table\u003e\n\u003c/div\u003e"
          },
          "metadata": {},
          "output_type": "execute_result",
          "execution_count": 27
        }
      ],
      "source": "vcdb_lut.head()",
      "metadata": {
        "pycharm": {
          "metadata": false,
          "name": "#%%\n",
          "is_executing": false
        }
      }
    },
    {
      "cell_type": "code",
      "execution_count": 8,
      "outputs": [
        {
          "data": {
            "text/plain": "                                               query  \\\n0  core_dataset/baggio_penalty_1994\\3504e360accba...   \n1  core_dataset/baggio_penalty_1994\\37b31d607d31a...   \n2  core_dataset/baggio_penalty_1994\\458db5aa227ae...   \n3  core_dataset/baggio_penalty_1994\\5c5714c0a56fd...   \n4  core_dataset/baggio_penalty_1994\\67824b87c0698...   \n\n                                              source  \\\n0  core_dataset/baggio_penalty_1994\\bb604f57a1845...   \n1  core_dataset/baggio_penalty_1994\\bb604f57a1845...   \n2  core_dataset/baggio_penalty_1994\\bb604f57a1845...   \n3  core_dataset/baggio_penalty_1994\\bb604f57a1845...   \n4  core_dataset/baggio_penalty_1994\\bb604f57a1845...   \n\n                                      source_id  \\\n0  bb604f57a18455867544e79c2e32bf5583c358d4.flv   \n1  bb604f57a18455867544e79c2e32bf5583c358d4.flv   \n2  bb604f57a18455867544e79c2e32bf5583c358d4.flv   \n3  bb604f57a18455867544e79c2e32bf5583c358d4.flv   \n4  bb604f57a18455867544e79c2e32bf5583c358d4.flv   \n\n                                       query_id  \n0  3504e360accbaccb1580befbb441f1019664c2bb.mp4  \n1  37b31d607d31a47d347b15dae2b8aa63e57861eb.flv  \n2  458db5aa227ae49ceb8bc1bed5f9cf5b4bed63f2.flv  \n3  5c5714c0a56fd2a96f99db2f59b0d03659d77cdf.flv  \n4  67824b87c0698c499acad123b7498ae17f97bf6d.flv  ",
            "text/html": "\u003cdiv\u003e\n\u003cstyle scoped\u003e\n    .dataframe tbody tr th:only-of-type {\n        vertical-align: middle;\n    }\n\n    .dataframe tbody tr th {\n        vertical-align: top;\n    }\n\n    .dataframe thead th {\n        text-align: right;\n    }\n\u003c/style\u003e\n\u003ctable border\u003d\"1\" class\u003d\"dataframe\"\u003e\n  \u003cthead\u003e\n    \u003ctr style\u003d\"text-align: right;\"\u003e\n      \u003cth\u003e\u003c/th\u003e\n      \u003cth\u003equery\u003c/th\u003e\n      \u003cth\u003esource\u003c/th\u003e\n      \u003cth\u003esource_id\u003c/th\u003e\n      \u003cth\u003equery_id\u003c/th\u003e\n    \u003c/tr\u003e\n  \u003c/thead\u003e\n  \u003ctbody\u003e\n    \u003ctr\u003e\n      \u003cth\u003e0\u003c/th\u003e\n      \u003ctd\u003ecore_dataset/baggio_penalty_1994\\3504e360accba...\u003c/td\u003e\n      \u003ctd\u003ecore_dataset/baggio_penalty_1994\\bb604f57a1845...\u003c/td\u003e\n      \u003ctd\u003ebb604f57a18455867544e79c2e32bf5583c358d4.flv\u003c/td\u003e\n      \u003ctd\u003e3504e360accbaccb1580befbb441f1019664c2bb.mp4\u003c/td\u003e\n    \u003c/tr\u003e\n    \u003ctr\u003e\n      \u003cth\u003e1\u003c/th\u003e\n      \u003ctd\u003ecore_dataset/baggio_penalty_1994\\37b31d607d31a...\u003c/td\u003e\n      \u003ctd\u003ecore_dataset/baggio_penalty_1994\\bb604f57a1845...\u003c/td\u003e\n      \u003ctd\u003ebb604f57a18455867544e79c2e32bf5583c358d4.flv\u003c/td\u003e\n      \u003ctd\u003e37b31d607d31a47d347b15dae2b8aa63e57861eb.flv\u003c/td\u003e\n    \u003c/tr\u003e\n    \u003ctr\u003e\n      \u003cth\u003e2\u003c/th\u003e\n      \u003ctd\u003ecore_dataset/baggio_penalty_1994\\458db5aa227ae...\u003c/td\u003e\n      \u003ctd\u003ecore_dataset/baggio_penalty_1994\\bb604f57a1845...\u003c/td\u003e\n      \u003ctd\u003ebb604f57a18455867544e79c2e32bf5583c358d4.flv\u003c/td\u003e\n      \u003ctd\u003e458db5aa227ae49ceb8bc1bed5f9cf5b4bed63f2.flv\u003c/td\u003e\n    \u003c/tr\u003e\n    \u003ctr\u003e\n      \u003cth\u003e3\u003c/th\u003e\n      \u003ctd\u003ecore_dataset/baggio_penalty_1994\\5c5714c0a56fd...\u003c/td\u003e\n      \u003ctd\u003ecore_dataset/baggio_penalty_1994\\bb604f57a1845...\u003c/td\u003e\n      \u003ctd\u003ebb604f57a18455867544e79c2e32bf5583c358d4.flv\u003c/td\u003e\n      \u003ctd\u003e5c5714c0a56fd2a96f99db2f59b0d03659d77cdf.flv\u003c/td\u003e\n    \u003c/tr\u003e\n    \u003ctr\u003e\n      \u003cth\u003e4\u003c/th\u003e\n      \u003ctd\u003ecore_dataset/baggio_penalty_1994\\67824b87c0698...\u003c/td\u003e\n      \u003ctd\u003ecore_dataset/baggio_penalty_1994\\bb604f57a1845...\u003c/td\u003e\n      \u003ctd\u003ebb604f57a18455867544e79c2e32bf5583c358d4.flv\u003c/td\u003e\n      \u003ctd\u003e67824b87c0698c499acad123b7498ae17f97bf6d.flv\u003c/td\u003e\n    \u003c/tr\u003e\n  \u003c/tbody\u003e\n\u003c/table\u003e\n\u003c/div\u003e"
          },
          "metadata": {},
          "output_type": "execute_result",
          "execution_count": 8
        }
      ],
      "source": "# vcdb[\u0027query_id\u0027] \u003d vcdb[\u0027query\u0027].apply(lambda x: os.path.basename(x).split(\u0027\\\\\u0027)[-1])\n# vcdb.head()",
      "metadata": {
        "pycharm": {
          "metadata": false,
          "name": "#%%\n",
          "is_executing": false
        }
      }
    },
    {
      "cell_type": "code",
      "execution_count": 9,
      "outputs": [],
      "source": "# vcdb_lut \u003d vcdb[[\u0027query_id\u0027, \u0027source_id\u0027]]\n# vcdb_lut.index \u003d vcdb_lut.query_id",
      "metadata": {
        "pycharm": {
          "metadata": false,
          "name": "#%%\n",
          "is_executing": false
        }
      }
    },
    {
      "cell_type": "code",
      "execution_count": 28,
      "outputs": [
        {
          "data": {
            "text/plain": "\u0027bb604f57a18455867544e79c2e32bf5583c358d4.flv\u0027"
          },
          "metadata": {},
          "output_type": "execute_result",
          "execution_count": 28
        }
      ],
      "source": "\nvcdb_lut.ix[\u00273504e360accbaccb1580befbb441f1019664c2bb.mp4\u0027].source_id",
      "metadata": {
        "pycharm": {
          "metadata": false,
          "name": "#%%\n",
          "is_executing": false
        }
      }
    },
    {
      "cell_type": "code",
      "execution_count": 29,
      "outputs": [],
      "source": "SOURCE_DATASET \u003d \u0027data/vcdb_rhash_source.csv\u0027\nQUERY_DATASET \u003d \u0027data/vcdb_rhash_query.csv\u0027",
      "metadata": {
        "pycharm": {
          "metadata": false,
          "name": "#%%\n",
          "is_executing": false
        }
      }
    },
    {
      "cell_type": "code",
      "execution_count": 30,
      "outputs": [
        {
          "data": {
            "text/plain": "                                             feature    ts  \\\n0  [0, 0, 0, 1, 0, 0, 1, 1, 1, 1, 0, 1, 1, 1, 1, ...  0.25   \n1  [0, 0, 0, 1, 0, 0, 1, 1, 0, 1, 0, 1, 1, 1, 1, ...  0.55   \n2  [0, 0, 0, 1, 0, 0, 1, 1, 1, 1, 0, 1, 1, 1, 1, ...  0.85   \n3  [0, 0, 0, 1, 0, 0, 1, 1, 1, 1, 0, 1, 1, 1, 1, ...  1.15   \n4  [0, 0, 0, 1, 0, 0, 1, 1, 1, 1, 0, 1, 1, 1, 1, ...  1.45   \n\n                                             id  \n0  bb604f57a18455867544e79c2e32bf5583c358d4.flv  \n1  bb604f57a18455867544e79c2e32bf5583c358d4.flv  \n2  bb604f57a18455867544e79c2e32bf5583c358d4.flv  \n3  bb604f57a18455867544e79c2e32bf5583c358d4.flv  \n4  bb604f57a18455867544e79c2e32bf5583c358d4.flv  ",
            "text/html": "\u003cdiv\u003e\n\u003cstyle scoped\u003e\n    .dataframe tbody tr th:only-of-type {\n        vertical-align: middle;\n    }\n\n    .dataframe tbody tr th {\n        vertical-align: top;\n    }\n\n    .dataframe thead th {\n        text-align: right;\n    }\n\u003c/style\u003e\n\u003ctable border\u003d\"1\" class\u003d\"dataframe\"\u003e\n  \u003cthead\u003e\n    \u003ctr style\u003d\"text-align: right;\"\u003e\n      \u003cth\u003e\u003c/th\u003e\n      \u003cth\u003efeature\u003c/th\u003e\n      \u003cth\u003ets\u003c/th\u003e\n      \u003cth\u003eid\u003c/th\u003e\n    \u003c/tr\u003e\n  \u003c/thead\u003e\n  \u003ctbody\u003e\n    \u003ctr\u003e\n      \u003cth\u003e0\u003c/th\u003e\n      \u003ctd\u003e[0, 0, 0, 1, 0, 0, 1, 1, 1, 1, 0, 1, 1, 1, 1, ...\u003c/td\u003e\n      \u003ctd\u003e0.25\u003c/td\u003e\n      \u003ctd\u003ebb604f57a18455867544e79c2e32bf5583c358d4.flv\u003c/td\u003e\n    \u003c/tr\u003e\n    \u003ctr\u003e\n      \u003cth\u003e1\u003c/th\u003e\n      \u003ctd\u003e[0, 0, 0, 1, 0, 0, 1, 1, 0, 1, 0, 1, 1, 1, 1, ...\u003c/td\u003e\n      \u003ctd\u003e0.55\u003c/td\u003e\n      \u003ctd\u003ebb604f57a18455867544e79c2e32bf5583c358d4.flv\u003c/td\u003e\n    \u003c/tr\u003e\n    \u003ctr\u003e\n      \u003cth\u003e2\u003c/th\u003e\n      \u003ctd\u003e[0, 0, 0, 1, 0, 0, 1, 1, 1, 1, 0, 1, 1, 1, 1, ...\u003c/td\u003e\n      \u003ctd\u003e0.85\u003c/td\u003e\n      \u003ctd\u003ebb604f57a18455867544e79c2e32bf5583c358d4.flv\u003c/td\u003e\n    \u003c/tr\u003e\n    \u003ctr\u003e\n      \u003cth\u003e3\u003c/th\u003e\n      \u003ctd\u003e[0, 0, 0, 1, 0, 0, 1, 1, 1, 1, 0, 1, 1, 1, 1, ...\u003c/td\u003e\n      \u003ctd\u003e1.15\u003c/td\u003e\n      \u003ctd\u003ebb604f57a18455867544e79c2e32bf5583c358d4.flv\u003c/td\u003e\n    \u003c/tr\u003e\n    \u003ctr\u003e\n      \u003cth\u003e4\u003c/th\u003e\n      \u003ctd\u003e[0, 0, 0, 1, 0, 0, 1, 1, 1, 1, 0, 1, 1, 1, 1, ...\u003c/td\u003e\n      \u003ctd\u003e1.45\u003c/td\u003e\n      \u003ctd\u003ebb604f57a18455867544e79c2e32bf5583c358d4.flv\u003c/td\u003e\n    \u003c/tr\u003e\n  \u003c/tbody\u003e\n\u003c/table\u003e\n\u003c/div\u003e"
          },
          "metadata": {},
          "output_type": "execute_result",
          "execution_count": 30
        }
      ],
      "source": "def list_converter(text):\n    return eval(text.replace(\u0027 \u0027, \u0027,\u0027))\n\nsource_df \u003d pd.read_csv(SOURCE_DATASET, converters\u003d{\"feature\": list_converter})\nsource_df.head()",
      "metadata": {
        "pycharm": {
          "metadata": false,
          "name": "#%%\n",
          "is_executing": false
        }
      }
    },
    {
      "cell_type": "code",
      "execution_count": 31,
      "outputs": [
        {
          "data": {
            "text/plain": "array([[0, 0, 0, ..., 0, 0, 0],\n       [0, 0, 0, ..., 0, 0, 0],\n       [0, 0, 0, ..., 0, 0, 0],\n       ...,\n       [0, 1, 0, ..., 0, 0, 0],\n       [0, 1, 0, ..., 0, 0, 0],\n       [0, 1, 0, ..., 0, 0, 0]])"
          },
          "metadata": {},
          "output_type": "execute_result",
          "execution_count": 31
        }
      ],
      "source": "frame_times \u003d source_df[\u0027ts\u0027]\nlabels \u003d source_df.id.values\nframe_vectors \u003d np.vstack(source_df[\u0027feature\u0027].values)\nframe_vectors",
      "metadata": {
        "pycharm": {
          "metadata": false,
          "name": "#%%\n",
          "is_executing": false
        }
      }
    },
    {
      "cell_type": "code",
      "execution_count": 32,
      "outputs": [],
      "source": "searcher \u003d FaissRhashVideoSearcher(frame_vectors, labels, frame_times)\n",
      "metadata": {
        "pycharm": {
          "metadata": false,
          "name": "#%%\n",
          "is_executing": false
        }
      }
    },
    {
      "cell_type": "code",
      "execution_count": 33,
      "outputs": [
        {
          "data": {
            "text/plain": "                                             feature   ts  \\\n0  [1, 0, 0, 1, 1, 1, 0, 1, 1, 0, 0, 1, 1, 1, 0, ...  0.4   \n1  [1, 0, 0, 0, 1, 1, 0, 1, 1, 1, 0, 0, 1, 1, 1, ...  1.0   \n2  [1, 1, 1, 1, 1, 0, 1, 1, 1, 0, 0, 0, 1, 1, 1, ...  1.6   \n3  [0, 1, 1, 1, 1, 0, 1, 1, 1, 0, 0, 1, 1, 1, 1, ...  2.2   \n4  [0, 1, 1, 1, 1, 0, 1, 1, 1, 0, 0, 1, 1, 1, 1, ...  2.8   \n\n                                             id  \n0  3504e360accbaccb1580befbb441f1019664c2bb.mp4  \n1  3504e360accbaccb1580befbb441f1019664c2bb.mp4  \n2  3504e360accbaccb1580befbb441f1019664c2bb.mp4  \n3  3504e360accbaccb1580befbb441f1019664c2bb.mp4  \n4  3504e360accbaccb1580befbb441f1019664c2bb.mp4  ",
            "text/html": "\u003cdiv\u003e\n\u003cstyle scoped\u003e\n    .dataframe tbody tr th:only-of-type {\n        vertical-align: middle;\n    }\n\n    .dataframe tbody tr th {\n        vertical-align: top;\n    }\n\n    .dataframe thead th {\n        text-align: right;\n    }\n\u003c/style\u003e\n\u003ctable border\u003d\"1\" class\u003d\"dataframe\"\u003e\n  \u003cthead\u003e\n    \u003ctr style\u003d\"text-align: right;\"\u003e\n      \u003cth\u003e\u003c/th\u003e\n      \u003cth\u003efeature\u003c/th\u003e\n      \u003cth\u003ets\u003c/th\u003e\n      \u003cth\u003eid\u003c/th\u003e\n    \u003c/tr\u003e\n  \u003c/thead\u003e\n  \u003ctbody\u003e\n    \u003ctr\u003e\n      \u003cth\u003e0\u003c/th\u003e\n      \u003ctd\u003e[1, 0, 0, 1, 1, 1, 0, 1, 1, 0, 0, 1, 1, 1, 0, ...\u003c/td\u003e\n      \u003ctd\u003e0.4\u003c/td\u003e\n      \u003ctd\u003e3504e360accbaccb1580befbb441f1019664c2bb.mp4\u003c/td\u003e\n    \u003c/tr\u003e\n    \u003ctr\u003e\n      \u003cth\u003e1\u003c/th\u003e\n      \u003ctd\u003e[1, 0, 0, 0, 1, 1, 0, 1, 1, 1, 0, 0, 1, 1, 1, ...\u003c/td\u003e\n      \u003ctd\u003e1.0\u003c/td\u003e\n      \u003ctd\u003e3504e360accbaccb1580befbb441f1019664c2bb.mp4\u003c/td\u003e\n    \u003c/tr\u003e\n    \u003ctr\u003e\n      \u003cth\u003e2\u003c/th\u003e\n      \u003ctd\u003e[1, 1, 1, 1, 1, 0, 1, 1, 1, 0, 0, 0, 1, 1, 1, ...\u003c/td\u003e\n      \u003ctd\u003e1.6\u003c/td\u003e\n      \u003ctd\u003e3504e360accbaccb1580befbb441f1019664c2bb.mp4\u003c/td\u003e\n    \u003c/tr\u003e\n    \u003ctr\u003e\n      \u003cth\u003e3\u003c/th\u003e\n      \u003ctd\u003e[0, 1, 1, 1, 1, 0, 1, 1, 1, 0, 0, 1, 1, 1, 1, ...\u003c/td\u003e\n      \u003ctd\u003e2.2\u003c/td\u003e\n      \u003ctd\u003e3504e360accbaccb1580befbb441f1019664c2bb.mp4\u003c/td\u003e\n    \u003c/tr\u003e\n    \u003ctr\u003e\n      \u003cth\u003e4\u003c/th\u003e\n      \u003ctd\u003e[0, 1, 1, 1, 1, 0, 1, 1, 1, 0, 0, 1, 1, 1, 1, ...\u003c/td\u003e\n      \u003ctd\u003e2.8\u003c/td\u003e\n      \u003ctd\u003e3504e360accbaccb1580befbb441f1019664c2bb.mp4\u003c/td\u003e\n    \u003c/tr\u003e\n  \u003c/tbody\u003e\n\u003c/table\u003e\n\u003c/div\u003e"
          },
          "metadata": {},
          "output_type": "execute_result",
          "execution_count": 33
        }
      ],
      "source": "query_df \u003d pd.read_csv(QUERY_DATASET, converters\u003d{\"feature\": list_converter})\nquery_df.head()",
      "metadata": {
        "pycharm": {
          "metadata": false,
          "name": "#%%\n",
          "is_executing": false
        }
      }
    },
    {
      "cell_type": "code",
      "execution_count": 34,
      "outputs": [
        {
          "data": {
            "text/plain": "519"
          },
          "metadata": {},
          "output_type": "execute_result",
          "execution_count": 34
        }
      ],
      "source": "query_ids \u003d query_df.id.unique()\nlen(query_ids)",
      "metadata": {
        "pycharm": {
          "metadata": false,
          "name": "#%%\n",
          "is_executing": false
        }
      }
    },
    {
      "cell_type": "code",
      "execution_count": 44,
      "outputs": [],
      "source": "searcher.dist_threshold \u003d 20",
      "metadata": {
        "pycharm": {
          "metadata": false,
          "name": "#%%\n",
          "is_executing": false
        }
      }
    },
    {
      "cell_type": "code",
      "execution_count": 37,
      "outputs": [
        {
          "name": "stdout",
          "text": [
            "0\n",
            "50\n",
            "100\n",
            "150\n",
            "200\n",
            "250\n",
            "300\n",
            "350\n",
            "400\n",
            "450\n",
            "500\n",
            "                                              precision    recall  f1-score   support\n\n098df9c477ecf6c4f3818b198490b0258163015d.flv       1.00      0.18      0.31        11\n127dab55025984673f65d3a23b1fea99ecc79b15.mp4       0.00      0.00      0.00        26\n3499b9fd4316131ebf0f5d9bbecf6f3f8600c4fb.flv       1.00      0.18      0.31        11\n3df02ec5ddb74647d8fb96f08adba8e152050ef9.flv       0.88      1.00      0.93         7\n410ba1c253fb8d4a8ba6e59aa9e39d39cb3b245b.flv       1.00      0.33      0.50         6\n46f2e964ae16f5c27fad70d6849c76616fad7502.flv       0.00      0.00      0.00         4\n97c71f57e83f6ab16906fdd7edc8e3f88d2ceee1.flv       0.50      0.04      0.08        24\nbb604f57a18455867544e79c2e32bf5583c358d4.flv       0.00      0.00      0.00        10\nd2015b438b70f022967713d6f977ebc67a16839e.flv       0.00      0.00      0.00         7\n                                        miss       0.82      0.99      0.90       413\n\n                                   micro avg       0.82      0.82      0.82       519\n                                   macro avg       0.52      0.27      0.30       519\n                                weighted avg       0.74      0.82      0.75       519\n\n"
          ],
          "output_type": "stream"
        }
      ],
      "source": "true_labels \u003d []\npredictions \u003d []\nfor i, query_id in enumerate(query_ids):\n    tdf \u003d query_df[query_df.id \u003d\u003d query_id]\n    true_label \u003d vcdb_lut.ix[query_id].source_id\n    true_labels.append(\u0027miss\u0027 if true_label !\u003d true_label else true_label)\n    query_vectors \u003d np.vstack(tdf[\u0027feature\u0027].values)\n    prediction \u003d searcher.lookup(query_vectors, conf_threshold\u003d0.7)\n    predicted_label \u003d prediction[0][0] if prediction else \u0027miss\u0027\n    predictions.append(predicted_label)\n    \n    if i % 50 \u003d\u003d 0:\n        print(i)\nprint(classification_report(true_labels, predictions))",
      "metadata": {
        "pycharm": {
          "metadata": false,
          "name": "#%%\n",
          "is_executing": false
        }
      }
    },
    {
      "cell_type": "code",
      "execution_count": 38,
      "outputs": [
        {
          "name": "stdout",
          "text": [
            "0\n",
            "50\n",
            "100\n",
            "150\n",
            "200\n",
            "250\n",
            "300\n",
            "350\n",
            "400\n",
            "450\n",
            "500\n",
            "                                              precision    recall  f1-score   support\n\n098df9c477ecf6c4f3818b198490b0258163015d.flv       0.33      0.09      0.14        11\n127dab55025984673f65d3a23b1fea99ecc79b15.mp4       0.21      0.69      0.32        26\n3499b9fd4316131ebf0f5d9bbecf6f3f8600c4fb.flv       0.40      0.18      0.25        11\n3df02ec5ddb74647d8fb96f08adba8e152050ef9.flv       0.88      1.00      0.93         7\n410ba1c253fb8d4a8ba6e59aa9e39d39cb3b245b.flv       1.00      0.33      0.50         6\n46f2e964ae16f5c27fad70d6849c76616fad7502.flv       0.00      0.00      0.00         4\n97c71f57e83f6ab16906fdd7edc8e3f88d2ceee1.flv       0.15      0.12      0.14        24\nbb604f57a18455867544e79c2e32bf5583c358d4.flv       0.00      0.00      0.00        10\nd2015b438b70f022967713d6f977ebc67a16839e.flv       0.00      0.00      0.00         7\n                                        miss       0.86      0.80      0.83       413\n\n                                   micro avg       0.70      0.70      0.70       519\n                                   macro avg       0.38      0.32      0.31       519\n                                weighted avg       0.74      0.70      0.71       519\n\n"
          ],
          "output_type": "stream"
        }
      ],
      "source": "true_labels \u003d []\npredictions \u003d []\nfor i, query_id in enumerate(query_ids):\n    tdf \u003d query_df[query_df.id \u003d\u003d query_id]\n    true_label \u003d vcdb_lut.ix[query_id].source_id\n    true_labels.append(\u0027miss\u0027 if true_label is np.NaN else true_label)\n    query_vectors \u003d np.vstack(tdf[\u0027feature\u0027].values)\n    prediction \u003d searcher.lookup_sequence(query_vectors)\n    prediction \u003d prediction[0] if prediction else None\n    predicted_label \u003d prediction[\u0027label\u0027] if prediction else \u0027miss\u0027\n    predictions.append(predicted_label)\n    \n    if i % 50 \u003d\u003d 0:\n        print(i)\nprint(classification_report(true_labels, predictions))",
      "metadata": {
        "pycharm": {
          "metadata": false,
          "name": "#%%\n",
          "is_executing": false
        }
      }
    },
    {
      "cell_type": "code",
      "execution_count": 49,
      "outputs": [
        {
          "name": "stdout",
          "text": [
            "0\n",
            "50\n",
            "100\n",
            "150\n",
            "200\n",
            "250\n",
            "300\n",
            "350\n",
            "400\n",
            "450\n",
            "500\n",
            "                                              precision    recall  f1-score   support\n\n098df9c477ecf6c4f3818b198490b0258163015d.flv       0.33      0.18      0.24        11\n127dab55025984673f65d3a23b1fea99ecc79b15.mp4       0.35      0.88      0.51        26\n3499b9fd4316131ebf0f5d9bbecf6f3f8600c4fb.flv       1.00      0.18      0.31        11\n3df02ec5ddb74647d8fb96f08adba8e152050ef9.flv       0.58      1.00      0.74         7\n410ba1c253fb8d4a8ba6e59aa9e39d39cb3b245b.flv       1.00      0.67      0.80         6\n46f2e964ae16f5c27fad70d6849c76616fad7502.flv       0.00      0.00      0.00         4\n97c71f57e83f6ab16906fdd7edc8e3f88d2ceee1.flv       0.06      0.25      0.10        24\nbb604f57a18455867544e79c2e32bf5583c358d4.flv       0.00      0.00      0.00        10\nd2015b438b70f022967713d6f977ebc67a16839e.flv       0.00      0.00      0.00         7\n                                        miss       0.86      0.67      0.75       413\n\n                                   micro avg       0.61      0.61      0.61       519\n                                   macro avg       0.42      0.38      0.34       519\n                                weighted avg       0.76      0.61      0.66       519\n\n"
          ],
          "output_type": "stream"
        }
      ],
      "source": "# Majority vote\ntrue_labels \u003d []\npredictions \u003d []\nfor i, query_id in enumerate(query_ids):\n    tdf \u003d query_df[query_df.id \u003d\u003d query_id]\n    true_label \u003d vcdb_lut.ix[query_id].source_id\n    true_labels.append(\u0027miss\u0027 if true_label is np.NaN else true_label)\n    query_vectors \u003d np.vstack(tdf[\u0027feature\u0027].values)\n    prediction \u003d searcher.lookup_mv(query_vectors)\n    predicted_label \u003d prediction[0] if prediction else \u0027miss\u0027\n    predictions.append(predicted_label)\n    \n    if i % 50 \u003d\u003d 0:\n        print(i)\nprint(classification_report(true_labels, predictions))",
      "metadata": {
        "pycharm": {
          "metadata": false,
          "name": "#%%\n",
          "is_executing": false
        }
      }
    },
    {
      "cell_type": "code",
      "execution_count": 97,
      "outputs": [],
      "source": "",
      "metadata": {
        "pycharm": {
          "metadata": false,
          "name": "#%%\n",
          "is_executing": false
        }
      }
    },
    {
      "cell_type": "code",
      "execution_count": 48,
      "outputs": [
        {
          "data": {
            "text/plain": "[\u0027m\u0027,\n \u0027m\u0027,\n \u0027m\u0027,\n \u0027m\u0027,\n \u0027m\u0027,\n \u00271\u0027,\n \u0027m\u0027,\n \u0027m\u0027,\n \u0027m\u0027,\n \u0027m\u0027,\n \u00271\u0027,\n \u00273\u0027,\n \u00271\u0027,\n \u00271\u0027,\n \u00279\u0027,\n \u00279\u0027,\n \u0027m\u0027,\n \u00279\u0027,\n \u0027m\u0027,\n \u0027m\u0027,\n \u0027m\u0027,\n \u00279\u0027,\n \u00279\u0027,\n \u0027m\u0027,\n \u0027m\u0027,\n \u0027m\u0027,\n \u0027m\u0027,\n \u0027m\u0027,\n \u0027m\u0027,\n \u0027m\u0027,\n \u0027m\u0027,\n \u0027m\u0027,\n \u0027m\u0027,\n \u0027m\u0027,\n \u0027m\u0027,\n \u00279\u0027,\n \u0027m\u0027,\n \u0027m\u0027,\n \u00271\u0027,\n \u00274\u0027,\n \u00274\u0027,\n \u00274\u0027,\n \u0027m\u0027,\n \u00274\u0027,\n \u0027m\u0027,\n \u00279\u0027,\n \u00279\u0027,\n \u00279\u0027,\n \u00270\u0027,\n \u00270\u0027,\n \u0027m\u0027,\n \u0027m\u0027,\n \u0027m\u0027,\n \u0027m\u0027,\n \u0027m\u0027,\n \u00273\u0027,\n \u00273\u0027,\n \u00273\u0027,\n \u00273\u0027,\n \u00273\u0027,\n \u00273\u0027,\n \u00273\u0027,\n \u0027m\u0027,\n \u00271\u0027,\n \u0027m\u0027,\n \u0027m\u0027,\n \u00279\u0027,\n \u0027m\u0027,\n \u0027m\u0027,\n \u00271\u0027,\n \u00271\u0027,\n \u00271\u0027,\n \u00271\u0027,\n \u00271\u0027,\n \u00271\u0027,\n \u00271\u0027,\n \u00271\u0027,\n \u00271\u0027,\n \u00271\u0027,\n \u00279\u0027,\n \u00271\u0027,\n \u00271\u0027,\n \u00271\u0027,\n \u0027m\u0027,\n \u00271\u0027,\n \u00271\u0027,\n \u00271\u0027,\n \u00271\u0027,\n \u00271\u0027,\n \u00271\u0027,\n \u00271\u0027,\n \u00271\u0027,\n \u00271\u0027,\n \u00271\u0027,\n \u0027m\u0027,\n \u00279\u0027,\n \u0027m\u0027,\n \u00279\u0027,\n \u00279\u0027,\n \u00273\u0027,\n \u00279\u0027,\n \u00273\u0027,\n \u00279\u0027,\n \u0027m\u0027,\n \u00279\u0027,\n \u00279\u0027,\n \u00279\u0027,\n \u00271\u0027,\n \u00271\u0027,\n \u00271\u0027,\n \u0027m\u0027,\n \u00271\u0027,\n \u00271\u0027,\n \u00271\u0027,\n \u00271\u0027,\n \u00271\u0027,\n \u00279\u0027,\n \u00279\u0027,\n \u00271\u0027,\n \u00279\u0027,\n \u0027m\u0027,\n \u0027m\u0027,\n \u00279\u0027,\n \u0027m\u0027,\n \u0027m\u0027,\n \u00279\u0027,\n \u0027m\u0027,\n \u0027m\u0027,\n \u00271\u0027,\n \u0027m\u0027,\n \u0027m\u0027,\n \u0027m\u0027,\n \u0027m\u0027,\n \u0027m\u0027,\n \u0027m\u0027,\n \u0027m\u0027,\n \u00279\u0027,\n \u0027m\u0027,\n \u0027m\u0027,\n \u0027m\u0027,\n \u0027m\u0027,\n \u0027d\u0027,\n \u00271\u0027,\n \u0027d\u0027,\n \u00270\u0027,\n \u0027m\u0027,\n \u00279\u0027,\n \u0027d\u0027,\n \u0027d\u0027,\n \u0027d\u0027,\n \u0027m\u0027,\n \u0027d\u0027,\n \u0027m\u0027,\n \u0027m\u0027,\n \u0027d\u0027,\n \u0027m\u0027,\n \u0027d\u0027,\n \u00270\u0027,\n \u0027m\u0027,\n \u0027m\u0027,\n \u0027m\u0027,\n \u0027m\u0027,\n \u0027d\u0027,\n \u0027d\u0027,\n \u00271\u0027,\n \u0027m\u0027,\n \u0027d\u0027,\n \u0027m\u0027,\n \u0027m\u0027,\n \u0027m\u0027,\n \u0027m\u0027,\n \u00271\u0027,\n \u0027m\u0027,\n \u0027m\u0027,\n \u0027m\u0027,\n \u00279\u0027,\n \u00279\u0027,\n \u00279\u0027,\n \u00271\u0027,\n \u0027m\u0027,\n \u0027m\u0027,\n \u0027m\u0027,\n \u0027m\u0027,\n \u0027m\u0027,\n \u0027m\u0027,\n \u00279\u0027,\n \u0027m\u0027,\n \u00279\u0027,\n \u0027m\u0027,\n \u0027d\u0027,\n \u0027m\u0027,\n \u00279\u0027,\n \u00279\u0027,\n \u0027m\u0027,\n \u0027m\u0027,\n \u0027m\u0027,\n \u00271\u0027,\n \u00279\u0027,\n \u0027m\u0027,\n \u0027m\u0027,\n \u0027m\u0027,\n \u00271\u0027,\n \u0027m\u0027,\n \u0027m\u0027,\n \u0027m\u0027,\n \u0027d\u0027,\n \u00271\u0027,\n \u00279\u0027,\n \u0027m\u0027,\n \u00279\u0027,\n \u0027m\u0027,\n \u0027m\u0027,\n \u00279\u0027,\n \u00271\u0027,\n \u00271\u0027,\n \u0027m\u0027,\n \u00273\u0027,\n \u0027m\u0027,\n \u0027m\u0027,\n \u0027m\u0027,\n \u0027m\u0027,\n \u0027m\u0027,\n \u00279\u0027,\n \u0027m\u0027,\n \u00271\u0027,\n \u0027m\u0027,\n \u0027m\u0027,\n \u00273\u0027,\n \u0027m\u0027,\n \u0027m\u0027,\n \u0027m\u0027,\n \u0027m\u0027,\n \u00279\u0027,\n \u0027m\u0027,\n \u0027m\u0027,\n \u0027m\u0027,\n \u0027m\u0027,\n \u0027m\u0027,\n \u00273\u0027,\n \u0027m\u0027,\n \u0027m\u0027,\n \u0027m\u0027,\n \u00279\u0027,\n \u0027m\u0027,\n \u00279\u0027,\n \u0027m\u0027,\n \u0027m\u0027,\n \u0027m\u0027,\n \u0027m\u0027,\n \u00273\u0027,\n \u00279\u0027,\n \u0027m\u0027,\n \u0027m\u0027,\n \u0027m\u0027,\n \u0027m\u0027,\n \u0027m\u0027,\n \u0027m\u0027,\n \u0027m\u0027,\n \u00271\u0027,\n \u0027m\u0027,\n \u00271\u0027,\n \u0027m\u0027,\n \u0027m\u0027,\n \u0027m\u0027,\n \u0027m\u0027,\n \u0027m\u0027,\n \u0027m\u0027,\n \u0027m\u0027,\n \u0027m\u0027,\n \u0027m\u0027,\n \u0027m\u0027,\n \u0027m\u0027,\n \u0027m\u0027,\n \u0027m\u0027,\n \u00279\u0027,\n \u0027m\u0027,\n \u0027m\u0027,\n \u0027m\u0027,\n \u00279\u0027,\n \u0027m\u0027,\n \u0027m\u0027,\n \u0027m\u0027,\n \u0027m\u0027,\n \u0027m\u0027,\n \u0027m\u0027,\n \u0027m\u0027,\n \u0027m\u0027,\n \u0027m\u0027,\n \u0027m\u0027,\n \u0027m\u0027,\n \u0027m\u0027,\n \u0027m\u0027,\n \u0027m\u0027,\n \u0027m\u0027,\n \u0027m\u0027,\n \u0027m\u0027,\n \u0027m\u0027,\n \u0027m\u0027,\n \u0027m\u0027,\n \u0027m\u0027,\n \u0027m\u0027,\n \u0027m\u0027,\n \u0027m\u0027,\n \u0027m\u0027,\n \u0027m\u0027,\n \u00279\u0027,\n \u00279\u0027,\n \u00279\u0027,\n \u0027m\u0027,\n \u00279\u0027,\n \u00279\u0027,\n \u00279\u0027,\n \u00279\u0027,\n \u0027m\u0027,\n \u0027m\u0027,\n \u00279\u0027,\n \u0027m\u0027,\n \u0027m\u0027,\n \u0027m\u0027,\n \u0027m\u0027,\n \u0027m\u0027,\n \u0027m\u0027,\n \u0027m\u0027,\n \u0027m\u0027,\n \u0027m\u0027,\n \u00279\u0027,\n \u00279\u0027,\n \u0027m\u0027,\n \u0027m\u0027,\n \u0027m\u0027,\n \u0027m\u0027,\n \u0027m\u0027,\n \u00279\u0027,\n \u0027m\u0027,\n \u0027m\u0027,\n \u00279\u0027,\n \u0027m\u0027,\n \u00279\u0027,\n \u0027m\u0027,\n \u00279\u0027,\n \u0027m\u0027,\n \u00279\u0027,\n \u00279\u0027,\n \u0027m\u0027,\n \u0027m\u0027,\n \u0027m\u0027,\n \u0027m\u0027,\n \u00279\u0027,\n \u0027m\u0027,\n \u0027m\u0027,\n \u00279\u0027,\n \u0027m\u0027,\n \u0027m\u0027,\n \u00279\u0027,\n \u00270\u0027,\n \u0027m\u0027,\n \u00279\u0027,\n \u0027m\u0027,\n \u00279\u0027,\n \u0027m\u0027,\n \u0027m\u0027,\n \u0027m\u0027,\n \u0027m\u0027,\n \u0027m\u0027,\n \u0027m\u0027,\n \u0027m\u0027,\n \u0027m\u0027,\n \u0027m\u0027,\n \u0027m\u0027,\n \u0027m\u0027,\n \u00279\u0027,\n \u0027m\u0027,\n \u00279\u0027,\n \u0027m\u0027,\n \u00279\u0027,\n \u0027m\u0027,\n \u0027m\u0027,\n \u0027m\u0027,\n \u0027m\u0027,\n \u0027m\u0027,\n \u0027m\u0027,\n \u0027m\u0027,\n \u0027m\u0027,\n \u0027m\u0027,\n \u0027m\u0027,\n \u0027m\u0027,\n \u0027m\u0027,\n \u0027m\u0027,\n \u0027m\u0027,\n \u0027m\u0027,\n \u00279\u0027,\n \u00279\u0027,\n \u0027m\u0027,\n \u00279\u0027,\n \u00271\u0027,\n \u0027m\u0027,\n \u0027m\u0027,\n \u0027m\u0027,\n \u0027m\u0027,\n \u0027m\u0027,\n \u00279\u0027,\n \u0027m\u0027,\n \u00271\u0027,\n \u0027m\u0027,\n \u0027m\u0027,\n \u0027m\u0027,\n \u00279\u0027,\n \u0027m\u0027,\n \u0027m\u0027,\n \u0027m\u0027,\n \u0027m\u0027,\n \u0027m\u0027,\n \u00279\u0027,\n \u00271\u0027,\n \u0027m\u0027,\n \u00279\u0027,\n \u00279\u0027,\n \u0027m\u0027,\n \u0027m\u0027,\n \u0027m\u0027,\n \u0027m\u0027,\n \u0027m\u0027,\n \u0027m\u0027,\n \u0027m\u0027,\n \u0027m\u0027,\n \u00279\u0027,\n \u0027m\u0027,\n \u00279\u0027,\n \u00279\u0027,\n \u00279\u0027,\n \u00279\u0027,\n \u0027m\u0027,\n \u00271\u0027,\n \u00279\u0027,\n \u00271\u0027,\n \u00279\u0027,\n \u00279\u0027,\n \u0027m\u0027,\n \u00271\u0027,\n \u00271\u0027,\n \u0027m\u0027,\n \u0027m\u0027,\n \u0027m\u0027,\n \u0027m\u0027,\n \u0027m\u0027,\n \u0027m\u0027,\n \u0027m\u0027,\n \u0027m\u0027,\n \u0027m\u0027,\n \u00271\u0027,\n \u0027m\u0027,\n \u0027m\u0027,\n \u0027m\u0027,\n \u00279\u0027,\n \u0027m\u0027,\n \u00279\u0027,\n \u0027m\u0027,\n \u0027m\u0027,\n \u0027m\u0027,\n \u0027m\u0027,\n \u0027m\u0027,\n \u0027m\u0027,\n \u0027m\u0027,\n \u0027m\u0027,\n \u0027m\u0027,\n \u0027m\u0027,\n \u00271\u0027,\n \u00270\u0027,\n \u00271\u0027,\n \u0027m\u0027,\n \u0027m\u0027,\n \u0027m\u0027,\n \u0027m\u0027,\n \u0027m\u0027,\n \u00279\u0027,\n \u0027m\u0027,\n \u0027m\u0027,\n \u0027m\u0027,\n \u0027m\u0027,\n \u00271\u0027,\n \u00279\u0027,\n \u00279\u0027,\n \u0027m\u0027,\n \u0027m\u0027,\n \u00271\u0027,\n \u00279\u0027,\n \u00279\u0027,\n \u00271\u0027,\n \u0027m\u0027,\n \u0027m\u0027,\n \u0027m\u0027,\n \u00271\u0027,\n \u0027m\u0027,\n \u0027m\u0027,\n \u0027m\u0027,\n \u0027m\u0027,\n \u00279\u0027,\n \u0027m\u0027,\n \u00279\u0027,\n \u00279\u0027,\n \u00279\u0027,\n \u00279\u0027,\n \u00279\u0027,\n \u0027m\u0027,\n \u0027m\u0027,\n \u0027m\u0027,\n \u0027m\u0027,\n \u0027d\u0027,\n \u0027m\u0027,\n \u00279\u0027,\n \u0027m\u0027,\n \u0027m\u0027,\n \u0027m\u0027,\n \u0027m\u0027,\n \u0027m\u0027,\n \u0027m\u0027,\n \u0027m\u0027,\n \u0027m\u0027,\n \u0027m\u0027]"
          },
          "metadata": {},
          "output_type": "execute_result",
          "execution_count": 48
        }
      ],
      "source": "",
      "metadata": {
        "pycharm": {
          "metadata": false,
          "name": "#%%\n",
          "is_executing": false
        }
      }
    }
  ],
  "metadata": {
    "kernelspec": {
      "display_name": "Python 3",
      "language": "python",
      "name": "python3"
    }
  },
  "nbformat": 4,
  "nbformat_minor": 2
}