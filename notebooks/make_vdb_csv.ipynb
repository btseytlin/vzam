{
 "cells": [
  {
   "cell_type": "code",
   "execution_count": 23,
   "metadata": {},
   "outputs": [],
   "source": [
    "import pandas as pd\n",
    "import numpy as np\n",
    "import os"
   ]
  },
  {
   "cell_type": "code",
   "execution_count": 7,
   "metadata": {},
   "outputs": [],
   "source": [
    "fpath = 'annotation/baggio_penalty_1994.txt'"
   ]
  },
  {
   "cell_type": "code",
   "execution_count": 17,
   "metadata": {},
   "outputs": [],
   "source": [
    "df = pd.read_csv(fpath, header=None)\n",
    "df.columns = ['video A', 'video B', 'A start time', 'A end time', 'B start time', 'B end time']"
   ]
  },
  {
   "cell_type": "code",
   "execution_count": 20,
   "metadata": {},
   "outputs": [
    {
     "data": {
      "text/plain": [
       "37b31d607d31a47d347b15dae2b8aa63e57861eb.flv    20\n",
       "3504e360accbaccb1580befbb441f1019664c2bb.mp4    14\n",
       "458db5aa227ae49ceb8bc1bed5f9cf5b4bed63f2.flv    11\n",
       "5c5714c0a56fd2a96f99db2f59b0d03659d77cdf.flv    10\n",
       "67824b87c0698c499acad123b7498ae17f97bf6d.flv     9\n",
       "6d1466ebc4de7e5ddb229bde090b5c5acac15c0c.flv     9\n",
       "8084216caff6082b4e71ae4bbfe556f28a68485f.flv     7\n",
       "6d1a89c83d554fc6a5e39fcadb172a79baf140fd.mp4     6\n",
       "9423340949f55d7a089e881ccc35f23dff3fccf7.flv     3\n",
       "bb604f57a18455867544e79c2e32bf5583c358d4.flv     2\n",
       "e901a631b00f4ad0c9d161d686fac1339e1e3535.flv     1\n",
       "Name: video A, dtype: int64"
      ]
     },
     "execution_count": 20,
     "metadata": {},
     "output_type": "execute_result"
    }
   ],
   "source": [
    "df['video A'].value_counts()"
   ]
  },
  {
   "cell_type": "code",
   "execution_count": 21,
   "metadata": {},
   "outputs": [
    {
     "data": {
      "text/plain": [
       "8084216caff6082b4e71ae4bbfe556f28a68485f.flv    17\n",
       "e901a631b00f4ad0c9d161d686fac1339e1e3535.flv    13\n",
       "bb604f57a18455867544e79c2e32bf5583c358d4.flv    13\n",
       "9423340949f55d7a089e881ccc35f23dff3fccf7.flv    12\n",
       "6d1466ebc4de7e5ddb229bde090b5c5acac15c0c.flv    11\n",
       "6d1a89c83d554fc6a5e39fcadb172a79baf140fd.mp4     8\n",
       "67824b87c0698c499acad123b7498ae17f97bf6d.flv     6\n",
       "458db5aa227ae49ceb8bc1bed5f9cf5b4bed63f2.flv     4\n",
       "5c5714c0a56fd2a96f99db2f59b0d03659d77cdf.flv     4\n",
       "37b31d607d31a47d347b15dae2b8aa63e57861eb.flv     3\n",
       "3504e360accbaccb1580befbb441f1019664c2bb.mp4     1\n",
       "Name: video B, dtype: int64"
      ]
     },
     "execution_count": 21,
     "metadata": {},
     "output_type": "execute_result"
    }
   ],
   "source": [
    "df['video B'].value_counts()"
   ]
  },
  {
   "cell_type": "code",
   "execution_count": 25,
   "metadata": {},
   "outputs": [
    {
     "data": {
      "text/plain": [
       "['baggio_penalty_1994',\n",
       " 'beautiful_mind_game_theory',\n",
       " 'beckham_70_yard_goal',\n",
       " 'bill_clinton_apology_speech',\n",
       " 'bolt_beijing_100m',\n",
       " 'brazil_vs_brazil_nike_commercial_2012',\n",
       " 'david_beckham_lights_the_olympic_torch',\n",
       " 'dove_evolution_commercial',\n",
       " 'endless_love',\n",
       " 'infernal_affairs_1',\n",
       " 'kennedy_assassination_slow_motion',\n",
       " 'maradona_hand_of_god',\n",
       " 'mr_and_mrs_smith_tango',\n",
       " 'obama_kicks_door',\n",
       " 'osama_bin_laden_is_dead_obama_speech_at_white_house',\n",
       " 'president_obama_takes_oath',\n",
       " 'ronaldinho_ping_pong',\n",
       " 'run_forrest_fun',\n",
       " 'saving_private_ryan_omaha_beach',\n",
       " 'scent_of_woman_tango',\n",
       " 't-mac_13_points_in_35_seconds',\n",
       " 'the_last_samurai_last_battle',\n",
       " 'the_legend_of_1900_magic_waltz',\n",
       " 'the_pursuit_of_happyness_-_job_interview',\n",
       " 'titanic_fly_scene',\n",
       " 'tom_hanks_winning_an_oscar',\n",
       " 'troy_achilles_and_hector',\n",
       " 'zidane_headbutt']"
      ]
     },
     "execution_count": 25,
     "metadata": {},
     "output_type": "execute_result"
    }
   ],
   "source": [
    "video_names = os.listdir('core_dataset')\n",
    "video_names"
   ]
  },
  {
   "cell_type": "code",
   "execution_count": 27,
   "metadata": {},
   "outputs": [
    {
     "data": {
      "text/plain": [
       "(['baggio_penalty_1994',\n",
       "  'beautiful_mind_game_theory',\n",
       "  'beckham_70_yard_goal',\n",
       "  'bill_clinton_apology_speech',\n",
       "  'bolt_beijing_100m',\n",
       "  'brazil_vs_brazil_nike_commercial_2012',\n",
       "  'david_beckham_lights_the_olympic_torch',\n",
       "  'dove_evolution_commercial',\n",
       "  'endless_love'],\n",
       " ['infernal_affairs_1',\n",
       "  'kennedy_assassination_slow_motion',\n",
       "  'maradona_hand_of_god',\n",
       "  'mr_and_mrs_smith_tango',\n",
       "  'obama_kicks_door',\n",
       "  'osama_bin_laden_is_dead_obama_speech_at_white_house',\n",
       "  'president_obama_takes_oath',\n",
       "  'ronaldinho_ping_pong',\n",
       "  'run_forrest_fun',\n",
       "  'saving_private_ryan_omaha_beach',\n",
       "  'scent_of_woman_tango',\n",
       "  't-mac_13_points_in_35_seconds',\n",
       "  'the_last_samurai_last_battle',\n",
       "  'the_legend_of_1900_magic_waltz',\n",
       "  'the_pursuit_of_happyness_-_job_interview',\n",
       "  'titanic_fly_scene',\n",
       "  'tom_hanks_winning_an_oscar',\n",
       "  'troy_achilles_and_hector',\n",
       "  'zidane_headbutt'])"
      ]
     },
     "execution_count": 27,
     "metadata": {},
     "output_type": "execute_result"
    }
   ],
   "source": [
    "train_videos = video_names[:len(video_names)//3]\n",
    "distraction_videos = video_names[len(video_names)//3:]\n",
    "train_videos, distraction_videos"
   ]
  },
  {
   "cell_type": "code",
   "execution_count": 42,
   "metadata": {},
   "outputs": [],
   "source": [
    "# Get core videos\n",
    "core_video_paths = []\n",
    "query_video_paths = [] # (query_did, true_vid)\n",
    "for vid_name in train_videos:\n",
    "    dir_path = 'core_dataset/' + vid_name\n",
    "    files = os.listdir(dir_path)\n",
    "    fpaths = [os.path.join(dir_path, fname) for fname in files]\n",
    "    \n",
    "    fsizes = [(fpath, os.path.getsize(fpath)) for fpath in fpaths]\n",
    "    \n",
    "    largest_file = fsizes[fsizes.index(max(fsizes, key=lambda x: x[1]))]\n",
    "    \n",
    "    core_video_paths.append(largest_file[0])\n",
    "    \n",
    "    for fpath, _ in fsizes:\n",
    "        if fpath == largest_file[0]:\n",
    "            continue\n",
    "        query_video_paths.append((fpath, largest_file[0]))\n",
    "        \n",
    "for vid_name in distraction_videos:\n",
    "    dir_path = 'core_dataset/' + vid_name\n",
    "    files = os.listdir(dir_path)\n",
    "    fpaths = [os.path.join(dir_path, fname) for fname in files]\n",
    "    for fpath in fpaths:\n",
    "        query_video_paths.append((fpath, None))"
   ]
  },
  {
   "cell_type": "code",
   "execution_count": null,
   "metadata": {},
   "outputs": [],
   "source": []
  },
  {
   "cell_type": "code",
   "execution_count": 44,
   "metadata": {},
   "outputs": [
    {
     "data": {
      "text/plain": [
       "[('core_dataset/baggio_penalty_1994\\\\3504e360accbaccb1580befbb441f1019664c2bb.mp4',\n",
       "  'core_dataset/baggio_penalty_1994\\\\bb604f57a18455867544e79c2e32bf5583c358d4.flv'),\n",
       " ('core_dataset/baggio_penalty_1994\\\\37b31d607d31a47d347b15dae2b8aa63e57861eb.flv',\n",
       "  'core_dataset/baggio_penalty_1994\\\\bb604f57a18455867544e79c2e32bf5583c358d4.flv'),\n",
       " ('core_dataset/baggio_penalty_1994\\\\458db5aa227ae49ceb8bc1bed5f9cf5b4bed63f2.flv',\n",
       "  'core_dataset/baggio_penalty_1994\\\\bb604f57a18455867544e79c2e32bf5583c358d4.flv')]"
      ]
     },
     "execution_count": 44,
     "metadata": {},
     "output_type": "execute_result"
    }
   ],
   "source": [
    "query_video_paths[:3]"
   ]
  },
  {
   "cell_type": "code",
   "execution_count": 52,
   "metadata": {},
   "outputs": [
    {
     "data": {
      "text/html": [
       "<div>\n",
       "<style scoped>\n",
       "    .dataframe tbody tr th:only-of-type {\n",
       "        vertical-align: middle;\n",
       "    }\n",
       "\n",
       "    .dataframe tbody tr th {\n",
       "        vertical-align: top;\n",
       "    }\n",
       "\n",
       "    .dataframe thead th {\n",
       "        text-align: right;\n",
       "    }\n",
       "</style>\n",
       "<table border=\"1\" class=\"dataframe\">\n",
       "  <thead>\n",
       "    <tr style=\"text-align: right;\">\n",
       "      <th></th>\n",
       "      <th>query</th>\n",
       "      <th>source</th>\n",
       "      <th>source_id</th>\n",
       "    </tr>\n",
       "  </thead>\n",
       "  <tbody>\n",
       "    <tr>\n",
       "      <th>0</th>\n",
       "      <td>core_dataset/baggio_penalty_1994\\3504e360accba...</td>\n",
       "      <td>core_dataset/baggio_penalty_1994\\bb604f57a1845...</td>\n",
       "      <td>bb604f57a18455867544e79c2e32bf5583c358d4.flv</td>\n",
       "    </tr>\n",
       "    <tr>\n",
       "      <th>1</th>\n",
       "      <td>core_dataset/baggio_penalty_1994\\37b31d607d31a...</td>\n",
       "      <td>core_dataset/baggio_penalty_1994\\bb604f57a1845...</td>\n",
       "      <td>bb604f57a18455867544e79c2e32bf5583c358d4.flv</td>\n",
       "    </tr>\n",
       "    <tr>\n",
       "      <th>2</th>\n",
       "      <td>core_dataset/baggio_penalty_1994\\458db5aa227ae...</td>\n",
       "      <td>core_dataset/baggio_penalty_1994\\bb604f57a1845...</td>\n",
       "      <td>bb604f57a18455867544e79c2e32bf5583c358d4.flv</td>\n",
       "    </tr>\n",
       "    <tr>\n",
       "      <th>3</th>\n",
       "      <td>core_dataset/baggio_penalty_1994\\5c5714c0a56fd...</td>\n",
       "      <td>core_dataset/baggio_penalty_1994\\bb604f57a1845...</td>\n",
       "      <td>bb604f57a18455867544e79c2e32bf5583c358d4.flv</td>\n",
       "    </tr>\n",
       "    <tr>\n",
       "      <th>4</th>\n",
       "      <td>core_dataset/baggio_penalty_1994\\67824b87c0698...</td>\n",
       "      <td>core_dataset/baggio_penalty_1994\\bb604f57a1845...</td>\n",
       "      <td>bb604f57a18455867544e79c2e32bf5583c358d4.flv</td>\n",
       "    </tr>\n",
       "  </tbody>\n",
       "</table>\n",
       "</div>"
      ],
      "text/plain": [
       "                                               query  \\\n",
       "0  core_dataset/baggio_penalty_1994\\3504e360accba...   \n",
       "1  core_dataset/baggio_penalty_1994\\37b31d607d31a...   \n",
       "2  core_dataset/baggio_penalty_1994\\458db5aa227ae...   \n",
       "3  core_dataset/baggio_penalty_1994\\5c5714c0a56fd...   \n",
       "4  core_dataset/baggio_penalty_1994\\67824b87c0698...   \n",
       "\n",
       "                                              source  \\\n",
       "0  core_dataset/baggio_penalty_1994\\bb604f57a1845...   \n",
       "1  core_dataset/baggio_penalty_1994\\bb604f57a1845...   \n",
       "2  core_dataset/baggio_penalty_1994\\bb604f57a1845...   \n",
       "3  core_dataset/baggio_penalty_1994\\bb604f57a1845...   \n",
       "4  core_dataset/baggio_penalty_1994\\bb604f57a1845...   \n",
       "\n",
       "                                      source_id  \n",
       "0  bb604f57a18455867544e79c2e32bf5583c358d4.flv  \n",
       "1  bb604f57a18455867544e79c2e32bf5583c358d4.flv  \n",
       "2  bb604f57a18455867544e79c2e32bf5583c358d4.flv  \n",
       "3  bb604f57a18455867544e79c2e32bf5583c358d4.flv  \n",
       "4  bb604f57a18455867544e79c2e32bf5583c358d4.flv  "
      ]
     },
     "execution_count": 52,
     "metadata": {},
     "output_type": "execute_result"
    }
   ],
   "source": [
    "df = pd.DataFrame(query_video_paths, columns=['query', 'source'])\n",
    "df['source_id'] = df.source.apply(lambda x: os.path.basename(x) if x else None)\n",
    "df.head()"
   ]
  },
  {
   "cell_type": "code",
   "execution_count": 53,
   "metadata": {},
   "outputs": [
    {
     "data": {
      "text/plain": [
       "(519, 3)"
      ]
     },
     "execution_count": 53,
     "metadata": {},
     "output_type": "execute_result"
    }
   ],
   "source": [
    "df.shape"
   ]
  },
  {
   "cell_type": "code",
   "execution_count": 54,
   "metadata": {},
   "outputs": [],
   "source": [
    "df.to_csv('vcdb.csv', index=False)"
   ]
  }
 ],
 "metadata": {
  "kernelspec": {
   "display_name": "Python 3",
   "language": "python",
   "name": "python3"
  },
  "language_info": {
   "codemirror_mode": {
    "name": "ipython",
    "version": 3
   },
   "file_extension": ".py",
   "mimetype": "text/x-python",
   "name": "python",
   "nbconvert_exporter": "python",
   "pygments_lexer": "ipython3",
   "version": "3.7.3"
  }
 },
 "nbformat": 4,
 "nbformat_minor": 2
}
