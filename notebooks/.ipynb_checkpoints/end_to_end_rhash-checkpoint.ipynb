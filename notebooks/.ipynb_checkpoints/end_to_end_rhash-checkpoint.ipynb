{
 "cells": [
  {
   "cell_type": "code",
   "execution_count": 13,
   "metadata": {
    "pycharm": {
     "is_executing": false
    }
   },
   "outputs": [],
   "source": [
    "import cv2\n",
    "import faiss\n",
    "import os\n",
    "import numpy as np\n",
    "import pandas as pd\n",
    "import scipy\n",
    "from scipy.spatial.distance import cosine\n",
    "import random\n",
    "from sklearn.metrics import classification_report, accuracy_score\n",
    "import seaborn as sns\n",
    "%matplotlib inline\n",
    "sns.set_style('white')"
   ]
  },
  {
   "cell_type": "code",
   "execution_count": 20,
   "metadata": {},
   "outputs": [
    {
     "data": {
      "text/plain": [
       "'/home/boris/study/курсовой/vzam/notebooks'"
      ]
     },
     "execution_count": 20,
     "metadata": {},
     "output_type": "execute_result"
    }
   ],
   "source": []
  },
  {
   "cell_type": "code",
   "execution_count": 14,
   "metadata": {
    "pycharm": {
     "is_executing": false,
     "metadata": false,
     "name": "#%%\n"
    }
   },
   "outputs": [],
   "source": [
    "# from vzam import *"
   ]
  },
  {
   "cell_type": "code",
   "execution_count": 21,
   "metadata": {
    "pycharm": {
     "is_executing": false,
     "metadata": false,
     "name": "#%%\n"
    }
   },
   "outputs": [],
   "source": [
    "TMP_DIR = '../tmp'\n",
    "FRAMES_DIR = '../tmp/frames'\n",
    "TRAIN_VIDEOS_DIR = '../data/train_videos'\n",
    "TEST_VIDEOS_DIR = '../data/test_videos'"
   ]
  },
  {
   "cell_type": "code",
   "execution_count": 22,
   "metadata": {
    "pycharm": {
     "is_executing": false,
     "metadata": false,
     "name": "#%%\n"
    }
   },
   "outputs": [
    {
     "ename": "FileNotFoundError",
     "evalue": "[Errno 2] No such file or directory: '..data/train_videos'",
     "output_type": "error",
     "traceback": [
      "\u001b[0;31m---------------------------------------------------------------------------\u001b[0m",
      "\u001b[0;31mFileNotFoundError\u001b[0m                         Traceback (most recent call last)",
      "\u001b[0;32m<ipython-input-22-7bfdb64ba2ca>\u001b[0m in \u001b[0;36m<module>\u001b[0;34m\u001b[0m\n\u001b[0;32m----> 1\u001b[0;31m \u001b[0mfpaths\u001b[0m \u001b[0;34m=\u001b[0m \u001b[0;34m[\u001b[0m\u001b[0mos\u001b[0m\u001b[0;34m.\u001b[0m\u001b[0mpath\u001b[0m\u001b[0;34m.\u001b[0m\u001b[0mjoin\u001b[0m\u001b[0;34m(\u001b[0m\u001b[0mTRAIN_VIDEOS_DIR\u001b[0m\u001b[0;34m,\u001b[0m \u001b[0mfname\u001b[0m\u001b[0;34m)\u001b[0m \u001b[0;32mfor\u001b[0m \u001b[0mfname\u001b[0m \u001b[0;32min\u001b[0m \u001b[0mos\u001b[0m\u001b[0;34m.\u001b[0m\u001b[0mlistdir\u001b[0m\u001b[0;34m(\u001b[0m\u001b[0mTRAIN_VIDEOS_DIR\u001b[0m\u001b[0;34m)\u001b[0m\u001b[0;34m]\u001b[0m\u001b[0;34m\u001b[0m\u001b[0;34m\u001b[0m\u001b[0m\n\u001b[0m",
      "\u001b[0;31mFileNotFoundError\u001b[0m: [Errno 2] No such file or directory: '..data/train_videos'"
     ]
    }
   ],
   "source": [
    "fpaths = [os.path.join(TRAIN_VIDEOS_DIR, fname) for fname in os.listdir(TRAIN_VIDEOS_DIR)]"
   ]
  },
  {
   "cell_type": "code",
   "execution_count": 17,
   "metadata": {
    "pycharm": {
     "is_executing": false,
     "metadata": false,
     "name": "#%%\n"
    }
   },
   "outputs": [
    {
     "ename": "FileNotFoundError",
     "evalue": "[Errno 2] No such file or directory: 'data/train_videos'",
     "output_type": "error",
     "traceback": [
      "\u001b[0;31m---------------------------------------------------------------------------\u001b[0m",
      "\u001b[0;31mFileNotFoundError\u001b[0m                         Traceback (most recent call last)",
      "\u001b[0;32m<ipython-input-17-bac3a358d6f7>\u001b[0m in \u001b[0;36m<module>\u001b[0;34m\u001b[0m\n\u001b[0;32m----> 1\u001b[0;31m \u001b[0mprocessed_paths\u001b[0m \u001b[0;34m=\u001b[0m \u001b[0;34m[\u001b[0m\u001b[0mos\u001b[0m\u001b[0;34m.\u001b[0m\u001b[0mpath\u001b[0m\u001b[0;34m.\u001b[0m\u001b[0mjoin\u001b[0m\u001b[0;34m(\u001b[0m\u001b[0mTMP_DIR\u001b[0m\u001b[0;34m,\u001b[0m \u001b[0mfname\u001b[0m\u001b[0;34m)\u001b[0m \u001b[0;32mfor\u001b[0m \u001b[0mfname\u001b[0m \u001b[0;32min\u001b[0m \u001b[0mos\u001b[0m\u001b[0;34m.\u001b[0m\u001b[0mlistdir\u001b[0m\u001b[0;34m(\u001b[0m\u001b[0mTRAIN_VIDEOS_DIR\u001b[0m\u001b[0;34m)\u001b[0m\u001b[0;34m]\u001b[0m\u001b[0;34m\u001b[0m\u001b[0;34m\u001b[0m\u001b[0m\n\u001b[0m",
      "\u001b[0;31mFileNotFoundError\u001b[0m: [Errno 2] No such file or directory: 'data/train_videos'"
     ]
    }
   ],
   "source": [
    "processed_paths = [os.path.join(TMP_DIR, fname) for fname in os.listdir(TRAIN_VIDEOS_DIR)]"
   ]
  },
  {
   "cell_type": "code",
   "execution_count": 9,
   "metadata": {
    "pycharm": {
     "is_executing": false,
     "metadata": false,
     "name": "#%%\n"
    }
   },
   "outputs": [],
   "source": [
    "# for source, processed in zip(fpaths, processed_paths):\n",
    "#     try:\n",
    "#         preprocess_video(source, processed, resize=(256, 256), target_framerate=10)\n",
    "#     except Exception as e:\n",
    "#         print(e)\n",
    "#     print(source)"
   ]
  },
  {
   "cell_type": "code",
   "execution_count": 10,
   "metadata": {
    "pycharm": {
     "is_executing": false,
     "metadata": false,
     "name": "#%%\n"
    }
   },
   "outputs": [
    {
     "data": {
      "text/plain": [
       "['tmp/1948 - So Dear to My Heart.mp4',\n",
       " 'tmp/1928 - Mickey Mouse -  Steamboat Willie.mp4',\n",
       " 'tmp/1947 - Fun and Fancy Free.avi',\n",
       " 'tmp/1929 - Mickey Mouse - Plane Crazy.avi',\n",
       " 'tmp/1949 - The Adventures Of Ichabod And Mr. Toad.m4v']"
      ]
     },
     "execution_count": 10,
     "metadata": {},
     "output_type": "execute_result"
    }
   ],
   "source": [
    "processed_paths"
   ]
  },
  {
   "cell_type": "code",
   "execution_count": 42,
   "metadata": {
    "pycharm": {
     "is_executing": false,
     "metadata": false,
     "name": "#%%\n"
    }
   },
   "outputs": [],
   "source": [
    "\n",
    "def rHash(image, hash_size=64):# words=12, bits=9):\n",
    "    image = np.asarray(image)\n",
    "    \n",
    "    n_blocks_w = np.sqrt(hash_size)\n",
    "    n_blocks_h = np.sqrt(hash_size)\n",
    "    \n",
    "    block_width = int(len(image)//n_blocks_w)\n",
    "    block_height = int(len(image)//n_blocks_h)\n",
    "    \n",
    "    assert image.shape[0] % n_blocks_w == 0\n",
    "    assert image.shape[1] % n_blocks_h == 0\n",
    "    \n",
    "    block_means = []\n",
    "    for i in range(0, len(image), block_height):\n",
    "        for j in range(0, image.shape[1], block_width):\n",
    "            mean = np.mean(image[i:i+block_height,j:j+block_width])\n",
    "            block_means.append(mean)\n",
    "    fingerprint = np.array(block_means) >= np.median(block_means)\n",
    "    return fingerprint\n",
    "\n",
    "def extract_tiri_rhashes(video_fpath,\n",
    "                 buffer_size=20,\n",
    "                 gamma=1.65):\n",
    "    \"\"\"\n",
    "    :param video_fpath: str, path to video file\n",
    "    :param buffer_size: int, amount of images to average\n",
    "    :param gamma: float, exponential weighting parameter\n",
    "    :return:\n",
    "    \"\"\"\n",
    "    container = av.open(video_fpath)\n",
    "\n",
    "    stream = container.streams.video[0]\n",
    "    frame_idx = 0\n",
    "    rhashes = []\n",
    "    timestamps = []\n",
    "\n",
    "    buffer_images = []\n",
    "    for frame in container.decode(stream):\n",
    "        frame_idx+=1\n",
    "        if frame_idx % 2 == 0:\n",
    "            continue\n",
    "\n",
    "        img = np.array(frame.to_image().convert('L')) / 256\n",
    "        buffer_images.append(img)\n",
    "        \n",
    "        if len(buffer_images) == buffer_size:\n",
    "            tiri = exponentially_weighted_average(buffer_images, gamma)\n",
    "            rhashes.append(rHash(tiri))\n",
    "            timestamps.append(round(frame.time,3))\n",
    "            buffer_images = []\n",
    "            # \n",
    "            # plt.title('last frame')\n",
    "            # plt.imshow(img, cmap='gray', vmax=1, vmin=0)\n",
    "            # plt.show()\n",
    "            # \n",
    "            # plt.title('tiri')\n",
    "            # plt.imshow(tiri, cmap='gray', vmax=1, vmin=0)\n",
    "            # plt.show()\n",
    "            # \n",
    "        if frame_idx % 10000 == 0:\n",
    "            print('Frame', frame_idx)\n",
    "        if frame_idx > 10000:\n",
    "            break\n",
    "    return rhashes, timestamps\n",
    "\n",
    "def get_rhash_df(fpaths):\n",
    "    columns = ['feature', 'ts', 'id']\n",
    "    rows = []\n",
    "    df = None\n",
    "    for video_path in fpaths:\n",
    "        video_rhashes, video_timestamps = extract_tiri_rhashes(video_path)\n",
    "        video_id = os.path.basename(video_path)\n",
    "        \n",
    "        video_df = pd.DataFrame({'feature': video_rhashes, 'ts': video_timestamps})\n",
    "        video_df['id'] = video_id\n",
    "        if not df:\n",
    "            df = video_df\n",
    "        else:\n",
    "            df = pd.concat([df, video_df], axis=0,  ignore_index=True)\n",
    "    return df"
   ]
  },
  {
   "cell_type": "code",
   "execution_count": 41,
   "metadata": {
    "pycharm": {
     "is_executing": false,
     "metadata": false,
     "name": "#%%\n"
    }
   },
   "outputs": [
    {
     "ename": "KeyboardInterrupt",
     "evalue": "",
     "output_type": "error",
     "traceback": [
      "\u001b[0;31m---------------------------------------------------------------------------\u001b[0m",
      "\u001b[0;31mKeyboardInterrupt\u001b[0m                         Traceback (most recent call last)",
      "\u001b[0;32m<ipython-input-41-e1d6b2c72f5a>\u001b[0m in \u001b[0;36m<module>\u001b[0;34m\u001b[0m\n\u001b[0;32m----> 1\u001b[0;31m \u001b[0mtrain_df\u001b[0m \u001b[0;34m=\u001b[0m \u001b[0mget_rhash_df\u001b[0m\u001b[0;34m(\u001b[0m\u001b[0;34m[\u001b[0m\u001b[0mprocessed_paths\u001b[0m\u001b[0;34m[\u001b[0m\u001b[0;36m0\u001b[0m\u001b[0;34m]\u001b[0m\u001b[0;34m]\u001b[0m\u001b[0;34m)\u001b[0m\u001b[0;34m\u001b[0m\u001b[0;34m\u001b[0m\u001b[0m\n\u001b[0m",
      "\u001b[0;32m<ipython-input-40-d7883f86cf83>\u001b[0m in \u001b[0;36mget_rhash_df\u001b[0;34m(fpaths)\u001b[0m\n\u001b[1;32m     70\u001b[0m     \u001b[0mdf\u001b[0m \u001b[0;34m=\u001b[0m \u001b[0;32mNone\u001b[0m\u001b[0;34m\u001b[0m\u001b[0;34m\u001b[0m\u001b[0m\n\u001b[1;32m     71\u001b[0m     \u001b[0;32mfor\u001b[0m \u001b[0mvideo_path\u001b[0m \u001b[0;32min\u001b[0m \u001b[0mfpaths\u001b[0m\u001b[0;34m:\u001b[0m\u001b[0;34m\u001b[0m\u001b[0;34m\u001b[0m\u001b[0m\n\u001b[0;32m---> 72\u001b[0;31m         \u001b[0mvideo_rhashes\u001b[0m\u001b[0;34m,\u001b[0m \u001b[0mvideo_timestamps\u001b[0m \u001b[0;34m=\u001b[0m \u001b[0mextract_tiri_rhashes\u001b[0m\u001b[0;34m(\u001b[0m\u001b[0mvideo_path\u001b[0m\u001b[0;34m)\u001b[0m\u001b[0;34m\u001b[0m\u001b[0;34m\u001b[0m\u001b[0m\n\u001b[0m\u001b[1;32m     73\u001b[0m         \u001b[0mvideo_id\u001b[0m \u001b[0;34m=\u001b[0m \u001b[0mos\u001b[0m\u001b[0;34m.\u001b[0m\u001b[0mpath\u001b[0m\u001b[0;34m.\u001b[0m\u001b[0mbasename\u001b[0m\u001b[0;34m(\u001b[0m\u001b[0mvideo_path\u001b[0m\u001b[0;34m)\u001b[0m\u001b[0;34m\u001b[0m\u001b[0;34m\u001b[0m\u001b[0m\n\u001b[1;32m     74\u001b[0m \u001b[0;34m\u001b[0m\u001b[0m\n",
      "\u001b[0;32m<ipython-input-40-d7883f86cf83>\u001b[0m in \u001b[0;36mextract_tiri_rhashes\u001b[0;34m(video_fpath, buffer_size, gamma)\u001b[0m\n\u001b[1;32m     42\u001b[0m             \u001b[0;32mcontinue\u001b[0m\u001b[0;34m\u001b[0m\u001b[0;34m\u001b[0m\u001b[0m\n\u001b[1;32m     43\u001b[0m \u001b[0;34m\u001b[0m\u001b[0m\n\u001b[0;32m---> 44\u001b[0;31m         \u001b[0mimg\u001b[0m \u001b[0;34m=\u001b[0m \u001b[0mnp\u001b[0m\u001b[0;34m.\u001b[0m\u001b[0marray\u001b[0m\u001b[0;34m(\u001b[0m\u001b[0mframe\u001b[0m\u001b[0;34m.\u001b[0m\u001b[0mto_image\u001b[0m\u001b[0;34m(\u001b[0m\u001b[0;34m)\u001b[0m\u001b[0;34m.\u001b[0m\u001b[0mconvert\u001b[0m\u001b[0;34m(\u001b[0m\u001b[0;34m'L'\u001b[0m\u001b[0;34m)\u001b[0m\u001b[0;34m)\u001b[0m \u001b[0;34m/\u001b[0m \u001b[0;36m256\u001b[0m\u001b[0;34m\u001b[0m\u001b[0;34m\u001b[0m\u001b[0m\n\u001b[0m\u001b[1;32m     45\u001b[0m         \u001b[0mbuffer_images\u001b[0m\u001b[0;34m.\u001b[0m\u001b[0mappend\u001b[0m\u001b[0;34m(\u001b[0m\u001b[0mimg\u001b[0m\u001b[0;34m)\u001b[0m\u001b[0;34m\u001b[0m\u001b[0;34m\u001b[0m\u001b[0m\n\u001b[1;32m     46\u001b[0m \u001b[0;34m\u001b[0m\u001b[0m\n",
      "\u001b[0;32mav/video/frame.pyx\u001b[0m in \u001b[0;36mav.video.frame.VideoFrame.to_image\u001b[0;34m()\u001b[0m\n",
      "\u001b[0;32m~/anaconda3/envs/prototype/lib/python3.7/site-packages/PIL/Image.py\u001b[0m in \u001b[0;36mfrombytes\u001b[0;34m(mode, size, data, decoder_name, *args)\u001b[0m\n\u001b[1;32m   2428\u001b[0m \u001b[0;34m\u001b[0m\u001b[0m\n\u001b[1;32m   2429\u001b[0m     \u001b[0mim\u001b[0m \u001b[0;34m=\u001b[0m \u001b[0mnew\u001b[0m\u001b[0;34m(\u001b[0m\u001b[0mmode\u001b[0m\u001b[0;34m,\u001b[0m \u001b[0msize\u001b[0m\u001b[0;34m)\u001b[0m\u001b[0;34m\u001b[0m\u001b[0;34m\u001b[0m\u001b[0m\n\u001b[0;32m-> 2430\u001b[0;31m     \u001b[0mim\u001b[0m\u001b[0;34m.\u001b[0m\u001b[0mfrombytes\u001b[0m\u001b[0;34m(\u001b[0m\u001b[0mdata\u001b[0m\u001b[0;34m,\u001b[0m \u001b[0mdecoder_name\u001b[0m\u001b[0;34m,\u001b[0m \u001b[0margs\u001b[0m\u001b[0;34m)\u001b[0m\u001b[0;34m\u001b[0m\u001b[0;34m\u001b[0m\u001b[0m\n\u001b[0m\u001b[1;32m   2431\u001b[0m     \u001b[0;32mreturn\u001b[0m \u001b[0mim\u001b[0m\u001b[0;34m\u001b[0m\u001b[0;34m\u001b[0m\u001b[0m\n\u001b[1;32m   2432\u001b[0m \u001b[0;34m\u001b[0m\u001b[0m\n",
      "\u001b[0;32m~/anaconda3/envs/prototype/lib/python3.7/site-packages/PIL/Image.py\u001b[0m in \u001b[0;36mfrombytes\u001b[0;34m(self, data, decoder_name, *args)\u001b[0m\n\u001b[1;32m    807\u001b[0m         \u001b[0md\u001b[0m \u001b[0;34m=\u001b[0m \u001b[0m_getdecoder\u001b[0m\u001b[0;34m(\u001b[0m\u001b[0mself\u001b[0m\u001b[0;34m.\u001b[0m\u001b[0mmode\u001b[0m\u001b[0;34m,\u001b[0m \u001b[0mdecoder_name\u001b[0m\u001b[0;34m,\u001b[0m \u001b[0margs\u001b[0m\u001b[0;34m)\u001b[0m\u001b[0;34m\u001b[0m\u001b[0;34m\u001b[0m\u001b[0m\n\u001b[1;32m    808\u001b[0m         \u001b[0md\u001b[0m\u001b[0;34m.\u001b[0m\u001b[0msetimage\u001b[0m\u001b[0;34m(\u001b[0m\u001b[0mself\u001b[0m\u001b[0;34m.\u001b[0m\u001b[0mim\u001b[0m\u001b[0;34m)\u001b[0m\u001b[0;34m\u001b[0m\u001b[0;34m\u001b[0m\u001b[0m\n\u001b[0;32m--> 809\u001b[0;31m         \u001b[0ms\u001b[0m \u001b[0;34m=\u001b[0m \u001b[0md\u001b[0m\u001b[0;34m.\u001b[0m\u001b[0mdecode\u001b[0m\u001b[0;34m(\u001b[0m\u001b[0mdata\u001b[0m\u001b[0;34m)\u001b[0m\u001b[0;34m\u001b[0m\u001b[0;34m\u001b[0m\u001b[0m\n\u001b[0m\u001b[1;32m    810\u001b[0m \u001b[0;34m\u001b[0m\u001b[0m\n\u001b[1;32m    811\u001b[0m         \u001b[0;32mif\u001b[0m \u001b[0ms\u001b[0m\u001b[0;34m[\u001b[0m\u001b[0;36m0\u001b[0m\u001b[0;34m]\u001b[0m \u001b[0;34m>=\u001b[0m \u001b[0;36m0\u001b[0m\u001b[0;34m:\u001b[0m\u001b[0;34m\u001b[0m\u001b[0;34m\u001b[0m\u001b[0m\n",
      "\u001b[0;31mKeyboardInterrupt\u001b[0m: "
     ]
    }
   ],
   "source": [
    "%%timeit\n",
    "train_df = get_rhash_df([processed_paths[0]])"
   ]
  },
  {
   "cell_type": "code",
   "execution_count": 9,
   "metadata": {
    "pycharm": {
     "is_executing": false,
     "metadata": false,
     "name": "#%%\n"
    }
   },
   "outputs": [
    {
     "data": {
      "text/html": [
       "<div>\n",
       "<style scoped>\n",
       "    .dataframe tbody tr th:only-of-type {\n",
       "        vertical-align: middle;\n",
       "    }\n",
       "\n",
       "    .dataframe tbody tr th {\n",
       "        vertical-align: top;\n",
       "    }\n",
       "\n",
       "    .dataframe thead th {\n",
       "        text-align: right;\n",
       "    }\n",
       "</style>\n",
       "<table border=\"1\" class=\"dataframe\">\n",
       "  <thead>\n",
       "    <tr style=\"text-align: right;\">\n",
       "      <th></th>\n",
       "      <th>video_path</th>\n",
       "      <th>frame_time</th>\n",
       "      <th>x_0</th>\n",
       "      <th>x_1</th>\n",
       "      <th>x_2</th>\n",
       "      <th>x_3</th>\n",
       "      <th>x_4</th>\n",
       "      <th>x_5</th>\n",
       "      <th>x_6</th>\n",
       "      <th>x_7</th>\n",
       "      <th>...</th>\n",
       "      <th>x_890</th>\n",
       "      <th>x_891</th>\n",
       "      <th>x_892</th>\n",
       "      <th>x_893</th>\n",
       "      <th>x_894</th>\n",
       "      <th>x_895</th>\n",
       "      <th>x_896</th>\n",
       "      <th>x_897</th>\n",
       "      <th>x_898</th>\n",
       "      <th>x_899</th>\n",
       "    </tr>\n",
       "  </thead>\n",
       "  <tbody>\n",
       "    <tr>\n",
       "      <th>0</th>\n",
       "      <td>data/train_videos/1948 - So Dear to My Heart.mp4</td>\n",
       "      <td>35.0</td>\n",
       "      <td>0.000168</td>\n",
       "      <td>0.000497</td>\n",
       "      <td>0.001907</td>\n",
       "      <td>0.002069</td>\n",
       "      <td>0.001017</td>\n",
       "      <td>0.003272</td>\n",
       "      <td>0.000179</td>\n",
       "      <td>0.001116</td>\n",
       "      <td>...</td>\n",
       "      <td>0.0</td>\n",
       "      <td>0.0</td>\n",
       "      <td>0.0</td>\n",
       "      <td>0.0</td>\n",
       "      <td>0.0</td>\n",
       "      <td>0.0</td>\n",
       "      <td>0.0</td>\n",
       "      <td>0.0</td>\n",
       "      <td>0.0</td>\n",
       "      <td>0.0</td>\n",
       "    </tr>\n",
       "    <tr>\n",
       "      <th>1</th>\n",
       "      <td>data/train_videos/1948 - So Dear to My Heart.mp4</td>\n",
       "      <td>72.6</td>\n",
       "      <td>0.000237</td>\n",
       "      <td>0.000410</td>\n",
       "      <td>0.002220</td>\n",
       "      <td>0.004543</td>\n",
       "      <td>0.007069</td>\n",
       "      <td>0.004676</td>\n",
       "      <td>0.000618</td>\n",
       "      <td>0.001237</td>\n",
       "      <td>...</td>\n",
       "      <td>0.0</td>\n",
       "      <td>0.0</td>\n",
       "      <td>0.0</td>\n",
       "      <td>0.0</td>\n",
       "      <td>0.0</td>\n",
       "      <td>0.0</td>\n",
       "      <td>0.0</td>\n",
       "      <td>0.0</td>\n",
       "      <td>0.0</td>\n",
       "      <td>0.0</td>\n",
       "    </tr>\n",
       "    <tr>\n",
       "      <th>2</th>\n",
       "      <td>data/train_videos/1948 - So Dear to My Heart.mp4</td>\n",
       "      <td>107.6</td>\n",
       "      <td>0.000052</td>\n",
       "      <td>0.000381</td>\n",
       "      <td>0.001520</td>\n",
       "      <td>0.000381</td>\n",
       "      <td>0.000763</td>\n",
       "      <td>0.009682</td>\n",
       "      <td>0.000358</td>\n",
       "      <td>0.001312</td>\n",
       "      <td>...</td>\n",
       "      <td>0.0</td>\n",
       "      <td>0.0</td>\n",
       "      <td>0.0</td>\n",
       "      <td>0.0</td>\n",
       "      <td>0.0</td>\n",
       "      <td>0.0</td>\n",
       "      <td>0.0</td>\n",
       "      <td>0.0</td>\n",
       "      <td>0.0</td>\n",
       "      <td>0.0</td>\n",
       "    </tr>\n",
       "    <tr>\n",
       "      <th>3</th>\n",
       "      <td>data/train_videos/1948 - So Dear to My Heart.mp4</td>\n",
       "      <td>145.1</td>\n",
       "      <td>0.000006</td>\n",
       "      <td>0.000000</td>\n",
       "      <td>0.000000</td>\n",
       "      <td>0.000000</td>\n",
       "      <td>0.000000</td>\n",
       "      <td>0.000000</td>\n",
       "      <td>0.000035</td>\n",
       "      <td>0.000000</td>\n",
       "      <td>...</td>\n",
       "      <td>0.0</td>\n",
       "      <td>0.0</td>\n",
       "      <td>0.0</td>\n",
       "      <td>0.0</td>\n",
       "      <td>0.0</td>\n",
       "      <td>0.0</td>\n",
       "      <td>0.0</td>\n",
       "      <td>0.0</td>\n",
       "      <td>0.0</td>\n",
       "      <td>0.0</td>\n",
       "    </tr>\n",
       "    <tr>\n",
       "      <th>4</th>\n",
       "      <td>data/train_videos/1948 - So Dear to My Heart.mp4</td>\n",
       "      <td>182.7</td>\n",
       "      <td>0.000000</td>\n",
       "      <td>0.000000</td>\n",
       "      <td>0.001023</td>\n",
       "      <td>0.002393</td>\n",
       "      <td>0.002653</td>\n",
       "      <td>0.030172</td>\n",
       "      <td>0.000000</td>\n",
       "      <td>0.000000</td>\n",
       "      <td>...</td>\n",
       "      <td>0.0</td>\n",
       "      <td>0.0</td>\n",
       "      <td>0.0</td>\n",
       "      <td>0.0</td>\n",
       "      <td>0.0</td>\n",
       "      <td>0.0</td>\n",
       "      <td>0.0</td>\n",
       "      <td>0.0</td>\n",
       "      <td>0.0</td>\n",
       "      <td>0.0</td>\n",
       "    </tr>\n",
       "  </tbody>\n",
       "</table>\n",
       "<p>5 rows × 902 columns</p>\n",
       "</div>"
      ],
      "text/plain": [
       "                                         video_path  frame_time       x_0  \\\n",
       "0  data/train_videos/1948 - So Dear to My Heart.mp4        35.0  0.000168   \n",
       "1  data/train_videos/1948 - So Dear to My Heart.mp4        72.6  0.000237   \n",
       "2  data/train_videos/1948 - So Dear to My Heart.mp4       107.6  0.000052   \n",
       "3  data/train_videos/1948 - So Dear to My Heart.mp4       145.1  0.000006   \n",
       "4  data/train_videos/1948 - So Dear to My Heart.mp4       182.7  0.000000   \n",
       "\n",
       "        x_1       x_2       x_3       x_4       x_5       x_6       x_7  ...  \\\n",
       "0  0.000497  0.001907  0.002069  0.001017  0.003272  0.000179  0.001116  ...   \n",
       "1  0.000410  0.002220  0.004543  0.007069  0.004676  0.000618  0.001237  ...   \n",
       "2  0.000381  0.001520  0.000381  0.000763  0.009682  0.000358  0.001312  ...   \n",
       "3  0.000000  0.000000  0.000000  0.000000  0.000000  0.000035  0.000000  ...   \n",
       "4  0.000000  0.001023  0.002393  0.002653  0.030172  0.000000  0.000000  ...   \n",
       "\n",
       "   x_890  x_891  x_892  x_893  x_894  x_895  x_896  x_897  x_898  x_899  \n",
       "0    0.0    0.0    0.0    0.0    0.0    0.0    0.0    0.0    0.0    0.0  \n",
       "1    0.0    0.0    0.0    0.0    0.0    0.0    0.0    0.0    0.0    0.0  \n",
       "2    0.0    0.0    0.0    0.0    0.0    0.0    0.0    0.0    0.0    0.0  \n",
       "3    0.0    0.0    0.0    0.0    0.0    0.0    0.0    0.0    0.0    0.0  \n",
       "4    0.0    0.0    0.0    0.0    0.0    0.0    0.0    0.0    0.0    0.0  \n",
       "\n",
       "[5 rows x 902 columns]"
      ]
     },
     "execution_count": 9,
     "metadata": {},
     "output_type": "execute_result"
    }
   ],
   "source": [
    "train_df.head()"
   ]
  },
  {
   "cell_type": "code",
   "execution_count": 14,
   "metadata": {
    "pycharm": {
     "is_executing": false,
     "metadata": false,
     "name": "#%%\n"
    }
   },
   "outputs": [],
   "source": [
    "frame_times = train_df['ts']\n",
    "labels = train_df.id.values\n",
    "frame_vectors = train_df['rhashes']\n",
    "frame_vectors"
   ]
  },
  {
   "cell_type": "code",
   "execution_count": null,
   "metadata": {
    "pycharm": {
     "metadata": false,
     "name": "#%%\n"
    }
   },
   "outputs": [],
   "source": [
    "class FaissRhashVideoSearcher:\n",
    "    \n",
    "    def __init__(self, vectors, labels, threshold=0.3, ncells=0.01):\n",
    "        self.vectors = vectors.astype('uint8')\n",
    "        self.labels = labels\n",
    "        self.threshold = threshold\n",
    "        self.quantizer = faiss.IndexBinaryFlat(d)\n",
    "        self.index = faiss.IndexIVFFlat(self.quantizer, self.vectors.shape[1],\n",
    "                                        int(ncells * len(self.vectors)))\n",
    "        \n",
    "        self.index.train(self.vectors)\n",
    "        self.index.add(self.vectors)\n",
    "\n",
    "    def classify(self, vectors, threshold=None):\n",
    "        vectors.astype('uint8')\n",
    "        threshold = threshold or self.treshold\n",
    "        D, I = self.index.search(vectors, 1)\n",
    "        min_indices, min_dists = I.flatten(), D.flatten()\n",
    "\n",
    "        votes = self.labels[min_indices]\n",
    "        miss_mask = min_dists < threshold\n",
    "        votes[miss_mask] = 'miss'\n",
    "\n",
    "        moc = max([(list(votes).count(chr), chr) for chr in set(votes)])\n",
    "        moc = moc[1]\n",
    "        return moc, votes, min_dists, min_indices\n",
    "    \n",
    "    "
   ]
  },
  {
   "cell_type": "code",
   "execution_count": 34,
   "metadata": {
    "pycharm": {
     "is_executing": false
    }
   },
   "outputs": [],
   "source": [
    "clf = FaissRhashVideoSearcher(frame_vectors, labels, threshold=0.3)"
   ]
  },
  {
   "cell_type": "code",
   "execution_count": 36,
   "metadata": {
    "pycharm": {
     "is_executing": false
    },
    "scrolled": false
   },
   "outputs": [
    {
     "name": "stdout",
     "output_type": "stream",
     "text": [
      "Done 1.0\n",
      "data/test_videos/the_fun_and_fancy_tree_6.mp4\n",
      "Classified as data/train_videos/1947 - Fun and Fancy Free.avi\n",
      "[0.8007243  0.80041206 0.7649218  0.77383983 0.8326136  0.7574779\n",
      " 0.71434224 0.7659291  0.7710388  0.7195992  0.73407286 0.7485796 ]\n",
      "Closest frames\n",
      "data/train_videos/1947 - Fun and Fancy Free.avi 1075.9\n",
      "data/train_videos/1947 - Fun and Fancy Free.avi 1075.9\n",
      "data/train_videos/1947 - Fun and Fancy Free.avi 1075.9\n",
      "data/train_videos/1947 - Fun and Fancy Free.avi 1075.9\n",
      "data/train_videos/1949 - The Adventures Of Ichabod And Mr. Toad.m4v 1156.6\n",
      "data/train_videos/1949 - The Adventures Of Ichabod And Mr. Toad.m4v 1156.6\n",
      "data/train_videos/1949 - The Adventures Of Ichabod And Mr. Toad.m4v 1156.6\n",
      "data/train_videos/1949 - The Adventures Of Ichabod And Mr. Toad.m4v 1156.6\n",
      "data/train_videos/1949 - The Adventures Of Ichabod And Mr. Toad.m4v 1156.6\n",
      "data/train_videos/1948 - So Dear to My Heart.mp4 4474.5\n",
      "data/train_videos/1947 - Fun and Fancy Free.avi 1075.9\n",
      "data/train_videos/1947 - Fun and Fancy Free.avi 1075.9\n",
      "\n",
      "Done 1.0\n",
      "data/test_videos/the_fun_and_fancy_tree_4.mp4\n",
      "Classified as data/train_videos/1948 - So Dear to My Heart.mp4\n",
      "[0.741175   0.7718593  0.7478972  0.74524593 0.75703776 0.732106\n",
      " 0.7146712  0.7485628  0.7379491  0.74309283 0.7193422 ]\n",
      "Closest frames\n",
      "data/train_videos/1948 - So Dear to My Heart.mp4 1681.1\n",
      "data/train_videos/1948 - So Dear to My Heart.mp4 4707.2\n",
      "data/train_videos/1948 - So Dear to My Heart.mp4 1681.1\n",
      "data/train_videos/1948 - So Dear to My Heart.mp4 4707.2\n",
      "data/train_videos/1948 - So Dear to My Heart.mp4 4707.2\n",
      "data/train_videos/1948 - So Dear to My Heart.mp4 4474.5\n",
      "data/train_videos/1948 - So Dear to My Heart.mp4 4674.5\n",
      "data/train_videos/1948 - So Dear to My Heart.mp4 4474.5\n",
      "data/train_videos/1948 - So Dear to My Heart.mp4 1681.1\n",
      "data/train_videos/1948 - So Dear to My Heart.mp4 3633.6\n",
      "data/train_videos/1948 - So Dear to My Heart.mp4 1681.1\n",
      "\n",
      "Done 1.0\n",
      "data/test_videos/miss.mp4\n",
      "Classified as miss\n",
      "[0.68155086 0.76728106 0.51215345 0.5253216  0.48516795 0.5416841\n",
      " 0.52640945 0.5489918  0.78863096 0.7529867  0.720803   0.6966848 ]\n",
      "Closest frames\n",
      "miss 2071.2\n",
      "data/train_videos/1948 - So Dear to My Heart.mp4 523.0\n",
      "miss 2851.0\n",
      "miss 4206.6\n",
      "miss 2851.0\n",
      "miss 4206.6\n",
      "miss 4206.6\n",
      "miss 4206.6\n",
      "data/train_videos/1948 - So Dear to My Heart.mp4 1544.9\n",
      "data/train_videos/1949 - The Adventures Of Ichabod And Mr. Toad.m4v 3608.1\n",
      "data/train_videos/1948 - So Dear to My Heart.mp4 1544.9\n",
      "miss 1082.5\n",
      "\n",
      "Done 1.0\n",
      "data/test_videos/the_fun_and_fancy_tree_2.mp4\n",
      "Classified as miss\n",
      "[0.79318273 0.66270113 0.63552237 0.7167879  0.70833176 0.7106273\n",
      " 0.68643886 0.7550309  0.7295483  0.8011198  0.7548237 ]\n",
      "Closest frames\n",
      "data/train_videos/1949 - The Adventures Of Ichabod And Mr. Toad.m4v 1156.6\n",
      "miss 4773.5\n",
      "miss 4773.5\n",
      "data/train_videos/1948 - So Dear to My Heart.mp4 523.0\n",
      "data/train_videos/1948 - So Dear to My Heart.mp4 4542.0\n",
      "data/train_videos/1948 - So Dear to My Heart.mp4 523.0\n",
      "miss 4542.0\n",
      "data/train_videos/1947 - Fun and Fancy Free.avi 3223.1\n",
      "data/train_videos/1947 - Fun and Fancy Free.avi 3223.1\n",
      "data/train_videos/1947 - Fun and Fancy Free.avi 3223.1\n",
      "data/train_videos/1949 - The Adventures Of Ichabod And Mr. Toad.m4v 1156.6\n",
      "\n",
      "Done 1.0\n",
      "data/test_videos/the_fun_and_fancy_tree_3.mp4\n",
      "Classified as data/train_videos/1948 - So Dear to My Heart.mp4\n",
      "[0.7477834  0.7550958  0.8113065  0.79795223 0.717992   0.7650538\n",
      " 0.73402566]\n",
      "Closest frames\n",
      "data/train_videos/1948 - So Dear to My Heart.mp4 523.0\n",
      "data/train_videos/1948 - So Dear to My Heart.mp4 523.0\n",
      "data/train_videos/1948 - So Dear to My Heart.mp4 1609.1\n",
      "data/train_videos/1947 - Fun and Fancy Free.avi 1076.9\n",
      "data/train_videos/1948 - So Dear to My Heart.mp4 1053.6\n",
      "data/train_videos/1947 - Fun and Fancy Free.avi 3223.1\n",
      "data/train_videos/1947 - Fun and Fancy Free.avi 1075.9\n",
      "\n",
      "Done 1.0\n",
      "data/test_videos/the_fun_and_fancy_tree_5.mp4\n",
      "Classified as miss\n",
      "[0.62548316 0.6696196  0.6889633  0.6588545  0.7242333  0.66838294\n",
      " 0.64107573 0.74909014 0.644621   0.6632337  0.68390167]\n",
      "Closest frames\n",
      "miss 2738.8\n",
      "miss 1611.3\n",
      "miss 372.6\n",
      "miss 1609.1\n",
      "data/train_videos/1948 - So Dear to My Heart.mp4 3633.6\n",
      "miss 1791.0\n",
      "miss 654.6\n",
      "data/train_videos/1948 - So Dear to My Heart.mp4 654.6\n",
      "miss 448.6\n",
      "miss 448.6\n",
      "miss 523.0\n",
      "\n",
      "Done 1.0\n",
      "data/test_videos/the_fun_and_fancy_tree_1.mp4\n",
      "Classified as miss\n",
      "[0.68809843 0.64751834 0.67047703 0.7545622  0.7755185  0.77553993\n",
      " 0.7636448  0.7538702  0.73030704 0.7389376  0.7435525 ]\n",
      "Closest frames\n",
      "miss 3223.1\n",
      "miss 3608.1\n",
      "miss 2479.0\n",
      "data/train_videos/1947 - Fun and Fancy Free.avi 1088.9\n",
      "data/train_videos/1947 - Fun and Fancy Free.avi 1088.9\n",
      "data/train_videos/1947 - Fun and Fancy Free.avi 1088.9\n",
      "data/train_videos/1949 - The Adventures Of Ichabod And Mr. Toad.m4v 1156.6\n",
      "data/train_videos/1949 - The Adventures Of Ichabod And Mr. Toad.m4v 1156.6\n",
      "data/train_videos/1948 - So Dear to My Heart.mp4 4474.5\n",
      "data/train_videos/1948 - So Dear to My Heart.mp4 4474.5\n",
      "data/train_videos/1948 - So Dear to My Heart.mp4 4674.5\n",
      "\n"
     ]
    }
   ],
   "source": [
    "test_videos = [os.path.join(TEST_VIDEOS_DIR, f) for f in os.listdir(TEST_VIDEOS_DIR)]\n",
    "for fpath in test_videos:\n",
    "    test_df = get_dataframe([fpath],\n",
    "                            preprocessor=preprocess_image_load,\n",
    "                            feature_extractor=FEATURE_EXTRACTOR,\n",
    "                            write_frames_dir=FRAMES_DIR)   \n",
    "    test_df_frame_vectors = test_df.drop(['frame_time', 'video_path'], axis=1).values\n",
    "    predicted_label, votes, dists, indices = clf.classify(test_df_frame_vectors)\n",
    "    print(fpath)\n",
    "    print('Classified as', predicted_label)\n",
    "    #print(votes, dists, indices)\n",
    "    print(dists)\n",
    "    print('Closest frames')\n",
    "    for v, t in zip(votes, frame_times[indices]):\n",
    "        print(v, t)\n",
    "    print()"
   ]
  },
  {
   "cell_type": "code",
   "execution_count": 7,
   "metadata": {
    "pycharm": {
     "is_executing": false,
     "metadata": false,
     "name": "#%%\n"
    }
   },
   "outputs": [],
   "source": [
    "\n"
   ]
  }
 ],
 "metadata": {
  "kernelspec": {
   "display_name": "Python 3",
   "language": "python",
   "name": "python3"
  },
  "language_info": {
   "codemirror_mode": {
    "name": "ipython",
    "version": 3
   },
   "file_extension": ".py",
   "mimetype": "text/x-python",
   "name": "python",
   "nbconvert_exporter": "python",
   "pygments_lexer": "ipython3",
   "version": "3.7.3"
  }
 },
 "nbformat": 4,
 "nbformat_minor": 2
}
