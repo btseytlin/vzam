{
  "cells": [
    {
      "cell_type": "code",
      "execution_count": 80,
      "metadata": {
        "pycharm": {
          "is_executing": false
        }
      },
      "outputs": [],
      "source": "import faiss\nimport numpy as np\nimport pandas as pd\nimport scipy\nfrom scipy.spatial.distance import cosine\nimport random\nfrom sklearn.metrics import classification_report, confusion_matrix, accuracy_score\n%matplotlib inline"
    },
    {
      "cell_type": "code",
      "execution_count": 81,
      "metadata": {
        "pycharm": {
          "is_executing": false
        }
      },
      "outputs": [],
      "source": "DATASET \u003d \u0027data/LOCALHIST_CORRUPT\u0027\nTRAIN_CSV \u003d DATASET+\u0027_df.csv\u0027\nSUBCLIPS_CSV \u003d DATASET+\u0027_subclips.csv\u0027"
    },
    {
      "cell_type": "code",
      "execution_count": 82,
      "metadata": {
        "pycharm": {
          "is_executing": false
        }
      },
      "outputs": [
        {
          "data": {
            "text/plain": "                                     video_path  frame_time       x_0  x_1  \\\n0  ../data/1943 - Victory Through Air Power.avi    0.033367  0.000000  0.0   \n1  ../data/1943 - Victory Through Air Power.avi    2.035369  0.000108  0.0   \n2  ../data/1943 - Victory Through Air Power.avi    2.068735  0.000058  0.0   \n3  ../data/1943 - Victory Through Air Power.avi    2.102102  0.000017  0.0   \n4  ../data/1943 - Victory Through Air Power.avi    2.135469  0.000006  0.0   \n\n   x_2       x_3       x_4       x_5       x_6       x_7  ...  x_890  x_891  \\\n0  0.0  0.000000  0.000000  0.140162  0.000000  0.000000  ...    0.0    0.0   \n1  0.0  0.000000  0.000044  0.007993  0.000000  0.000355  ...    0.0    0.0   \n2  0.0  0.000105  0.000036  0.009339  0.000008  0.000000  ...    0.0    0.0   \n3  0.0  0.000147  0.000103  0.008468  0.000019  0.000000  ...    0.0    0.0   \n4  0.0  0.000203  0.000050  0.008313  0.000011  0.000000  ...    0.0    0.0   \n\n   x_892  x_893  x_894  x_895  x_896  x_897  x_898  x_899  \n0    0.0    0.0    0.0    0.0    0.0    0.0    0.0    0.0  \n1    0.0    0.0    0.0    0.0    0.0    0.0    0.0    0.0  \n2    0.0    0.0    0.0    0.0    0.0    0.0    0.0    0.0  \n3    0.0    0.0    0.0    0.0    0.0    0.0    0.0    0.0  \n4    0.0    0.0    0.0    0.0    0.0    0.0    0.0    0.0  \n\n[5 rows x 902 columns]",
            "text/html": "\u003cdiv\u003e\n\u003cstyle scoped\u003e\n    .dataframe tbody tr th:only-of-type {\n        vertical-align: middle;\n    }\n\n    .dataframe tbody tr th {\n        vertical-align: top;\n    }\n\n    .dataframe thead th {\n        text-align: right;\n    }\n\u003c/style\u003e\n\u003ctable border\u003d\"1\" class\u003d\"dataframe\"\u003e\n  \u003cthead\u003e\n    \u003ctr style\u003d\"text-align: right;\"\u003e\n      \u003cth\u003e\u003c/th\u003e\n      \u003cth\u003evideo_path\u003c/th\u003e\n      \u003cth\u003eframe_time\u003c/th\u003e\n      \u003cth\u003ex_0\u003c/th\u003e\n      \u003cth\u003ex_1\u003c/th\u003e\n      \u003cth\u003ex_2\u003c/th\u003e\n      \u003cth\u003ex_3\u003c/th\u003e\n      \u003cth\u003ex_4\u003c/th\u003e\n      \u003cth\u003ex_5\u003c/th\u003e\n      \u003cth\u003ex_6\u003c/th\u003e\n      \u003cth\u003ex_7\u003c/th\u003e\n      \u003cth\u003e...\u003c/th\u003e\n      \u003cth\u003ex_890\u003c/th\u003e\n      \u003cth\u003ex_891\u003c/th\u003e\n      \u003cth\u003ex_892\u003c/th\u003e\n      \u003cth\u003ex_893\u003c/th\u003e\n      \u003cth\u003ex_894\u003c/th\u003e\n      \u003cth\u003ex_895\u003c/th\u003e\n      \u003cth\u003ex_896\u003c/th\u003e\n      \u003cth\u003ex_897\u003c/th\u003e\n      \u003cth\u003ex_898\u003c/th\u003e\n      \u003cth\u003ex_899\u003c/th\u003e\n    \u003c/tr\u003e\n  \u003c/thead\u003e\n  \u003ctbody\u003e\n    \u003ctr\u003e\n      \u003cth\u003e0\u003c/th\u003e\n      \u003ctd\u003e../data/1943 - Victory Through Air Power.avi\u003c/td\u003e\n      \u003ctd\u003e0.033367\u003c/td\u003e\n      \u003ctd\u003e0.000000\u003c/td\u003e\n      \u003ctd\u003e0.0\u003c/td\u003e\n      \u003ctd\u003e0.0\u003c/td\u003e\n      \u003ctd\u003e0.000000\u003c/td\u003e\n      \u003ctd\u003e0.000000\u003c/td\u003e\n      \u003ctd\u003e0.140162\u003c/td\u003e\n      \u003ctd\u003e0.000000\u003c/td\u003e\n      \u003ctd\u003e0.000000\u003c/td\u003e\n      \u003ctd\u003e...\u003c/td\u003e\n      \u003ctd\u003e0.0\u003c/td\u003e\n      \u003ctd\u003e0.0\u003c/td\u003e\n      \u003ctd\u003e0.0\u003c/td\u003e\n      \u003ctd\u003e0.0\u003c/td\u003e\n      \u003ctd\u003e0.0\u003c/td\u003e\n      \u003ctd\u003e0.0\u003c/td\u003e\n      \u003ctd\u003e0.0\u003c/td\u003e\n      \u003ctd\u003e0.0\u003c/td\u003e\n      \u003ctd\u003e0.0\u003c/td\u003e\n      \u003ctd\u003e0.0\u003c/td\u003e\n    \u003c/tr\u003e\n    \u003ctr\u003e\n      \u003cth\u003e1\u003c/th\u003e\n      \u003ctd\u003e../data/1943 - Victory Through Air Power.avi\u003c/td\u003e\n      \u003ctd\u003e2.035369\u003c/td\u003e\n      \u003ctd\u003e0.000108\u003c/td\u003e\n      \u003ctd\u003e0.0\u003c/td\u003e\n      \u003ctd\u003e0.0\u003c/td\u003e\n      \u003ctd\u003e0.000000\u003c/td\u003e\n      \u003ctd\u003e0.000044\u003c/td\u003e\n      \u003ctd\u003e0.007993\u003c/td\u003e\n      \u003ctd\u003e0.000000\u003c/td\u003e\n      \u003ctd\u003e0.000355\u003c/td\u003e\n      \u003ctd\u003e...\u003c/td\u003e\n      \u003ctd\u003e0.0\u003c/td\u003e\n      \u003ctd\u003e0.0\u003c/td\u003e\n      \u003ctd\u003e0.0\u003c/td\u003e\n      \u003ctd\u003e0.0\u003c/td\u003e\n      \u003ctd\u003e0.0\u003c/td\u003e\n      \u003ctd\u003e0.0\u003c/td\u003e\n      \u003ctd\u003e0.0\u003c/td\u003e\n      \u003ctd\u003e0.0\u003c/td\u003e\n      \u003ctd\u003e0.0\u003c/td\u003e\n      \u003ctd\u003e0.0\u003c/td\u003e\n    \u003c/tr\u003e\n    \u003ctr\u003e\n      \u003cth\u003e2\u003c/th\u003e\n      \u003ctd\u003e../data/1943 - Victory Through Air Power.avi\u003c/td\u003e\n      \u003ctd\u003e2.068735\u003c/td\u003e\n      \u003ctd\u003e0.000058\u003c/td\u003e\n      \u003ctd\u003e0.0\u003c/td\u003e\n      \u003ctd\u003e0.0\u003c/td\u003e\n      \u003ctd\u003e0.000105\u003c/td\u003e\n      \u003ctd\u003e0.000036\u003c/td\u003e\n      \u003ctd\u003e0.009339\u003c/td\u003e\n      \u003ctd\u003e0.000008\u003c/td\u003e\n      \u003ctd\u003e0.000000\u003c/td\u003e\n      \u003ctd\u003e...\u003c/td\u003e\n      \u003ctd\u003e0.0\u003c/td\u003e\n      \u003ctd\u003e0.0\u003c/td\u003e\n      \u003ctd\u003e0.0\u003c/td\u003e\n      \u003ctd\u003e0.0\u003c/td\u003e\n      \u003ctd\u003e0.0\u003c/td\u003e\n      \u003ctd\u003e0.0\u003c/td\u003e\n      \u003ctd\u003e0.0\u003c/td\u003e\n      \u003ctd\u003e0.0\u003c/td\u003e\n      \u003ctd\u003e0.0\u003c/td\u003e\n      \u003ctd\u003e0.0\u003c/td\u003e\n    \u003c/tr\u003e\n    \u003ctr\u003e\n      \u003cth\u003e3\u003c/th\u003e\n      \u003ctd\u003e../data/1943 - Victory Through Air Power.avi\u003c/td\u003e\n      \u003ctd\u003e2.102102\u003c/td\u003e\n      \u003ctd\u003e0.000017\u003c/td\u003e\n      \u003ctd\u003e0.0\u003c/td\u003e\n      \u003ctd\u003e0.0\u003c/td\u003e\n      \u003ctd\u003e0.000147\u003c/td\u003e\n      \u003ctd\u003e0.000103\u003c/td\u003e\n      \u003ctd\u003e0.008468\u003c/td\u003e\n      \u003ctd\u003e0.000019\u003c/td\u003e\n      \u003ctd\u003e0.000000\u003c/td\u003e\n      \u003ctd\u003e...\u003c/td\u003e\n      \u003ctd\u003e0.0\u003c/td\u003e\n      \u003ctd\u003e0.0\u003c/td\u003e\n      \u003ctd\u003e0.0\u003c/td\u003e\n      \u003ctd\u003e0.0\u003c/td\u003e\n      \u003ctd\u003e0.0\u003c/td\u003e\n      \u003ctd\u003e0.0\u003c/td\u003e\n      \u003ctd\u003e0.0\u003c/td\u003e\n      \u003ctd\u003e0.0\u003c/td\u003e\n      \u003ctd\u003e0.0\u003c/td\u003e\n      \u003ctd\u003e0.0\u003c/td\u003e\n    \u003c/tr\u003e\n    \u003ctr\u003e\n      \u003cth\u003e4\u003c/th\u003e\n      \u003ctd\u003e../data/1943 - Victory Through Air Power.avi\u003c/td\u003e\n      \u003ctd\u003e2.135469\u003c/td\u003e\n      \u003ctd\u003e0.000006\u003c/td\u003e\n      \u003ctd\u003e0.0\u003c/td\u003e\n      \u003ctd\u003e0.0\u003c/td\u003e\n      \u003ctd\u003e0.000203\u003c/td\u003e\n      \u003ctd\u003e0.000050\u003c/td\u003e\n      \u003ctd\u003e0.008313\u003c/td\u003e\n      \u003ctd\u003e0.000011\u003c/td\u003e\n      \u003ctd\u003e0.000000\u003c/td\u003e\n      \u003ctd\u003e...\u003c/td\u003e\n      \u003ctd\u003e0.0\u003c/td\u003e\n      \u003ctd\u003e0.0\u003c/td\u003e\n      \u003ctd\u003e0.0\u003c/td\u003e\n      \u003ctd\u003e0.0\u003c/td\u003e\n      \u003ctd\u003e0.0\u003c/td\u003e\n      \u003ctd\u003e0.0\u003c/td\u003e\n      \u003ctd\u003e0.0\u003c/td\u003e\n      \u003ctd\u003e0.0\u003c/td\u003e\n      \u003ctd\u003e0.0\u003c/td\u003e\n      \u003ctd\u003e0.0\u003c/td\u003e\n    \u003c/tr\u003e\n  \u003c/tbody\u003e\n\u003c/table\u003e\n\u003cp\u003e5 rows × 902 columns\u003c/p\u003e\n\u003c/div\u003e"
          },
          "metadata": {},
          "output_type": "execute_result",
          "execution_count": 82
        }
      ],
      "source": [
        "train_df \u003d pd.read_csv(TRAIN_CSV)\n",
        "train_df.head()"
      ]
    },
    {
      "cell_type": "code",
      "execution_count": 83,
      "metadata": {
        "pycharm": {
          "is_executing": false
        }
      },
      "outputs": [
        {
          "data": {
            "text/plain": "                                           clip_path  frame_time       x_0  \\\n0  ./tmp/1943 - Victory Through Air Power.avi_sub...    0.000000  0.000003   \n1  ./tmp/1943 - Victory Through Air Power.avi_sub...    7.173841  0.000380   \n2  ./tmp/1943 - Victory Through Air Power.avi_sub...    7.207207  0.000003   \n3  ./tmp/1943 - Victory Through Air Power.avi_sub...    7.807808  0.000003   \n4  ./tmp/1943 - Victory Through Air Power.avi_sub...    7.874541  0.000003   \n\n        x_1       x_2       x_3  x_4  x_5       x_6       x_7  ...  x_891  \\\n0  0.000000  0.000000  0.000000  0.0  0.0  0.000000  0.000000  ...    0.0   \n1  0.001302  0.000158  0.000158  0.0  0.0  0.000278  0.001946  ...    0.0   \n2  0.000000  0.000000  0.000000  0.0  0.0  0.000000  0.000000  ...    0.0   \n3  0.000000  0.000000  0.000000  0.0  0.0  0.000000  0.000000  ...    0.0   \n4  0.000000  0.000000  0.000000  0.0  0.0  0.000000  0.000000  ...    0.0   \n\n   x_892  x_893  x_894  x_895  x_896  x_897  x_898  x_899  \\\n0    0.0    0.0    0.0    0.0    0.0    0.0    0.0    0.0   \n1    0.0    0.0    0.0    0.0    0.0    0.0    0.0    0.0   \n2    0.0    0.0    0.0    0.0    0.0    0.0    0.0    0.0   \n3    0.0    0.0    0.0    0.0    0.0    0.0    0.0    0.0   \n4    0.0    0.0    0.0    0.0    0.0    0.0    0.0    0.0   \n\n                                     video_path  \n0  ../data/1943 - Victory Through Air Power.avi  \n1  ../data/1943 - Victory Through Air Power.avi  \n2  ../data/1943 - Victory Through Air Power.avi  \n3  ../data/1943 - Victory Through Air Power.avi  \n4  ../data/1943 - Victory Through Air Power.avi  \n\n[5 rows x 903 columns]",
            "text/html": "\u003cdiv\u003e\n\u003cstyle scoped\u003e\n    .dataframe tbody tr th:only-of-type {\n        vertical-align: middle;\n    }\n\n    .dataframe tbody tr th {\n        vertical-align: top;\n    }\n\n    .dataframe thead th {\n        text-align: right;\n    }\n\u003c/style\u003e\n\u003ctable border\u003d\"1\" class\u003d\"dataframe\"\u003e\n  \u003cthead\u003e\n    \u003ctr style\u003d\"text-align: right;\"\u003e\n      \u003cth\u003e\u003c/th\u003e\n      \u003cth\u003eclip_path\u003c/th\u003e\n      \u003cth\u003eframe_time\u003c/th\u003e\n      \u003cth\u003ex_0\u003c/th\u003e\n      \u003cth\u003ex_1\u003c/th\u003e\n      \u003cth\u003ex_2\u003c/th\u003e\n      \u003cth\u003ex_3\u003c/th\u003e\n      \u003cth\u003ex_4\u003c/th\u003e\n      \u003cth\u003ex_5\u003c/th\u003e\n      \u003cth\u003ex_6\u003c/th\u003e\n      \u003cth\u003ex_7\u003c/th\u003e\n      \u003cth\u003e...\u003c/th\u003e\n      \u003cth\u003ex_891\u003c/th\u003e\n      \u003cth\u003ex_892\u003c/th\u003e\n      \u003cth\u003ex_893\u003c/th\u003e\n      \u003cth\u003ex_894\u003c/th\u003e\n      \u003cth\u003ex_895\u003c/th\u003e\n      \u003cth\u003ex_896\u003c/th\u003e\n      \u003cth\u003ex_897\u003c/th\u003e\n      \u003cth\u003ex_898\u003c/th\u003e\n      \u003cth\u003ex_899\u003c/th\u003e\n      \u003cth\u003evideo_path\u003c/th\u003e\n    \u003c/tr\u003e\n  \u003c/thead\u003e\n  \u003ctbody\u003e\n    \u003ctr\u003e\n      \u003cth\u003e0\u003c/th\u003e\n      \u003ctd\u003e./tmp/1943 - Victory Through Air Power.avi_sub...\u003c/td\u003e\n      \u003ctd\u003e0.000000\u003c/td\u003e\n      \u003ctd\u003e0.000003\u003c/td\u003e\n      \u003ctd\u003e0.000000\u003c/td\u003e\n      \u003ctd\u003e0.000000\u003c/td\u003e\n      \u003ctd\u003e0.000000\u003c/td\u003e\n      \u003ctd\u003e0.0\u003c/td\u003e\n      \u003ctd\u003e0.0\u003c/td\u003e\n      \u003ctd\u003e0.000000\u003c/td\u003e\n      \u003ctd\u003e0.000000\u003c/td\u003e\n      \u003ctd\u003e...\u003c/td\u003e\n      \u003ctd\u003e0.0\u003c/td\u003e\n      \u003ctd\u003e0.0\u003c/td\u003e\n      \u003ctd\u003e0.0\u003c/td\u003e\n      \u003ctd\u003e0.0\u003c/td\u003e\n      \u003ctd\u003e0.0\u003c/td\u003e\n      \u003ctd\u003e0.0\u003c/td\u003e\n      \u003ctd\u003e0.0\u003c/td\u003e\n      \u003ctd\u003e0.0\u003c/td\u003e\n      \u003ctd\u003e0.0\u003c/td\u003e\n      \u003ctd\u003e../data/1943 - Victory Through Air Power.avi\u003c/td\u003e\n    \u003c/tr\u003e\n    \u003ctr\u003e\n      \u003cth\u003e1\u003c/th\u003e\n      \u003ctd\u003e./tmp/1943 - Victory Through Air Power.avi_sub...\u003c/td\u003e\n      \u003ctd\u003e7.173841\u003c/td\u003e\n      \u003ctd\u003e0.000380\u003c/td\u003e\n      \u003ctd\u003e0.001302\u003c/td\u003e\n      \u003ctd\u003e0.000158\u003c/td\u003e\n      \u003ctd\u003e0.000158\u003c/td\u003e\n      \u003ctd\u003e0.0\u003c/td\u003e\n      \u003ctd\u003e0.0\u003c/td\u003e\n      \u003ctd\u003e0.000278\u003c/td\u003e\n      \u003ctd\u003e0.001946\u003c/td\u003e\n      \u003ctd\u003e...\u003c/td\u003e\n      \u003ctd\u003e0.0\u003c/td\u003e\n      \u003ctd\u003e0.0\u003c/td\u003e\n      \u003ctd\u003e0.0\u003c/td\u003e\n      \u003ctd\u003e0.0\u003c/td\u003e\n      \u003ctd\u003e0.0\u003c/td\u003e\n      \u003ctd\u003e0.0\u003c/td\u003e\n      \u003ctd\u003e0.0\u003c/td\u003e\n      \u003ctd\u003e0.0\u003c/td\u003e\n      \u003ctd\u003e0.0\u003c/td\u003e\n      \u003ctd\u003e../data/1943 - Victory Through Air Power.avi\u003c/td\u003e\n    \u003c/tr\u003e\n    \u003ctr\u003e\n      \u003cth\u003e2\u003c/th\u003e\n      \u003ctd\u003e./tmp/1943 - Victory Through Air Power.avi_sub...\u003c/td\u003e\n      \u003ctd\u003e7.207207\u003c/td\u003e\n      \u003ctd\u003e0.000003\u003c/td\u003e\n      \u003ctd\u003e0.000000\u003c/td\u003e\n      \u003ctd\u003e0.000000\u003c/td\u003e\n      \u003ctd\u003e0.000000\u003c/td\u003e\n      \u003ctd\u003e0.0\u003c/td\u003e\n      \u003ctd\u003e0.0\u003c/td\u003e\n      \u003ctd\u003e0.000000\u003c/td\u003e\n      \u003ctd\u003e0.000000\u003c/td\u003e\n      \u003ctd\u003e...\u003c/td\u003e\n      \u003ctd\u003e0.0\u003c/td\u003e\n      \u003ctd\u003e0.0\u003c/td\u003e\n      \u003ctd\u003e0.0\u003c/td\u003e\n      \u003ctd\u003e0.0\u003c/td\u003e\n      \u003ctd\u003e0.0\u003c/td\u003e\n      \u003ctd\u003e0.0\u003c/td\u003e\n      \u003ctd\u003e0.0\u003c/td\u003e\n      \u003ctd\u003e0.0\u003c/td\u003e\n      \u003ctd\u003e0.0\u003c/td\u003e\n      \u003ctd\u003e../data/1943 - Victory Through Air Power.avi\u003c/td\u003e\n    \u003c/tr\u003e\n    \u003ctr\u003e\n      \u003cth\u003e3\u003c/th\u003e\n      \u003ctd\u003e./tmp/1943 - Victory Through Air Power.avi_sub...\u003c/td\u003e\n      \u003ctd\u003e7.807808\u003c/td\u003e\n      \u003ctd\u003e0.000003\u003c/td\u003e\n      \u003ctd\u003e0.000000\u003c/td\u003e\n      \u003ctd\u003e0.000000\u003c/td\u003e\n      \u003ctd\u003e0.000000\u003c/td\u003e\n      \u003ctd\u003e0.0\u003c/td\u003e\n      \u003ctd\u003e0.0\u003c/td\u003e\n      \u003ctd\u003e0.000000\u003c/td\u003e\n      \u003ctd\u003e0.000000\u003c/td\u003e\n      \u003ctd\u003e...\u003c/td\u003e\n      \u003ctd\u003e0.0\u003c/td\u003e\n      \u003ctd\u003e0.0\u003c/td\u003e\n      \u003ctd\u003e0.0\u003c/td\u003e\n      \u003ctd\u003e0.0\u003c/td\u003e\n      \u003ctd\u003e0.0\u003c/td\u003e\n      \u003ctd\u003e0.0\u003c/td\u003e\n      \u003ctd\u003e0.0\u003c/td\u003e\n      \u003ctd\u003e0.0\u003c/td\u003e\n      \u003ctd\u003e0.0\u003c/td\u003e\n      \u003ctd\u003e../data/1943 - Victory Through Air Power.avi\u003c/td\u003e\n    \u003c/tr\u003e\n    \u003ctr\u003e\n      \u003cth\u003e4\u003c/th\u003e\n      \u003ctd\u003e./tmp/1943 - Victory Through Air Power.avi_sub...\u003c/td\u003e\n      \u003ctd\u003e7.874541\u003c/td\u003e\n      \u003ctd\u003e0.000003\u003c/td\u003e\n      \u003ctd\u003e0.000000\u003c/td\u003e\n      \u003ctd\u003e0.000000\u003c/td\u003e\n      \u003ctd\u003e0.000000\u003c/td\u003e\n      \u003ctd\u003e0.0\u003c/td\u003e\n      \u003ctd\u003e0.0\u003c/td\u003e\n      \u003ctd\u003e0.000000\u003c/td\u003e\n      \u003ctd\u003e0.000000\u003c/td\u003e\n      \u003ctd\u003e...\u003c/td\u003e\n      \u003ctd\u003e0.0\u003c/td\u003e\n      \u003ctd\u003e0.0\u003c/td\u003e\n      \u003ctd\u003e0.0\u003c/td\u003e\n      \u003ctd\u003e0.0\u003c/td\u003e\n      \u003ctd\u003e0.0\u003c/td\u003e\n      \u003ctd\u003e0.0\u003c/td\u003e\n      \u003ctd\u003e0.0\u003c/td\u003e\n      \u003ctd\u003e0.0\u003c/td\u003e\n      \u003ctd\u003e0.0\u003c/td\u003e\n      \u003ctd\u003e../data/1943 - Victory Through Air Power.avi\u003c/td\u003e\n    \u003c/tr\u003e\n  \u003c/tbody\u003e\n\u003c/table\u003e\n\u003cp\u003e5 rows × 903 columns\u003c/p\u003e\n\u003c/div\u003e"
          },
          "metadata": {},
          "output_type": "execute_result",
          "execution_count": 83
        }
      ],
      "source": [
        "subclips_df \u003d pd.read_csv(SUBCLIPS_CSV)\n",
        "subclips_df.head()"
      ]
    },
    {
      "cell_type": "code",
      "execution_count": 84,
      "metadata": {
        "pycharm": {
          "is_executing": false
        }
      },
      "outputs": [
        {
          "data": {
            "text/plain": "../data/1948 - Melody Time.avi                               244\n../data/1943 - Victory Through Air Power.avi                 184\n../data/1945 - The Three Caballeros.avi                      135\n../data/1940 - Pinocchio.avi                                  50\n../data/1948 - So Dear to My Heart.mp4                        46\n../data/1947 - Fun and Fancy Free.avi                         43\n../data/1937 - Snow White and the Seven Dwarves.avi           41\n../data/1949 - The Adventures Of Ichabod And Mr. Toad.m4v     37\n../data/The.Young.Pope.S01E02.HDTVRip.Jaskier.avi             24\n../data/1941 - Dumbo.avi                                      22\n../data/The.Young.Pope.S01E01.HDTVRip.Jaskier.avi             22\n../data/1942 - Bambi.avi                                      19\n../data/The.Young.Pope.S01E04.HDTVRip.Jaskier.avi             19\n../data/1946 - Make Mine Music.avi                            18\n../data/The.Young.Pope.S01E03.HDTVRip.Jaskier.avi             18\n../data/1928 - Mickey Mouse -  Steamboat Willie.mp4           17\n../data/1946 - Song of the South.avi                          16\n../data/1929 - Mickey Mouse - Plane Crazy.avi                 12\n../data/1941 - The Reluctant Dragon.avi                        8\n../data/1940 - Fantasia.avi                                    4\nName: video_path, dtype: int64"
          },
          "metadata": {},
          "output_type": "execute_result",
          "execution_count": 84
        }
      ],
      "source": [
        "subclips_df.video_path.value_counts()"
      ]
    },
    {
      "cell_type": "code",
      "execution_count": 85,
      "metadata": {
        "pycharm": {
          "is_executing": false
        }
      },
      "outputs": [],
      "source": [
        "def get_closest_vectors(query_vectors, vectors, metric):\n",
        "    distances \u003d scipy.spatial.distance.cdist(query_vectors, vectors, metric\u003dmetric)\n",
        "    min_indices \u003d np.argmin(distances, axis\u003d1)\n",
        "    min_dists \u003d distances[range(len(distances)), min_indices]\n",
        "    return min_indices, min_dists\n",
        "\n",
        "class VideoClassifier:\n",
        "    def __init__(self, vectors, labels, treshold\u003d0.3, metric\u003d\u0027euclidean\u0027):\n",
        "        \"\"\"\n",
        "        N - total amount of video frames\n",
        "        K - amount of features\n",
        "        vectors: N x K frame descriptor vectors\n",
        "        labels: N x 1 frame labels\n",
        "        \"\"\"\n",
        "        self.vectors \u003d vectors\n",
        "        self.labels \u003d labels\n",
        "        self.treshold \u003d treshold\n",
        "        self.metric \u003d metric\n",
        "        \n",
        "    def classify(self, vectors):\n",
        "        \"\"\"\n",
        "        Majority vote\n",
        "        \"\"\"\n",
        "        min_indices, min_dists \u003d get_closest_vectors(vectors, self.vectors, self.metric)\n",
        "        votes \u003d self.labels[min_indices]\n",
        "        miss_mask \u003d min_dists \u003e self.treshold\n",
        "        votes[miss_mask] \u003d \u0027miss\u0027\n",
        "        moc \u003d max([(list(votes).count(chr),chr) for chr in set(votes)])\n",
        "        moc \u003d moc[1]\n",
        "        return moc, votes, min_dists"
      ]
    },
    {
      "cell_type": "code",
      "execution_count": 86,
      "metadata": {
        "pycharm": {
          "is_executing": false
        }
      },
      "outputs": [],
      "source": [
        "class FaissVideoClassifier:\n",
        "    def __init__(self, vectors, labels, treshold\u003d0.3, ncells\u003d0.01):\n",
        "        \"\"\"\n",
        "        N - total amount of video frames\n",
        "        K - amount of features\n",
        "        vectors: N x K frame descriptor vectors\n",
        "        labels: N x 1 frame labels\n",
        "        \"\"\"\n",
        "        vectors \u003d np.ascontiguousarray(vectors.astype(\u0027float32\u0027))\n",
        "        faiss.normalize_L2(vectors)\n",
        "        self.vectors \u003d np.ascontiguousarray(vectors)\n",
        "        \n",
        "        quantizer \u003d faiss.IndexFlatL2(self.vectors.shape[1])  # the other index\n",
        "        self.index \u003d faiss.IndexIVFFlat(quantizer, self.vectors.shape[1], int(ncells*len(self.vectors)), faiss.METRIC_INNER_PRODUCT)\n",
        "        self.index.train(self.vectors)\n",
        "        self.index.add(self.vectors)\n",
        "        self.labels \u003d labels\n",
        "        self.treshold \u003d treshold\n",
        "        \n",
        "    def classify(self, vectors):\n",
        "        \"\"\"\n",
        "        Majority vote\n",
        "        \"\"\"\n",
        "        vectors \u003d np.ascontiguousarray(vectors.astype(\u0027float32\u0027))\n",
        "        faiss.normalize_L2(vectors)\n",
        "        vectors \u003d np.ascontiguousarray(vectors)\n",
        "        D, I \u003d self.index.search(vectors, 1)\n",
        "        min_indices, min_dists \u003d I.flatten(), D.flatten()\n",
        "        closest_vectors \u003d self.vectors[min_indices]\n",
        "\n",
        "        votes \u003d self.labels[min_indices]\n",
        "        miss_mask \u003d abs(1 - min_dists) \u003e self.treshold\n",
        "        votes[miss_mask] \u003d \u0027miss\u0027\n",
        "        \n",
        "        moc \u003d max([(list(votes).count(chr),chr) for chr in set(votes)])\n",
        "        moc \u003d moc[1]\n",
        "        return moc, votes, min_dists"
      ]
    },
    {
      "cell_type": "code",
      "execution_count": 87,
      "metadata": {
        "pycharm": {
          "is_executing": false
        }
      },
      "outputs": [
        {
          "data": {
            "text/plain": "                                     video_path  frame_time       x_0  x_1  \\\n0  ../data/1943 - Victory Through Air Power.avi    0.033367  0.000000  0.0   \n1  ../data/1943 - Victory Through Air Power.avi    2.035369  0.000108  0.0   \n2  ../data/1943 - Victory Through Air Power.avi    2.068735  0.000058  0.0   \n3  ../data/1943 - Victory Through Air Power.avi    2.102102  0.000017  0.0   \n4  ../data/1943 - Victory Through Air Power.avi    2.135469  0.000006  0.0   \n\n   x_2       x_3       x_4       x_5       x_6       x_7  ...  x_890  x_891  \\\n0  0.0  0.000000  0.000000  0.140162  0.000000  0.000000  ...    0.0    0.0   \n1  0.0  0.000000  0.000044  0.007993  0.000000  0.000355  ...    0.0    0.0   \n2  0.0  0.000105  0.000036  0.009339  0.000008  0.000000  ...    0.0    0.0   \n3  0.0  0.000147  0.000103  0.008468  0.000019  0.000000  ...    0.0    0.0   \n4  0.0  0.000203  0.000050  0.008313  0.000011  0.000000  ...    0.0    0.0   \n\n   x_892  x_893  x_894  x_895  x_896  x_897  x_898  x_899  \n0    0.0    0.0    0.0    0.0    0.0    0.0    0.0    0.0  \n1    0.0    0.0    0.0    0.0    0.0    0.0    0.0    0.0  \n2    0.0    0.0    0.0    0.0    0.0    0.0    0.0    0.0  \n3    0.0    0.0    0.0    0.0    0.0    0.0    0.0    0.0  \n4    0.0    0.0    0.0    0.0    0.0    0.0    0.0    0.0  \n\n[5 rows x 902 columns]",
            "text/html": "\u003cdiv\u003e\n\u003cstyle scoped\u003e\n    .dataframe tbody tr th:only-of-type {\n        vertical-align: middle;\n    }\n\n    .dataframe tbody tr th {\n        vertical-align: top;\n    }\n\n    .dataframe thead th {\n        text-align: right;\n    }\n\u003c/style\u003e\n\u003ctable border\u003d\"1\" class\u003d\"dataframe\"\u003e\n  \u003cthead\u003e\n    \u003ctr style\u003d\"text-align: right;\"\u003e\n      \u003cth\u003e\u003c/th\u003e\n      \u003cth\u003evideo_path\u003c/th\u003e\n      \u003cth\u003eframe_time\u003c/th\u003e\n      \u003cth\u003ex_0\u003c/th\u003e\n      \u003cth\u003ex_1\u003c/th\u003e\n      \u003cth\u003ex_2\u003c/th\u003e\n      \u003cth\u003ex_3\u003c/th\u003e\n      \u003cth\u003ex_4\u003c/th\u003e\n      \u003cth\u003ex_5\u003c/th\u003e\n      \u003cth\u003ex_6\u003c/th\u003e\n      \u003cth\u003ex_7\u003c/th\u003e\n      \u003cth\u003e...\u003c/th\u003e\n      \u003cth\u003ex_890\u003c/th\u003e\n      \u003cth\u003ex_891\u003c/th\u003e\n      \u003cth\u003ex_892\u003c/th\u003e\n      \u003cth\u003ex_893\u003c/th\u003e\n      \u003cth\u003ex_894\u003c/th\u003e\n      \u003cth\u003ex_895\u003c/th\u003e\n      \u003cth\u003ex_896\u003c/th\u003e\n      \u003cth\u003ex_897\u003c/th\u003e\n      \u003cth\u003ex_898\u003c/th\u003e\n      \u003cth\u003ex_899\u003c/th\u003e\n    \u003c/tr\u003e\n  \u003c/thead\u003e\n  \u003ctbody\u003e\n    \u003ctr\u003e\n      \u003cth\u003e0\u003c/th\u003e\n      \u003ctd\u003e../data/1943 - Victory Through Air Power.avi\u003c/td\u003e\n      \u003ctd\u003e0.033367\u003c/td\u003e\n      \u003ctd\u003e0.000000\u003c/td\u003e\n      \u003ctd\u003e0.0\u003c/td\u003e\n      \u003ctd\u003e0.0\u003c/td\u003e\n      \u003ctd\u003e0.000000\u003c/td\u003e\n      \u003ctd\u003e0.000000\u003c/td\u003e\n      \u003ctd\u003e0.140162\u003c/td\u003e\n      \u003ctd\u003e0.000000\u003c/td\u003e\n      \u003ctd\u003e0.000000\u003c/td\u003e\n      \u003ctd\u003e...\u003c/td\u003e\n      \u003ctd\u003e0.0\u003c/td\u003e\n      \u003ctd\u003e0.0\u003c/td\u003e\n      \u003ctd\u003e0.0\u003c/td\u003e\n      \u003ctd\u003e0.0\u003c/td\u003e\n      \u003ctd\u003e0.0\u003c/td\u003e\n      \u003ctd\u003e0.0\u003c/td\u003e\n      \u003ctd\u003e0.0\u003c/td\u003e\n      \u003ctd\u003e0.0\u003c/td\u003e\n      \u003ctd\u003e0.0\u003c/td\u003e\n      \u003ctd\u003e0.0\u003c/td\u003e\n    \u003c/tr\u003e\n    \u003ctr\u003e\n      \u003cth\u003e1\u003c/th\u003e\n      \u003ctd\u003e../data/1943 - Victory Through Air Power.avi\u003c/td\u003e\n      \u003ctd\u003e2.035369\u003c/td\u003e\n      \u003ctd\u003e0.000108\u003c/td\u003e\n      \u003ctd\u003e0.0\u003c/td\u003e\n      \u003ctd\u003e0.0\u003c/td\u003e\n      \u003ctd\u003e0.000000\u003c/td\u003e\n      \u003ctd\u003e0.000044\u003c/td\u003e\n      \u003ctd\u003e0.007993\u003c/td\u003e\n      \u003ctd\u003e0.000000\u003c/td\u003e\n      \u003ctd\u003e0.000355\u003c/td\u003e\n      \u003ctd\u003e...\u003c/td\u003e\n      \u003ctd\u003e0.0\u003c/td\u003e\n      \u003ctd\u003e0.0\u003c/td\u003e\n      \u003ctd\u003e0.0\u003c/td\u003e\n      \u003ctd\u003e0.0\u003c/td\u003e\n      \u003ctd\u003e0.0\u003c/td\u003e\n      \u003ctd\u003e0.0\u003c/td\u003e\n      \u003ctd\u003e0.0\u003c/td\u003e\n      \u003ctd\u003e0.0\u003c/td\u003e\n      \u003ctd\u003e0.0\u003c/td\u003e\n      \u003ctd\u003e0.0\u003c/td\u003e\n    \u003c/tr\u003e\n    \u003ctr\u003e\n      \u003cth\u003e2\u003c/th\u003e\n      \u003ctd\u003e../data/1943 - Victory Through Air Power.avi\u003c/td\u003e\n      \u003ctd\u003e2.068735\u003c/td\u003e\n      \u003ctd\u003e0.000058\u003c/td\u003e\n      \u003ctd\u003e0.0\u003c/td\u003e\n      \u003ctd\u003e0.0\u003c/td\u003e\n      \u003ctd\u003e0.000105\u003c/td\u003e\n      \u003ctd\u003e0.000036\u003c/td\u003e\n      \u003ctd\u003e0.009339\u003c/td\u003e\n      \u003ctd\u003e0.000008\u003c/td\u003e\n      \u003ctd\u003e0.000000\u003c/td\u003e\n      \u003ctd\u003e...\u003c/td\u003e\n      \u003ctd\u003e0.0\u003c/td\u003e\n      \u003ctd\u003e0.0\u003c/td\u003e\n      \u003ctd\u003e0.0\u003c/td\u003e\n      \u003ctd\u003e0.0\u003c/td\u003e\n      \u003ctd\u003e0.0\u003c/td\u003e\n      \u003ctd\u003e0.0\u003c/td\u003e\n      \u003ctd\u003e0.0\u003c/td\u003e\n      \u003ctd\u003e0.0\u003c/td\u003e\n      \u003ctd\u003e0.0\u003c/td\u003e\n      \u003ctd\u003e0.0\u003c/td\u003e\n    \u003c/tr\u003e\n    \u003ctr\u003e\n      \u003cth\u003e3\u003c/th\u003e\n      \u003ctd\u003e../data/1943 - Victory Through Air Power.avi\u003c/td\u003e\n      \u003ctd\u003e2.102102\u003c/td\u003e\n      \u003ctd\u003e0.000017\u003c/td\u003e\n      \u003ctd\u003e0.0\u003c/td\u003e\n      \u003ctd\u003e0.0\u003c/td\u003e\n      \u003ctd\u003e0.000147\u003c/td\u003e\n      \u003ctd\u003e0.000103\u003c/td\u003e\n      \u003ctd\u003e0.008468\u003c/td\u003e\n      \u003ctd\u003e0.000019\u003c/td\u003e\n      \u003ctd\u003e0.000000\u003c/td\u003e\n      \u003ctd\u003e...\u003c/td\u003e\n      \u003ctd\u003e0.0\u003c/td\u003e\n      \u003ctd\u003e0.0\u003c/td\u003e\n      \u003ctd\u003e0.0\u003c/td\u003e\n      \u003ctd\u003e0.0\u003c/td\u003e\n      \u003ctd\u003e0.0\u003c/td\u003e\n      \u003ctd\u003e0.0\u003c/td\u003e\n      \u003ctd\u003e0.0\u003c/td\u003e\n      \u003ctd\u003e0.0\u003c/td\u003e\n      \u003ctd\u003e0.0\u003c/td\u003e\n      \u003ctd\u003e0.0\u003c/td\u003e\n    \u003c/tr\u003e\n    \u003ctr\u003e\n      \u003cth\u003e4\u003c/th\u003e\n      \u003ctd\u003e../data/1943 - Victory Through Air Power.avi\u003c/td\u003e\n      \u003ctd\u003e2.135469\u003c/td\u003e\n      \u003ctd\u003e0.000006\u003c/td\u003e\n      \u003ctd\u003e0.0\u003c/td\u003e\n      \u003ctd\u003e0.0\u003c/td\u003e\n      \u003ctd\u003e0.000203\u003c/td\u003e\n      \u003ctd\u003e0.000050\u003c/td\u003e\n      \u003ctd\u003e0.008313\u003c/td\u003e\n      \u003ctd\u003e0.000011\u003c/td\u003e\n      \u003ctd\u003e0.000000\u003c/td\u003e\n      \u003ctd\u003e...\u003c/td\u003e\n      \u003ctd\u003e0.0\u003c/td\u003e\n      \u003ctd\u003e0.0\u003c/td\u003e\n      \u003ctd\u003e0.0\u003c/td\u003e\n      \u003ctd\u003e0.0\u003c/td\u003e\n      \u003ctd\u003e0.0\u003c/td\u003e\n      \u003ctd\u003e0.0\u003c/td\u003e\n      \u003ctd\u003e0.0\u003c/td\u003e\n      \u003ctd\u003e0.0\u003c/td\u003e\n      \u003ctd\u003e0.0\u003c/td\u003e\n      \u003ctd\u003e0.0\u003c/td\u003e\n    \u003c/tr\u003e\n  \u003c/tbody\u003e\n\u003c/table\u003e\n\u003cp\u003e5 rows × 902 columns\u003c/p\u003e\n\u003c/div\u003e"
          },
          "metadata": {},
          "output_type": "execute_result",
          "execution_count": 87
        }
      ],
      "source": [
        "train_df.head()"
      ]
    },
    {
      "cell_type": "code",
      "execution_count": 88,
      "metadata": {
        "pycharm": {
          "is_executing": false
        }
      },
      "outputs": [
        {
          "data": {
            "text/plain": "array([[0.0000000e+00, 0.0000000e+00, 0.0000000e+00, ..., 0.0000000e+00,\n        0.0000000e+00, 0.0000000e+00],\n       [1.0824373e-04, 0.0000000e+00, 0.0000000e+00, ..., 0.0000000e+00,\n        0.0000000e+00, 0.0000000e+00],\n       [5.8285088e-05, 0.0000000e+00, 0.0000000e+00, ..., 0.0000000e+00,\n        0.0000000e+00, 0.0000000e+00],\n       ...,\n       [5.7452440e-04, 0.0000000e+00, 0.0000000e+00, ..., 0.0000000e+00,\n        0.0000000e+00, 0.0000000e+00],\n       [0.0000000e+00, 8.3264413e-06, 8.3264413e-06, ..., 0.0000000e+00,\n        0.0000000e+00, 0.0000000e+00],\n       [1.9428362e-04, 0.0000000e+00, 5.8285088e-05, ..., 0.0000000e+00,\n        0.0000000e+00, 0.0000000e+00]], dtype\u003dfloat32)"
          },
          "metadata": {},
          "output_type": "execute_result",
          "execution_count": 88
        }
      ],
      "source": [
        "frame_times \u003d train_df[\u0027frame_time\u0027]\n",
        "labels \u003d train_df.video_path.values\n",
        "frame_vectors \u003d np.ascontiguousarray(train_df.drop([\u0027frame_time\u0027, \u0027video_path\u0027], axis\u003d1).values).astype(\u0027float32\u0027)\n",
        "frame_vectors"
      ]
    },
    {
      "cell_type": "code",
      "execution_count": 89,
      "metadata": {
        "pycharm": {
          "is_executing": false
        }
      },
      "outputs": [],
      "source": "clf \u003d FaissVideoClassifier(frame_vectors, labels, treshold\u003d0.5)"
    },
    {
      "cell_type": "code",
      "execution_count": 90,
      "metadata": {
        "scrolled": false,
        "pycharm": {
          "is_executing": false
        }
      },
      "outputs": [
        {
          "name": "stdout",
          "text": [
            "CPU times: user 3.17 s, sys: 92.9 ms, total: 3.26 s\nWall time: 947 ms\n"
          ],
          "output_type": "stream"
        }
      ],
      "source": [
        "%%time\n",
        "unique_subclips \u003d list(subclips_df.clip_path.unique())\n",
        "y_true \u003d []\n",
        "y_pred \u003d []\n",
        "for clip in unique_subclips:\n",
        "    subclip_df \u003d subclips_df[subclips_df.clip_path \u003d\u003d clip]\n",
        "    subclip_vectors \u003d  subclip_df.drop([\u0027frame_time\u0027, \u0027video_path\u0027, \u0027clip_path\u0027], axis\u003d1).values\n",
        "    true_label \u003d subclip_df.iloc[0].video_path\n",
        "    y_true.append(true_label)\n",
        "    predicted_label, votes, dists \u003d clf.classify(subclip_vectors)\n",
        "    y_pred.append(predicted_label)"
      ]
    },
    {
      "cell_type": "code",
      "execution_count": 91,
      "metadata": {
        "pycharm": {
          "is_executing": false
        }
      },
      "outputs": [
        {
          "name": "stdout",
          "text": [
            "                                                           precision    recall  f1-score   support\n\n      ../data/1928 - Mickey Mouse -  Steamboat Willie.mp4       1.00      0.20      0.33        10\n            ../data/1929 - Mickey Mouse - Plane Crazy.avi       1.00      1.00      1.00        10\n      ../data/1937 - Snow White and the Seven Dwarves.avi       1.00      0.80      0.89        10\n                              ../data/1940 - Fantasia.avi       1.00      0.67      0.80         3\n                             ../data/1940 - Pinocchio.avi       0.71      1.00      0.83        10\n                                 ../data/1941 - Dumbo.avi       0.82      0.90      0.86        10\n                  ../data/1941 - The Reluctant Dragon.avi       0.67      0.50      0.57         8\n                                 ../data/1942 - Bambi.avi       0.73      0.89      0.80         9\n             ../data/1943 - Victory Through Air Power.avi       1.00      0.90      0.95        10\n                  ../data/1945 - The Three Caballeros.avi       0.91      1.00      0.95        10\n                       ../data/1946 - Make Mine Music.avi       0.75      0.60      0.67        10\n                     ../data/1946 - Song of the South.avi       1.00      0.80      0.89        10\n                    ../data/1947 - Fun and Fancy Free.avi       0.77      1.00      0.87        10\n                           ../data/1948 - Melody Time.avi       0.75      0.75      0.75         8\n                   ../data/1948 - So Dear to My Heart.mp4       0.59      1.00      0.74        10\n../data/1949 - The Adventures Of Ichabod And Mr. Toad.m4v       0.83      1.00      0.91        10\n        ../data/The.Young.Pope.S01E01.HDTVRip.Jaskier.avi       0.67      0.60      0.63        10\n        ../data/The.Young.Pope.S01E02.HDTVRip.Jaskier.avi       0.67      0.80      0.73        10\n        ../data/The.Young.Pope.S01E03.HDTVRip.Jaskier.avi       0.78      0.78      0.78         9\n        ../data/The.Young.Pope.S01E04.HDTVRip.Jaskier.avi       0.86      0.60      0.71        10\n\n                                                micro avg       0.80      0.80      0.80       187\n                                                macro avg       0.82      0.79      0.78       187\n                                             weighted avg       0.82      0.80      0.78       187\n\n"
          ],
          "output_type": "stream"
        }
      ],
      "source": [
        "print(classification_report(y_true, y_pred))"
      ]
    },
    {
      "cell_type": "code",
      "execution_count": 92,
      "metadata": {
        "pycharm": {
          "is_executing": false
        }
      },
      "outputs": [
        {
          "name": "stdout",
          "text": [
            "[[ 2  0  0  0  1  0  2  0  0  0  0  0  1  0  2  0  1  0  1  0]\n [ 0 10  0  0  0  0  0  0  0  0  0  0  0  0  0  0  0  0  0  0]\n [ 0  0  8  0  0  1  0  0  0  0  0  0  0  1  0  0  0  0  0  0]\n [ 0  0  0  2  0  0  0  0  0  0  0  0  0  0  1  0  0  0  0  0]\n [ 0  0  0  0 10  0  0  0  0  0  0  0  0  0  0  0  0  0  0  0]\n [ 0  0  0  0  0  9  0  0  0  0  1  0  0  0  0  0  0  0  0  0]\n [ 0  0  0  0  1  0  4  1  0  0  0  0  0  0  1  0  1  0  0  0]\n [ 0  0  0  0  0  0  0  8  0  0  0  0  0  0  0  1  0  0  0  0]\n [ 0  0  0  0  0  0  0  0  9  0  0  0  0  1  0  0  0  0  0  0]\n [ 0  0  0  0  0  0  0  0  0 10  0  0  0  0  0  0  0  0  0  0]\n [ 0  0  0  0  1  0  0  2  0  0  6  0  1  0  0  0  0  0  0  0]\n [ 0  0  0  0  0  0  0  0  0  0  1  8  0  0  0  0  0  1  0  0]\n [ 0  0  0  0  0  0  0  0  0  0  0  0 10  0  0  0  0  0  0  0]\n [ 0  0  0  0  0  0  0  0  0  0  0  0  0  6  0  1  0  1  0  0]\n [ 0  0  0  0  0  0  0  0  0  0  0  0  0  0 10  0  0  0  0  0]\n [ 0  0  0  0  0  0  0  0  0  0  0  0  0  0  0 10  0  0  0  0]\n [ 0  0  0  0  1  1  0  0  0  0  0  0  0  0  1  0  6  0  0  1]\n [ 0  0  0  0  0  0  0  0  0  0  0  0  0  0  1  0  1  8  0  0]\n [ 0  0  0  0  0  0  0  0  0  1  0  0  0  0  0  0  0  1  7  0]\n [ 0  0  0  0  0  0  0  0  0  0  0  0  1  0  1  0  0  1  1  6]]\nAccuracy 0.7967914438502673\n"
          ],
          "output_type": "stream"
        }
      ],
      "source": "print(\u0027Accuracy\u0027, accuracy_score(y_true, y_pred))"
    },
    {
      "cell_type": "code",
      "execution_count": 65,
      "metadata": {
        "pycharm": {
          "is_executing": false
        }
      },
      "outputs": [],
      "source": [
        "# Removing one video from the training set, so that we can see how the algorithm behaves on out-of-sample data"
      ]
    },
    {
      "cell_type": "code",
      "execution_count": 66,
      "metadata": {
        "pycharm": {
          "is_executing": false
        }
      },
      "outputs": [],
      "source": [
        "to_remove \u003d random.sample(list(train_df.video_path.unique()), 3)\n",
        "cut_df \u003d train_df[~train_df.video_path.isin(to_remove)]\n",
        "\n",
        "frame_times \u003d cut_df.frame_time\n",
        "labels \u003d cut_df.video_path.values\n",
        "frame_vectors \u003d cut_df.drop([\u0027frame_time\u0027, \u0027video_path\u0027], axis\u003d1).values"
      ]
    },
    {
      "cell_type": "code",
      "execution_count": 97,
      "metadata": {
        "pycharm": {
          "is_executing": false
        }
      },
      "outputs": [],
      "source": "clf \u003d FaissVideoClassifier(frame_vectors, labels, treshold\u003d0.3)"
    },
    {
      "cell_type": "code",
      "execution_count": 98,
      "metadata": {
        "scrolled": false,
        "pycharm": {
          "is_executing": false
        }
      },
      "outputs": [
        {
          "name": "stdout",
          "text": [
            "                                                           precision    recall  f1-score   support\n\n      ../data/1928 - Mickey Mouse -  Steamboat Willie.mp4       1.00      0.20      0.33        10\n            ../data/1929 - Mickey Mouse - Plane Crazy.avi       1.00      1.00      1.00        10\n      ../data/1937 - Snow White and the Seven Dwarves.avi       1.00      0.70      0.82        10\n                              ../data/1940 - Fantasia.avi       1.00      0.67      0.80         3\n                             ../data/1940 - Pinocchio.avi       0.00      0.00      0.00         0\n                                 ../data/1941 - Dumbo.avi       1.00      0.90      0.95        10\n                  ../data/1941 - The Reluctant Dragon.avi       0.00      0.00      0.00         0\n                                 ../data/1942 - Bambi.avi       0.89      0.89      0.89         9\n             ../data/1943 - Victory Through Air Power.avi       0.00      0.00      0.00         0\n                  ../data/1945 - The Three Caballeros.avi       0.91      1.00      0.95        10\n                       ../data/1946 - Make Mine Music.avi       0.86      0.60      0.71        10\n                     ../data/1946 - Song of the South.avi       1.00      0.80      0.89        10\n                    ../data/1947 - Fun and Fancy Free.avi       0.83      1.00      0.91        10\n                           ../data/1948 - Melody Time.avi       0.75      0.38      0.50         8\n                   ../data/1948 - So Dear to My Heart.mp4       0.59      1.00      0.74        10\n../data/1949 - The Adventures Of Ichabod And Mr. Toad.m4v       0.82      0.90      0.86        10\n        ../data/The.Young.Pope.S01E01.HDTVRip.Jaskier.avi       0.75      0.60      0.67        10\n        ../data/The.Young.Pope.S01E02.HDTVRip.Jaskier.avi       0.73      0.80      0.76        10\n        ../data/The.Young.Pope.S01E03.HDTVRip.Jaskier.avi       0.88      0.78      0.82         9\n        ../data/The.Young.Pope.S01E04.HDTVRip.Jaskier.avi       1.00      0.50      0.67        10\n                                                     miss       0.17      0.11      0.13        28\n\n                                                micro avg       0.66      0.66      0.66       187\n                                                macro avg       0.72      0.61      0.64       187\n                                             weighted avg       0.77      0.66      0.68       187\n\nAccuracy 0.6577540106951871\n"
          ],
          "output_type": "stream"
        }
      ],
      "source": "targets \u003d cut_df.video_path.unique()\nunique_subclips \u003d list(subclips_df.clip_path.unique())\ny_true \u003d []\ny_pred \u003d []\nfor clip in unique_subclips:\n    subclip_df \u003d subclips_df[subclips_df.clip_path \u003d\u003d clip]\n    subclip_vectors \u003d  subclip_df.drop([\u0027frame_time\u0027, \u0027video_path\u0027, \u0027clip_path\u0027], axis\u003d1).values\n    true_label \u003d subclip_df.iloc[0].video_path if subclip_df.iloc[0].video_path in targets else \u0027miss\u0027\n    y_true.append(true_label)\n    predicted_label, votes, dists \u003d clf.classify(subclip_vectors)\n    y_pred.append(predicted_label)\nprint(classification_report(y_true, y_pred))\nprint(\u0027Accuracy\u0027, accuracy_score(y_true, y_pred))"
    },
    {
      "cell_type": "code",
      "execution_count": null,
      "metadata": {
        "pycharm": {}
      },
      "outputs": [],
      "source": []
    },
    {
      "cell_type": "code",
      "execution_count": null,
      "metadata": {
        "pycharm": {}
      },
      "outputs": [],
      "source": []
    }
  ],
  "metadata": {
    "kernelspec": {
      "display_name": "Python 3",
      "language": "python",
      "name": "python3"
    },
    "language_info": {
      "codemirror_mode": {
        "name": "ipython",
        "version": 3
      },
      "file_extension": ".py",
      "mimetype": "text/x-python",
      "name": "python",
      "nbconvert_exporter": "python",
      "pygments_lexer": "ipython3",
      "version": "3.6.4"
    }
  },
  "nbformat": 4,
  "nbformat_minor": 2
}