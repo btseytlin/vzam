{
  "cells": [
    {
      "cell_type": "code",
      "execution_count": 1,
      "metadata": {
        "pycharm": {
          "is_executing": false
        }
      },
      "outputs": [],
      "source": "import matplotlib.pyplot as plt\nimport pandas as pd\n%matplotlib inline"
    },
    {
      "cell_type": "code",
      "execution_count": 2,
      "metadata": {
        "pycharm": {
          "is_executing": false
        }
      },
      "outputs": [],
      "source": "from vzam import *"
    },
    {
      "cell_type": "code",
      "execution_count": 3,
      "outputs": [],
      "source": "DATASET_NAME \u003d \u0027LOCALHIST_CORRUPT\u0027\nvideo_folder \u003d \u0027../data\u0027\nframe_dir_path \u003d \u0027./frames\u0027\ntmp_dir_path \u003d \u0027./tmp\u0027\n\nif os.path.exists(frame_dir_path):\n    shutil.rmtree(frame_dir_path)\nos.makedirs(frame_dir_path)\n    \nif os.path.exists(tmp_dir_path):\n    shutil.rmtree(tmp_dir_path)\nos.makedirs(tmp_dir_path)\n\nFEATURE_EXTRACTOR \u003d local_histogram_features",
      "metadata": {
        "pycharm": {
          "metadata": false,
          "name": "#%%\n",
          "is_executing": false
        }
      }
    },
    {
      "cell_type": "code",
      "execution_count": 10,
      "metadata": {
        "scrolled": false,
        "pycharm": {
          "is_executing": false
        }
      },
      "outputs": [
        {
          "name": "stdout",
          "text": [
            "Processing ../data/1943 - Victory Through Air Power.avi\n"
          ],
          "output_type": "stream"
        },
        {
          "traceback": [
            "\u001b[0;31m---------------------------------------------------------------------------\u001b[0m",
            "\u001b[0;31mKeyboardInterrupt\u001b[0m                         Traceback (most recent call last)",
            "\u001b[0;32m\u003cipython-input-10-62efe7ab26b7\u003e\u001b[0m in \u001b[0;36m\u003cmodule\u003e\u001b[0;34m\u001b[0m\n\u001b[1;32m      3\u001b[0m                    \u001b[0mfeature_extractor\u001b[0m\u001b[0;34m\u003d\u001b[0m\u001b[0mFEATURE_EXTRACTOR\u001b[0m\u001b[0;34m,\u001b[0m\u001b[0;34m\u001b[0m\u001b[0;34m\u001b[0m\u001b[0m\n\u001b[1;32m      4\u001b[0m                    \u001b[0mpreprocessor\u001b[0m\u001b[0;34m\u003d\u001b[0m\u001b[0mpreprocess_image_load\u001b[0m\u001b[0;34m,\u001b[0m\u001b[0;34m\u001b[0m\u001b[0;34m\u001b[0m\u001b[0m\n\u001b[0;32m----\u003e 5\u001b[0;31m                    mod_filter\u003d20)\n\u001b[0m",
            "\u001b[0;32m~/study/курсовой/vzam/vzam/data_extraction.py\u001b[0m in \u001b[0;36mget_dataframe\u001b[0;34m(fpaths, feature_extractor, preprocessor, keyframe_only, write_frames_dir, mod_filter)\u001b[0m\n\u001b[1;32m     75\u001b[0m                                     \u001b[0mkeyframe_only\u001b[0m\u001b[0;34m\u003d\u001b[0m\u001b[0mkeyframe_only\u001b[0m\u001b[0;34m,\u001b[0m\u001b[0;34m\u001b[0m\u001b[0;34m\u001b[0m\u001b[0m\n\u001b[1;32m     76\u001b[0m                                     \u001b[0mwrite_frames_dir\u001b[0m\u001b[0;34m\u003d\u001b[0m\u001b[0mwrite_frames_dir\u001b[0m\u001b[0;34m,\u001b[0m\u001b[0;34m\u001b[0m\u001b[0;34m\u001b[0m\u001b[0m\n\u001b[0;32m---\u003e 77\u001b[0;31m                                     mod_filter\u003dmod_filter)\n\u001b[0m\u001b[1;32m     78\u001b[0m         \u001b[0mrows\u001b[0m \u001b[0;34m+\u003d\u001b[0m \u001b[0mvideo_rows\u001b[0m\u001b[0;34m\u001b[0m\u001b[0;34m\u001b[0m\u001b[0m\n\u001b[1;32m     79\u001b[0m         \u001b[0mi\u001b[0m \u001b[0;34m+\u003d\u001b[0m \u001b[0;36m1\u001b[0m\u001b[0;34m\u001b[0m\u001b[0;34m\u001b[0m\u001b[0m\n",
            "\u001b[0;32m~/study/курсовой/vzam/vzam/data_extraction.py\u001b[0m in \u001b[0;36mget_video_rows\u001b[0;34m(path, feature_extractor, preprocessor, keyframe_only, write_frames_dir, mod_filter)\u001b[0m\n\u001b[1;32m     35\u001b[0m     \u001b[0mframe_idx\u001b[0m \u001b[0;34m\u003d\u001b[0m \u001b[0;36m0\u001b[0m\u001b[0;34m\u001b[0m\u001b[0;34m\u001b[0m\u001b[0m\n\u001b[1;32m     36\u001b[0m \u001b[0;34m\u001b[0m\u001b[0m\n\u001b[0;32m---\u003e 37\u001b[0;31m     \u001b[0;32mfor\u001b[0m \u001b[0mframe\u001b[0m \u001b[0;32min\u001b[0m \u001b[0mcontainer\u001b[0m\u001b[0;34m.\u001b[0m\u001b[0mdecode\u001b[0m\u001b[0;34m(\u001b[0m\u001b[0mstream\u001b[0m\u001b[0;34m)\u001b[0m\u001b[0;34m:\u001b[0m\u001b[0;34m\u001b[0m\u001b[0;34m\u001b[0m\u001b[0m\n\u001b[0m\u001b[1;32m     38\u001b[0m         \u001b[0mframe_idx\u001b[0m \u001b[0;34m+\u003d\u001b[0m \u001b[0;36m1\u001b[0m\u001b[0;34m\u001b[0m\u001b[0;34m\u001b[0m\u001b[0m\n\u001b[1;32m     39\u001b[0m         \u001b[0;32mif\u001b[0m \u001b[0mmod_filter\u001b[0m \u001b[0;32mis\u001b[0m \u001b[0;32mnot\u001b[0m \u001b[0;32mNone\u001b[0m \u001b[0;32mand\u001b[0m \u001b[0mframe_idx\u001b[0m \u001b[0;34m%\u001b[0m \u001b[0mmod_filter\u001b[0m \u001b[0;34m!\u003d\u001b[0m \u001b[0;36m0\u001b[0m\u001b[0;34m:\u001b[0m\u001b[0;34m\u001b[0m\u001b[0;34m\u001b[0m\u001b[0m\n",
            "\u001b[0;31mKeyboardInterrupt\u001b[0m: "
          ],
          "ename": "KeyboardInterrupt",
          "evalue": "",
          "output_type": "error"
        }
      ],
      "source": "fpaths \u003d [os.path.join(video_folder, fpath) for fpath in os.listdir(video_folder)]\ndf \u003d get_dataframe(fpaths,\n                   feature_extractor\u003dFEATURE_EXTRACTOR,\n                   preprocessor\u003dpreprocess_image_load,\n                   mod_filter\u003d20)"
    },
    {
      "cell_type": "code",
      "execution_count": null,
      "metadata": {
        "pycharm": {
          "is_executing": true
        }
      },
      "outputs": [],
      "source": [
        "df.head()"
      ]
    },
    {
      "cell_type": "code",
      "execution_count": null,
      "metadata": {
        "pycharm": {
          "is_executing": true
        }
      },
      "outputs": [],
      "source": [
        "df.shape"
      ]
    },
    {
      "cell_type": "code",
      "execution_count": null,
      "metadata": {
        "pycharm": {
          "is_executing": true
        }
      },
      "outputs": [],
      "source": ""
    },
    {
      "cell_type": "code",
      "execution_count": null,
      "metadata": {
        "scrolled": false,
        "pycharm": {
          "is_executing": true
        }
      },
      "outputs": [],
      "source": "fpaths \u003d [os.path.join(video_folder, fpath) for fpath in os.listdir(video_folder)]\nsubclip_df \u003d get_subclip_dataframe(fpaths,\n                                   feature_extractor\u003dFEATURE_EXTRACTOR,\n                                   subclip_dir\u003dtmp_dir_path,\n                                   #write_frames_dir\u003dtmp_dir_path,\n                                   mod_filter\u003d40,\n                                   number_subclips\u003d10)"
    },
    {
      "cell_type": "code",
      "execution_count": null,
      "metadata": {
        "pycharm": {
          "is_executing": true
        }
      },
      "outputs": [],
      "source": [
        "subclip_df.head()"
      ]
    },
    {
      "cell_type": "code",
      "execution_count": 5,
      "metadata": {
        "pycharm": {
          "is_executing": false
        }
      },
      "outputs": [
        {
          "traceback": [
            "\u001b[0;31m---------------------------------------------------------------------------\u001b[0m",
            "\u001b[0;31mNameError\u001b[0m                                 Traceback (most recent call last)",
            "\u001b[0;32m\u003cipython-input-5-e137dafb9a12\u003e\u001b[0m in \u001b[0;36m\u003cmodule\u003e\u001b[0;34m\u001b[0m\n\u001b[0;32m----\u003e 1\u001b[0;31m \u001b[0msubclip_df\u001b[0m \u001b[0;34m\u003d\u001b[0m \u001b[0msubclip_df\u001b[0m\u001b[0;34m.\u001b[0m\u001b[0mrename\u001b[0m\u001b[0;34m(\u001b[0m\u001b[0;34m{\u001b[0m\u001b[0;34m\u0027video_path\u0027\u001b[0m\u001b[0;34m:\u001b[0m \u001b[0;34m\u0027clip_path\u0027\u001b[0m\u001b[0;34m,\u001b[0m \u001b[0;34m\u0027source_fpath\u0027\u001b[0m\u001b[0;34m:\u001b[0m \u001b[0;34m\u0027video_path\u0027\u001b[0m\u001b[0;34m}\u001b[0m\u001b[0;34m,\u001b[0m \u001b[0maxis\u001b[0m\u001b[0;34m\u003d\u001b[0m\u001b[0;36m1\u001b[0m\u001b[0;34m)\u001b[0m\u001b[0;34m\u001b[0m\u001b[0;34m\u001b[0m\u001b[0m\n\u001b[0m\u001b[1;32m      2\u001b[0m \u001b[0msubclip_df\u001b[0m\u001b[0;34m.\u001b[0m\u001b[0mhead\u001b[0m\u001b[0;34m(\u001b[0m\u001b[0;34m)\u001b[0m\u001b[0;34m\u001b[0m\u001b[0;34m\u001b[0m\u001b[0m\n",
            "\u001b[0;31mNameError\u001b[0m: name \u0027subclip_df\u0027 is not defined"
          ],
          "ename": "NameError",
          "evalue": "name \u0027subclip_df\u0027 is not defined",
          "output_type": "error"
        }
      ],
      "source": [
        "subclip_df \u003d subclip_df.rename({\u0027video_path\u0027: \u0027clip_path\u0027, \u0027source_fpath\u0027: \u0027video_path\u0027}, axis\u003d1)\n",
        "subclip_df.head()"
      ]
    },
    {
      "cell_type": "code",
      "execution_count": 6,
      "metadata": {
        "pycharm": {
          "is_executing": false
        }
      },
      "outputs": [
        {
          "traceback": [
            "\u001b[0;31m---------------------------------------------------------------------------\u001b[0m",
            "\u001b[0;31mNameError\u001b[0m                                 Traceback (most recent call last)",
            "\u001b[0;32m\u003cipython-input-6-50cff376bdbe\u003e\u001b[0m in \u001b[0;36m\u003cmodule\u003e\u001b[0;34m\u001b[0m\n\u001b[0;32m----\u003e 1\u001b[0;31m \u001b[0msubclip_df\u001b[0m\u001b[0;34m.\u001b[0m\u001b[0mvideo_path\u001b[0m\u001b[0;34m.\u001b[0m\u001b[0mvalue_counts\u001b[0m\u001b[0;34m(\u001b[0m\u001b[0;34m)\u001b[0m\u001b[0;34m\u001b[0m\u001b[0;34m\u001b[0m\u001b[0m\n\u001b[0m",
            "\u001b[0;31mNameError\u001b[0m: name \u0027subclip_df\u0027 is not defined"
          ],
          "ename": "NameError",
          "evalue": "name \u0027subclip_df\u0027 is not defined",
          "output_type": "error"
        }
      ],
      "source": "subclip_df.video_path.value_counts()"
    },
    {
      "cell_type": "code",
      "execution_count": 7,
      "outputs": [
        {
          "data": {
            "text/plain": "\u0027LOCALHIST_CORRUPT\u0027"
          },
          "metadata": {},
          "output_type": "execute_result",
          "execution_count": 7
        }
      ],
      "source": "DATASET_NAME",
      "metadata": {
        "pycharm": {
          "metadata": false,
          "name": "#%%\n",
          "is_executing": false
        }
      }
    },
    {
      "cell_type": "code",
      "execution_count": 8,
      "metadata": {
        "pycharm": {
          "is_executing": false
        }
      },
      "outputs": [
        {
          "traceback": [
            "\u001b[0;31m---------------------------------------------------------------------------\u001b[0m",
            "\u001b[0;31mNameError\u001b[0m                                 Traceback (most recent call last)",
            "\u001b[0;32m\u003cipython-input-8-a1196c995755\u003e\u001b[0m in \u001b[0;36m\u003cmodule\u003e\u001b[0;34m\u001b[0m\n\u001b[0;32m----\u003e 1\u001b[0;31m \u001b[0mdf\u001b[0m\u001b[0;34m.\u001b[0m\u001b[0mto_csv\u001b[0m\u001b[0;34m(\u001b[0m\u001b[0;34m\u0027data/\u0027\u001b[0m\u001b[0;34m+\u001b[0m\u001b[0mDATASET_NAME\u001b[0m\u001b[0;34m+\u001b[0m\u001b[0;34m\u0027_df.csv\u0027\u001b[0m\u001b[0;34m,\u001b[0m \u001b[0mindex\u001b[0m\u001b[0;34m\u003d\u001b[0m\u001b[0;32mFalse\u001b[0m\u001b[0;34m)\u001b[0m\u001b[0;34m\u001b[0m\u001b[0;34m\u001b[0m\u001b[0m\n\u001b[0m\u001b[1;32m      2\u001b[0m \u001b[0mdf\u001b[0m\u001b[0;34m.\u001b[0m\u001b[0mhead\u001b[0m\u001b[0;34m(\u001b[0m\u001b[0;34m)\u001b[0m\u001b[0;34m\u001b[0m\u001b[0;34m\u001b[0m\u001b[0m\n",
            "\u001b[0;31mNameError\u001b[0m: name \u0027df\u0027 is not defined"
          ],
          "ename": "NameError",
          "evalue": "name \u0027df\u0027 is not defined",
          "output_type": "error"
        }
      ],
      "source": "df.to_csv(\u0027data/\u0027+DATASET_NAME+\u0027_df.csv\u0027, index\u003dFalse)\ndf.head()"
    },
    {
      "cell_type": "code",
      "execution_count": 9,
      "outputs": [
        {
          "traceback": [
            "\u001b[0;31m---------------------------------------------------------------------------\u001b[0m",
            "\u001b[0;31mNameError\u001b[0m                                 Traceback (most recent call last)",
            "\u001b[0;32m\u003cipython-input-9-a5be35044019\u003e\u001b[0m in \u001b[0;36m\u003cmodule\u003e\u001b[0;34m\u001b[0m\n\u001b[0;32m----\u003e 1\u001b[0;31m \u001b[0msubclip_df\u001b[0m\u001b[0;34m.\u001b[0m\u001b[0mto_csv\u001b[0m\u001b[0;34m(\u001b[0m\u001b[0;34m\u0027data/\u0027\u001b[0m\u001b[0;34m+\u001b[0m\u001b[0mDATASET_NAME\u001b[0m\u001b[0;34m+\u001b[0m\u001b[0;34m\u0027_subclips.csv\u0027\u001b[0m\u001b[0;34m,\u001b[0m \u001b[0mindex\u001b[0m\u001b[0;34m\u003d\u001b[0m\u001b[0;32mFalse\u001b[0m\u001b[0;34m)\u001b[0m\u001b[0;34m\u001b[0m\u001b[0;34m\u001b[0m\u001b[0m\n\u001b[0m",
            "\u001b[0;31mNameError\u001b[0m: name \u0027subclip_df\u0027 is not defined"
          ],
          "ename": "NameError",
          "evalue": "name \u0027subclip_df\u0027 is not defined",
          "output_type": "error"
        }
      ],
      "source": "subclip_df.to_csv(\u0027data/\u0027+DATASET_NAME+\u0027_subclips.csv\u0027, index\u003dFalse)",
      "metadata": {
        "pycharm": {
          "metadata": false,
          "name": "#%%\n",
          "is_executing": false
        }
      }
    },
    {
      "cell_type": "code",
      "execution_count": null,
      "metadata": {
        "pycharm": {}
      },
      "outputs": [],
      "source": ""
    }
  ],
  "metadata": {
    "kernelspec": {
      "name": "python3",
      "language": "python",
      "display_name": "Python 3"
    },
    "language_info": {
      "codemirror_mode": {
        "name": "ipython",
        "version": 2
      },
      "file_extension": ".py",
      "mimetype": "text/x-python",
      "name": "python",
      "nbconvert_exporter": "python",
      "pygments_lexer": "ipython2",
      "version": "2.7.15"
    }
  },
  "nbformat": 4,
  "nbformat_minor": 2
}