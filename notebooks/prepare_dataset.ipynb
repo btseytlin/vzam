{
  "cells": [
    {
      "cell_type": "code",
      "execution_count": 7,
      "metadata": {
        "pycharm": {
          "is_executing": false
        }
      },
      "outputs": [],
      "source": "import cv2\nimport numpy as np\nimport pandas as pd\nimport scipy\nfrom scipy.misc import imread\nimport random\nimport os\nimport matplotlib.pyplot as plt\nfrom moviepy.video.io.ffmpeg_tools import ffmpeg_extract_subclip\nfrom moviepy.editor import VideoFileClip\nimport shutil\nfrom PIL import Image\nimport av\n%matplotlib inline"
    },
    {
      "cell_type": "code",
      "execution_count": 8,
      "metadata": {
        "pycharm": {
          "is_executing": false
        }
      },
      "outputs": [],
      "source": "from util import *"
    },
    {
      "cell_type": "code",
      "execution_count": 9,
      "outputs": [],
      "source": "DATASET_NAME \u003d \u0027LOCALHIST_CORRUPT\u0027\nvideo_folder \u003d \u0027../data\u0027\nframe_dir_path \u003d \u0027./frames\u0027\ntmp_dir_path \u003d \u0027./tmp\u0027\n\nif os.path.exists(frame_dir_path):\n    shutil.rmtree(frame_dir_path)\nos.makedirs(frame_dir_path)\n    \nif os.path.exists(tmp_dir_path):\n    shutil.rmtree(tmp_dir_path)\nos.makedirs(tmp_dir_path)\n\nFEATURE_EXTRACTOR \u003d local_histogram_features",
      "metadata": {
        "pycharm": {
          "metadata": false,
          "name": "#%%\n",
          "is_executing": false
        }
      }
    },
    {
      "cell_type": "code",
      "execution_count": null,
      "metadata": {
        "scrolled": false,
        "pycharm": {
          "is_executing": true
        }
      },
      "outputs": [
        {
          "name": "stdout",
          "text": [
            "Done 0.05\n"
          ],
          "output_type": "stream"
        }
      ],
      "source": "%%time\nfpaths \u003d [os.path.join(video_folder, fpath) for fpath in os.listdir(video_folder)]\ndf \u003d get_dataframe(fpaths, feature_extractor\u003dFEATURE_EXTRACTOR)"
    },
    {
      "cell_type": "code",
      "execution_count": null,
      "metadata": {
        "pycharm": {
          "is_executing": true
        }
      },
      "outputs": [],
      "source": [
        "df.head()"
      ]
    },
    {
      "cell_type": "code",
      "execution_count": null,
      "metadata": {
        "pycharm": {
          "is_executing": true
        }
      },
      "outputs": [],
      "source": [
        "df.shape"
      ]
    },
    {
      "cell_type": "code",
      "execution_count": null,
      "metadata": {
        "pycharm": {
          "is_executing": true
        }
      },
      "outputs": [],
      "source": ""
    },
    {
      "cell_type": "code",
      "execution_count": null,
      "metadata": {
        "scrolled": false,
        "pycharm": {
          "is_executing": true
        }
      },
      "outputs": [],
      "source": "fpaths \u003d [os.path.join(video_folder, fpath) for fpath in os.listdir(video_folder)]\nsubclip_df \u003d get_subclip_dataframe(fpaths, feature_extractor\u003dFEATURE_EXTRACTOR, subclip_dir\u003dtmp_dir_path, number_subclips\u003d10)"
    },
    {
      "cell_type": "code",
      "execution_count": null,
      "metadata": {
        "pycharm": {
          "is_executing": true
        }
      },
      "outputs": [],
      "source": [
        "subclip_df.head()"
      ]
    },
    {
      "cell_type": "code",
      "execution_count": null,
      "metadata": {
        "pycharm": {
          "is_executing": true
        }
      },
      "outputs": [],
      "source": [
        "subclip_df \u003d subclip_df.rename({\u0027video_path\u0027: \u0027clip_path\u0027, \u0027source_fpath\u0027: \u0027video_path\u0027}, axis\u003d1)\n",
        "subclip_df.head()"
      ]
    },
    {
      "cell_type": "code",
      "execution_count": 14,
      "metadata": {
        "pycharm": {}
      },
      "outputs": [
        {
          "data": {
            "text/plain": [
              "../data/1948 - Melody Time.avi                               244\n",
              "../data/1943 - Victory Through Air Power.avi                 184\n",
              "../data/1945 - The Three Caballeros.avi                      135\n",
              "../data/1940 - Pinocchio.avi                                  50\n",
              "../data/1948 - So Dear to My Heart.mp4                        46\n",
              "../data/1947 - Fun and Fancy Free.avi                         43\n",
              "../data/1937 - Snow White and the Seven Dwarves.avi           41\n",
              "../data/1949 - The Adventures Of Ichabod And Mr. Toad.m4v     37\n",
              "../data/The.Young.Pope.S01E02.HDTVRip.Jaskier.avi             24\n",
              "../data/The.Young.Pope.S01E01.HDTVRip.Jaskier.avi             22\n",
              "../data/1941 - Dumbo.avi                                      22\n",
              "../data/The.Young.Pope.S01E04.HDTVRip.Jaskier.avi             19\n",
              "../data/1942 - Bambi.avi                                      19\n",
              "../data/The.Young.Pope.S01E03.HDTVRip.Jaskier.avi             18\n",
              "../data/1946 - Make Mine Music.avi                            18\n",
              "../data/1928 - Mickey Mouse -  Steamboat Willie.mp4           17\n",
              "../data/1946 - Song of the South.avi                          16\n",
              "../data/1929 - Mickey Mouse - Plane Crazy.avi                 12\n",
              "../data/1941 - The Reluctant Dragon.avi                        8\n",
              "../data/1940 - Fantasia.avi                                    4\n",
              "Name: video_path, dtype: int64"
            ]
          },
          "execution_count": 14,
          "metadata": {},
          "output_type": "execute_result"
        }
      ],
      "source": [
        "subclip_df.video_path.value_counts()"
      ]
    },
    {
      "cell_type": "code",
      "execution_count": null,
      "metadata": {
        "pycharm": {
          "is_executing": true
        }
      },
      "outputs": [],
      "source": "df.to_csv(DATASET_NAME+\u0027_df.csv\u0027, index\u003dFalse)"
    },
    {
      "cell_type": "code",
      "execution_count": null,
      "outputs": [],
      "source": "subclip_df.to_csv(DATASET_NAME+\u0027_subclips.csv\u0027, index\u003dFalse)",
      "metadata": {
        "pycharm": {
          "metadata": false,
          "name": "#%%\n"
        }
      }
    },
    {
      "cell_type": "code",
      "execution_count": null,
      "metadata": {
        "pycharm": {}
      },
      "outputs": [],
      "source": ""
    }
  ],
  "metadata": {
    "kernelspec": {
      "name": "python3",
      "language": "python",
      "display_name": "Python 3"
    },
    "language_info": {
      "codemirror_mode": {
        "name": "ipython",
        "version": 2
      },
      "file_extension": ".py",
      "mimetype": "text/x-python",
      "name": "python",
      "nbconvert_exporter": "python",
      "pygments_lexer": "ipython2",
      "version": "2.7.15"
    }
  },
  "nbformat": 4,
  "nbformat_minor": 2
}