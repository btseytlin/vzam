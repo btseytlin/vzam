{
  "cells": [
    {
      "cell_type": "code",
      "execution_count": 1,
      "metadata": {
        "pycharm": {
          "is_executing": false
        }
      },
      "outputs": [],
      "source": "import cv2\nimport numpy as np\nimport pandas as pd\nimport scipy\nfrom scipy.misc import imread\nimport random\nimport os\nimport matplotlib.pyplot as plt\nfrom moviepy.video.io.ffmpeg_tools import ffmpeg_extract_subclip\nfrom moviepy.editor import VideoFileClip\nimport shutil\nfrom PIL import Image\nimport av\n%matplotlib inline"
    },
    {
      "cell_type": "code",
      "execution_count": 2,
      "metadata": {
        "pycharm": {
          "is_executing": false
        }
      },
      "outputs": [],
      "source": "from util import *\nfrom img_to_vec import *"
    },
    {
      "cell_type": "code",
      "execution_count": 3,
      "outputs": [],
      "source": "DATASET_NAME \u003d \u0027RESNET_CORRUPT\u0027\nvideo_folder \u003d \u0027../data\u0027\nframe_dir_path \u003d \u0027./frames\u0027\ntmp_dir_path \u003d \u0027./tmp\u0027\n\nif os.path.exists(frame_dir_path):\n    shutil.rmtree(frame_dir_path)\nos.makedirs(frame_dir_path)\n    \nif os.path.exists(tmp_dir_path):\n    shutil.rmtree(tmp_dir_path)\nos.makedirs(tmp_dir_path)\n\nFEATURE_EXTRACTOR \u003d resnet_features",
      "metadata": {
        "pycharm": {
          "metadata": false,
          "name": "#%%\n",
          "is_executing": false
        }
      }
    },
    {
      "cell_type": "code",
      "execution_count": 4,
      "metadata": {
        "scrolled": false,
        "pycharm": {
          "is_executing": false
        }
      },
      "outputs": [
        {
          "name": "stdout",
          "text": [
            "Done 0.05\n",
            "Done 0.1\n",
            "Done 0.15\n",
            "Done 0.2\n",
            "Done 0.25\n",
            "Done 0.3\n",
            "Done 0.35\n",
            "Done 0.4\n",
            "Done 0.45\n",
            "Done 0.5\n",
            "Done 0.55\n",
            "Done 0.6\n",
            "Done 0.65\n",
            "Done 0.7\n",
            "Done 0.75\n",
            "Done 0.8\n",
            "Done 0.85\n",
            "Done 0.9\n",
            "Done 0.95\n",
            "Done 1.0\n"
          ],
          "output_type": "stream"
        },
        {
          "name": "stderr",
          "text": [
            "Failed to parse extradata\n"
          ],
          "output_type": "stream"
        }
      ],
      "source": "fpaths \u003d [os.path.join(video_folder, fpath) for fpath in os.listdir(video_folder)]\ndf \u003d get_dataframe(fpaths,\n                   feature_extractor\u003dFEATURE_EXTRACTOR,\n                   mod_filter\u003d20)"
    },
    {
      "cell_type": "code",
      "execution_count": 5,
      "metadata": {
        "pycharm": {
          "is_executing": false
        }
      },
      "outputs": [
        {
          "data": {
            "text/plain": "                                     video_path  frame_time       x_0  \\\n0  ../data/1943 - Victory Through Air Power.avi        24.3  1.079014   \n1  ../data/1943 - Victory Through Air Power.avi        81.5  0.863261   \n2  ../data/1943 - Victory Through Air Power.avi       100.7  1.120082   \n3  ../data/1943 - Victory Through Air Power.avi       113.6  0.874248   \n4  ../data/1943 - Victory Through Air Power.avi       224.0  0.652093   \n\n        x_1       x_2       x_3       x_4       x_5       x_6       x_7  ...  \\\n0  2.113942  0.902543  1.272865  0.748045  0.734920  1.508575  1.355890  ...   \n1  0.729394  0.007263  2.664175  0.029492  0.006139  0.317713  0.052041  ...   \n2  0.520705  0.156078  2.263056  0.022292  0.115998  0.394390  0.213681  ...   \n3  0.749494  0.462441  3.545468  0.403410  0.007453  0.533232  0.044104  ...   \n4  1.842757  0.416804  1.535503  0.273944  0.732787  1.814466  0.128974  ...   \n\n      x_502     x_503     x_504     x_505     x_506     x_507     x_508  \\\n0  0.254581  1.364858  0.666292  0.919014  0.689562  1.083000  0.159012   \n1  0.000000  0.193902  0.000000  0.684085  0.174372  0.200610  0.315687   \n2  0.613111  0.591478  0.110171  0.381082  1.183828  0.572535  0.331208   \n3  0.118171  0.228354  0.436927  0.333942  1.171329  1.424955  0.803436   \n4  0.507061  1.365383  0.581368  0.158743  0.517780  0.929877  1.215829   \n\n      x_509     x_510     x_511  \n0  2.165217  1.072253  1.000738  \n1  0.497258  0.286600  0.241353  \n2  2.758126  0.248961  0.410597  \n3  1.106815  0.529303  0.854173  \n4  2.364091  0.624426  0.753648  \n\n[5 rows x 514 columns]",
            "text/html": "\u003cdiv\u003e\n\u003cstyle scoped\u003e\n    .dataframe tbody tr th:only-of-type {\n        vertical-align: middle;\n    }\n\n    .dataframe tbody tr th {\n        vertical-align: top;\n    }\n\n    .dataframe thead th {\n        text-align: right;\n    }\n\u003c/style\u003e\n\u003ctable border\u003d\"1\" class\u003d\"dataframe\"\u003e\n  \u003cthead\u003e\n    \u003ctr style\u003d\"text-align: right;\"\u003e\n      \u003cth\u003e\u003c/th\u003e\n      \u003cth\u003evideo_path\u003c/th\u003e\n      \u003cth\u003eframe_time\u003c/th\u003e\n      \u003cth\u003ex_0\u003c/th\u003e\n      \u003cth\u003ex_1\u003c/th\u003e\n      \u003cth\u003ex_2\u003c/th\u003e\n      \u003cth\u003ex_3\u003c/th\u003e\n      \u003cth\u003ex_4\u003c/th\u003e\n      \u003cth\u003ex_5\u003c/th\u003e\n      \u003cth\u003ex_6\u003c/th\u003e\n      \u003cth\u003ex_7\u003c/th\u003e\n      \u003cth\u003e...\u003c/th\u003e\n      \u003cth\u003ex_502\u003c/th\u003e\n      \u003cth\u003ex_503\u003c/th\u003e\n      \u003cth\u003ex_504\u003c/th\u003e\n      \u003cth\u003ex_505\u003c/th\u003e\n      \u003cth\u003ex_506\u003c/th\u003e\n      \u003cth\u003ex_507\u003c/th\u003e\n      \u003cth\u003ex_508\u003c/th\u003e\n      \u003cth\u003ex_509\u003c/th\u003e\n      \u003cth\u003ex_510\u003c/th\u003e\n      \u003cth\u003ex_511\u003c/th\u003e\n    \u003c/tr\u003e\n  \u003c/thead\u003e\n  \u003ctbody\u003e\n    \u003ctr\u003e\n      \u003cth\u003e0\u003c/th\u003e\n      \u003ctd\u003e../data/1943 - Victory Through Air Power.avi\u003c/td\u003e\n      \u003ctd\u003e24.3\u003c/td\u003e\n      \u003ctd\u003e1.079014\u003c/td\u003e\n      \u003ctd\u003e2.113942\u003c/td\u003e\n      \u003ctd\u003e0.902543\u003c/td\u003e\n      \u003ctd\u003e1.272865\u003c/td\u003e\n      \u003ctd\u003e0.748045\u003c/td\u003e\n      \u003ctd\u003e0.734920\u003c/td\u003e\n      \u003ctd\u003e1.508575\u003c/td\u003e\n      \u003ctd\u003e1.355890\u003c/td\u003e\n      \u003ctd\u003e...\u003c/td\u003e\n      \u003ctd\u003e0.254581\u003c/td\u003e\n      \u003ctd\u003e1.364858\u003c/td\u003e\n      \u003ctd\u003e0.666292\u003c/td\u003e\n      \u003ctd\u003e0.919014\u003c/td\u003e\n      \u003ctd\u003e0.689562\u003c/td\u003e\n      \u003ctd\u003e1.083000\u003c/td\u003e\n      \u003ctd\u003e0.159012\u003c/td\u003e\n      \u003ctd\u003e2.165217\u003c/td\u003e\n      \u003ctd\u003e1.072253\u003c/td\u003e\n      \u003ctd\u003e1.000738\u003c/td\u003e\n    \u003c/tr\u003e\n    \u003ctr\u003e\n      \u003cth\u003e1\u003c/th\u003e\n      \u003ctd\u003e../data/1943 - Victory Through Air Power.avi\u003c/td\u003e\n      \u003ctd\u003e81.5\u003c/td\u003e\n      \u003ctd\u003e0.863261\u003c/td\u003e\n      \u003ctd\u003e0.729394\u003c/td\u003e\n      \u003ctd\u003e0.007263\u003c/td\u003e\n      \u003ctd\u003e2.664175\u003c/td\u003e\n      \u003ctd\u003e0.029492\u003c/td\u003e\n      \u003ctd\u003e0.006139\u003c/td\u003e\n      \u003ctd\u003e0.317713\u003c/td\u003e\n      \u003ctd\u003e0.052041\u003c/td\u003e\n      \u003ctd\u003e...\u003c/td\u003e\n      \u003ctd\u003e0.000000\u003c/td\u003e\n      \u003ctd\u003e0.193902\u003c/td\u003e\n      \u003ctd\u003e0.000000\u003c/td\u003e\n      \u003ctd\u003e0.684085\u003c/td\u003e\n      \u003ctd\u003e0.174372\u003c/td\u003e\n      \u003ctd\u003e0.200610\u003c/td\u003e\n      \u003ctd\u003e0.315687\u003c/td\u003e\n      \u003ctd\u003e0.497258\u003c/td\u003e\n      \u003ctd\u003e0.286600\u003c/td\u003e\n      \u003ctd\u003e0.241353\u003c/td\u003e\n    \u003c/tr\u003e\n    \u003ctr\u003e\n      \u003cth\u003e2\u003c/th\u003e\n      \u003ctd\u003e../data/1943 - Victory Through Air Power.avi\u003c/td\u003e\n      \u003ctd\u003e100.7\u003c/td\u003e\n      \u003ctd\u003e1.120082\u003c/td\u003e\n      \u003ctd\u003e0.520705\u003c/td\u003e\n      \u003ctd\u003e0.156078\u003c/td\u003e\n      \u003ctd\u003e2.263056\u003c/td\u003e\n      \u003ctd\u003e0.022292\u003c/td\u003e\n      \u003ctd\u003e0.115998\u003c/td\u003e\n      \u003ctd\u003e0.394390\u003c/td\u003e\n      \u003ctd\u003e0.213681\u003c/td\u003e\n      \u003ctd\u003e...\u003c/td\u003e\n      \u003ctd\u003e0.613111\u003c/td\u003e\n      \u003ctd\u003e0.591478\u003c/td\u003e\n      \u003ctd\u003e0.110171\u003c/td\u003e\n      \u003ctd\u003e0.381082\u003c/td\u003e\n      \u003ctd\u003e1.183828\u003c/td\u003e\n      \u003ctd\u003e0.572535\u003c/td\u003e\n      \u003ctd\u003e0.331208\u003c/td\u003e\n      \u003ctd\u003e2.758126\u003c/td\u003e\n      \u003ctd\u003e0.248961\u003c/td\u003e\n      \u003ctd\u003e0.410597\u003c/td\u003e\n    \u003c/tr\u003e\n    \u003ctr\u003e\n      \u003cth\u003e3\u003c/th\u003e\n      \u003ctd\u003e../data/1943 - Victory Through Air Power.avi\u003c/td\u003e\n      \u003ctd\u003e113.6\u003c/td\u003e\n      \u003ctd\u003e0.874248\u003c/td\u003e\n      \u003ctd\u003e0.749494\u003c/td\u003e\n      \u003ctd\u003e0.462441\u003c/td\u003e\n      \u003ctd\u003e3.545468\u003c/td\u003e\n      \u003ctd\u003e0.403410\u003c/td\u003e\n      \u003ctd\u003e0.007453\u003c/td\u003e\n      \u003ctd\u003e0.533232\u003c/td\u003e\n      \u003ctd\u003e0.044104\u003c/td\u003e\n      \u003ctd\u003e...\u003c/td\u003e\n      \u003ctd\u003e0.118171\u003c/td\u003e\n      \u003ctd\u003e0.228354\u003c/td\u003e\n      \u003ctd\u003e0.436927\u003c/td\u003e\n      \u003ctd\u003e0.333942\u003c/td\u003e\n      \u003ctd\u003e1.171329\u003c/td\u003e\n      \u003ctd\u003e1.424955\u003c/td\u003e\n      \u003ctd\u003e0.803436\u003c/td\u003e\n      \u003ctd\u003e1.106815\u003c/td\u003e\n      \u003ctd\u003e0.529303\u003c/td\u003e\n      \u003ctd\u003e0.854173\u003c/td\u003e\n    \u003c/tr\u003e\n    \u003ctr\u003e\n      \u003cth\u003e4\u003c/th\u003e\n      \u003ctd\u003e../data/1943 - Victory Through Air Power.avi\u003c/td\u003e\n      \u003ctd\u003e224.0\u003c/td\u003e\n      \u003ctd\u003e0.652093\u003c/td\u003e\n      \u003ctd\u003e1.842757\u003c/td\u003e\n      \u003ctd\u003e0.416804\u003c/td\u003e\n      \u003ctd\u003e1.535503\u003c/td\u003e\n      \u003ctd\u003e0.273944\u003c/td\u003e\n      \u003ctd\u003e0.732787\u003c/td\u003e\n      \u003ctd\u003e1.814466\u003c/td\u003e\n      \u003ctd\u003e0.128974\u003c/td\u003e\n      \u003ctd\u003e...\u003c/td\u003e\n      \u003ctd\u003e0.507061\u003c/td\u003e\n      \u003ctd\u003e1.365383\u003c/td\u003e\n      \u003ctd\u003e0.581368\u003c/td\u003e\n      \u003ctd\u003e0.158743\u003c/td\u003e\n      \u003ctd\u003e0.517780\u003c/td\u003e\n      \u003ctd\u003e0.929877\u003c/td\u003e\n      \u003ctd\u003e1.215829\u003c/td\u003e\n      \u003ctd\u003e2.364091\u003c/td\u003e\n      \u003ctd\u003e0.624426\u003c/td\u003e\n      \u003ctd\u003e0.753648\u003c/td\u003e\n    \u003c/tr\u003e\n  \u003c/tbody\u003e\n\u003c/table\u003e\n\u003cp\u003e5 rows × 514 columns\u003c/p\u003e\n\u003c/div\u003e"
          },
          "metadata": {},
          "output_type": "execute_result",
          "execution_count": 5
        }
      ],
      "source": [
        "df.head()"
      ]
    },
    {
      "cell_type": "code",
      "execution_count": 6,
      "metadata": {
        "pycharm": {
          "is_executing": false
        }
      },
      "outputs": [
        {
          "data": {
            "text/plain": "(1394, 514)"
          },
          "metadata": {},
          "output_type": "execute_result",
          "execution_count": 6
        }
      ],
      "source": [
        "df.shape"
      ]
    },
    {
      "cell_type": "code",
      "execution_count": null,
      "metadata": {
        "pycharm": {
          "is_executing": true
        }
      },
      "outputs": [],
      "source": ""
    },
    {
      "cell_type": "code",
      "execution_count": null,
      "metadata": {
        "scrolled": false,
        "pycharm": {
          "is_executing": true
        }
      },
      "outputs": [
        {
          "name": "stdout",
          "text": [
            "Moviepy - Running:\n\u003e\u003e\u003e \"+ \" \".join(cmd)\n",
            "Moviepy - Command successful\nMoviepy - Running:\n\u003e\u003e\u003e \"+ \" \".join(cmd)\n"
          ],
          "output_type": "stream"
        }
      ],
      "source": "fpaths \u003d [os.path.join(video_folder, fpath) for fpath in os.listdir(video_folder)]\nsubclip_df \u003d get_subclip_dataframe(fpaths,\n                                   feature_extractor\u003dFEATURE_EXTRACTOR,\n                                   subclip_dir\u003dtmp_dir_path,\n                                   number_subclips\u003d10)"
    },
    {
      "cell_type": "code",
      "execution_count": null,
      "metadata": {
        "pycharm": {
          "is_executing": true
        }
      },
      "outputs": [],
      "source": [
        "subclip_df.head()"
      ]
    },
    {
      "cell_type": "code",
      "execution_count": null,
      "metadata": {
        "pycharm": {
          "is_executing": true
        }
      },
      "outputs": [],
      "source": [
        "subclip_df \u003d subclip_df.rename({\u0027video_path\u0027: \u0027clip_path\u0027, \u0027source_fpath\u0027: \u0027video_path\u0027}, axis\u003d1)\n",
        "subclip_df.head()"
      ]
    },
    {
      "cell_type": "code",
      "execution_count": null,
      "metadata": {
        "pycharm": {
          "is_executing": true
        }
      },
      "outputs": [],
      "source": [
        "subclip_df.video_path.value_counts()"
      ]
    },
    {
      "cell_type": "code",
      "execution_count": null,
      "metadata": {
        "pycharm": {
          "is_executing": true
        }
      },
      "outputs": [],
      "source": "df.to_csv(DATASET_NAME+\u0027_df.csv\u0027, index\u003dFalse)\ndf.head()"
    },
    {
      "cell_type": "code",
      "execution_count": null,
      "outputs": [],
      "source": "subclip_df.to_csv(DATASET_NAME+\u0027_subclips.csv\u0027, index\u003dFalse)",
      "metadata": {
        "pycharm": {
          "metadata": false,
          "name": "#%%\n",
          "is_executing": true
        }
      }
    },
    {
      "cell_type": "code",
      "execution_count": null,
      "metadata": {
        "pycharm": {}
      },
      "outputs": [],
      "source": ""
    }
  ],
  "metadata": {
    "kernelspec": {
      "name": "python3",
      "language": "python",
      "display_name": "Python 3"
    },
    "language_info": {
      "codemirror_mode": {
        "name": "ipython",
        "version": 2
      },
      "file_extension": ".py",
      "mimetype": "text/x-python",
      "name": "python",
      "nbconvert_exporter": "python",
      "pygments_lexer": "ipython2",
      "version": "2.7.15"
    }
  },
  "nbformat": 4,
  "nbformat_minor": 2
}