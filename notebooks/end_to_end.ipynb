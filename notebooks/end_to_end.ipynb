{
  "cells": [
    {
      "cell_type": "code",
      "execution_count": 19,
      "metadata": {
        "pycharm": {
          "is_executing": false
        }
      },
      "outputs": [],
      "source": "import faiss\nimport os\nimport numpy as np\nimport pandas as pd\nimport scipy\nfrom scipy.spatial.distance import cosine\nimport random\nfrom sklearn.metrics import classification_report, accuracy_score\n%matplotlib inline"
    },
    {
      "cell_type": "code",
      "execution_count": 20,
      "outputs": [],
      "source": "from util import *",
      "metadata": {
        "pycharm": {
          "metadata": false,
          "name": "#%%\n",
          "is_executing": false
        }
      }
    },
    {
      "cell_type": "code",
      "execution_count": 21,
      "metadata": {
        "pycharm": {
          "is_executing": false
        }
      },
      "outputs": [],
      "source": "DATASET \u003d \u0027data/LOCALHIST\u0027\nTRAIN_CSV \u003d DATASET+\u0027_df.csv\u0027\nTEST_VID_DIR \u003d \u0027data/testvid\u0027\nFEATURE_EXTRACTOR \u003d local_histogram_features"
    },
    {
      "cell_type": "code",
      "execution_count": 22,
      "metadata": {
        "pycharm": {
          "is_executing": false
        }
      },
      "outputs": [
        {
          "data": {
            "text/plain": "                                     video_path  frame_time       x_0  \\\n0  ../data/1943 - Victory Through Air Power.avi    0.033367  1.000000   \n1  ../data/1943 - Victory Through Air Power.avi    2.035369  0.006034   \n2  ../data/1943 - Victory Through Air Power.avi    2.068735  0.014095   \n3  ../data/1943 - Victory Through Air Power.avi    2.102102  0.014432   \n4  ../data/1943 - Victory Through Air Power.avi    2.135469  0.003429   \n\n        x_1       x_2  x_3  x_4  x_5       x_6       x_7  ...  x_890  x_891  \\\n0  0.000000  0.000000  0.0  0.0  0.0  0.000000  0.000000  ...    0.0    0.0   \n1  0.000000  0.000000  0.0  0.0  0.0  0.067980  0.000000  ...    0.0    0.0   \n2  0.000397  0.000000  0.0  0.0  0.0  0.058366  0.000993  ...    0.0    0.0   \n3  0.005248  0.000000  0.0  0.0  0.0  0.028427  0.039361  ...    0.0    0.0   \n4  0.009715  0.000381  0.0  0.0  0.0  0.021717  0.044386  ...    0.0    0.0   \n\n   x_892  x_893  x_894  x_895  x_896  x_897  x_898  x_899  \n0    0.0    0.0    0.0    0.0    0.0    0.0    0.0    0.0  \n1    0.0    0.0    0.0    0.0    0.0    0.0    0.0    0.0  \n2    0.0    0.0    0.0    0.0    0.0    0.0    0.0    0.0  \n3    0.0    0.0    0.0    0.0    0.0    0.0    0.0    0.0  \n4    0.0    0.0    0.0    0.0    0.0    0.0    0.0    0.0  \n\n[5 rows x 902 columns]",
            "text/html": "\u003cdiv\u003e\n\u003cstyle scoped\u003e\n    .dataframe tbody tr th:only-of-type {\n        vertical-align: middle;\n    }\n\n    .dataframe tbody tr th {\n        vertical-align: top;\n    }\n\n    .dataframe thead th {\n        text-align: right;\n    }\n\u003c/style\u003e\n\u003ctable border\u003d\"1\" class\u003d\"dataframe\"\u003e\n  \u003cthead\u003e\n    \u003ctr style\u003d\"text-align: right;\"\u003e\n      \u003cth\u003e\u003c/th\u003e\n      \u003cth\u003evideo_path\u003c/th\u003e\n      \u003cth\u003eframe_time\u003c/th\u003e\n      \u003cth\u003ex_0\u003c/th\u003e\n      \u003cth\u003ex_1\u003c/th\u003e\n      \u003cth\u003ex_2\u003c/th\u003e\n      \u003cth\u003ex_3\u003c/th\u003e\n      \u003cth\u003ex_4\u003c/th\u003e\n      \u003cth\u003ex_5\u003c/th\u003e\n      \u003cth\u003ex_6\u003c/th\u003e\n      \u003cth\u003ex_7\u003c/th\u003e\n      \u003cth\u003e...\u003c/th\u003e\n      \u003cth\u003ex_890\u003c/th\u003e\n      \u003cth\u003ex_891\u003c/th\u003e\n      \u003cth\u003ex_892\u003c/th\u003e\n      \u003cth\u003ex_893\u003c/th\u003e\n      \u003cth\u003ex_894\u003c/th\u003e\n      \u003cth\u003ex_895\u003c/th\u003e\n      \u003cth\u003ex_896\u003c/th\u003e\n      \u003cth\u003ex_897\u003c/th\u003e\n      \u003cth\u003ex_898\u003c/th\u003e\n      \u003cth\u003ex_899\u003c/th\u003e\n    \u003c/tr\u003e\n  \u003c/thead\u003e\n  \u003ctbody\u003e\n    \u003ctr\u003e\n      \u003cth\u003e0\u003c/th\u003e\n      \u003ctd\u003e../data/1943 - Victory Through Air Power.avi\u003c/td\u003e\n      \u003ctd\u003e0.033367\u003c/td\u003e\n      \u003ctd\u003e1.000000\u003c/td\u003e\n      \u003ctd\u003e0.000000\u003c/td\u003e\n      \u003ctd\u003e0.000000\u003c/td\u003e\n      \u003ctd\u003e0.0\u003c/td\u003e\n      \u003ctd\u003e0.0\u003c/td\u003e\n      \u003ctd\u003e0.0\u003c/td\u003e\n      \u003ctd\u003e0.000000\u003c/td\u003e\n      \u003ctd\u003e0.000000\u003c/td\u003e\n      \u003ctd\u003e...\u003c/td\u003e\n      \u003ctd\u003e0.0\u003c/td\u003e\n      \u003ctd\u003e0.0\u003c/td\u003e\n      \u003ctd\u003e0.0\u003c/td\u003e\n      \u003ctd\u003e0.0\u003c/td\u003e\n      \u003ctd\u003e0.0\u003c/td\u003e\n      \u003ctd\u003e0.0\u003c/td\u003e\n      \u003ctd\u003e0.0\u003c/td\u003e\n      \u003ctd\u003e0.0\u003c/td\u003e\n      \u003ctd\u003e0.0\u003c/td\u003e\n      \u003ctd\u003e0.0\u003c/td\u003e\n    \u003c/tr\u003e\n    \u003ctr\u003e\n      \u003cth\u003e1\u003c/th\u003e\n      \u003ctd\u003e../data/1943 - Victory Through Air Power.avi\u003c/td\u003e\n      \u003ctd\u003e2.035369\u003c/td\u003e\n      \u003ctd\u003e0.006034\u003c/td\u003e\n      \u003ctd\u003e0.000000\u003c/td\u003e\n      \u003ctd\u003e0.000000\u003c/td\u003e\n      \u003ctd\u003e0.0\u003c/td\u003e\n      \u003ctd\u003e0.0\u003c/td\u003e\n      \u003ctd\u003e0.0\u003c/td\u003e\n      \u003ctd\u003e0.067980\u003c/td\u003e\n      \u003ctd\u003e0.000000\u003c/td\u003e\n      \u003ctd\u003e...\u003c/td\u003e\n      \u003ctd\u003e0.0\u003c/td\u003e\n      \u003ctd\u003e0.0\u003c/td\u003e\n      \u003ctd\u003e0.0\u003c/td\u003e\n      \u003ctd\u003e0.0\u003c/td\u003e\n      \u003ctd\u003e0.0\u003c/td\u003e\n      \u003ctd\u003e0.0\u003c/td\u003e\n      \u003ctd\u003e0.0\u003c/td\u003e\n      \u003ctd\u003e0.0\u003c/td\u003e\n      \u003ctd\u003e0.0\u003c/td\u003e\n      \u003ctd\u003e0.0\u003c/td\u003e\n    \u003c/tr\u003e\n    \u003ctr\u003e\n      \u003cth\u003e2\u003c/th\u003e\n      \u003ctd\u003e../data/1943 - Victory Through Air Power.avi\u003c/td\u003e\n      \u003ctd\u003e2.068735\u003c/td\u003e\n      \u003ctd\u003e0.014095\u003c/td\u003e\n      \u003ctd\u003e0.000397\u003c/td\u003e\n      \u003ctd\u003e0.000000\u003c/td\u003e\n      \u003ctd\u003e0.0\u003c/td\u003e\n      \u003ctd\u003e0.0\u003c/td\u003e\n      \u003ctd\u003e0.0\u003c/td\u003e\n      \u003ctd\u003e0.058366\u003c/td\u003e\n      \u003ctd\u003e0.000993\u003c/td\u003e\n      \u003ctd\u003e...\u003c/td\u003e\n      \u003ctd\u003e0.0\u003c/td\u003e\n      \u003ctd\u003e0.0\u003c/td\u003e\n      \u003ctd\u003e0.0\u003c/td\u003e\n      \u003ctd\u003e0.0\u003c/td\u003e\n      \u003ctd\u003e0.0\u003c/td\u003e\n      \u003ctd\u003e0.0\u003c/td\u003e\n      \u003ctd\u003e0.0\u003c/td\u003e\n      \u003ctd\u003e0.0\u003c/td\u003e\n      \u003ctd\u003e0.0\u003c/td\u003e\n      \u003ctd\u003e0.0\u003c/td\u003e\n    \u003c/tr\u003e\n    \u003ctr\u003e\n      \u003cth\u003e3\u003c/th\u003e\n      \u003ctd\u003e../data/1943 - Victory Through Air Power.avi\u003c/td\u003e\n      \u003ctd\u003e2.102102\u003c/td\u003e\n      \u003ctd\u003e0.014432\u003c/td\u003e\n      \u003ctd\u003e0.005248\u003c/td\u003e\n      \u003ctd\u003e0.000000\u003c/td\u003e\n      \u003ctd\u003e0.0\u003c/td\u003e\n      \u003ctd\u003e0.0\u003c/td\u003e\n      \u003ctd\u003e0.0\u003c/td\u003e\n      \u003ctd\u003e0.028427\u003c/td\u003e\n      \u003ctd\u003e0.039361\u003c/td\u003e\n      \u003ctd\u003e...\u003c/td\u003e\n      \u003ctd\u003e0.0\u003c/td\u003e\n      \u003ctd\u003e0.0\u003c/td\u003e\n      \u003ctd\u003e0.0\u003c/td\u003e\n      \u003ctd\u003e0.0\u003c/td\u003e\n      \u003ctd\u003e0.0\u003c/td\u003e\n      \u003ctd\u003e0.0\u003c/td\u003e\n      \u003ctd\u003e0.0\u003c/td\u003e\n      \u003ctd\u003e0.0\u003c/td\u003e\n      \u003ctd\u003e0.0\u003c/td\u003e\n      \u003ctd\u003e0.0\u003c/td\u003e\n    \u003c/tr\u003e\n    \u003ctr\u003e\n      \u003cth\u003e4\u003c/th\u003e\n      \u003ctd\u003e../data/1943 - Victory Through Air Power.avi\u003c/td\u003e\n      \u003ctd\u003e2.135469\u003c/td\u003e\n      \u003ctd\u003e0.003429\u003c/td\u003e\n      \u003ctd\u003e0.009715\u003c/td\u003e\n      \u003ctd\u003e0.000381\u003c/td\u003e\n      \u003ctd\u003e0.0\u003c/td\u003e\n      \u003ctd\u003e0.0\u003c/td\u003e\n      \u003ctd\u003e0.0\u003c/td\u003e\n      \u003ctd\u003e0.021717\u003c/td\u003e\n      \u003ctd\u003e0.044386\u003c/td\u003e\n      \u003ctd\u003e...\u003c/td\u003e\n      \u003ctd\u003e0.0\u003c/td\u003e\n      \u003ctd\u003e0.0\u003c/td\u003e\n      \u003ctd\u003e0.0\u003c/td\u003e\n      \u003ctd\u003e0.0\u003c/td\u003e\n      \u003ctd\u003e0.0\u003c/td\u003e\n      \u003ctd\u003e0.0\u003c/td\u003e\n      \u003ctd\u003e0.0\u003c/td\u003e\n      \u003ctd\u003e0.0\u003c/td\u003e\n      \u003ctd\u003e0.0\u003c/td\u003e\n      \u003ctd\u003e0.0\u003c/td\u003e\n    \u003c/tr\u003e\n  \u003c/tbody\u003e\n\u003c/table\u003e\n\u003cp\u003e5 rows × 902 columns\u003c/p\u003e\n\u003c/div\u003e"
          },
          "metadata": {},
          "output_type": "execute_result",
          "execution_count": 22
        }
      ],
      "source": "train_df \u003d pd.read_csv(TRAIN_CSV)\ntrain_df.head()"
    },
    {
      "cell_type": "code",
      "execution_count": 23,
      "metadata": {
        "pycharm": {
          "is_executing": false
        }
      },
      "outputs": [],
      "source": "class FaissVideoClassifier:\n    def __init__(self, vectors, labels, treshold\u003d0.3, ncells\u003d0.01):\n        \"\"\"\n        N - total amount of video frames\n        K - amount of features\n        vectors: N x K frame descriptor vectors\n        labels: N x 1 frame labels\n        \"\"\"\n        vectors \u003d np.ascontiguousarray(vectors.astype(\u0027float32\u0027))\n        faiss.normalize_L2(vectors)\n        self.vectors \u003d np.ascontiguousarray(vectors)\n        \n        quantizer \u003d faiss.IndexFlatL2(self.vectors.shape[1])  # the other index\n        self.index \u003d faiss.IndexIVFFlat(quantizer, self.vectors.shape[1], int(ncells*len(self.vectors)), faiss.METRIC_INNER_PRODUCT)\n        self.index.train(self.vectors)\n        self.index.add(self.vectors)\n        self.labels \u003d labels\n        self.treshold \u003d treshold\n        \n    def classify(self, vectors):\n        \"\"\"\n        Majority vote\n        \"\"\"\n        vectors \u003d np.ascontiguousarray(vectors.astype(\u0027float32\u0027))\n        faiss.normalize_L2(vectors)\n        vectors \u003d np.ascontiguousarray(vectors)\n        D, I \u003d self.index.search(vectors, 1)\n        min_indices, min_dists \u003d I.flatten(), D.flatten()\n\n        votes \u003d self.labels[min_indices]\n        miss_mask \u003d abs(1 - min_dists) \u003e self.treshold\n        votes[miss_mask] \u003d \u0027miss\u0027\n        \n        moc \u003d max([(list(votes).count(chr),chr) for chr in set(votes)])\n        moc \u003d moc[1]\n        return moc, votes, min_dists"
    },
    {
      "cell_type": "code",
      "execution_count": 24,
      "metadata": {
        "pycharm": {
          "is_executing": false
        }
      },
      "outputs": [
        {
          "data": {
            "text/plain": "                                     video_path  frame_time       x_0  \\\n0  ../data/1943 - Victory Through Air Power.avi    0.033367  1.000000   \n1  ../data/1943 - Victory Through Air Power.avi    2.035369  0.006034   \n2  ../data/1943 - Victory Through Air Power.avi    2.068735  0.014095   \n3  ../data/1943 - Victory Through Air Power.avi    2.102102  0.014432   \n4  ../data/1943 - Victory Through Air Power.avi    2.135469  0.003429   \n\n        x_1       x_2  x_3  x_4  x_5       x_6       x_7  ...  x_890  x_891  \\\n0  0.000000  0.000000  0.0  0.0  0.0  0.000000  0.000000  ...    0.0    0.0   \n1  0.000000  0.000000  0.0  0.0  0.0  0.067980  0.000000  ...    0.0    0.0   \n2  0.000397  0.000000  0.0  0.0  0.0  0.058366  0.000993  ...    0.0    0.0   \n3  0.005248  0.000000  0.0  0.0  0.0  0.028427  0.039361  ...    0.0    0.0   \n4  0.009715  0.000381  0.0  0.0  0.0  0.021717  0.044386  ...    0.0    0.0   \n\n   x_892  x_893  x_894  x_895  x_896  x_897  x_898  x_899  \n0    0.0    0.0    0.0    0.0    0.0    0.0    0.0    0.0  \n1    0.0    0.0    0.0    0.0    0.0    0.0    0.0    0.0  \n2    0.0    0.0    0.0    0.0    0.0    0.0    0.0    0.0  \n3    0.0    0.0    0.0    0.0    0.0    0.0    0.0    0.0  \n4    0.0    0.0    0.0    0.0    0.0    0.0    0.0    0.0  \n\n[5 rows x 902 columns]",
            "text/html": "\u003cdiv\u003e\n\u003cstyle scoped\u003e\n    .dataframe tbody tr th:only-of-type {\n        vertical-align: middle;\n    }\n\n    .dataframe tbody tr th {\n        vertical-align: top;\n    }\n\n    .dataframe thead th {\n        text-align: right;\n    }\n\u003c/style\u003e\n\u003ctable border\u003d\"1\" class\u003d\"dataframe\"\u003e\n  \u003cthead\u003e\n    \u003ctr style\u003d\"text-align: right;\"\u003e\n      \u003cth\u003e\u003c/th\u003e\n      \u003cth\u003evideo_path\u003c/th\u003e\n      \u003cth\u003eframe_time\u003c/th\u003e\n      \u003cth\u003ex_0\u003c/th\u003e\n      \u003cth\u003ex_1\u003c/th\u003e\n      \u003cth\u003ex_2\u003c/th\u003e\n      \u003cth\u003ex_3\u003c/th\u003e\n      \u003cth\u003ex_4\u003c/th\u003e\n      \u003cth\u003ex_5\u003c/th\u003e\n      \u003cth\u003ex_6\u003c/th\u003e\n      \u003cth\u003ex_7\u003c/th\u003e\n      \u003cth\u003e...\u003c/th\u003e\n      \u003cth\u003ex_890\u003c/th\u003e\n      \u003cth\u003ex_891\u003c/th\u003e\n      \u003cth\u003ex_892\u003c/th\u003e\n      \u003cth\u003ex_893\u003c/th\u003e\n      \u003cth\u003ex_894\u003c/th\u003e\n      \u003cth\u003ex_895\u003c/th\u003e\n      \u003cth\u003ex_896\u003c/th\u003e\n      \u003cth\u003ex_897\u003c/th\u003e\n      \u003cth\u003ex_898\u003c/th\u003e\n      \u003cth\u003ex_899\u003c/th\u003e\n    \u003c/tr\u003e\n  \u003c/thead\u003e\n  \u003ctbody\u003e\n    \u003ctr\u003e\n      \u003cth\u003e0\u003c/th\u003e\n      \u003ctd\u003e../data/1943 - Victory Through Air Power.avi\u003c/td\u003e\n      \u003ctd\u003e0.033367\u003c/td\u003e\n      \u003ctd\u003e1.000000\u003c/td\u003e\n      \u003ctd\u003e0.000000\u003c/td\u003e\n      \u003ctd\u003e0.000000\u003c/td\u003e\n      \u003ctd\u003e0.0\u003c/td\u003e\n      \u003ctd\u003e0.0\u003c/td\u003e\n      \u003ctd\u003e0.0\u003c/td\u003e\n      \u003ctd\u003e0.000000\u003c/td\u003e\n      \u003ctd\u003e0.000000\u003c/td\u003e\n      \u003ctd\u003e...\u003c/td\u003e\n      \u003ctd\u003e0.0\u003c/td\u003e\n      \u003ctd\u003e0.0\u003c/td\u003e\n      \u003ctd\u003e0.0\u003c/td\u003e\n      \u003ctd\u003e0.0\u003c/td\u003e\n      \u003ctd\u003e0.0\u003c/td\u003e\n      \u003ctd\u003e0.0\u003c/td\u003e\n      \u003ctd\u003e0.0\u003c/td\u003e\n      \u003ctd\u003e0.0\u003c/td\u003e\n      \u003ctd\u003e0.0\u003c/td\u003e\n      \u003ctd\u003e0.0\u003c/td\u003e\n    \u003c/tr\u003e\n    \u003ctr\u003e\n      \u003cth\u003e1\u003c/th\u003e\n      \u003ctd\u003e../data/1943 - Victory Through Air Power.avi\u003c/td\u003e\n      \u003ctd\u003e2.035369\u003c/td\u003e\n      \u003ctd\u003e0.006034\u003c/td\u003e\n      \u003ctd\u003e0.000000\u003c/td\u003e\n      \u003ctd\u003e0.000000\u003c/td\u003e\n      \u003ctd\u003e0.0\u003c/td\u003e\n      \u003ctd\u003e0.0\u003c/td\u003e\n      \u003ctd\u003e0.0\u003c/td\u003e\n      \u003ctd\u003e0.067980\u003c/td\u003e\n      \u003ctd\u003e0.000000\u003c/td\u003e\n      \u003ctd\u003e...\u003c/td\u003e\n      \u003ctd\u003e0.0\u003c/td\u003e\n      \u003ctd\u003e0.0\u003c/td\u003e\n      \u003ctd\u003e0.0\u003c/td\u003e\n      \u003ctd\u003e0.0\u003c/td\u003e\n      \u003ctd\u003e0.0\u003c/td\u003e\n      \u003ctd\u003e0.0\u003c/td\u003e\n      \u003ctd\u003e0.0\u003c/td\u003e\n      \u003ctd\u003e0.0\u003c/td\u003e\n      \u003ctd\u003e0.0\u003c/td\u003e\n      \u003ctd\u003e0.0\u003c/td\u003e\n    \u003c/tr\u003e\n    \u003ctr\u003e\n      \u003cth\u003e2\u003c/th\u003e\n      \u003ctd\u003e../data/1943 - Victory Through Air Power.avi\u003c/td\u003e\n      \u003ctd\u003e2.068735\u003c/td\u003e\n      \u003ctd\u003e0.014095\u003c/td\u003e\n      \u003ctd\u003e0.000397\u003c/td\u003e\n      \u003ctd\u003e0.000000\u003c/td\u003e\n      \u003ctd\u003e0.0\u003c/td\u003e\n      \u003ctd\u003e0.0\u003c/td\u003e\n      \u003ctd\u003e0.0\u003c/td\u003e\n      \u003ctd\u003e0.058366\u003c/td\u003e\n      \u003ctd\u003e0.000993\u003c/td\u003e\n      \u003ctd\u003e...\u003c/td\u003e\n      \u003ctd\u003e0.0\u003c/td\u003e\n      \u003ctd\u003e0.0\u003c/td\u003e\n      \u003ctd\u003e0.0\u003c/td\u003e\n      \u003ctd\u003e0.0\u003c/td\u003e\n      \u003ctd\u003e0.0\u003c/td\u003e\n      \u003ctd\u003e0.0\u003c/td\u003e\n      \u003ctd\u003e0.0\u003c/td\u003e\n      \u003ctd\u003e0.0\u003c/td\u003e\n      \u003ctd\u003e0.0\u003c/td\u003e\n      \u003ctd\u003e0.0\u003c/td\u003e\n    \u003c/tr\u003e\n    \u003ctr\u003e\n      \u003cth\u003e3\u003c/th\u003e\n      \u003ctd\u003e../data/1943 - Victory Through Air Power.avi\u003c/td\u003e\n      \u003ctd\u003e2.102102\u003c/td\u003e\n      \u003ctd\u003e0.014432\u003c/td\u003e\n      \u003ctd\u003e0.005248\u003c/td\u003e\n      \u003ctd\u003e0.000000\u003c/td\u003e\n      \u003ctd\u003e0.0\u003c/td\u003e\n      \u003ctd\u003e0.0\u003c/td\u003e\n      \u003ctd\u003e0.0\u003c/td\u003e\n      \u003ctd\u003e0.028427\u003c/td\u003e\n      \u003ctd\u003e0.039361\u003c/td\u003e\n      \u003ctd\u003e...\u003c/td\u003e\n      \u003ctd\u003e0.0\u003c/td\u003e\n      \u003ctd\u003e0.0\u003c/td\u003e\n      \u003ctd\u003e0.0\u003c/td\u003e\n      \u003ctd\u003e0.0\u003c/td\u003e\n      \u003ctd\u003e0.0\u003c/td\u003e\n      \u003ctd\u003e0.0\u003c/td\u003e\n      \u003ctd\u003e0.0\u003c/td\u003e\n      \u003ctd\u003e0.0\u003c/td\u003e\n      \u003ctd\u003e0.0\u003c/td\u003e\n      \u003ctd\u003e0.0\u003c/td\u003e\n    \u003c/tr\u003e\n    \u003ctr\u003e\n      \u003cth\u003e4\u003c/th\u003e\n      \u003ctd\u003e../data/1943 - Victory Through Air Power.avi\u003c/td\u003e\n      \u003ctd\u003e2.135469\u003c/td\u003e\n      \u003ctd\u003e0.003429\u003c/td\u003e\n      \u003ctd\u003e0.009715\u003c/td\u003e\n      \u003ctd\u003e0.000381\u003c/td\u003e\n      \u003ctd\u003e0.0\u003c/td\u003e\n      \u003ctd\u003e0.0\u003c/td\u003e\n      \u003ctd\u003e0.0\u003c/td\u003e\n      \u003ctd\u003e0.021717\u003c/td\u003e\n      \u003ctd\u003e0.044386\u003c/td\u003e\n      \u003ctd\u003e...\u003c/td\u003e\n      \u003ctd\u003e0.0\u003c/td\u003e\n      \u003ctd\u003e0.0\u003c/td\u003e\n      \u003ctd\u003e0.0\u003c/td\u003e\n      \u003ctd\u003e0.0\u003c/td\u003e\n      \u003ctd\u003e0.0\u003c/td\u003e\n      \u003ctd\u003e0.0\u003c/td\u003e\n      \u003ctd\u003e0.0\u003c/td\u003e\n      \u003ctd\u003e0.0\u003c/td\u003e\n      \u003ctd\u003e0.0\u003c/td\u003e\n      \u003ctd\u003e0.0\u003c/td\u003e\n    \u003c/tr\u003e\n  \u003c/tbody\u003e\n\u003c/table\u003e\n\u003cp\u003e5 rows × 902 columns\u003c/p\u003e\n\u003c/div\u003e"
          },
          "metadata": {},
          "output_type": "execute_result",
          "execution_count": 24
        }
      ],
      "source": [
        "train_df.head()"
      ]
    },
    {
      "cell_type": "code",
      "execution_count": 25,
      "metadata": {
        "pycharm": {
          "is_executing": false
        }
      },
      "outputs": [
        {
          "data": {
            "text/plain": "array([[9.99999940e-01, 0.00000000e+00, 0.00000000e+00, ...,\n        0.00000000e+00, 0.00000000e+00, 0.00000000e+00],\n       [6.03374280e-03, 0.00000000e+00, 0.00000000e+00, ...,\n        0.00000000e+00, 0.00000000e+00, 0.00000000e+00],\n       [1.40951686e-02, 3.97046999e-04, 0.00000000e+00, ...,\n        0.00000000e+00, 0.00000000e+00, 0.00000000e+00],\n       ...,\n       [9.99999523e-01, 7.06214341e-04, 4.70809580e-04, ...,\n        0.00000000e+00, 0.00000000e+00, 0.00000000e+00],\n       [4.24734801e-02, 0.00000000e+00, 0.00000000e+00, ...,\n        0.00000000e+00, 0.00000000e+00, 0.00000000e+00],\n       [0.00000000e+00, 0.00000000e+00, 0.00000000e+00, ...,\n        0.00000000e+00, 0.00000000e+00, 0.00000000e+00]])"
          },
          "metadata": {},
          "output_type": "execute_result",
          "execution_count": 25
        }
      ],
      "source": "frame_times \u003d train_df[\u0027frame_time\u0027]\nlabels \u003d train_df.video_path.values\nframe_vectors \u003d train_df.drop([\u0027frame_time\u0027, \u0027video_path\u0027], axis\u003d1).values\nframe_vectors"
    },
    {
      "cell_type": "code",
      "execution_count": 26,
      "metadata": {
        "pycharm": {
          "is_executing": false
        }
      },
      "outputs": [],
      "source": "clf \u003d FaissVideoClassifier(frame_vectors, labels, treshold\u003d0.8)"
    },
    {
      "cell_type": "code",
      "execution_count": 27,
      "metadata": {
        "scrolled": false,
        "pycharm": {
          "is_executing": false
        }
      },
      "outputs": [
        {
          "name": "stdout",
          "text": [
            "data/testvid/the_fun_and_fancy_tree_6.mp4\n",
            "Done 1.0\nClassified as ../data/1940 - Pinocchio.avi\n[\u0027../data/1941 - The Reluctant Dragon.avi\u0027\n \u0027../data/1946 - Make Mine Music.avi\u0027\n \u0027../data/1941 - The Reluctant Dragon.avi\u0027 \u0027../data/1940 - Pinocchio.avi\u0027\n \u0027../data/1942 - Saludos Amigos.m4v\u0027 \u0027../data/1940 - Pinocchio.avi\u0027\n \u0027../data/1940 - Pinocchio.avi\u0027 \u0027../data/1940 - Pinocchio.avi\u0027\n \u0027../data/1940 - Pinocchio.avi\u0027 \u0027../data/1940 - Pinocchio.avi\u0027\n \u0027../data/1940 - Pinocchio.avi\u0027 \u0027../data/1940 - Pinocchio.avi\u0027] [0.8687181  0.8701353  0.8701413  0.86352825 0.8629971  0.86090106\n 0.8614066  0.8603812  0.8639659  0.8715586  0.86744815 0.8798378 ]\ndata/testvid/the_fun_and_fancy_tree_4.mp4\n",
            "Done 1.0\nClassified as ../data/1940 - Pinocchio.avi\n[\u0027../data/1946 - Make Mine Music.avi\u0027\n \u0027../data/1949 - The Adventures Of Ichabod And Mr. Toad.m4v\u0027\n \u0027../data/1946 - Make Mine Music.avi\u0027 \u0027../data/1946 - Make Mine Music.avi\u0027\n \u0027../data/1948 - So Dear to My Heart.mp4\u0027 \u0027../data/1940 - Pinocchio.avi\u0027\n \u0027../data/1940 - Pinocchio.avi\u0027 \u0027../data/1940 - Pinocchio.avi\u0027\n \u0027../data/1940 - Pinocchio.avi\u0027 \u0027../data/1946 - Make Mine Music.avi\u0027\n \u0027../data/1940 - Pinocchio.avi\u0027] [0.8548295  0.8524426  0.8552191  0.8697607  0.8684253  0.86631906\n 0.8590808  0.8690381  0.86210763 0.8571779  0.86258686]\ndata/testvid/the_fun_and_fancy_tree_2.mp4\n",
            "Done 1.0\nClassified as ../data/1940 - Pinocchio.avi\n[\u0027../data/1949 - The Adventures Of Ichabod And Mr. Toad.m4v\u0027\n \u0027../data/1940 - Pinocchio.avi\u0027 \u0027../data/1940 - Pinocchio.avi\u0027\n \u0027../data/1940 - Pinocchio.avi\u0027 \u0027../data/1940 - Pinocchio.avi\u0027\n \u0027../data/1940 - Pinocchio.avi\u0027 \u0027../data/1940 - Pinocchio.avi\u0027\n \u0027../data/1940 - Pinocchio.avi\u0027 \u0027../data/1940 - Pinocchio.avi\u0027\n \u0027../data/1949 - The Adventures Of Ichabod And Mr. Toad.m4v\u0027\n \u0027../data/1942 - Saludos Amigos.m4v\u0027] [0.8531241  0.8752006  0.87165964 0.87127435 0.8725023  0.8701543\n 0.86484754 0.8748349  0.8667515  0.86008453 0.8739345 ]\ndata/testvid/the_fun_and_fancy_tree_3.mp4\n",
            "Done 1.0\nClassified as ../data/1949 - The Adventures Of Ichabod And Mr. Toad.m4v\n[\u0027../data/1949 - The Adventures Of Ichabod And Mr. Toad.m4v\u0027\n \u0027../data/1949 - The Adventures Of Ichabod And Mr. Toad.m4v\u0027\n \u0027../data/1940 - Pinocchio.avi\u0027 \u0027../data/1946 - Make Mine Music.avi\u0027\n \u0027../data/1949 - The Adventures Of Ichabod And Mr. Toad.m4v\u0027\n \u0027../data/1940 - Pinocchio.avi\u0027\n \u0027../data/The.Young.Pope.S01E01.HDTVRip.Jaskier.avi\u0027] [0.85398465 0.8537825  0.8743207  0.8699494  0.85889655 0.8546883\n 0.8550418 ]\ndata/testvid/the_fun_and_fancy_tree_5.mp4\n",
            "Done 1.0\nClassified as ../data/1949 - The Adventures Of Ichabod And Mr. Toad.m4v\n[\u0027../data/1943 - Victory Through Air Power.avi\u0027\n \u0027../data/1946 - Song of the South.avi\u0027\n \u0027../data/1949 - The Adventures Of Ichabod And Mr. Toad.m4v\u0027\n \u0027../data/1942 - Saludos Amigos.m4v\u0027 \u0027../data/1946 - Make Mine Music.avi\u0027\n \u0027../data/1946 - Make Mine Music.avi\u0027\n \u0027../data/1949 - The Adventures Of Ichabod And Mr. Toad.m4v\u0027\n \u0027../data/1946 - Song of the South.avi\u0027 \u0027../data/1940 - Pinocchio.avi\u0027\n \u0027../data/1940 - Pinocchio.avi\u0027 \u0027../data/1941 - The Reluctant Dragon.avi\u0027] [0.8591003  0.85532844 0.8608399  0.8566537  0.86420166 0.8624248\n 0.8602262  0.8508334  0.86253834 0.86450636 0.8854685 ]\ndata/testvid/the_fun_and_fancy_tree_1.mp4\n",
            "Done 1.0\nClassified as ../data/1946 - Make Mine Music.avi\n[\u0027../data/1940 - Pinocchio.avi\u0027 \u0027../data/1940 - Pinocchio.avi\u0027\n \u0027../data/1940 - Pinocchio.avi\u0027 \u0027../data/1946 - Make Mine Music.avi\u0027\n \u0027../data/1946 - Make Mine Music.avi\u0027 \u0027../data/1946 - Make Mine Music.avi\u0027\n \u0027../data/1946 - Make Mine Music.avi\u0027 \u0027../data/1946 - Make Mine Music.avi\u0027\n \u0027../data/1940 - Pinocchio.avi\u0027 \u0027../data/1940 - Pinocchio.avi\u0027\n \u0027../data/1949 - The Adventures Of Ichabod And Mr. Toad.m4v\u0027] [0.85306454 0.8763247  0.8704774  0.86502004 0.8665062  0.8657453\n 0.8669581  0.86797833 0.8420001  0.8436603  0.8470163 ]\n"
          ],
          "output_type": "stream"
        }
      ],
      "source": "test_videos \u003d [os.path.join(TEST_VID_DIR, f) for f in os.listdir(TEST_VID_DIR)]\nfor fpath in test_videos:\n    print(fpath)\n    test_df \u003d get_dataframe([fpath], feature_extractor\u003dFEATURE_EXTRACTOR)   \n    test_df_frame_vectors \u003d test_df.drop([\u0027frame_time\u0027, \u0027video_path\u0027], axis\u003d1).values\n    predicted_label, votes, dists \u003d clf.classify(test_df_frame_vectors)\n    print(\u0027Classified as\u0027, predicted_label)\n    print(votes, dists)"
    },
    {
      "cell_type": "code",
      "execution_count": null,
      "outputs": [],
      "source": "\n",
      "metadata": {
        "pycharm": {
          "metadata": false,
          "name": "#%%\n"
        }
      }
    }
  ],
  "metadata": {
    "kernelspec": {
      "name": "python3",
      "language": "python",
      "display_name": "Python 3"
    },
    "language_info": {
      "codemirror_mode": {
        "name": "ipython",
        "version": 3
      },
      "file_extension": ".py",
      "mimetype": "text/x-python",
      "name": "python",
      "nbconvert_exporter": "python",
      "pygments_lexer": "ipython3",
      "version": "3.6.4"
    }
  },
  "nbformat": 4,
  "nbformat_minor": 2
}