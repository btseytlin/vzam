{
  "cells": [
    {
      "cell_type": "code",
      "execution_count": 86,
      "metadata": {
        "pycharm": {
          "is_executing": false
        }
      },
      "outputs": [],
      "source": "import cv2\nimport faiss\nimport os\nimport numpy as np\nimport pandas as pd\nimport scipy\nfrom scipy.spatial.distance import cosine\nimport random\nfrom sklearn.metrics import classification_report, accuracy_score\n%matplotlib inline"
    },
    {
      "cell_type": "code",
      "execution_count": 94,
      "outputs": [],
      "source": "from util import *",
      "metadata": {
        "pycharm": {
          "metadata": false,
          "name": "#%%\n",
          "is_executing": false
        }
      }
    },
    {
      "cell_type": "code",
      "execution_count": 100,
      "outputs": [],
      "source": "TMP_DIR \u003d \u0027tmp\u0027\nFRAMES_DIR \u003d \u0027tmp/frames\u0027\nTRAIN_VIDEOS_DIR \u003d \u0027data/train_videos\u0027\nTEST_VIDEOS_DIR \u003d \u0027data/test_videos\u0027\nFEATURE_EXTRACTOR \u003d color_histogram_features",
      "metadata": {
        "pycharm": {
          "metadata": false,
          "name": "#%%\n",
          "is_executing": false
        }
      }
    },
    {
      "cell_type": "code",
      "execution_count": 101,
      "outputs": [
        {
          "name": "stdout",
          "text": [
            "Done 0.5\n",
            "Done 1.0\n"
          ],
          "output_type": "stream"
        },
        {
          "data": {
            "text/plain": "                                        video_path  frame_time      x_0  x_1  \\\n0  data/train_videos/1947 - Fun and Fancy Free.avi        13.4  0.00002  0.0   \n1  data/train_videos/1947 - Fun and Fancy Free.avi        52.9  0.00000  0.0   \n2  data/train_videos/1947 - Fun and Fancy Free.avi       170.5  0.00000  0.0   \n3  data/train_videos/1947 - Fun and Fancy Free.avi       232.0  0.00002  0.0   \n4  data/train_videos/1947 - Fun and Fancy Free.avi       300.6  0.00003  0.0   \n\n        x_2       x_3       x_4       x_5       x_6       x_7  ...  x_719  \\\n0  0.000000  0.000000  0.000000  0.000000  0.000000  0.008539  ...    0.0   \n1  0.000000  0.000000  0.000767  0.000373  0.001060  0.000838  ...    0.0   \n2  0.000000  0.000000  0.000000  0.000000  0.001484  0.012173  ...    0.0   \n3  0.004461  0.037771  0.051427  0.025042  0.012748  0.012890  ...    0.0   \n4  0.000000  0.000252  0.001514  0.003169  0.002614  0.007459  ...    0.0   \n\n   x_720  x_721  x_722  x_723  x_724  x_725  x_726  x_727  x_728  \n0    0.0    0.0    0.0    0.0    0.0    0.0    0.0    0.0    0.0  \n1    0.0    0.0    0.0    0.0    0.0    0.0    0.0    0.0    0.0  \n2    0.0    0.0    0.0    0.0    0.0    0.0    0.0    0.0    0.0  \n3    0.0    0.0    0.0    0.0    0.0    0.0    0.0    0.0    0.0  \n4    0.0    0.0    0.0    0.0    0.0    0.0    0.0    0.0    0.0  \n\n[5 rows x 731 columns]",
            "text/html": "\u003cdiv\u003e\n\u003cstyle scoped\u003e\n    .dataframe tbody tr th:only-of-type {\n        vertical-align: middle;\n    }\n\n    .dataframe tbody tr th {\n        vertical-align: top;\n    }\n\n    .dataframe thead th {\n        text-align: right;\n    }\n\u003c/style\u003e\n\u003ctable border\u003d\"1\" class\u003d\"dataframe\"\u003e\n  \u003cthead\u003e\n    \u003ctr style\u003d\"text-align: right;\"\u003e\n      \u003cth\u003e\u003c/th\u003e\n      \u003cth\u003evideo_path\u003c/th\u003e\n      \u003cth\u003eframe_time\u003c/th\u003e\n      \u003cth\u003ex_0\u003c/th\u003e\n      \u003cth\u003ex_1\u003c/th\u003e\n      \u003cth\u003ex_2\u003c/th\u003e\n      \u003cth\u003ex_3\u003c/th\u003e\n      \u003cth\u003ex_4\u003c/th\u003e\n      \u003cth\u003ex_5\u003c/th\u003e\n      \u003cth\u003ex_6\u003c/th\u003e\n      \u003cth\u003ex_7\u003c/th\u003e\n      \u003cth\u003e...\u003c/th\u003e\n      \u003cth\u003ex_719\u003c/th\u003e\n      \u003cth\u003ex_720\u003c/th\u003e\n      \u003cth\u003ex_721\u003c/th\u003e\n      \u003cth\u003ex_722\u003c/th\u003e\n      \u003cth\u003ex_723\u003c/th\u003e\n      \u003cth\u003ex_724\u003c/th\u003e\n      \u003cth\u003ex_725\u003c/th\u003e\n      \u003cth\u003ex_726\u003c/th\u003e\n      \u003cth\u003ex_727\u003c/th\u003e\n      \u003cth\u003ex_728\u003c/th\u003e\n    \u003c/tr\u003e\n  \u003c/thead\u003e\n  \u003ctbody\u003e\n    \u003ctr\u003e\n      \u003cth\u003e0\u003c/th\u003e\n      \u003ctd\u003edata/train_videos/1947 - Fun and Fancy Free.avi\u003c/td\u003e\n      \u003ctd\u003e13.4\u003c/td\u003e\n      \u003ctd\u003e0.00002\u003c/td\u003e\n      \u003ctd\u003e0.0\u003c/td\u003e\n      \u003ctd\u003e0.000000\u003c/td\u003e\n      \u003ctd\u003e0.000000\u003c/td\u003e\n      \u003ctd\u003e0.000000\u003c/td\u003e\n      \u003ctd\u003e0.000000\u003c/td\u003e\n      \u003ctd\u003e0.000000\u003c/td\u003e\n      \u003ctd\u003e0.008539\u003c/td\u003e\n      \u003ctd\u003e...\u003c/td\u003e\n      \u003ctd\u003e0.0\u003c/td\u003e\n      \u003ctd\u003e0.0\u003c/td\u003e\n      \u003ctd\u003e0.0\u003c/td\u003e\n      \u003ctd\u003e0.0\u003c/td\u003e\n      \u003ctd\u003e0.0\u003c/td\u003e\n      \u003ctd\u003e0.0\u003c/td\u003e\n      \u003ctd\u003e0.0\u003c/td\u003e\n      \u003ctd\u003e0.0\u003c/td\u003e\n      \u003ctd\u003e0.0\u003c/td\u003e\n      \u003ctd\u003e0.0\u003c/td\u003e\n    \u003c/tr\u003e\n    \u003ctr\u003e\n      \u003cth\u003e1\u003c/th\u003e\n      \u003ctd\u003edata/train_videos/1947 - Fun and Fancy Free.avi\u003c/td\u003e\n      \u003ctd\u003e52.9\u003c/td\u003e\n      \u003ctd\u003e0.00000\u003c/td\u003e\n      \u003ctd\u003e0.0\u003c/td\u003e\n      \u003ctd\u003e0.000000\u003c/td\u003e\n      \u003ctd\u003e0.000000\u003c/td\u003e\n      \u003ctd\u003e0.000767\u003c/td\u003e\n      \u003ctd\u003e0.000373\u003c/td\u003e\n      \u003ctd\u003e0.001060\u003c/td\u003e\n      \u003ctd\u003e0.000838\u003c/td\u003e\n      \u003ctd\u003e...\u003c/td\u003e\n      \u003ctd\u003e0.0\u003c/td\u003e\n      \u003ctd\u003e0.0\u003c/td\u003e\n      \u003ctd\u003e0.0\u003c/td\u003e\n      \u003ctd\u003e0.0\u003c/td\u003e\n      \u003ctd\u003e0.0\u003c/td\u003e\n      \u003ctd\u003e0.0\u003c/td\u003e\n      \u003ctd\u003e0.0\u003c/td\u003e\n      \u003ctd\u003e0.0\u003c/td\u003e\n      \u003ctd\u003e0.0\u003c/td\u003e\n      \u003ctd\u003e0.0\u003c/td\u003e\n    \u003c/tr\u003e\n    \u003ctr\u003e\n      \u003cth\u003e2\u003c/th\u003e\n      \u003ctd\u003edata/train_videos/1947 - Fun and Fancy Free.avi\u003c/td\u003e\n      \u003ctd\u003e170.5\u003c/td\u003e\n      \u003ctd\u003e0.00000\u003c/td\u003e\n      \u003ctd\u003e0.0\u003c/td\u003e\n      \u003ctd\u003e0.000000\u003c/td\u003e\n      \u003ctd\u003e0.000000\u003c/td\u003e\n      \u003ctd\u003e0.000000\u003c/td\u003e\n      \u003ctd\u003e0.000000\u003c/td\u003e\n      \u003ctd\u003e0.001484\u003c/td\u003e\n      \u003ctd\u003e0.012173\u003c/td\u003e\n      \u003ctd\u003e...\u003c/td\u003e\n      \u003ctd\u003e0.0\u003c/td\u003e\n      \u003ctd\u003e0.0\u003c/td\u003e\n      \u003ctd\u003e0.0\u003c/td\u003e\n      \u003ctd\u003e0.0\u003c/td\u003e\n      \u003ctd\u003e0.0\u003c/td\u003e\n      \u003ctd\u003e0.0\u003c/td\u003e\n      \u003ctd\u003e0.0\u003c/td\u003e\n      \u003ctd\u003e0.0\u003c/td\u003e\n      \u003ctd\u003e0.0\u003c/td\u003e\n      \u003ctd\u003e0.0\u003c/td\u003e\n    \u003c/tr\u003e\n    \u003ctr\u003e\n      \u003cth\u003e3\u003c/th\u003e\n      \u003ctd\u003edata/train_videos/1947 - Fun and Fancy Free.avi\u003c/td\u003e\n      \u003ctd\u003e232.0\u003c/td\u003e\n      \u003ctd\u003e0.00002\u003c/td\u003e\n      \u003ctd\u003e0.0\u003c/td\u003e\n      \u003ctd\u003e0.004461\u003c/td\u003e\n      \u003ctd\u003e0.037771\u003c/td\u003e\n      \u003ctd\u003e0.051427\u003c/td\u003e\n      \u003ctd\u003e0.025042\u003c/td\u003e\n      \u003ctd\u003e0.012748\u003c/td\u003e\n      \u003ctd\u003e0.012890\u003c/td\u003e\n      \u003ctd\u003e...\u003c/td\u003e\n      \u003ctd\u003e0.0\u003c/td\u003e\n      \u003ctd\u003e0.0\u003c/td\u003e\n      \u003ctd\u003e0.0\u003c/td\u003e\n      \u003ctd\u003e0.0\u003c/td\u003e\n      \u003ctd\u003e0.0\u003c/td\u003e\n      \u003ctd\u003e0.0\u003c/td\u003e\n      \u003ctd\u003e0.0\u003c/td\u003e\n      \u003ctd\u003e0.0\u003c/td\u003e\n      \u003ctd\u003e0.0\u003c/td\u003e\n      \u003ctd\u003e0.0\u003c/td\u003e\n    \u003c/tr\u003e\n    \u003ctr\u003e\n      \u003cth\u003e4\u003c/th\u003e\n      \u003ctd\u003edata/train_videos/1947 - Fun and Fancy Free.avi\u003c/td\u003e\n      \u003ctd\u003e300.6\u003c/td\u003e\n      \u003ctd\u003e0.00003\u003c/td\u003e\n      \u003ctd\u003e0.0\u003c/td\u003e\n      \u003ctd\u003e0.000000\u003c/td\u003e\n      \u003ctd\u003e0.000252\u003c/td\u003e\n      \u003ctd\u003e0.001514\u003c/td\u003e\n      \u003ctd\u003e0.003169\u003c/td\u003e\n      \u003ctd\u003e0.002614\u003c/td\u003e\n      \u003ctd\u003e0.007459\u003c/td\u003e\n      \u003ctd\u003e...\u003c/td\u003e\n      \u003ctd\u003e0.0\u003c/td\u003e\n      \u003ctd\u003e0.0\u003c/td\u003e\n      \u003ctd\u003e0.0\u003c/td\u003e\n      \u003ctd\u003e0.0\u003c/td\u003e\n      \u003ctd\u003e0.0\u003c/td\u003e\n      \u003ctd\u003e0.0\u003c/td\u003e\n      \u003ctd\u003e0.0\u003c/td\u003e\n      \u003ctd\u003e0.0\u003c/td\u003e\n      \u003ctd\u003e0.0\u003c/td\u003e\n      \u003ctd\u003e0.0\u003c/td\u003e\n    \u003c/tr\u003e\n  \u003c/tbody\u003e\n\u003c/table\u003e\n\u003cp\u003e5 rows × 731 columns\u003c/p\u003e\n\u003c/div\u003e"
          },
          "metadata": {},
          "output_type": "execute_result",
          "execution_count": 101
        }
      ],
      "source": "fpaths \u003d [os.path.join(TRAIN_VIDEOS_DIR, fpath) for fpath in os.listdir(TRAIN_VIDEOS_DIR)]\ntrain_df \u003d get_dataframe(fpaths,\n                         feature_extractor\u003dFEATURE_EXTRACTOR,\n                         #preprocessor\u003dpreprocess_image_load,\n                         #write_frames_dir\u003dFRAMES_DIR,\n                         mod_filter\u003d15,\n                         )\ntrain_df.head()",
      "metadata": {
        "pycharm": {
          "metadata": false,
          "name": "#%%\n",
          "is_executing": false
        }
      }
    },
    {
      "cell_type": "code",
      "execution_count": 102,
      "metadata": {
        "pycharm": {
          "is_executing": false
        }
      },
      "outputs": [
        {
          "data": {
            "text/plain": "array([[2.01873390e-05, 0.00000000e+00, 0.00000000e+00, ...,\n        0.00000000e+00, 0.00000000e+00, 0.00000000e+00],\n       [0.00000000e+00, 0.00000000e+00, 0.00000000e+00, ...,\n        0.00000000e+00, 0.00000000e+00, 0.00000000e+00],\n       [0.00000000e+00, 0.00000000e+00, 0.00000000e+00, ...,\n        0.00000000e+00, 0.00000000e+00, 0.00000000e+00],\n       ...,\n       [0.00000000e+00, 0.00000000e+00, 2.43739734e-04, ...,\n        0.00000000e+00, 0.00000000e+00, 0.00000000e+00],\n       [0.00000000e+00, 8.40260647e-04, 1.60996511e-03, ...,\n        0.00000000e+00, 0.00000000e+00, 0.00000000e+00],\n       [0.00000000e+00, 1.08400045e-03, 3.30972904e-03, ...,\n        0.00000000e+00, 0.00000000e+00, 0.00000000e+00]])"
          },
          "metadata": {},
          "output_type": "execute_result",
          "execution_count": 102
        }
      ],
      "source": "frame_times \u003d train_df[\u0027frame_time\u0027]\nlabels \u003d train_df.video_path.values\nframe_vectors \u003d train_df.drop([\u0027frame_time\u0027, \u0027video_path\u0027], axis\u003d1).values\nframe_vectors"
    },
    {
      "cell_type": "code",
      "execution_count": 107,
      "metadata": {
        "pycharm": {
          "is_executing": false
        }
      },
      "outputs": [],
      "source": "clf \u003d FaissVideoClassifier(frame_vectors, labels, treshold\u003d0.7)"
    },
    {
      "cell_type": "code",
      "execution_count": 108,
      "metadata": {
        "scrolled": false,
        "pycharm": {
          "is_executing": false
        }
      },
      "outputs": [
        {
          "name": "stdout",
          "text": [
            "Done 1.0\ndata/test_videos/the_fun_and_fancy_tree_6.mp4\nClassified as data/train_videos/1947 - Fun and Fancy Free.avi\n[0.77374136 0.7589376  0.76052034 0.8097659  0.7706897  0.7119568\n 0.6817409  0.70732677 0.75944746 0.711558   0.7005333  0.70391834]\nClosest frames\ndata/train_videos/1947 - Fun and Fancy Free.avi 3221.7\ndata/train_videos/1947 - Fun and Fancy Free.avi 3221.7\ndata/train_videos/1947 - Fun and Fancy Free.avi 3221.7\ndata/train_videos/1947 - Fun and Fancy Free.avi 1260.7\ndata/train_videos/1947 - Fun and Fancy Free.avi 1260.7\ndata/train_videos/1947 - Fun and Fancy Free.avi 1260.7\nmiss 1260.7\ndata/train_videos/1947 - Fun and Fancy Free.avi 2067.3\ndata/train_videos/1947 - Fun and Fancy Free.avi 1260.7\ndata/train_videos/1947 - Fun and Fancy Free.avi 1260.7\ndata/train_videos/1947 - Fun and Fancy Free.avi 3221.7\ndata/train_videos/1947 - Fun and Fancy Free.avi 4007.8\n\n",
            "Done 1.0\ndata/test_videos/the_fun_and_fancy_tree_4.mp4\nClassified as data/train_videos/1947 - Fun and Fancy Free.avi\n[0.7750741  0.7589152  0.71521676 0.690145   0.7727522  0.73212546\n 0.74034125 0.7454351  0.7264285  0.76525784 0.7495289 ]\nClosest frames\ndata/train_videos/1947 - Fun and Fancy Free.avi 2067.3\ndata/train_videos/1947 - Fun and Fancy Free.avi 2067.3\ndata/train_videos/1947 - Fun and Fancy Free.avi 2067.3\nmiss 2067.3\ndata/train_videos/1947 - Fun and Fancy Free.avi 2067.3\ndata/train_videos/1947 - Fun and Fancy Free.avi 1260.7\ndata/train_videos/1947 - Fun and Fancy Free.avi 3221.7\ndata/train_videos/1947 - Fun and Fancy Free.avi 3221.7\ndata/train_videos/1947 - Fun and Fancy Free.avi 3221.7\ndata/train_videos/1947 - Fun and Fancy Free.avi 1260.7\ndata/train_videos/1947 - Fun and Fancy Free.avi 3221.7\n\n",
            "Done 1.0\ndata/test_videos/miss.mp4\nClassified as miss\n[0.72612506 0.78713644 0.6014688  0.57790315 0.5811874  0.5942422\n 0.6210606  0.67173994 0.73754543 0.83125746 0.8205662  0.7935121 ]\nClosest frames\ndata/train_videos/1947 - Fun and Fancy Free.avi 1260.7\ndata/train_videos/1947 - Fun and Fancy Free.avi 1260.7\nmiss 2067.3\nmiss 3191.8\nmiss 1260.7\nmiss 1260.7\nmiss 1260.7\nmiss 1297.4\ndata/train_videos/1947 - Fun and Fancy Free.avi 1260.7\ndata/train_videos/1947 - Fun and Fancy Free.avi 4019.4\ndata/train_videos/1947 - Fun and Fancy Free.avi 1260.7\ndata/train_videos/1947 - Fun and Fancy Free.avi 1260.7\n\n",
            "Done 1.0\ndata/test_videos/the_fun_and_fancy_tree_2.mp4\nClassified as data/train_videos/1947 - Fun and Fancy Free.avi\n[0.834759   0.7153666  0.7186568  0.71736073 0.68349516 0.73031044\n 0.67100865 0.7245798  0.72127116 0.8468121  0.8042161 ]\nClosest frames\ndata/train_videos/1947 - Fun and Fancy Free.avi 1260.7\ndata/train_videos/1940 - Fantasia.avi 3863.5\ndata/train_videos/1940 - Fantasia.avi 3863.5\ndata/train_videos/1940 - Fantasia.avi 3863.5\nmiss 3863.5\ndata/train_videos/1947 - Fun and Fancy Free.avi 1990.5\nmiss 1990.5\ndata/train_videos/1947 - Fun and Fancy Free.avi 1990.5\ndata/train_videos/1940 - Fantasia.avi 479.0\ndata/train_videos/1947 - Fun and Fancy Free.avi 1260.7\ndata/train_videos/1947 - Fun and Fancy Free.avi 232.0\n\n",
            "Done 1.0\ndata/test_videos/the_fun_and_fancy_tree_3.mp4\nClassified as data/train_videos/1947 - Fun and Fancy Free.avi\n[0.7820893  0.7853284  0.80899704 0.81801677 0.7702284  0.8294518\n 0.8441014 ]\nClosest frames\ndata/train_videos/1947 - Fun and Fancy Free.avi 1260.7\ndata/train_videos/1947 - Fun and Fancy Free.avi 1260.7\ndata/train_videos/1947 - Fun and Fancy Free.avi 1260.7\ndata/train_videos/1947 - Fun and Fancy Free.avi 1258.4\ndata/train_videos/1947 - Fun and Fancy Free.avi 1611.3\ndata/train_videos/1947 - Fun and Fancy Free.avi 1260.7\ndata/train_videos/1947 - Fun and Fancy Free.avi 1260.7\n\n",
            "Done 1.0\ndata/test_videos/the_fun_and_fancy_tree_5.mp4\nClassified as data/train_videos/1947 - Fun and Fancy Free.avi\n[0.7739574  0.82553744 0.8017864  0.7509101  0.7501642  0.7409089\n 0.7642863  0.7864773  0.68890834 0.6608199  0.8074385 ]\nClosest frames\ndata/train_videos/1947 - Fun and Fancy Free.avi 1611.3\ndata/train_videos/1947 - Fun and Fancy Free.avi 1611.3\ndata/train_videos/1947 - Fun and Fancy Free.avi 2056.0\ndata/train_videos/1947 - Fun and Fancy Free.avi 1260.7\ndata/train_videos/1947 - Fun and Fancy Free.avi 1260.7\ndata/train_videos/1947 - Fun and Fancy Free.avi 1260.7\ndata/train_videos/1947 - Fun and Fancy Free.avi 1260.7\ndata/train_videos/1947 - Fun and Fancy Free.avi 2056.0\nmiss 5147.6\nmiss 1736.3\ndata/train_videos/1947 - Fun and Fancy Free.avi 1990.5\n\n",
            "Done 1.0\ndata/test_videos/the_fun_and_fancy_tree_1.mp4\nClassified as data/train_videos/1947 - Fun and Fancy Free.avi\n[0.7261765  0.70066965 0.7317551  0.79084754 0.81650174 0.8232932\n 0.8313239  0.8257599  0.7754346  0.75978756 0.7720686 ]\nClosest frames\ndata/train_videos/1947 - Fun and Fancy Free.avi 1990.5\ndata/train_videos/1947 - Fun and Fancy Free.avi 1990.5\ndata/train_videos/1947 - Fun and Fancy Free.avi 1078.8\ndata/train_videos/1947 - Fun and Fancy Free.avi 1262.1\ndata/train_videos/1947 - Fun and Fancy Free.avi 1262.1\ndata/train_videos/1947 - Fun and Fancy Free.avi 1262.1\ndata/train_videos/1947 - Fun and Fancy Free.avi 1262.1\ndata/train_videos/1947 - Fun and Fancy Free.avi 1262.1\ndata/train_videos/1947 - Fun and Fancy Free.avi 1990.5\ndata/train_videos/1947 - Fun and Fancy Free.avi 1990.5\ndata/train_videos/1947 - Fun and Fancy Free.avi 1990.5\n\n"
          ],
          "output_type": "stream"
        }
      ],
      "source": "test_videos \u003d [os.path.join(TEST_VIDEOS_DIR, f) for f in os.listdir(TEST_VIDEOS_DIR)]\nfor fpath in test_videos:\n    test_df \u003d get_dataframe([fpath],\n                            feature_extractor\u003dFEATURE_EXTRACTOR,\n                            #preprocessor\u003dpreprocess_image_restore,\n                            write_frames_dir\u003dFRAMES_DIR,\n                            ssim_threshold\u003dNone)   \n    test_df_frame_vectors \u003d test_df.drop([\u0027frame_time\u0027, \u0027video_path\u0027], axis\u003d1).values\n    predicted_label, votes, dists, indices \u003d clf.classify(test_df_frame_vectors)\n    print(fpath)\n    print(\u0027Classified as\u0027, predicted_label)\n    #print(votes, dists, indices)\n    print(dists)\n    print(\u0027Closest frames\u0027)\n    for v, t in zip(votes, frame_times[indices]):\n        print(v, t)\n    print()"
    },
    {
      "cell_type": "code",
      "execution_count": null,
      "outputs": [],
      "source": "\n",
      "metadata": {
        "pycharm": {
          "metadata": false,
          "name": "#%%\n"
        }
      }
    }
  ],
  "metadata": {
    "kernelspec": {
      "name": "python3",
      "language": "python",
      "display_name": "Python 3"
    },
    "language_info": {
      "codemirror_mode": {
        "name": "ipython",
        "version": 3
      },
      "file_extension": ".py",
      "mimetype": "text/x-python",
      "name": "python",
      "nbconvert_exporter": "python",
      "pygments_lexer": "ipython3",
      "version": "3.6.4"
    }
  },
  "nbformat": 4,
  "nbformat_minor": 2
}