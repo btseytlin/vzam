{
  "cells": [
    {
      "cell_type": "code",
      "execution_count": 1,
      "metadata": {
        "pycharm": {}
      },
      "outputs": [],
      "source": [
        "import pandas as pd\n",
        "import numpy as np\n",
        "import seaborn as sns\n",
        "import matplotlib.pyplot as plt \n",
        "import os\n",
        "%matplotlib inline"
      ]
    },
    {
      "cell_type": "code",
      "execution_count": 3,
      "metadata": {
        "pycharm": {}
      },
      "outputs": [
        {
          "data": {
            "text/plain": [
              "\u0027D:\\\\projects\\\\kr\\\\vzam\\\\notebooks\u0027"
            ]
          },
          "execution_count": 3,
          "metadata": {},
          "output_type": "execute_result"
        }
      ],
      "source": [
        "initial_cwd \u003d os.getcwd()\n",
        "initial_cwd"
      ]
    },
    {
      "cell_type": "code",
      "execution_count": null,
      "metadata": {
        "pycharm": {}
      },
      "outputs": [],
      "source": []
    },
    {
      "cell_type": "code",
      "execution_count": 4,
      "metadata": {
        "pycharm": {}
      },
      "outputs": [
        {
          "name": "stdout",
          "output_type": "stream",
          "text": [
            "D:\\projects\\kr\\vzam\\notebooks\n",
            "D:\\projects\\kr\\vzam\n"
          ]
        }
      ],
      "source": [
        "print(initial_cwd)\n",
        "os.chdir(initial_cwd)\n",
        "os.chdir(\u0027..\u0027)\n",
        "print(os.getcwd())"
      ]
    },
    {
      "cell_type": "code",
      "execution_count": null,
      "metadata": {
        "pycharm": {}
      },
      "outputs": [],
      "source": []
    },
    {
      "cell_type": "code",
      "execution_count": 5,
      "metadata": {
        "pycharm": {}
      },
      "outputs": [],
      "source": [
        "from vzam import *"
      ]
    },
    {
      "cell_type": "code",
      "execution_count": 6,
      "metadata": {
        "pycharm": {}
      },
      "outputs": [],
      "source": "RESIZE \u003d (200,200)\nSOURCE_FRAMERATE \u003d 5\nQUERY_FRAMERATE \u003d 5\nTIRI_BUFFER_SIZE \u003d 15\nHASH_SIZE \u003d 256"
    },
    {
      "cell_type": "code",
      "execution_count": 7,
      "metadata": {
        "pycharm": {}
      },
      "outputs": [],
      "source": [
        "TMP_DIR \u003d \u0027tmp\u0027\n",
        "DATA_DIR \u003d \u0027data\u0027\n",
        "if not os.path.exists(TMP_DIR):\n",
        "    os.mkdir(TMP_DIR)\n",
        "if not os.path.exists(DATA_DIR):\n",
        "    os.mkdir(DATA_DIR)"
      ]
    },
    {
      "cell_type": "code",
      "execution_count": 8,
      "metadata": {
        "pycharm": {}
      },
      "outputs": [],
      "source": [
        "VCDB_CSV \u003d \u0027data/vcdb.csv\u0027\n",
        "PATH_PREFIX \u003d \u0027../vcdb/\u0027"
      ]
    },
    {
      "cell_type": "code",
      "execution_count": 9,
      "metadata": {
        "pycharm": {}
      },
      "outputs": [
        {
          "data": {
            "text/html": [
              "\u003cdiv\u003e\n",
              "\u003cstyle scoped\u003e\n",
              "    .dataframe tbody tr th:only-of-type {\n",
              "        vertical-align: middle;\n",
              "    }\n",
              "\n",
              "    .dataframe tbody tr th {\n",
              "        vertical-align: top;\n",
              "    }\n",
              "\n",
              "    .dataframe thead th {\n",
              "        text-align: right;\n",
              "    }\n",
              "\u003c/style\u003e\n",
              "\u003ctable border\u003d\"1\" class\u003d\"dataframe\"\u003e\n",
              "  \u003cthead\u003e\n",
              "    \u003ctr style\u003d\"text-align: right;\"\u003e\n",
              "      \u003cth\u003e\u003c/th\u003e\n",
              "      \u003cth\u003equery\u003c/th\u003e\n",
              "      \u003cth\u003esource\u003c/th\u003e\n",
              "      \u003cth\u003esource_id\u003c/th\u003e\n",
              "    \u003c/tr\u003e\n",
              "  \u003c/thead\u003e\n",
              "  \u003ctbody\u003e\n",
              "    \u003ctr\u003e\n",
              "      \u003cth\u003e0\u003c/th\u003e\n",
              "      \u003ctd\u003ecore_dataset/baggio_penalty_1994\\3504e360accba...\u003c/td\u003e\n",
              "      \u003ctd\u003ecore_dataset/baggio_penalty_1994\\bb604f57a1845...\u003c/td\u003e\n",
              "      \u003ctd\u003ebb604f57a18455867544e79c2e32bf5583c358d4.flv\u003c/td\u003e\n",
              "    \u003c/tr\u003e\n",
              "    \u003ctr\u003e\n",
              "      \u003cth\u003e1\u003c/th\u003e\n",
              "      \u003ctd\u003ecore_dataset/baggio_penalty_1994\\37b31d607d31a...\u003c/td\u003e\n",
              "      \u003ctd\u003ecore_dataset/baggio_penalty_1994\\bb604f57a1845...\u003c/td\u003e\n",
              "      \u003ctd\u003ebb604f57a18455867544e79c2e32bf5583c358d4.flv\u003c/td\u003e\n",
              "    \u003c/tr\u003e\n",
              "    \u003ctr\u003e\n",
              "      \u003cth\u003e2\u003c/th\u003e\n",
              "      \u003ctd\u003ecore_dataset/baggio_penalty_1994\\458db5aa227ae...\u003c/td\u003e\n",
              "      \u003ctd\u003ecore_dataset/baggio_penalty_1994\\bb604f57a1845...\u003c/td\u003e\n",
              "      \u003ctd\u003ebb604f57a18455867544e79c2e32bf5583c358d4.flv\u003c/td\u003e\n",
              "    \u003c/tr\u003e\n",
              "    \u003ctr\u003e\n",
              "      \u003cth\u003e3\u003c/th\u003e\n",
              "      \u003ctd\u003ecore_dataset/baggio_penalty_1994\\5c5714c0a56fd...\u003c/td\u003e\n",
              "      \u003ctd\u003ecore_dataset/baggio_penalty_1994\\bb604f57a1845...\u003c/td\u003e\n",
              "      \u003ctd\u003ebb604f57a18455867544e79c2e32bf5583c358d4.flv\u003c/td\u003e\n",
              "    \u003c/tr\u003e\n",
              "    \u003ctr\u003e\n",
              "      \u003cth\u003e4\u003c/th\u003e\n",
              "      \u003ctd\u003ecore_dataset/baggio_penalty_1994\\67824b87c0698...\u003c/td\u003e\n",
              "      \u003ctd\u003ecore_dataset/baggio_penalty_1994\\bb604f57a1845...\u003c/td\u003e\n",
              "      \u003ctd\u003ebb604f57a18455867544e79c2e32bf5583c358d4.flv\u003c/td\u003e\n",
              "    \u003c/tr\u003e\n",
              "  \u003c/tbody\u003e\n",
              "\u003c/table\u003e\n",
              "\u003c/div\u003e"
            ],
            "text/plain": [
              "                                               query  \\\n",
              "0  core_dataset/baggio_penalty_1994\\3504e360accba...   \n",
              "1  core_dataset/baggio_penalty_1994\\37b31d607d31a...   \n",
              "2  core_dataset/baggio_penalty_1994\\458db5aa227ae...   \n",
              "3  core_dataset/baggio_penalty_1994\\5c5714c0a56fd...   \n",
              "4  core_dataset/baggio_penalty_1994\\67824b87c0698...   \n",
              "\n",
              "                                              source  \\\n",
              "0  core_dataset/baggio_penalty_1994\\bb604f57a1845...   \n",
              "1  core_dataset/baggio_penalty_1994\\bb604f57a1845...   \n",
              "2  core_dataset/baggio_penalty_1994\\bb604f57a1845...   \n",
              "3  core_dataset/baggio_penalty_1994\\bb604f57a1845...   \n",
              "4  core_dataset/baggio_penalty_1994\\bb604f57a1845...   \n",
              "\n",
              "                                      source_id  \n",
              "0  bb604f57a18455867544e79c2e32bf5583c358d4.flv  \n",
              "1  bb604f57a18455867544e79c2e32bf5583c358d4.flv  \n",
              "2  bb604f57a18455867544e79c2e32bf5583c358d4.flv  \n",
              "3  bb604f57a18455867544e79c2e32bf5583c358d4.flv  \n",
              "4  bb604f57a18455867544e79c2e32bf5583c358d4.flv  "
            ]
          },
          "execution_count": 9,
          "metadata": {},
          "output_type": "execute_result"
        }
      ],
      "source": [
        "vcdb_df \u003d pd.read_csv(VCDB_CSV)\n",
        "vcdb_df.head()"
      ]
    },
    {
      "cell_type": "code",
      "execution_count": 10,
      "metadata": {
        "pycharm": {}
      },
      "outputs": [],
      "source": [
        "source_paths \u003d vcdb_df.dropna().source.unique()"
      ]
    },
    {
      "cell_type": "code",
      "execution_count": 11,
      "metadata": {
        "pycharm": {}
      },
      "outputs": [
        {
          "data": {
            "text/plain": [
              "[\u0027../vcdb/core_dataset/baggio_penalty_1994\\\\bb604f57a18455867544e79c2e32bf5583c358d4.flv\u0027,\n",
              " \u0027../vcdb/core_dataset/beautiful_mind_game_theory\\\\46f2e964ae16f5c27fad70d6849c76616fad7502.flv\u0027,\n",
              " \u0027../vcdb/core_dataset/beckham_70_yard_goal\\\\97c71f57e83f6ab16906fdd7edc8e3f88d2ceee1.flv\u0027,\n",
              " \u0027../vcdb/core_dataset/bill_clinton_apology_speech\\\\410ba1c253fb8d4a8ba6e59aa9e39d39cb3b245b.flv\u0027,\n",
              " \u0027../vcdb/core_dataset/bolt_beijing_100m\\\\098df9c477ecf6c4f3818b198490b0258163015d.flv\u0027,\n",
              " \u0027../vcdb/core_dataset/brazil_vs_brazil_nike_commercial_2012\\\\3df02ec5ddb74647d8fb96f08adba8e152050ef9.flv\u0027,\n",
              " \u0027../vcdb/core_dataset/david_beckham_lights_the_olympic_torch\\\\d2015b438b70f022967713d6f977ebc67a16839e.flv\u0027,\n",
              " \u0027../vcdb/core_dataset/dove_evolution_commercial\\\\127dab55025984673f65d3a23b1fea99ecc79b15.mp4\u0027,\n",
              " \u0027../vcdb/core_dataset/endless_love\\\\3499b9fd4316131ebf0f5d9bbecf6f3f8600c4fb.flv\u0027]"
            ]
          },
          "execution_count": 11,
          "metadata": {},
          "output_type": "execute_result"
        }
      ],
      "source": [
        "source_video_paths \u003d [os.path.join(PATH_PREFIX, fpath) for fpath in source_paths]\n",
        "source_video_paths"
      ]
    },
    {
      "cell_type": "code",
      "execution_count": 12,
      "metadata": {
        "pycharm": {}
      },
      "outputs": [],
      "source": [
        "assert os.path.exists(source_video_paths[0])"
      ]
    },
    {
      "cell_type": "code",
      "execution_count": 13,
      "metadata": {
        "pycharm": {}
      },
      "outputs": [
        {
          "data": {
            "text/plain": [
              "[\u0027tmp\\\\_bb604f57a18455867544e79c2e32bf5583c358d4.flv\u0027,\n",
              " \u0027tmp\\\\_46f2e964ae16f5c27fad70d6849c76616fad7502.flv\u0027,\n",
              " \u0027tmp\\\\_97c71f57e83f6ab16906fdd7edc8e3f88d2ceee1.flv\u0027,\n",
              " \u0027tmp\\\\_410ba1c253fb8d4a8ba6e59aa9e39d39cb3b245b.flv\u0027,\n",
              " \u0027tmp\\\\_098df9c477ecf6c4f3818b198490b0258163015d.flv\u0027,\n",
              " \u0027tmp\\\\_3df02ec5ddb74647d8fb96f08adba8e152050ef9.flv\u0027,\n",
              " \u0027tmp\\\\_d2015b438b70f022967713d6f977ebc67a16839e.flv\u0027,\n",
              " \u0027tmp\\\\_127dab55025984673f65d3a23b1fea99ecc79b15.mp4\u0027,\n",
              " \u0027tmp\\\\_3499b9fd4316131ebf0f5d9bbecf6f3f8600c4fb.flv\u0027]"
            ]
          },
          "execution_count": 13,
          "metadata": {},
          "output_type": "execute_result"
        }
      ],
      "source": [
        "source_processed_paths \u003d [os.path.join(TMP_DIR, \u0027_\u0027+os.path.basename(fpath)) for fpath in source_video_paths]\n",
        "source_processed_paths"
      ]
    },
    {
      "cell_type": "code",
      "execution_count": 14,
      "metadata": {
        "pycharm": {}
      },
      "outputs": [],
      "source": [
        "def prepare_videos(in_paths, out_paths):\n",
        "    for in_path, out_path in zip(in_paths, out_paths):\n",
        "        try:\n",
        "            preprocess_video(in_path, out_path, resize\u003dRESIZE, target_framerate\u003dSOURCE_FRAMERATE)\n",
        "        except Exception as e:\n",
        "#             print(e)\n",
        "            pass\n",
        "        print(in_path, \u0027done\u0027)\n",
        "    for path in out_paths:\n",
        "        assert os.path.exists(path)"
      ]
    },
    {
      "cell_type": "code",
      "execution_count": 15,
      "metadata": {
        "scrolled": false,
        "pycharm": {}
      },
      "outputs": [],
      "source": [
        "# prepare_videos(source_video_paths, source_processed_paths)"
      ]
    },
    {
      "cell_type": "code",
      "execution_count": 16,
      "metadata": {
        "pycharm": {}
      },
      "outputs": [],
      "source": [
        "query_paths \u003d vcdb_df[\u0027query\u0027].unique()\n",
        "query_video_paths \u003d [os.path.join(PATH_PREFIX, fname) for fname in query_paths]\n",
        "assert os.path.exists(query_video_paths[0])\n",
        "query_processed_paths \u003d [os.path.join(TMP_DIR, \u0027_\u0027+os.path.basename(fpath)) for fpath in query_video_paths]"
      ]
    },
    {
      "cell_type": "code",
      "execution_count": null,
      "metadata": {
        "pycharm": {}
      },
      "outputs": [
        {
          "name": "stdout",
          "output_type": "stream",
          "text": [
            "../vcdb/core_dataset/baggio_penalty_1994\\3504e360accbaccb1580befbb441f1019664c2bb.mp4 done\n",
            "../vcdb/core_dataset/baggio_penalty_1994\\37b31d607d31a47d347b15dae2b8aa63e57861eb.flv done\n",
            "../vcdb/core_dataset/baggio_penalty_1994\\458db5aa227ae49ceb8bc1bed5f9cf5b4bed63f2.flv done\n",
            "../vcdb/core_dataset/baggio_penalty_1994\\5c5714c0a56fd2a96f99db2f59b0d03659d77cdf.flv done\n",
            "../vcdb/core_dataset/baggio_penalty_1994\\67824b87c0698c499acad123b7498ae17f97bf6d.flv done\n",
            "../vcdb/core_dataset/baggio_penalty_1994\\6d1466ebc4de7e5ddb229bde090b5c5acac15c0c.flv done\n",
            "../vcdb/core_dataset/baggio_penalty_1994\\6d1a89c83d554fc6a5e39fcadb172a79baf140fd.mp4 done\n",
            "../vcdb/core_dataset/baggio_penalty_1994\\8084216caff6082b4e71ae4bbfe556f28a68485f.flv done\n",
            "../vcdb/core_dataset/baggio_penalty_1994\\9423340949f55d7a089e881ccc35f23dff3fccf7.flv done\n",
            "../vcdb/core_dataset/baggio_penalty_1994\\e901a631b00f4ad0c9d161d686fac1339e1e3535.flv done\n",
            "../vcdb/core_dataset/beautiful_mind_game_theory\\5f6527456bf2b4c460737a1c222dbd0e70009030.flv done\n",
            "../vcdb/core_dataset/beautiful_mind_game_theory\\6171d3d87ae377e497199554033bca96a263277b.mp4 done\n",
            "../vcdb/core_dataset/beautiful_mind_game_theory\\904c8ebf782357ae78ebd205fe3428ad76b975a5.flv done\n",
            "../vcdb/core_dataset/beautiful_mind_game_theory\\b41c61fb756014444b7974ef25f2c76d5c3b42e4.flv done\n",
            "../vcdb/core_dataset/beckham_70_yard_goal\\0056649006c7a250cb4174f1e924768ba2c9d599.flv done\n",
            "../vcdb/core_dataset/beckham_70_yard_goal\\1357538fd1fd2975a8b3f750d5f6b13695aa4e28.flv done\n",
            "../vcdb/core_dataset/beckham_70_yard_goal\\1f4f6311bb4acc0bc72e4a915a32093a7a85741c.flv done\n",
            "../vcdb/core_dataset/beckham_70_yard_goal\\37a935b4c21662e183a0dd632f40d5fd6900c42b.mp4 done\n",
            "../vcdb/core_dataset/beckham_70_yard_goal\\3fe2e54fdb267849aa8aeb0b39ec0d1c7075b391.flv done\n",
            "../vcdb/core_dataset/beckham_70_yard_goal\\4ffe88b2da93f727952dc3104e70c0b0665d9e1a.flv done\n",
            "../vcdb/core_dataset/beckham_70_yard_goal\\52ac7a125ee96ff91ca49c197d3a79b6c0857e68.flv done\n",
            "../vcdb/core_dataset/beckham_70_yard_goal\\54f841cdb1b1a498c656bd541d23c690b70737bd.flv done\n",
            "../vcdb/core_dataset/beckham_70_yard_goal\\5d38467d3becf8273bd7ae9028a37fcb0cc3828b.flv done\n",
            "../vcdb/core_dataset/beckham_70_yard_goal\\63407cc775874d569f82a2060c636b785c09a487.flv done\n",
            "../vcdb/core_dataset/beckham_70_yard_goal\\66e0225621e48946b7ab09027c18c83b69564002.flv done\n",
            "../vcdb/core_dataset/beckham_70_yard_goal\\72e97f43a27cdb56a82454758c383c1ac82e91b9.flv done\n",
            "../vcdb/core_dataset/beckham_70_yard_goal\\74018dcbf908a0a0319e889a70a920896b63ed99.flv done\n",
            "../vcdb/core_dataset/beckham_70_yard_goal\\9026d2a43d0e645901aa9138136bbc1491856ffb.flv done\n",
            "../vcdb/core_dataset/beckham_70_yard_goal\\a100d2d414f1faa59abdb409e8858d6a4ba96618.flv done\n",
            "../vcdb/core_dataset/beckham_70_yard_goal\\ab12206048207553294916664d0ebf1cd9e81ef6.flv done\n",
            "../vcdb/core_dataset/beckham_70_yard_goal\\b34b81ce75ea0773ba04b3f1ddedf3f3fac823fa.flv done\n",
            "../vcdb/core_dataset/beckham_70_yard_goal\\c4384b8402362a0351d4e1dc9de0c01d7117322f.flv done\n",
            "../vcdb/core_dataset/beckham_70_yard_goal\\d28c7952b8a60139126446bc81bff5ecebcf5129.flv done\n",
            "../vcdb/core_dataset/beckham_70_yard_goal\\e4516162efaa2bb36d38fbf245bc41b6fd24f443.flv done\n",
            "../vcdb/core_dataset/beckham_70_yard_goal\\e6f1dd4881c0088d861763dadd83db04fb353500.flv done\n",
            "../vcdb/core_dataset/beckham_70_yard_goal\\f9395fd63d7f59cae6103cfb00e116b4a1d0be5e.flv done\n",
            "../vcdb/core_dataset/beckham_70_yard_goal\\f98075fcebb2596c91cf6886b30a39521cc60855.flv done\n",
            "../vcdb/core_dataset/beckham_70_yard_goal\\fa0aa890db611cbe029b8c222663579ec7081bb6.flv done\n",
            "../vcdb/core_dataset/bill_clinton_apology_speech\\09ff1e69bf3accfcf029ad987f61f791a005c358.flv done\n",
            "../vcdb/core_dataset/bill_clinton_apology_speech\\630d6d7a0c534717c09acb316b0408a7e80a0a32.flv done\n",
            "../vcdb/core_dataset/bill_clinton_apology_speech\\682329105c2fa291ceb13eebfe0544fb9a115c0b.flv done\n",
            "../vcdb/core_dataset/bill_clinton_apology_speech\\ab8bd55b3fefca37c7dc57e973a7cea1ae3555ad.flv done\n",
            "../vcdb/core_dataset/bill_clinton_apology_speech\\c1e67ad94259a2015304ee0b42323dd48f820309.flv done\n",
            "../vcdb/core_dataset/bill_clinton_apology_speech\\e9e65688a633e99bd3cc6e4078a2ef0157153cd5.flv done\n",
            "../vcdb/core_dataset/bolt_beijing_100m\\0268faef0f0ae291f5ede0a7c3f2d176a6101a08.flv done\n",
            "../vcdb/core_dataset/bolt_beijing_100m\\0e3aee10650afd14d9a2d8b1440924c7968dd0ee.flv done\n",
            "../vcdb/core_dataset/bolt_beijing_100m\\225eceebd0f24728bd1740f642de6705d43a4da0.flv done\n",
            "../vcdb/core_dataset/bolt_beijing_100m\\2b1a3faf58c38efc393635e3cc007946914516d0.flv done\n",
            "../vcdb/core_dataset/bolt_beijing_100m\\359b3ef99acac4136096052c6d812a6248811e10.flv done\n",
            "../vcdb/core_dataset/bolt_beijing_100m\\56b8c2103555cf056db670c7e952c1fa7418e73d.flv done\n",
            "../vcdb/core_dataset/bolt_beijing_100m\\5b1b41404d1bad5d231bd8c7fdbae109e0ea1fc2.flv done\n",
            "../vcdb/core_dataset/bolt_beijing_100m\\90d2508777b93f5acace5694e70a2bb00efad351.flv done\n",
            "../vcdb/core_dataset/bolt_beijing_100m\\c7d5eb4355e2ce9c90bf681e28ca740b1e7c62ca.flv done\n",
            "../vcdb/core_dataset/bolt_beijing_100m\\d30e718464711d5903b53d36aef8c8212bad1d07.flv done\n",
            "../vcdb/core_dataset/bolt_beijing_100m\\e8e45390a65d2eac522a42b969d2adb87fac7315.flv done\n",
            "../vcdb/core_dataset/brazil_vs_brazil_nike_commercial_2012\\0cad474aedea70d42f8d8f2a6f9a21e3c40fa40b.flv done\n",
            "../vcdb/core_dataset/brazil_vs_brazil_nike_commercial_2012\\12b96f2d055a6eb05241a9aeed95a8be8e5cf79c.flv done\n",
            "../vcdb/core_dataset/brazil_vs_brazil_nike_commercial_2012\\296961b67d89d82a362fb046e333718e1579691d.flv done\n",
            "../vcdb/core_dataset/brazil_vs_brazil_nike_commercial_2012\\3932dee75c7ddd9785d7d502235892d1b0380f5a.flv done\n",
            "../vcdb/core_dataset/brazil_vs_brazil_nike_commercial_2012\\554d94559dcfcdff9312053469c9c64940dbca20.flv done\n",
            "../vcdb/core_dataset/brazil_vs_brazil_nike_commercial_2012\\9c42a6ce9b8bb966040d9eed9255c1001fffdba6.flv done\n",
            "../vcdb/core_dataset/brazil_vs_brazil_nike_commercial_2012\\ee7a5a870cbe3215a87a2798c81a0d43c118e62d.flv done\n",
            "../vcdb/core_dataset/david_beckham_lights_the_olympic_torch\\09b682c899b0727e9990d8e347cdce3df7c5550e.flv done\n",
            "../vcdb/core_dataset/david_beckham_lights_the_olympic_torch\\54c560a6b270647b28ea2746853c937885e2718b.flv done\n",
            "../vcdb/core_dataset/david_beckham_lights_the_olympic_torch\\56adf39cc2f2f342b0a589038f6d11bac861028e.flv done\n",
            "../vcdb/core_dataset/david_beckham_lights_the_olympic_torch\\5ac8651ce41781440c8595d174748f1a6cad1ff7.flv done\n",
            "../vcdb/core_dataset/david_beckham_lights_the_olympic_torch\\874a7d3cbfc17a46040b2d657667520bde309ca4.flv done\n",
            "../vcdb/core_dataset/david_beckham_lights_the_olympic_torch\\8f8ecb70bd37b0c6fc468c2aab24d6d9b89fe28d.flv done\n",
            "../vcdb/core_dataset/david_beckham_lights_the_olympic_torch\\c80dd6dfe271e4887c11bd76248411a8e7c853b0.flv done\n",
            "../vcdb/core_dataset/dove_evolution_commercial\\12e5b295f88e0c387a4326c73613b1c7a05f2eda.flv done\n",
            "../vcdb/core_dataset/dove_evolution_commercial\\3f551cfb6385305e37906ce36ba8adc47ebc4cb3.flv done\n",
            "../vcdb/core_dataset/dove_evolution_commercial\\46fa74f0aa8e67c49c64802317c4de3894f0e1b9.flv done\n",
            "../vcdb/core_dataset/dove_evolution_commercial\\487be7c83186caba89dc3004a1bd24350e35a099.flv done\n",
            "../vcdb/core_dataset/dove_evolution_commercial\\4cfa923904010814758c07c039b0388ed0be08ec.flv done\n",
            "../vcdb/core_dataset/dove_evolution_commercial\\4ebe32fc10f0594a6d6a54df8617d38c2806ec9e.flv done\n",
            "../vcdb/core_dataset/dove_evolution_commercial\\4fed5faaf981b1082089916f2ff52c844b260efa.mp4 done\n",
            "../vcdb/core_dataset/dove_evolution_commercial\\705d504994af63494d0e6e3e42f64d6b165b9584.flv done\n",
            "../vcdb/core_dataset/dove_evolution_commercial\\707ffde910facfe859304ae491bc154ab33dd2de.flv done\n",
            "../vcdb/core_dataset/dove_evolution_commercial\\75ac32c788e5d5d2e058a24f6a2deffbab3288fc.flv done\n",
            "../vcdb/core_dataset/dove_evolution_commercial\\7b2158aad4ea2e6c8f149bb869801b96734c1b1c.flv done\n",
            "../vcdb/core_dataset/dove_evolution_commercial\\7c9d142bf1b1ede846c059117f422b1c8ea6bb9e.mp4 done\n",
            "../vcdb/core_dataset/dove_evolution_commercial\\7dd1b7a83128fb78f018c557d918b0670989457e.mp4 done\n",
            "../vcdb/core_dataset/dove_evolution_commercial\\8870293c58fbed9cc03a738577e5802164199d8b.flv done\n",
            "../vcdb/core_dataset/dove_evolution_commercial\\8c207ab5a07d12d37dcb666ee8b69c3357bc07fb.flv done\n",
            "../vcdb/core_dataset/dove_evolution_commercial\\8fb97b98e2f27c9f162d6c1d6c27806c84af8e8d.flv done\n"
          ]
        },
        {
          "name": "stdout",
          "output_type": "stream",
          "text": [
            "../vcdb/core_dataset/dove_evolution_commercial\\97429f47c45ec4da9849b7f4df36e22939649158.mp4 done\n",
            "../vcdb/core_dataset/dove_evolution_commercial\\9c1d7e91288e07083e4456f8fe6b771aba039ed1.flv done\n",
            "../vcdb/core_dataset/dove_evolution_commercial\\b3205b97de392174f3905831fc0dba5724fdabf1.flv done\n",
            "../vcdb/core_dataset/dove_evolution_commercial\\b581ea1130d0c4c9af02e98dcb887cb8d58350e8.flv done\n",
            "../vcdb/core_dataset/dove_evolution_commercial\\bbdbe357f408fb84d5f57c1522a90504f3162d6f.flv done\n",
            "../vcdb/core_dataset/dove_evolution_commercial\\be51dbc2d72ae574934de1b972b18037dba73b8e.flv done\n",
            "../vcdb/core_dataset/dove_evolution_commercial\\bf9df08bb9164d1b971557a9b9f6140096c92b0c.mp4 done\n",
            "../vcdb/core_dataset/dove_evolution_commercial\\cac9dff859597360de5a5f011139c845c0d08e6c.flv done\n",
            "../vcdb/core_dataset/dove_evolution_commercial\\caec7bae88f5b5d60a08487e9d9a8cd27251c64e.flv done\n",
            "../vcdb/core_dataset/dove_evolution_commercial\\f7ba4ea780e11256ed5439e33d169eb242a8a18f.flv done\n",
            "../vcdb/core_dataset/endless_love\\242f1fb1c242b8b01b994185c0111d1ca25ee03e.flv done\n",
            "../vcdb/core_dataset/endless_love\\58e5bb3a6c16fa795310152410de9ecaee19e90f.flv done\n",
            "../vcdb/core_dataset/endless_love\\5b46e9007b0add1d73a11d2f4414efe35b017acb.flv done\n",
            "../vcdb/core_dataset/endless_love\\5b90735d0a44043685ced4a784dfd3fc8489317a.mp4 done\n",
            "../vcdb/core_dataset/endless_love\\60c5b3896a5a75b43ee11719952ebb2a18a20d56.flv done\n",
            "../vcdb/core_dataset/endless_love\\621e548a6730fef0d8e3ff041c751881a9432af4.flv done\n",
            "../vcdb/core_dataset/endless_love\\6834f12ea580a4e7309bd8541fb6fbe4daeeda0f.flv done\n",
            "../vcdb/core_dataset/endless_love\\875ea06d092a04ffd4e875e1f311e6aa2eb9ff87.flv done\n",
            "../vcdb/core_dataset/endless_love\\ef831f0fe7c633be5ed9edd29dd28d6066ea6d88.flv done\n",
            "../vcdb/core_dataset/endless_love\\f13e7eb9b90b57b1613daa44c15a50fdef456176.flv done\n",
            "../vcdb/core_dataset/endless_love\\f8b09ea589093ea7fc20cb530963fe610e90fd12.flv done\n",
            "../vcdb/core_dataset/infernal_affairs_1\\007d931e5f8d6dc6367964748ed862739425303b.flv done\n",
            "../vcdb/core_dataset/infernal_affairs_1\\031dacfeacdc715e755c01f4d37b49577336006e.mp4 done\n",
            "../vcdb/core_dataset/infernal_affairs_1\\23254771545e5d278548ba02d25d32add952b2a4.flv done\n",
            "../vcdb/core_dataset/infernal_affairs_1\\2620a515a196e5d4329f320f478010e578980bee.flv done\n",
            "../vcdb/core_dataset/infernal_affairs_1\\434cbcdf0562eb6c5ccdef59cf3401ed1067112c.flv done\n",
            "../vcdb/core_dataset/infernal_affairs_1\\468410600142c136d707b4cbc3ff0703c112575d.flv done\n",
            "../vcdb/core_dataset/infernal_affairs_1\\4a79c873b671f3452afde9d247250d8c3776e7c6.flv done\n",
            "../vcdb/core_dataset/infernal_affairs_1\\67f1feff7f624cf0b9ac2ebaf49f547a922b4971.flv done\n",
            "../vcdb/core_dataset/infernal_affairs_1\\68868f88c7c8f4887bf441ea1f61500dbcd1da5b.flv done\n",
            "../vcdb/core_dataset/infernal_affairs_1\\7a80366e144e759603a9ebecfd91848196e255d2.flv done\n",
            "../vcdb/core_dataset/infernal_affairs_1\\7deff9e47e47c98bb341c4355dfff9a82bfba221.flv done\n",
            "../vcdb/core_dataset/infernal_affairs_1\\7e4fe3c124a00ce43ce0b5b0aca342d79e3c1ed7.flv done\n",
            "../vcdb/core_dataset/infernal_affairs_1\\aca39f299bade8a43abc80bac36d598239c63906.flv done\n",
            "../vcdb/core_dataset/infernal_affairs_1\\b22db6382d74710e88eb1cb50bf3f74bec402491.flv done\n",
            "../vcdb/core_dataset/infernal_affairs_1\\c224dece59ecedc0a54ddafe5b1ab0ecf1f7a729.flv done\n",
            "../vcdb/core_dataset/infernal_affairs_1\\c70491f4b4d4a8e90561c11ac929edf430e62641.flv done\n",
            "../vcdb/core_dataset/infernal_affairs_1\\e8e7aaf3d965501ca315099c1d2b4c8fe12cce68.flv done\n",
            "../vcdb/core_dataset/kennedy_assassination_slow_motion\\0df916fdd13b8579ba1d12190b931f14daeb72eb.flv done\n",
            "../vcdb/core_dataset/kennedy_assassination_slow_motion\\1f518e563d7fcdc4f21aedc1e2b30298255dd10c.flv done\n",
            "../vcdb/core_dataset/kennedy_assassination_slow_motion\\2283dfecf92111bfb035888b4810c011ac164876.flv done\n",
            "../vcdb/core_dataset/kennedy_assassination_slow_motion\\60424fb57dae4de20a1672b9019d54dea5179073.flv done\n",
            "../vcdb/core_dataset/kennedy_assassination_slow_motion\\6a2f5ceaa65dd1187ff57ff1c1fccee9da91985b.flv done\n",
            "../vcdb/core_dataset/kennedy_assassination_slow_motion\\71ba3405d1e896d04c89754ff618b4198d2e65d5.flv done\n",
            "../vcdb/core_dataset/kennedy_assassination_slow_motion\\77452e0b0c34723b656047c3cbd5d9bf2e11eaaf.flv done\n",
            "../vcdb/core_dataset/kennedy_assassination_slow_motion\\80fd5c866390b8caf4129486e0f11beeca47d952.flv done\n",
            "../vcdb/core_dataset/kennedy_assassination_slow_motion\\8a268ef5ad1f250fca37321ba2e9c9224b084dba.flv done\n",
            "../vcdb/core_dataset/kennedy_assassination_slow_motion\\8b99b013165faa0c1cb36794f0d20d38a621f496.flv done\n",
            "../vcdb/core_dataset/kennedy_assassination_slow_motion\\925a69d13824e3521d6eccbe8c6d7ff0c54486fe.flv done\n",
            "../vcdb/core_dataset/kennedy_assassination_slow_motion\\a8253d279cbeb3a29bd346b63083c054eab1407a.flv done\n",
            "../vcdb/core_dataset/kennedy_assassination_slow_motion\\acdf1a72b8cf37ee2609cdc03ff70747f36e0476.flv done\n",
            "../vcdb/core_dataset/kennedy_assassination_slow_motion\\b1d0d41066ffb0afa9e3a3375199824f35a80c4d.flv done\n",
            "../vcdb/core_dataset/kennedy_assassination_slow_motion\\e05b9149d1a03f651df63b63657e7de1e106e061.flv done\n",
            "../vcdb/core_dataset/kennedy_assassination_slow_motion\\e2cae9c5ef92cbb53d823cfeb4d75c294baed21c.flv done\n",
            "../vcdb/core_dataset/kennedy_assassination_slow_motion\\f6e296bfd930f585e165246530efa97bc035330f.flv done\n",
            "../vcdb/core_dataset/maradona_hand_of_god\\02ffeecd09331f27f731b2eabc6d1e0dcd91daa4.flv done\n",
            "../vcdb/core_dataset/maradona_hand_of_god\\1ae7b9a578d5cdff57415e3701cd064d03ca3246.flv done\n",
            "../vcdb/core_dataset/maradona_hand_of_god\\2e246b45e7dfba0a7cfb2beb557c40d81dc02c99.flv done\n",
            "../vcdb/core_dataset/maradona_hand_of_god\\36d4ff38748397fadca52e851f1b6f4679bf3027.flv done\n",
            "../vcdb/core_dataset/maradona_hand_of_god\\375e6b7b7b63d2a84798226ef0cef8f50135e90a.flv done\n",
            "../vcdb/core_dataset/maradona_hand_of_god\\377f81e79938ba062762e74a3b8d4136b5523fa3.flv done\n",
            "../vcdb/core_dataset/maradona_hand_of_god\\3ec7ab68ed6a1690d7c0074bc563d0dccac57726.flv done\n",
            "../vcdb/core_dataset/maradona_hand_of_god\\3ed4f5c0eb04c94353594e8be1a72bcc657e27c7.flv done\n",
            "../vcdb/core_dataset/maradona_hand_of_god\\5496ef100ec5a5151c058cb264d9877bf7e90960.flv done\n",
            "../vcdb/core_dataset/maradona_hand_of_god\\55b5cf91ebbb1f98879f64e74b8155fe98cad23a.flv done\n",
            "../vcdb/core_dataset/maradona_hand_of_god\\5965d78e520ef5c162f22da88745f4c6dccd6fcf.flv done\n",
            "../vcdb/core_dataset/maradona_hand_of_god\\5c4792c066b3e445d46c603878b1be0a33808111.flv done\n",
            "../vcdb/core_dataset/maradona_hand_of_god\\5f6d3fba8821f4e3358d5ff9dd6d3bc55b03b119.flv done\n",
            "../vcdb/core_dataset/maradona_hand_of_god\\6cc806641ede517d2ba98b9ffc5691c152b6c1db.flv done\n",
            "../vcdb/core_dataset/maradona_hand_of_god\\6f5bbd3e080c65e9a9e52404c9054b2203d3f540.flv done\n",
            "../vcdb/core_dataset/maradona_hand_of_god\\811a34d320785afe0f50b9ff7a67a8b7c22e9891.flv done\n",
            "../vcdb/core_dataset/maradona_hand_of_god\\84ce12a5fff66f4cd789c90bf61156f44fe21fbc.flv done\n",
            "../vcdb/core_dataset/maradona_hand_of_god\\8d6bd2b5607cbd53fd782843392105c020b9aa7d.flv done\n",
            "../vcdb/core_dataset/maradona_hand_of_god\\9110765efc621b8e551b94889875201f36a48d49.flv done\n",
            "../vcdb/core_dataset/maradona_hand_of_god\\925548514617c04feb99967cd1d40d985c467a2f.flv done\n",
            "../vcdb/core_dataset/maradona_hand_of_god\\934c1d493bed0e2fae442e8970d787f176ac89cb.flv done\n",
            "../vcdb/core_dataset/maradona_hand_of_god\\ab3d22a99b1f0fee38cf842f51b1dce60bed631f.flv done\n",
            "../vcdb/core_dataset/maradona_hand_of_god\\b3e2f9a02ee873972fcb0ce144996ad850c7b4af.flv done\n",
            "../vcdb/core_dataset/maradona_hand_of_god\\ce1451b329a9cd5ad178f0927644f81fad4c69c2.flv done\n",
            "../vcdb/core_dataset/maradona_hand_of_god\\d31adc1a71b72bb36f32b67cb6d52d4840a322c5.flv done\n",
            "../vcdb/core_dataset/maradona_hand_of_god\\de71afa5fe2363589c28021940d2902d8701efdf.flv done\n",
            "../vcdb/core_dataset/maradona_hand_of_god\\df4001c1e9d3e8fe3c61d9b6bac46cd377e6d2be.flv done\n",
            "../vcdb/core_dataset/maradona_hand_of_god\\df839544c199b12b5de023c1ee8511b947f5c999.flv done\n",
            "../vcdb/core_dataset/maradona_hand_of_god\\e018528afcd7682556a4049b76d76105f60fa922.flv done\n",
            "../vcdb/core_dataset/maradona_hand_of_god\\f5d187eb9c7e5cfc6eaa206f479ede5c10603c68.flv done\n",
            "../vcdb/core_dataset/mr_and_mrs_smith_tango\\2ba013a3f6fa57793c242766e27ec77d001fe03a.flv done\n",
            "../vcdb/core_dataset/mr_and_mrs_smith_tango\\38f11a4162d8e94227ac644f117f942735b9a504.mp4 done\n"
          ]
        },
        {
          "name": "stdout",
          "output_type": "stream",
          "text": [
            "../vcdb/core_dataset/mr_and_mrs_smith_tango\\39c96fc7117a0ff1fdc02637285c13d8efe7ce93.flv done\n",
            "../vcdb/core_dataset/mr_and_mrs_smith_tango\\7caa7fcef0e0b17725a0bda8b101d819e6ca2dbd.flv done\n",
            "../vcdb/core_dataset/mr_and_mrs_smith_tango\\801dbd9a5a5f97442c7bbd14046d71e67cccbf4b.mp4 done\n",
            "../vcdb/core_dataset/mr_and_mrs_smith_tango\\9ac82ed37390f45bdc81b699c53085b29143ee70.flv done\n",
            "../vcdb/core_dataset/mr_and_mrs_smith_tango\\be51784c0b0676bf487376af362b088922efa954.flv done\n",
            "../vcdb/core_dataset/mr_and_mrs_smith_tango\\bf582249cfc79d691195a8681961029cc5149a76.flv done\n",
            "../vcdb/core_dataset/mr_and_mrs_smith_tango\\d2f4aca96d44a144b12abc300b781b8ff8bb0842.flv done\n",
            "../vcdb/core_dataset/mr_and_mrs_smith_tango\\e2adc784b83446ae775f698b9d17c9fd392b2f75.flv done\n"
          ]
        }
      ],
      "source": [
        "prepare_videos(query_video_paths, query_processed_paths)"
      ]
    },
    {
      "cell_type": "code",
      "execution_count": null,
      "metadata": {
        "pycharm": {}
      },
      "outputs": [],
      "source": [
        "source_df \u003d get_rhash_df(source_processed_paths, buffer_size\u003dTIRI_BUFFER_SIZE, hash_size\u003dHASH_SIZE)"
      ]
    },
    {
      "cell_type": "code",
      "execution_count": null,
      "metadata": {
        "pycharm": {}
      },
      "outputs": [],
      "source": [
        "source_df.head()"
      ]
    },
    {
      "cell_type": "code",
      "execution_count": null,
      "metadata": {
        "pycharm": {}
      },
      "outputs": [],
      "source": [
        "source_df.to_csv(DATA_DIR+\u0027/vcdb_rhash_source.csv\u0027, index\u003dFalse)"
      ]
    },
    {
      "cell_type": "code",
      "execution_count": null,
      "metadata": {
        "pycharm": {}
      },
      "outputs": [],
      "source": [
        "query_df \u003d get_rhash_df(query_processed_paths, buffer_size\u003dTIRI_BUFFER_SIZE, , hash_size\u003dHASH_SIZE)\n",
        "query_df[\u0027source_id\u0027] \u003d vcdb_df.source_id\n",
        "query_df.head()"
      ]
    },
    {
      "cell_type": "code",
      "execution_count": null,
      "metadata": {
        "pycharm": {}
      },
      "outputs": [],
      "source": [
        "query_df.to_csv(DATA_DIR+\u0027/vcdb_rhash_query.csv\u0027, index\u003dFalse)"
      ]
    },
    {
      "cell_type": "code",
      "execution_count": null,
      "metadata": {
        "pycharm": {}
      },
      "outputs": [],
      "source": [
        "frame_times \u003d source_df[\u0027ts\u0027]\n",
        "labels \u003d source_df.id.values\n",
        "frame_vectors \u003d np.vstack(source_df[\u0027feature\u0027].values)\n",
        "frame_vectors"
      ]
    },
    {
      "cell_type": "code",
      "execution_count": null,
      "metadata": {
        "pycharm": {}
      },
      "outputs": [],
      "source": []
    }
  ],
  "metadata": {
    "kernelspec": {
      "display_name": "Python 3",
      "language": "python",
      "name": "python3"
    }
  },
  "nbformat": 4,
  "nbformat_minor": 2
}