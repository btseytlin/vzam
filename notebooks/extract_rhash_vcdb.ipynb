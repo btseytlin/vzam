{
 "cells": [
  {
   "cell_type": "code",
   "execution_count": 1,
   "metadata": {
    "pycharm": {}
   },
   "outputs": [],
   "source": [
    "import pandas as pd\n",
    "import numpy as np\n",
    "import seaborn as sns\n",
    "import matplotlib.pyplot as plt \n",
    "import os\n",
    "import scipy\n",
    "%matplotlib inline"
   ]
  },
  {
   "cell_type": "code",
   "execution_count": 2,
   "metadata": {
    "pycharm": {}
   },
   "outputs": [
    {
     "data": {
      "text/plain": [
       "'D:\\\\projects\\\\kr\\\\vzam\\\\notebooks'"
      ]
     },
     "execution_count": 2,
     "metadata": {},
     "output_type": "execute_result"
    }
   ],
   "source": [
    "initial_cwd = os.getcwd()\n",
    "initial_cwd"
   ]
  },
  {
   "cell_type": "code",
   "execution_count": null,
   "metadata": {
    "pycharm": {}
   },
   "outputs": [],
   "source": []
  },
  {
   "cell_type": "code",
   "execution_count": 3,
   "metadata": {
    "pycharm": {}
   },
   "outputs": [
    {
     "name": "stdout",
     "output_type": "stream",
     "text": [
      "D:\\projects\\kr\\vzam\\notebooks\n",
      "D:\\projects\\kr\\vzam\n"
     ]
    }
   ],
   "source": [
    "print(initial_cwd)\n",
    "os.chdir(initial_cwd)\n",
    "os.chdir('..')\n",
    "print(os.getcwd())"
   ]
  },
  {
   "cell_type": "code",
   "execution_count": null,
   "metadata": {
    "pycharm": {}
   },
   "outputs": [],
   "source": []
  },
  {
   "cell_type": "code",
   "execution_count": 4,
   "metadata": {
    "pycharm": {}
   },
   "outputs": [],
   "source": [
    "from vzam import *"
   ]
  },
  {
   "cell_type": "code",
   "execution_count": 44,
   "metadata": {
    "pycharm": {}
   },
   "outputs": [],
   "source": [
    "RESIZE = (200,200)\n",
    "SOURCE_FRAMERATE = 5\n",
    "QUERY_FRAMERATE = 5\n",
    "TIRI_BUFFER_SIZE = 5\n",
    "HASH_SIZE = 100"
   ]
  },
  {
   "cell_type": "code",
   "execution_count": 6,
   "metadata": {
    "pycharm": {}
   },
   "outputs": [],
   "source": [
    "TMP_DIR = 'tmp'\n",
    "FRAMES_DIR = 'tmp/frames'\n",
    "DATA_DIR = 'data'\n",
    "if not os.path.exists(TMP_DIR):\n",
    "    os.mkdir(TMP_DIR)\n",
    "if not os.path.exists(FRAMES_DIR):\n",
    "    os.mkdir(FRAMES_DIR)\n",
    "if not os.path.exists(DATA_DIR):\n",
    "    os.mkdir(DATA_DIR)"
   ]
  },
  {
   "cell_type": "code",
   "execution_count": 78,
   "metadata": {},
   "outputs": [],
   "source": [
    "FRAMES_DIR = None"
   ]
  },
  {
   "cell_type": "code",
   "execution_count": 7,
   "metadata": {
    "pycharm": {}
   },
   "outputs": [],
   "source": [
    "VCDB_CSV = 'data/vcdb.csv'\n",
    "PATH_PREFIX = '../vcdb/'"
   ]
  },
  {
   "cell_type": "code",
   "execution_count": 8,
   "metadata": {
    "pycharm": {}
   },
   "outputs": [
    {
     "data": {
      "text/html": [
       "<div>\n",
       "<style scoped>\n",
       "    .dataframe tbody tr th:only-of-type {\n",
       "        vertical-align: middle;\n",
       "    }\n",
       "\n",
       "    .dataframe tbody tr th {\n",
       "        vertical-align: top;\n",
       "    }\n",
       "\n",
       "    .dataframe thead th {\n",
       "        text-align: right;\n",
       "    }\n",
       "</style>\n",
       "<table border=\"1\" class=\"dataframe\">\n",
       "  <thead>\n",
       "    <tr style=\"text-align: right;\">\n",
       "      <th></th>\n",
       "      <th>query</th>\n",
       "      <th>source</th>\n",
       "      <th>source_id</th>\n",
       "    </tr>\n",
       "  </thead>\n",
       "  <tbody>\n",
       "    <tr>\n",
       "      <th>0</th>\n",
       "      <td>core_dataset/baggio_penalty_1994\\3504e360accba...</td>\n",
       "      <td>core_dataset/baggio_penalty_1994\\bb604f57a1845...</td>\n",
       "      <td>bb604f57a18455867544e79c2e32bf5583c358d4.flv</td>\n",
       "    </tr>\n",
       "    <tr>\n",
       "      <th>1</th>\n",
       "      <td>core_dataset/baggio_penalty_1994\\37b31d607d31a...</td>\n",
       "      <td>core_dataset/baggio_penalty_1994\\bb604f57a1845...</td>\n",
       "      <td>bb604f57a18455867544e79c2e32bf5583c358d4.flv</td>\n",
       "    </tr>\n",
       "    <tr>\n",
       "      <th>2</th>\n",
       "      <td>core_dataset/baggio_penalty_1994\\458db5aa227ae...</td>\n",
       "      <td>core_dataset/baggio_penalty_1994\\bb604f57a1845...</td>\n",
       "      <td>bb604f57a18455867544e79c2e32bf5583c358d4.flv</td>\n",
       "    </tr>\n",
       "    <tr>\n",
       "      <th>3</th>\n",
       "      <td>core_dataset/baggio_penalty_1994\\5c5714c0a56fd...</td>\n",
       "      <td>core_dataset/baggio_penalty_1994\\bb604f57a1845...</td>\n",
       "      <td>bb604f57a18455867544e79c2e32bf5583c358d4.flv</td>\n",
       "    </tr>\n",
       "    <tr>\n",
       "      <th>4</th>\n",
       "      <td>core_dataset/baggio_penalty_1994\\67824b87c0698...</td>\n",
       "      <td>core_dataset/baggio_penalty_1994\\bb604f57a1845...</td>\n",
       "      <td>bb604f57a18455867544e79c2e32bf5583c358d4.flv</td>\n",
       "    </tr>\n",
       "  </tbody>\n",
       "</table>\n",
       "</div>"
      ],
      "text/plain": [
       "                                               query  \\\n",
       "0  core_dataset/baggio_penalty_1994\\3504e360accba...   \n",
       "1  core_dataset/baggio_penalty_1994\\37b31d607d31a...   \n",
       "2  core_dataset/baggio_penalty_1994\\458db5aa227ae...   \n",
       "3  core_dataset/baggio_penalty_1994\\5c5714c0a56fd...   \n",
       "4  core_dataset/baggio_penalty_1994\\67824b87c0698...   \n",
       "\n",
       "                                              source  \\\n",
       "0  core_dataset/baggio_penalty_1994\\bb604f57a1845...   \n",
       "1  core_dataset/baggio_penalty_1994\\bb604f57a1845...   \n",
       "2  core_dataset/baggio_penalty_1994\\bb604f57a1845...   \n",
       "3  core_dataset/baggio_penalty_1994\\bb604f57a1845...   \n",
       "4  core_dataset/baggio_penalty_1994\\bb604f57a1845...   \n",
       "\n",
       "                                      source_id  \n",
       "0  bb604f57a18455867544e79c2e32bf5583c358d4.flv  \n",
       "1  bb604f57a18455867544e79c2e32bf5583c358d4.flv  \n",
       "2  bb604f57a18455867544e79c2e32bf5583c358d4.flv  \n",
       "3  bb604f57a18455867544e79c2e32bf5583c358d4.flv  \n",
       "4  bb604f57a18455867544e79c2e32bf5583c358d4.flv  "
      ]
     },
     "execution_count": 8,
     "metadata": {},
     "output_type": "execute_result"
    }
   ],
   "source": [
    "vcdb_df = pd.read_csv(VCDB_CSV)\n",
    "vcdb_df.head()"
   ]
  },
  {
   "cell_type": "code",
   "execution_count": 9,
   "metadata": {},
   "outputs": [
    {
     "data": {
      "text/html": [
       "<div>\n",
       "<style scoped>\n",
       "    .dataframe tbody tr th:only-of-type {\n",
       "        vertical-align: middle;\n",
       "    }\n",
       "\n",
       "    .dataframe tbody tr th {\n",
       "        vertical-align: top;\n",
       "    }\n",
       "\n",
       "    .dataframe thead th {\n",
       "        text-align: right;\n",
       "    }\n",
       "</style>\n",
       "<table border=\"1\" class=\"dataframe\">\n",
       "  <thead>\n",
       "    <tr style=\"text-align: right;\">\n",
       "      <th></th>\n",
       "      <th>query_id</th>\n",
       "      <th>source_id</th>\n",
       "    </tr>\n",
       "  </thead>\n",
       "  <tbody>\n",
       "    <tr>\n",
       "      <th>0</th>\n",
       "      <td>3504e360accbaccb1580befbb441f1019664c2bb.mp4</td>\n",
       "      <td>bb604f57a18455867544e79c2e32bf5583c358d4.flv</td>\n",
       "    </tr>\n",
       "    <tr>\n",
       "      <th>1</th>\n",
       "      <td>37b31d607d31a47d347b15dae2b8aa63e57861eb.flv</td>\n",
       "      <td>bb604f57a18455867544e79c2e32bf5583c358d4.flv</td>\n",
       "    </tr>\n",
       "    <tr>\n",
       "      <th>2</th>\n",
       "      <td>458db5aa227ae49ceb8bc1bed5f9cf5b4bed63f2.flv</td>\n",
       "      <td>bb604f57a18455867544e79c2e32bf5583c358d4.flv</td>\n",
       "    </tr>\n",
       "    <tr>\n",
       "      <th>3</th>\n",
       "      <td>5c5714c0a56fd2a96f99db2f59b0d03659d77cdf.flv</td>\n",
       "      <td>bb604f57a18455867544e79c2e32bf5583c358d4.flv</td>\n",
       "    </tr>\n",
       "    <tr>\n",
       "      <th>4</th>\n",
       "      <td>67824b87c0698c499acad123b7498ae17f97bf6d.flv</td>\n",
       "      <td>bb604f57a18455867544e79c2e32bf5583c358d4.flv</td>\n",
       "    </tr>\n",
       "  </tbody>\n",
       "</table>\n",
       "</div>"
      ],
      "text/plain": [
       "                                       query_id  \\\n",
       "0  3504e360accbaccb1580befbb441f1019664c2bb.mp4   \n",
       "1  37b31d607d31a47d347b15dae2b8aa63e57861eb.flv   \n",
       "2  458db5aa227ae49ceb8bc1bed5f9cf5b4bed63f2.flv   \n",
       "3  5c5714c0a56fd2a96f99db2f59b0d03659d77cdf.flv   \n",
       "4  67824b87c0698c499acad123b7498ae17f97bf6d.flv   \n",
       "\n",
       "                                      source_id  \n",
       "0  bb604f57a18455867544e79c2e32bf5583c358d4.flv  \n",
       "1  bb604f57a18455867544e79c2e32bf5583c358d4.flv  \n",
       "2  bb604f57a18455867544e79c2e32bf5583c358d4.flv  \n",
       "3  bb604f57a18455867544e79c2e32bf5583c358d4.flv  \n",
       "4  bb604f57a18455867544e79c2e32bf5583c358d4.flv  "
      ]
     },
     "execution_count": 9,
     "metadata": {},
     "output_type": "execute_result"
    }
   ],
   "source": [
    "query_source_lut = vcdb_df[['query', 'source_id']]\n",
    "query_source_lut['query_id'] = query_source_lut['query'].apply(lambda x: os.path.basename(x).split('\\\\')[-1])\n",
    "query_source_lut = query_source_lut[['query_id', 'source_id']]\n",
    "query_source_lut.head()"
   ]
  },
  {
   "cell_type": "code",
   "execution_count": 10,
   "metadata": {},
   "outputs": [],
   "source": [
    "query_source_lut.to_csv('data/vcdb_query_source_lut.csv', index=False)"
   ]
  },
  {
   "cell_type": "code",
   "execution_count": 11,
   "metadata": {},
   "outputs": [
    {
     "data": {
      "text/html": [
       "<div>\n",
       "<style scoped>\n",
       "    .dataframe tbody tr th:only-of-type {\n",
       "        vertical-align: middle;\n",
       "    }\n",
       "\n",
       "    .dataframe tbody tr th {\n",
       "        vertical-align: top;\n",
       "    }\n",
       "\n",
       "    .dataframe thead th {\n",
       "        text-align: right;\n",
       "    }\n",
       "</style>\n",
       "<table border=\"1\" class=\"dataframe\">\n",
       "  <thead>\n",
       "    <tr style=\"text-align: right;\">\n",
       "      <th></th>\n",
       "      <th>query</th>\n",
       "      <th>source</th>\n",
       "      <th>source_id</th>\n",
       "    </tr>\n",
       "  </thead>\n",
       "  <tbody>\n",
       "    <tr>\n",
       "      <th>514</th>\n",
       "      <td>core_dataset/zidane_headbutt\\afc75e8c02a5ecba4...</td>\n",
       "      <td>NaN</td>\n",
       "      <td>NaN</td>\n",
       "    </tr>\n",
       "    <tr>\n",
       "      <th>515</th>\n",
       "      <td>core_dataset/zidane_headbutt\\b91aa7020c5dd0a65...</td>\n",
       "      <td>NaN</td>\n",
       "      <td>NaN</td>\n",
       "    </tr>\n",
       "    <tr>\n",
       "      <th>516</th>\n",
       "      <td>core_dataset/zidane_headbutt\\cb593efe5b194fe67...</td>\n",
       "      <td>NaN</td>\n",
       "      <td>NaN</td>\n",
       "    </tr>\n",
       "    <tr>\n",
       "      <th>517</th>\n",
       "      <td>core_dataset/zidane_headbutt\\cc3b8791039b9e7f6...</td>\n",
       "      <td>NaN</td>\n",
       "      <td>NaN</td>\n",
       "    </tr>\n",
       "    <tr>\n",
       "      <th>518</th>\n",
       "      <td>core_dataset/zidane_headbutt\\e2d1ca4b2657cd820...</td>\n",
       "      <td>NaN</td>\n",
       "      <td>NaN</td>\n",
       "    </tr>\n",
       "  </tbody>\n",
       "</table>\n",
       "</div>"
      ],
      "text/plain": [
       "                                                 query source source_id\n",
       "514  core_dataset/zidane_headbutt\\afc75e8c02a5ecba4...    NaN       NaN\n",
       "515  core_dataset/zidane_headbutt\\b91aa7020c5dd0a65...    NaN       NaN\n",
       "516  core_dataset/zidane_headbutt\\cb593efe5b194fe67...    NaN       NaN\n",
       "517  core_dataset/zidane_headbutt\\cc3b8791039b9e7f6...    NaN       NaN\n",
       "518  core_dataset/zidane_headbutt\\e2d1ca4b2657cd820...    NaN       NaN"
      ]
     },
     "execution_count": 11,
     "metadata": {},
     "output_type": "execute_result"
    }
   ],
   "source": [
    "vcdb_df.tail()"
   ]
  },
  {
   "cell_type": "code",
   "execution_count": 12,
   "metadata": {
    "pycharm": {}
   },
   "outputs": [],
   "source": [
    "source_paths = vcdb_df.dropna().source.unique()"
   ]
  },
  {
   "cell_type": "code",
   "execution_count": 90,
   "metadata": {
    "pycharm": {}
   },
   "outputs": [
    {
     "data": {
      "text/plain": [
       "['../vcdb/core_dataset/baggio_penalty_1994\\\\bb604f57a18455867544e79c2e32bf5583c358d4.flv',\n",
       " '../vcdb/core_dataset/beautiful_mind_game_theory\\\\46f2e964ae16f5c27fad70d6849c76616fad7502.flv',\n",
       " '../vcdb/core_dataset/beckham_70_yard_goal\\\\97c71f57e83f6ab16906fdd7edc8e3f88d2ceee1.flv',\n",
       " '../vcdb/core_dataset/bill_clinton_apology_speech\\\\410ba1c253fb8d4a8ba6e59aa9e39d39cb3b245b.flv',\n",
       " '../vcdb/core_dataset/bolt_beijing_100m\\\\098df9c477ecf6c4f3818b198490b0258163015d.flv',\n",
       " '../vcdb/core_dataset/brazil_vs_brazil_nike_commercial_2012\\\\3df02ec5ddb74647d8fb96f08adba8e152050ef9.flv',\n",
       " '../vcdb/core_dataset/david_beckham_lights_the_olympic_torch\\\\d2015b438b70f022967713d6f977ebc67a16839e.flv',\n",
       " '../vcdb/core_dataset/dove_evolution_commercial\\\\127dab55025984673f65d3a23b1fea99ecc79b15.mp4',\n",
       " '../vcdb/core_dataset/endless_love\\\\3499b9fd4316131ebf0f5d9bbecf6f3f8600c4fb.flv']"
      ]
     },
     "execution_count": 90,
     "metadata": {},
     "output_type": "execute_result"
    }
   ],
   "source": [
    "source_video_paths = [os.path.join(PATH_PREFIX, fpath) for fpath in source_paths]\n",
    "source_video_paths"
   ]
  },
  {
   "cell_type": "code",
   "execution_count": 91,
   "metadata": {
    "pycharm": {}
   },
   "outputs": [],
   "source": [
    "assert os.path.exists(source_video_paths[0])"
   ]
  },
  {
   "cell_type": "code",
   "execution_count": 92,
   "metadata": {
    "pycharm": {}
   },
   "outputs": [
    {
     "data": {
      "text/plain": [
       "['tmp\\\\_bb604f57a18455867544e79c2e32bf5583c358d4.flv',\n",
       " 'tmp\\\\_46f2e964ae16f5c27fad70d6849c76616fad7502.flv',\n",
       " 'tmp\\\\_97c71f57e83f6ab16906fdd7edc8e3f88d2ceee1.flv',\n",
       " 'tmp\\\\_410ba1c253fb8d4a8ba6e59aa9e39d39cb3b245b.flv',\n",
       " 'tmp\\\\_098df9c477ecf6c4f3818b198490b0258163015d.flv',\n",
       " 'tmp\\\\_3df02ec5ddb74647d8fb96f08adba8e152050ef9.flv',\n",
       " 'tmp\\\\_d2015b438b70f022967713d6f977ebc67a16839e.flv',\n",
       " 'tmp\\\\_127dab55025984673f65d3a23b1fea99ecc79b15.mp4',\n",
       " 'tmp\\\\_3499b9fd4316131ebf0f5d9bbecf6f3f8600c4fb.flv']"
      ]
     },
     "execution_count": 92,
     "metadata": {},
     "output_type": "execute_result"
    }
   ],
   "source": [
    "source_processed_paths = [os.path.join(TMP_DIR, '_'+os.path.basename(fpath)) for fpath in source_video_paths]\n",
    "source_processed_paths"
   ]
  },
  {
   "cell_type": "code",
   "execution_count": 93,
   "metadata": {
    "pycharm": {}
   },
   "outputs": [],
   "source": [
    "def prepare_videos(in_paths, out_paths, delete_old=True):\n",
    "    for in_path, out_path in zip(in_paths, out_paths):\n",
    "        try:\n",
    "            if delete_old and os.path.exists(out_path):\n",
    "                os.remove(out_path)\n",
    "            preprocess_video(in_path, out_path, resize=RESIZE, target_framerate=SOURCE_FRAMERATE)\n",
    "        except Exception as e:\n",
    "#             print(e)\n",
    "            pass\n",
    "        print(in_path, 'done')\n",
    "    for path in out_paths:\n",
    "        assert os.path.exists(path)"
   ]
  },
  {
   "cell_type": "code",
   "execution_count": 17,
   "metadata": {
    "pycharm": {},
    "scrolled": false
   },
   "outputs": [],
   "source": [
    "# prepare_videos(source_video_paths, source_processed_paths)"
   ]
  },
  {
   "cell_type": "code",
   "execution_count": 94,
   "metadata": {
    "pycharm": {}
   },
   "outputs": [
    {
     "data": {
      "text/plain": [
       "519"
      ]
     },
     "execution_count": 94,
     "metadata": {},
     "output_type": "execute_result"
    }
   ],
   "source": [
    "query_paths = vcdb_df['query']\n",
    "query_video_paths = [os.path.join(PATH_PREFIX, fname) for fname in query_paths]\n",
    "assert os.path.exists(query_video_paths[0])\n",
    "query_processed_paths = [os.path.join(TMP_DIR, '_'+os.path.basename(fpath)) for fpath in query_video_paths]\n",
    "len(query_processed_paths)"
   ]
  },
  {
   "cell_type": "code",
   "execution_count": 95,
   "metadata": {
    "pycharm": {},
    "scrolled": true
   },
   "outputs": [],
   "source": [
    "# prepare_videos(query_video_paths, query_processed_paths)"
   ]
  },
  {
   "cell_type": "code",
   "execution_count": null,
   "metadata": {},
   "outputs": [],
   "source": []
  },
  {
   "cell_type": "code",
   "execution_count": 98,
   "metadata": {
    "pycharm": {},
    "scrolled": false
   },
   "outputs": [
    {
     "name": "stdout",
     "output_type": "stream",
     "text": [
      "tmp\\_bb604f57a18455867544e79c2e32bf5583c358d4.flv\n",
      "tmp\\_46f2e964ae16f5c27fad70d6849c76616fad7502.flv\n",
      "tmp\\_97c71f57e83f6ab16906fdd7edc8e3f88d2ceee1.flv\n",
      "tmp\\_410ba1c253fb8d4a8ba6e59aa9e39d39cb3b245b.flv\n",
      "tmp\\_098df9c477ecf6c4f3818b198490b0258163015d.flv\n",
      "tmp\\_3df02ec5ddb74647d8fb96f08adba8e152050ef9.flv\n",
      "tmp\\_d2015b438b70f022967713d6f977ebc67a16839e.flv\n",
      "tmp\\_127dab55025984673f65d3a23b1fea99ecc79b15.mp4\n",
      "tmp\\_3499b9fd4316131ebf0f5d9bbecf6f3f8600c4fb.flv\n"
     ]
    }
   ],
   "source": [
    "source_df = get_rhash_df(source_processed_paths, buffer_size=TIRI_BUFFER_SIZE, hash_size=HASH_SIZE, write_frames_dir=FRAMES_DIR)\n",
    "source_df['id'] = source_df['id'].apply(lambda x: x.replace('_', ''))"
   ]
  },
  {
   "cell_type": "code",
   "execution_count": 99,
   "metadata": {
    "pycharm": {}
   },
   "outputs": [
    {
     "data": {
      "text/html": [
       "<div>\n",
       "<style scoped>\n",
       "    .dataframe tbody tr th:only-of-type {\n",
       "        vertical-align: middle;\n",
       "    }\n",
       "\n",
       "    .dataframe tbody tr th {\n",
       "        vertical-align: top;\n",
       "    }\n",
       "\n",
       "    .dataframe thead th {\n",
       "        text-align: right;\n",
       "    }\n",
       "</style>\n",
       "<table border=\"1\" class=\"dataframe\">\n",
       "  <thead>\n",
       "    <tr style=\"text-align: right;\">\n",
       "      <th></th>\n",
       "      <th>feature</th>\n",
       "      <th>ts</th>\n",
       "      <th>id</th>\n",
       "    </tr>\n",
       "  </thead>\n",
       "  <tbody>\n",
       "    <tr>\n",
       "      <th>0</th>\n",
       "      <td>[0, 0, 0, 1, 0, 0, 1, 1, 0, 1, 0, 1, 1, 1, 1, ...</td>\n",
       "      <td>0.45</td>\n",
       "      <td>bb604f57a18455867544e79c2e32bf5583c358d4.flv</td>\n",
       "    </tr>\n",
       "    <tr>\n",
       "      <th>1</th>\n",
       "      <td>[0, 0, 0, 1, 0, 0, 1, 1, 1, 1, 0, 1, 1, 1, 1, ...</td>\n",
       "      <td>0.95</td>\n",
       "      <td>bb604f57a18455867544e79c2e32bf5583c358d4.flv</td>\n",
       "    </tr>\n",
       "    <tr>\n",
       "      <th>2</th>\n",
       "      <td>[0, 0, 0, 1, 0, 0, 1, 1, 1, 1, 0, 1, 1, 1, 1, ...</td>\n",
       "      <td>1.45</td>\n",
       "      <td>bb604f57a18455867544e79c2e32bf5583c358d4.flv</td>\n",
       "    </tr>\n",
       "    <tr>\n",
       "      <th>3</th>\n",
       "      <td>[0, 0, 0, 1, 0, 0, 1, 1, 1, 1, 0, 1, 1, 1, 1, ...</td>\n",
       "      <td>1.95</td>\n",
       "      <td>bb604f57a18455867544e79c2e32bf5583c358d4.flv</td>\n",
       "    </tr>\n",
       "    <tr>\n",
       "      <th>4</th>\n",
       "      <td>[0, 1, 1, 1, 1, 0, 0, 1, 0, 1, 0, 0, 1, 1, 1, ...</td>\n",
       "      <td>2.45</td>\n",
       "      <td>bb604f57a18455867544e79c2e32bf5583c358d4.flv</td>\n",
       "    </tr>\n",
       "  </tbody>\n",
       "</table>\n",
       "</div>"
      ],
      "text/plain": [
       "                                             feature    ts  \\\n",
       "0  [0, 0, 0, 1, 0, 0, 1, 1, 0, 1, 0, 1, 1, 1, 1, ...  0.45   \n",
       "1  [0, 0, 0, 1, 0, 0, 1, 1, 1, 1, 0, 1, 1, 1, 1, ...  0.95   \n",
       "2  [0, 0, 0, 1, 0, 0, 1, 1, 1, 1, 0, 1, 1, 1, 1, ...  1.45   \n",
       "3  [0, 0, 0, 1, 0, 0, 1, 1, 1, 1, 0, 1, 1, 1, 1, ...  1.95   \n",
       "4  [0, 1, 1, 1, 1, 0, 0, 1, 0, 1, 0, 0, 1, 1, 1, ...  2.45   \n",
       "\n",
       "                                             id  \n",
       "0  bb604f57a18455867544e79c2e32bf5583c358d4.flv  \n",
       "1  bb604f57a18455867544e79c2e32bf5583c358d4.flv  \n",
       "2  bb604f57a18455867544e79c2e32bf5583c358d4.flv  \n",
       "3  bb604f57a18455867544e79c2e32bf5583c358d4.flv  \n",
       "4  bb604f57a18455867544e79c2e32bf5583c358d4.flv  "
      ]
     },
     "execution_count": 99,
     "metadata": {},
     "output_type": "execute_result"
    }
   ],
   "source": [
    "source_df.head()"
   ]
  },
  {
   "cell_type": "code",
   "execution_count": 100,
   "metadata": {},
   "outputs": [
    {
     "data": {
      "text/plain": [
       "(2677, 3)"
      ]
     },
     "execution_count": 100,
     "metadata": {},
     "output_type": "execute_result"
    }
   ],
   "source": [
    "source_df.shape"
   ]
  },
  {
   "cell_type": "code",
   "execution_count": 87,
   "metadata": {
    "pycharm": {}
   },
   "outputs": [],
   "source": [
    "source_df.to_csv(DATA_DIR+'/vcdb_rhash_source.csv', index=False)"
   ]
  },
  {
   "cell_type": "code",
   "execution_count": 88,
   "metadata": {
    "pycharm": {},
    "scrolled": false
   },
   "outputs": [
    {
     "name": "stdout",
     "output_type": "stream",
     "text": [
      "tmp\\_3504e360accbaccb1580befbb441f1019664c2bb.mp4\n",
      "tmp\\_37b31d607d31a47d347b15dae2b8aa63e57861eb.flv\n",
      "tmp\\_458db5aa227ae49ceb8bc1bed5f9cf5b4bed63f2.flv\n",
      "tmp\\_5c5714c0a56fd2a96f99db2f59b0d03659d77cdf.flv\n",
      "tmp\\_67824b87c0698c499acad123b7498ae17f97bf6d.flv\n",
      "tmp\\_6d1466ebc4de7e5ddb229bde090b5c5acac15c0c.flv\n",
      "tmp\\_6d1a89c83d554fc6a5e39fcadb172a79baf140fd.mp4\n",
      "tmp\\_8084216caff6082b4e71ae4bbfe556f28a68485f.flv\n",
      "tmp\\_9423340949f55d7a089e881ccc35f23dff3fccf7.flv\n",
      "tmp\\_e901a631b00f4ad0c9d161d686fac1339e1e3535.flv\n",
      "tmp\\_5f6527456bf2b4c460737a1c222dbd0e70009030.flv\n",
      "tmp\\_6171d3d87ae377e497199554033bca96a263277b.mp4\n",
      "tmp\\_904c8ebf782357ae78ebd205fe3428ad76b975a5.flv\n",
      "tmp\\_b41c61fb756014444b7974ef25f2c76d5c3b42e4.flv\n",
      "tmp\\_0056649006c7a250cb4174f1e924768ba2c9d599.flv\n",
      "tmp\\_1357538fd1fd2975a8b3f750d5f6b13695aa4e28.flv\n",
      "tmp\\_1f4f6311bb4acc0bc72e4a915a32093a7a85741c.flv\n",
      "tmp\\_37a935b4c21662e183a0dd632f40d5fd6900c42b.mp4\n",
      "tmp\\_3fe2e54fdb267849aa8aeb0b39ec0d1c7075b391.flv\n",
      "tmp\\_4ffe88b2da93f727952dc3104e70c0b0665d9e1a.flv\n",
      "tmp\\_52ac7a125ee96ff91ca49c197d3a79b6c0857e68.flv\n",
      "tmp\\_54f841cdb1b1a498c656bd541d23c690b70737bd.flv\n",
      "tmp\\_5d38467d3becf8273bd7ae9028a37fcb0cc3828b.flv\n",
      "tmp\\_63407cc775874d569f82a2060c636b785c09a487.flv\n",
      "tmp\\_66e0225621e48946b7ab09027c18c83b69564002.flv\n",
      "tmp\\_72e97f43a27cdb56a82454758c383c1ac82e91b9.flv\n",
      "tmp\\_74018dcbf908a0a0319e889a70a920896b63ed99.flv\n",
      "tmp\\_9026d2a43d0e645901aa9138136bbc1491856ffb.flv\n",
      "tmp\\_a100d2d414f1faa59abdb409e8858d6a4ba96618.flv\n",
      "tmp\\_ab12206048207553294916664d0ebf1cd9e81ef6.flv\n",
      "tmp\\_b34b81ce75ea0773ba04b3f1ddedf3f3fac823fa.flv\n",
      "tmp\\_c4384b8402362a0351d4e1dc9de0c01d7117322f.flv\n",
      "tmp\\_d28c7952b8a60139126446bc81bff5ecebcf5129.flv\n",
      "tmp\\_e4516162efaa2bb36d38fbf245bc41b6fd24f443.flv\n",
      "tmp\\_e6f1dd4881c0088d861763dadd83db04fb353500.flv\n",
      "tmp\\_f9395fd63d7f59cae6103cfb00e116b4a1d0be5e.flv\n",
      "tmp\\_f98075fcebb2596c91cf6886b30a39521cc60855.flv\n",
      "tmp\\_fa0aa890db611cbe029b8c222663579ec7081bb6.flv\n",
      "tmp\\_09ff1e69bf3accfcf029ad987f61f791a005c358.flv\n",
      "tmp\\_630d6d7a0c534717c09acb316b0408a7e80a0a32.flv\n",
      "tmp\\_682329105c2fa291ceb13eebfe0544fb9a115c0b.flv\n",
      "tmp\\_ab8bd55b3fefca37c7dc57e973a7cea1ae3555ad.flv\n",
      "tmp\\_c1e67ad94259a2015304ee0b42323dd48f820309.flv\n",
      "tmp\\_e9e65688a633e99bd3cc6e4078a2ef0157153cd5.flv\n",
      "tmp\\_0268faef0f0ae291f5ede0a7c3f2d176a6101a08.flv\n",
      "tmp\\_0e3aee10650afd14d9a2d8b1440924c7968dd0ee.flv\n",
      "tmp\\_225eceebd0f24728bd1740f642de6705d43a4da0.flv\n",
      "tmp\\_2b1a3faf58c38efc393635e3cc007946914516d0.flv\n",
      "tmp\\_359b3ef99acac4136096052c6d812a6248811e10.flv\n",
      "tmp\\_56b8c2103555cf056db670c7e952c1fa7418e73d.flv\n",
      "tmp\\_5b1b41404d1bad5d231bd8c7fdbae109e0ea1fc2.flv\n",
      "tmp\\_90d2508777b93f5acace5694e70a2bb00efad351.flv\n",
      "tmp\\_c7d5eb4355e2ce9c90bf681e28ca740b1e7c62ca.flv\n",
      "tmp\\_d30e718464711d5903b53d36aef8c8212bad1d07.flv\n",
      "tmp\\_e8e45390a65d2eac522a42b969d2adb87fac7315.flv\n",
      "tmp\\_0cad474aedea70d42f8d8f2a6f9a21e3c40fa40b.flv\n",
      "tmp\\_12b96f2d055a6eb05241a9aeed95a8be8e5cf79c.flv\n",
      "tmp\\_296961b67d89d82a362fb046e333718e1579691d.flv\n",
      "tmp\\_3932dee75c7ddd9785d7d502235892d1b0380f5a.flv\n",
      "tmp\\_554d94559dcfcdff9312053469c9c64940dbca20.flv\n",
      "tmp\\_9c42a6ce9b8bb966040d9eed9255c1001fffdba6.flv\n",
      "tmp\\_ee7a5a870cbe3215a87a2798c81a0d43c118e62d.flv\n",
      "tmp\\_09b682c899b0727e9990d8e347cdce3df7c5550e.flv\n",
      "tmp\\_54c560a6b270647b28ea2746853c937885e2718b.flv\n",
      "tmp\\_56adf39cc2f2f342b0a589038f6d11bac861028e.flv\n",
      "tmp\\_5ac8651ce41781440c8595d174748f1a6cad1ff7.flv\n",
      "tmp\\_874a7d3cbfc17a46040b2d657667520bde309ca4.flv\n",
      "tmp\\_8f8ecb70bd37b0c6fc468c2aab24d6d9b89fe28d.flv\n",
      "tmp\\_c80dd6dfe271e4887c11bd76248411a8e7c853b0.flv\n",
      "tmp\\_12e5b295f88e0c387a4326c73613b1c7a05f2eda.flv\n",
      "tmp\\_3f551cfb6385305e37906ce36ba8adc47ebc4cb3.flv\n",
      "tmp\\_46fa74f0aa8e67c49c64802317c4de3894f0e1b9.flv\n",
      "tmp\\_487be7c83186caba89dc3004a1bd24350e35a099.flv\n",
      "tmp\\_4cfa923904010814758c07c039b0388ed0be08ec.flv\n",
      "tmp\\_4ebe32fc10f0594a6d6a54df8617d38c2806ec9e.flv\n",
      "tmp\\_4fed5faaf981b1082089916f2ff52c844b260efa.mp4\n",
      "tmp\\_705d504994af63494d0e6e3e42f64d6b165b9584.flv\n",
      "tmp\\_707ffde910facfe859304ae491bc154ab33dd2de.flv\n",
      "tmp\\_75ac32c788e5d5d2e058a24f6a2deffbab3288fc.flv\n",
      "tmp\\_7b2158aad4ea2e6c8f149bb869801b96734c1b1c.flv\n",
      "tmp\\_7c9d142bf1b1ede846c059117f422b1c8ea6bb9e.mp4\n",
      "tmp\\_7dd1b7a83128fb78f018c557d918b0670989457e.mp4\n",
      "tmp\\_8870293c58fbed9cc03a738577e5802164199d8b.flv\n",
      "tmp\\_8c207ab5a07d12d37dcb666ee8b69c3357bc07fb.flv\n",
      "tmp\\_8fb97b98e2f27c9f162d6c1d6c27806c84af8e8d.flv\n",
      "tmp\\_97429f47c45ec4da9849b7f4df36e22939649158.mp4\n",
      "tmp\\_9c1d7e91288e07083e4456f8fe6b771aba039ed1.flv\n",
      "tmp\\_b3205b97de392174f3905831fc0dba5724fdabf1.flv\n",
      "tmp\\_b581ea1130d0c4c9af02e98dcb887cb8d58350e8.flv\n",
      "tmp\\_bbdbe357f408fb84d5f57c1522a90504f3162d6f.flv\n",
      "tmp\\_be51dbc2d72ae574934de1b972b18037dba73b8e.flv\n",
      "tmp\\_bf9df08bb9164d1b971557a9b9f6140096c92b0c.mp4\n",
      "tmp\\_cac9dff859597360de5a5f011139c845c0d08e6c.flv\n",
      "tmp\\_caec7bae88f5b5d60a08487e9d9a8cd27251c64e.flv\n",
      "tmp\\_f7ba4ea780e11256ed5439e33d169eb242a8a18f.flv\n",
      "tmp\\_242f1fb1c242b8b01b994185c0111d1ca25ee03e.flv\n",
      "tmp\\_58e5bb3a6c16fa795310152410de9ecaee19e90f.flv\n",
      "tmp\\_5b46e9007b0add1d73a11d2f4414efe35b017acb.flv\n",
      "tmp\\_5b90735d0a44043685ced4a784dfd3fc8489317a.mp4\n",
      "tmp\\_60c5b3896a5a75b43ee11719952ebb2a18a20d56.flv\n",
      "tmp\\_621e548a6730fef0d8e3ff041c751881a9432af4.flv\n",
      "tmp\\_6834f12ea580a4e7309bd8541fb6fbe4daeeda0f.flv\n",
      "tmp\\_875ea06d092a04ffd4e875e1f311e6aa2eb9ff87.flv\n",
      "tmp\\_ef831f0fe7c633be5ed9edd29dd28d6066ea6d88.flv\n",
      "tmp\\_f13e7eb9b90b57b1613daa44c15a50fdef456176.flv\n",
      "tmp\\_f8b09ea589093ea7fc20cb530963fe610e90fd12.flv\n",
      "tmp\\_007d931e5f8d6dc6367964748ed862739425303b.flv\n",
      "tmp\\_031dacfeacdc715e755c01f4d37b49577336006e.mp4\n",
      "tmp\\_23254771545e5d278548ba02d25d32add952b2a4.flv\n",
      "tmp\\_2620a515a196e5d4329f320f478010e578980bee.flv\n",
      "tmp\\_434cbcdf0562eb6c5ccdef59cf3401ed1067112c.flv\n",
      "tmp\\_468410600142c136d707b4cbc3ff0703c112575d.flv\n",
      "tmp\\_4a79c873b671f3452afde9d247250d8c3776e7c6.flv\n",
      "tmp\\_67f1feff7f624cf0b9ac2ebaf49f547a922b4971.flv\n",
      "tmp\\_68868f88c7c8f4887bf441ea1f61500dbcd1da5b.flv\n",
      "tmp\\_7a80366e144e759603a9ebecfd91848196e255d2.flv\n",
      "tmp\\_7deff9e47e47c98bb341c4355dfff9a82bfba221.flv\n",
      "tmp\\_7e4fe3c124a00ce43ce0b5b0aca342d79e3c1ed7.flv\n",
      "tmp\\_aca39f299bade8a43abc80bac36d598239c63906.flv\n",
      "tmp\\_b22db6382d74710e88eb1cb50bf3f74bec402491.flv\n",
      "tmp\\_c224dece59ecedc0a54ddafe5b1ab0ecf1f7a729.flv\n",
      "tmp\\_c70491f4b4d4a8e90561c11ac929edf430e62641.flv\n",
      "tmp\\_e8e7aaf3d965501ca315099c1d2b4c8fe12cce68.flv\n",
      "tmp\\_0df916fdd13b8579ba1d12190b931f14daeb72eb.flv\n",
      "tmp\\_1f518e563d7fcdc4f21aedc1e2b30298255dd10c.flv\n",
      "tmp\\_2283dfecf92111bfb035888b4810c011ac164876.flv\n",
      "tmp\\_60424fb57dae4de20a1672b9019d54dea5179073.flv\n",
      "tmp\\_6a2f5ceaa65dd1187ff57ff1c1fccee9da91985b.flv\n",
      "tmp\\_71ba3405d1e896d04c89754ff618b4198d2e65d5.flv\n",
      "tmp\\_77452e0b0c34723b656047c3cbd5d9bf2e11eaaf.flv\n",
      "tmp\\_80fd5c866390b8caf4129486e0f11beeca47d952.flv\n",
      "tmp\\_8a268ef5ad1f250fca37321ba2e9c9224b084dba.flv\n",
      "tmp\\_8b99b013165faa0c1cb36794f0d20d38a621f496.flv\n",
      "tmp\\_925a69d13824e3521d6eccbe8c6d7ff0c54486fe.flv\n",
      "tmp\\_a8253d279cbeb3a29bd346b63083c054eab1407a.flv\n",
      "tmp\\_acdf1a72b8cf37ee2609cdc03ff70747f36e0476.flv\n",
      "tmp\\_b1d0d41066ffb0afa9e3a3375199824f35a80c4d.flv\n",
      "tmp\\_e05b9149d1a03f651df63b63657e7de1e106e061.flv\n",
      "tmp\\_e2cae9c5ef92cbb53d823cfeb4d75c294baed21c.flv\n",
      "tmp\\_f6e296bfd930f585e165246530efa97bc035330f.flv\n",
      "tmp\\_02ffeecd09331f27f731b2eabc6d1e0dcd91daa4.flv\n",
      "tmp\\_1ae7b9a578d5cdff57415e3701cd064d03ca3246.flv\n",
      "tmp\\_2e246b45e7dfba0a7cfb2beb557c40d81dc02c99.flv\n",
      "tmp\\_36d4ff38748397fadca52e851f1b6f4679bf3027.flv\n",
      "tmp\\_375e6b7b7b63d2a84798226ef0cef8f50135e90a.flv\n",
      "tmp\\_377f81e79938ba062762e74a3b8d4136b5523fa3.flv\n",
      "tmp\\_3ec7ab68ed6a1690d7c0074bc563d0dccac57726.flv\n",
      "tmp\\_3ed4f5c0eb04c94353594e8be1a72bcc657e27c7.flv\n",
      "tmp\\_5496ef100ec5a5151c058cb264d9877bf7e90960.flv\n",
      "tmp\\_55b5cf91ebbb1f98879f64e74b8155fe98cad23a.flv\n",
      "tmp\\_5965d78e520ef5c162f22da88745f4c6dccd6fcf.flv\n",
      "tmp\\_5c4792c066b3e445d46c603878b1be0a33808111.flv\n",
      "tmp\\_5f6d3fba8821f4e3358d5ff9dd6d3bc55b03b119.flv\n",
      "tmp\\_6cc806641ede517d2ba98b9ffc5691c152b6c1db.flv\n",
      "tmp\\_6f5bbd3e080c65e9a9e52404c9054b2203d3f540.flv\n",
      "tmp\\_811a34d320785afe0f50b9ff7a67a8b7c22e9891.flv\n",
      "tmp\\_84ce12a5fff66f4cd789c90bf61156f44fe21fbc.flv\n",
      "tmp\\_8d6bd2b5607cbd53fd782843392105c020b9aa7d.flv\n",
      "tmp\\_9110765efc621b8e551b94889875201f36a48d49.flv\n",
      "tmp\\_925548514617c04feb99967cd1d40d985c467a2f.flv\n",
      "tmp\\_934c1d493bed0e2fae442e8970d787f176ac89cb.flv\n",
      "tmp\\_ab3d22a99b1f0fee38cf842f51b1dce60bed631f.flv\n",
      "tmp\\_b3e2f9a02ee873972fcb0ce144996ad850c7b4af.flv\n"
     ]
    },
    {
     "name": "stdout",
     "output_type": "stream",
     "text": [
      "tmp\\_ce1451b329a9cd5ad178f0927644f81fad4c69c2.flv\n",
      "tmp\\_d31adc1a71b72bb36f32b67cb6d52d4840a322c5.flv\n",
      "tmp\\_de71afa5fe2363589c28021940d2902d8701efdf.flv\n",
      "tmp\\_df4001c1e9d3e8fe3c61d9b6bac46cd377e6d2be.flv\n",
      "tmp\\_df839544c199b12b5de023c1ee8511b947f5c999.flv\n",
      "tmp\\_e018528afcd7682556a4049b76d76105f60fa922.flv\n",
      "tmp\\_f5d187eb9c7e5cfc6eaa206f479ede5c10603c68.flv\n",
      "tmp\\_2ba013a3f6fa57793c242766e27ec77d001fe03a.flv\n",
      "tmp\\_38f11a4162d8e94227ac644f117f942735b9a504.mp4\n",
      "tmp\\_39c96fc7117a0ff1fdc02637285c13d8efe7ce93.flv\n",
      "tmp\\_7caa7fcef0e0b17725a0bda8b101d819e6ca2dbd.flv\n",
      "tmp\\_801dbd9a5a5f97442c7bbd14046d71e67cccbf4b.mp4\n",
      "tmp\\_9ac82ed37390f45bdc81b699c53085b29143ee70.flv\n",
      "tmp\\_be51784c0b0676bf487376af362b088922efa954.flv\n",
      "tmp\\_bf582249cfc79d691195a8681961029cc5149a76.flv\n",
      "tmp\\_d2f4aca96d44a144b12abc300b781b8ff8bb0842.flv\n",
      "tmp\\_e2adc784b83446ae775f698b9d17c9fd392b2f75.flv\n",
      "tmp\\_e8aa839caca7b98a0bf5437db144f23530d39b25.flv\n",
      "tmp\\_06f0dd6a00b38b553844d0550696e5ce1fb448b6.flv\n",
      "tmp\\_10732a0e6a0edef9dcbb2155236e46a7ed5047c0.flv\n",
      "tmp\\_126d3e5b61ad28f847ad1ff6d15315742e780ac6.mp4\n",
      "tmp\\_126f24a39b0ce19993d1fd7bd620fa98a3eda3a7.mp4\n",
      "tmp\\_14c262ea09b4ca66feb7e88cf57e0faaeacc301f.mp4\n",
      "tmp\\_14c81d68b80d04743a107d4de859cb4724ccc2c1.flv\n",
      "tmp\\_170914a51f3b81a48ada1a1e8c6a97fc9d61e3c2.flv\n",
      "tmp\\_1923a4832593ecf189271664f80e8fbdfa451dec.flv\n",
      "tmp\\_1f73466d86f0a92140bd2f89eb95e8c147b47935.flv\n",
      "tmp\\_28ae1e3aa722872cec66e9c83a35243accd27e2d.flv\n",
      "tmp\\_28d2bcbf01d0572073d4e7543b0a43cda23887f2.flv\n",
      "tmp\\_296daa1f5eff17f2a2cb02cf052deccdacca0c24.flv\n",
      "tmp\\_2d381cece55255b4ea7c5e18d20f5a07ee39ddf5.flv\n",
      "tmp\\_2d623f928f8b37ce5978269e4198728c13e3f590.mp4\n",
      "tmp\\_3216eba70c40df452e982aabf4b6a19e40f037f4.mp4\n",
      "tmp\\_4376c0e8e1e226a63b6b2aac5c1962aa02028071.mp4\n",
      "tmp\\_4aec2dcc12e748c4d2ff51fd6e84fac3fd9b5748.flv\n",
      "tmp\\_4df943d4903333df61bb3854d47365edf3076b5b.flv\n",
      "tmp\\_553d57eaab222c10c21018a6adc6d79841ba07e0.flv\n",
      "tmp\\_58a33de5c9bd85b5dfe782eca6af35eeb390bd92.flv\n",
      "tmp\\_650b4f7667e95e743b944c7e6602ada613b87377.flv\n",
      "tmp\\_67a70784ba5e4a26b6a3d95900a6b737f92af14c.mp4\n",
      "tmp\\_86a3afc4f23edb7fa6919bd7371ea7d5f4a946f9.flv\n",
      "tmp\\_8c2dac44da15031268363aec2fe33a9124a0a505.flv\n",
      "tmp\\_93a48fd66a22cf0189c14a6b8571d72f657b64bc.mp4\n",
      "tmp\\_957f17421e19ce01afd6f92c895aba72342bd8ea.flv\n",
      "10000\n",
      "tmp\\_963f76298aaaab30e407bfe87eb25f3f2621d52d.flv\n",
      "tmp\\_9f6c4b5fb07564529bd75142e29757b36770359c.flv\n",
      "tmp\\_a9ef8194429b65cd61ce681caff308530c9fc8b3.flv\n",
      "tmp\\_affa7581a002ca360df8c76b4ddc9f462b797fd5.mp4\n",
      "tmp\\_b4adf259a412ffc4cfbfecd4bc14693b683791b0.flv\n",
      "tmp\\_c22d8160f6950e9748d3c0d1cf26e342d54f281f.mp4\n",
      "tmp\\_c4684f69b4fe383c4c3bf502f6444a9abc7342ac.mp4\n",
      "tmp\\_c854dfdd9b038a39cf36d5ded719822e1e5e942a.flv\n",
      "tmp\\_cf2ead1b5a8474f80e34ea569c8dee86140828a6.flv\n",
      "tmp\\_d4ff86e0f64fcf4d664f3199e19bd6a38482c3e1.flv\n",
      "tmp\\_df0c9e9664cfa6720c94e13eae35ddb7a9b5b927.flv\n",
      "tmp\\_e47d10d837cacf72bb23c45339b1cbc307a513be.mp4\n",
      "tmp\\_e7957b138bcb543c63f100343c91d5731611c1ba.mp4\n",
      "tmp\\_f150e062960b477adcac3f12ef4543337f5a91a4.flv\n",
      "tmp\\_f26a39de8e8ec290703f4937977fc17322974748.flv\n",
      "tmp\\_ff71ba9adb281236cb8ebeed7aa4f654fdac9444.flv\n",
      "tmp\\_ffd89ce37eb32ff8748e5168da52b0e32dcd3022.mp4\n",
      "tmp\\_1c3639a371f22ee3e5f111d4b9d2b045cfa6fb02.flv\n",
      "tmp\\_24a6a7d24464d6fe488abb181d89e426e8eeb837.mp4\n",
      "tmp\\_28a7b8e86a5bc14c3668248d3a1395af9d58cdcb.mp4\n",
      "tmp\\_3edda6ce4f34d8bcc1b3843100c36ddbef3c46df.flv\n",
      "tmp\\_3f81759e6e56e326c0deb3f1ca002e4c68d87eec.flv\n",
      "tmp\\_3f8bfd743657405ffa42909e84260dbd843bd9c2.flv\n",
      "tmp\\_44aa92f8d96a98a015dba6eb0680bb97699af83f.mp4\n",
      "tmp\\_458480841d12331e4dea9557886acd2ac957e9cd.mp4\n",
      "tmp\\_53ff5686f46ac55ae5357e6e7856faf0f5f15173.flv\n",
      "tmp\\_5f67871d5d377ddc9743ec8fce5f362f09621466.mp4\n",
      "tmp\\_6209e90f48cea8649c0c632f2486554524f11ca5.flv\n",
      "tmp\\_6885d63183d393307f6f2206f0dfaccec2d09389.mp4\n",
      "tmp\\_6c6135f9fb597c1d4a1e96861c4d90a03544d570.mp4\n",
      "tmp\\_77cf367bdc30892faa364bab0006c316a4e86f8e.flv\n",
      "tmp\\_7b0ad0591b074a11dccac902cb5729f658645f01.mp4\n",
      "tmp\\_89b40b8ef5ec589cd8e4ebe5970e6b488f6b31ad.flv\n",
      "tmp\\_91b2f55c188b8aa362fd2d2ac6bd08dbe7146bd5.flv\n",
      "tmp\\_9b618181a0cb19eaaa18728b72825b0b4d7d5ef4.mp4\n",
      "tmp\\_9d75e3dc43f2ca2384f91cc2bdcf1dd3fe0c3234.flv\n",
      "tmp\\_a8ad757811a9292d6184ff2f16f7be2ce686a605.flv\n",
      "tmp\\_a92bd54b230f71a3542ffda4285be00336118261.flv\n",
      "tmp\\_b65af0803a5dcaac7776b7c8648091ca3bec8471.mp4\n",
      "tmp\\_bb1de1926803eea0fa311556b1c991fab3a73396.flv\n",
      "tmp\\_bc0f16fd0538091a9e1eba02a8da9559e2751f6f.mp4\n",
      "tmp\\_d073f04bba4abb056f4be01b6f1bf5b58bb330de.flv\n",
      "tmp\\_d7fd4ee52ade46db49e9fbabdf5d964ce0677961.flv\n",
      "tmp\\_d8bc8b695ab831b8f511dd2ab56d7e7ac0cd1a21.flv\n",
      "tmp\\_daa0d7da05e7475ca5cb9b2a91fb968e65725ecb.flv\n",
      "tmp\\_df9176364d95bda36fced3537e44b838cb548e78.flv\n",
      "tmp\\_e3cfb1f40fb5690a700aba9ac1fa35be2fd4ff1f.flv\n",
      "tmp\\_eaa384490867c32e4b3cc0d7d969af63d1a6edda.flv\n",
      "tmp\\_ebe5fd08a5d05f2af96f425bc894860bac3f9ba6.flv\n",
      "tmp\\_ecae756c95dc0d66827d30767e944c781eef7ea7.flv\n",
      "tmp\\_edae2238f87dce9981af2e1c472096e6694da1a1.flv\n",
      "tmp\\_f27d7252cfb03e3e051488a53801235840f7a58e.flv\n",
      "tmp\\_fc168483b05a1a3534dedd973585642bd0f0edb8.flv\n",
      "tmp\\_00274a923e13506819bd273c694d10cfa07ce1ec.flv\n",
      "tmp\\_0234aef03d60f071f6fb30f366e79bcc1a05cf14.flv\n",
      "tmp\\_089bc4a7f6d8747dad92507019b100c5ec09a883.flv\n",
      "tmp\\_0dc847c3b563024b2052b75a28952c2434d059d1.flv\n",
      "tmp\\_10f0d273cc6c1f888004537f30d5ef577b6d95e3.flv\n",
      "tmp\\_1d4062ded72a30caa898d2bb9c105994c8a96acc.flv\n",
      "tmp\\_1f025a1f075ff2d25d5469a1343932e09ea13b2a.flv\n",
      "tmp\\_32b25dee50d2c710b1122afe7371b9fa274241d6.flv\n",
      "tmp\\_3f4c158b7f419867204968bd5e1f70003fefc889.flv\n",
      "tmp\\_4120e70bc6332bd6010e76b0054c45653bfa6f94.flv\n",
      "tmp\\_50267c2376f0e05d38f8d468d4bb403fab5cc454.flv\n",
      "tmp\\_54b8c1ae26a16400c15badbae407c809b3ebf03c.flv\n",
      "tmp\\_55dde762dc283ee301065f670b6d7c08c3c32668.flv\n",
      "tmp\\_66246823d79897fd7d93677c6c0244a3cbd4657f.flv\n",
      "tmp\\_69bcf906c79504494d9f23192f4801b61b4fd966.flv\n",
      "tmp\\_750357acf34899c1c99eb2ae22880c88a776c946.flv\n",
      "tmp\\_7c34e7d6022bcd3c7c225feed3fca1e8e72249a4.flv\n",
      "tmp\\_855f0c045b8b0f8f74a6e8a8d7cfc4aff5fbcc4b.flv\n",
      "tmp\\_8cd04dbb4576f83ebe1f480d6a33a24c3a5882bd.flv\n",
      "tmp\\_8f95e2c9940b1ea46fa23702ca70f4cbefd9e3ef.flv\n",
      "tmp\\_9d4fe306b83253fdd9734daaf6d56df5a5ec648f.flv\n",
      "tmp\\_9e9f2730f5f2bb277d07f7125372352597274f6b.flv\n",
      "tmp\\_9efa8c1165cc587476f284ecda53b88c9fd92697.flv\n",
      "tmp\\_a9edef40077c3d7c638dae4a24a83bf6e42b34b1.flv\n",
      "tmp\\_b728eae73b1705d4ef3884b5d536273c5cb47fbd.flv\n",
      "tmp\\_c6d6d37c73f364e3902407e1da07c8e354f66c13.flv\n",
      "tmp\\_d083d6a9a987fb0e37dddc0f134704a29677899c.flv\n",
      "tmp\\_df097cb467b3a43683f48082099cfdfddae84f37.flv\n",
      "tmp\\_e29e65d0e362b8e7d450d833227ea3c0f5f65f12.flv\n",
      "tmp\\_e2cecbbd4e5683a610152e4b0e83deaa5090384a.flv\n",
      "tmp\\_ea224722e7d3ef9c44d8140a2e435469384204d8.flv\n",
      "tmp\\_f410b354eec142d6e0f1124bffe6aad83d8dc427.flv\n",
      "tmp\\_fca7e9c46b6ec4b8cb53ff17d93bef484a341c5b.flv\n",
      "tmp\\_0c3c3c22cd9caef7491e07a3176e6e27a0ef06a2.flv\n",
      "tmp\\_275ca13a391d89d08b7de46c23c4430070c3251c.flv\n",
      "tmp\\_4f1435d832285500d7663d893b9eeba69262321a.flv\n",
      "tmp\\_5567a1bb5b9767342dc99baea8d67508ca22c046.flv\n",
      "tmp\\_64c86092addbb5b3de44a4412d52509fdda5c38c.flv\n",
      "tmp\\_980970c70070421c46fb122e7a6ebc59682e697d.flv\n",
      "tmp\\_a5df43e25319b10af46225849677bd30b916ce81.flv\n",
      "tmp\\_ab2879d4e100749bb69b5892c86778853022af77.flv\n",
      "tmp\\_af580b9a475c8f5c4143ab604f85751a68e3beb1.flv\n",
      "tmp\\_b88ae034eae2bb791dd880f003eb73882380a488.mp4\n",
      "tmp\\_d909ebd329acb38fdfd631252e05c273e58e60d3.mp4\n",
      "tmp\\_067fb2aa9623905a42a2b0b286de1386e45c5bf8.flv\n",
      "tmp\\_1777dc7aada63176bc9d3d87a5ce322163cfe4e6.flv\n",
      "tmp\\_1e5aec100a5b897342a4be9246995fc16f784e66.flv\n",
      "tmp\\_7ac8224504f430258be5cf7c3e21bd2611fa7c77.flv\n",
      "tmp\\_8f19329946455ae5c2c7b788ea6f6513bf5e1c9a.flv\n",
      "tmp\\_b545808db002bde2b5f478efbb57e5fe62a8f324.flv\n",
      "tmp\\_c39a06345b2c3b563c5f8a43dfef7541cf8f0e61.flv\n",
      "tmp\\_da8b354493c2707adb8f361814cd2af92a7a040d.flv\n",
      "tmp\\_0421e862855ae81fd14e804d0758ab7917b5335c.flv\n",
      "tmp\\_1a9a30abe7dee2eaa52c82490ee117cc399f583e.flv\n",
      "tmp\\_200130e0c39f0239a22ad3f873feac30e88134df.flv\n",
      "tmp\\_25b4ccc2b3166b565dde7192ed3b7b43921439dd.flv\n",
      "tmp\\_25ba77da725f9247cf8a84bb370cf40ac74297d2.flv\n",
      "tmp\\_283043f1c1433d9205416d2922764421d3d7e34e.flv\n",
      "tmp\\_31a250020d2cd699bc5fc42897f7522043713cf5.flv\n",
      "tmp\\_5aff6ecadb439bb9c16a215188258f9474052fae.flv\n",
      "tmp\\_694b83f937e8ae9a390c5ed1004d5ef1f8643ae4.flv\n",
      "tmp\\_7033506abf8c15d8f22f26f9ad88dd531cbffb8f.flv\n",
      "tmp\\_704ed7f6755163d92e4344ede58a30e14ceb5ed4.flv\n",
      "tmp\\_743b4b30bf4fa11e3231dd0cc319016db1cb5b73.flv\n",
      "tmp\\_7759574accbb8bf3b47365c39f31ba8a728481c4.flv\n",
      "tmp\\_81898f5820b268138f9c80284d0118105ffc3712.flv\n"
     ]
    },
    {
     "name": "stdout",
     "output_type": "stream",
     "text": [
      "tmp\\_8bb9090a95a07edf2fd021d64335bf7b4f428eb2.flv\n",
      "tmp\\_952cdd6aa1a8c2f63f9900960b3e18ffb217b97f.flv\n",
      "tmp\\_96642d7998cdd226b395153b7d8f3d36655c0176.flv\n",
      "tmp\\_9f3d3762943c662470d78368a29a067952a97933.flv\n",
      "tmp\\_a257de343d6734f0fc478da98cfedf773ea407a4.mp4\n",
      "tmp\\_aa314017a4a18f05208d8702c27d16d57df3f55f.mp4\n",
      "tmp\\_aba6851ca7f78f3a83216005bef58766e3dfb26d.flv\n",
      "tmp\\_bdce7faffa2ce63db64ddab4fa10ac6752079020.flv\n",
      "tmp\\_db06eed340d0873fc48b2129115f16c79c48678c.flv\n",
      "tmp\\_e7831eba03ee7083a9d547fdde6adadaa05f3eeb.flv\n",
      "tmp\\_010aeeb1a5d471418ceab8f8c0d5f34d84059cff.flv\n",
      "tmp\\_136eff8ef85eee42b2370ad6e444498980ba63a8.mp4\n",
      "tmp\\_16f1dd96af646d6ec01c5ec51c0fdfafd8206c0a.flv\n",
      "tmp\\_1b1badb376661cc4822989e45505f66e23cb65e4.flv\n",
      "tmp\\_1ca9e47028d5d38e082ff7fbac68fb24d4bafc4f.mp4\n",
      "tmp\\_20d29f3a064272395f59c40cc0c29e7f6c4ff48c.flv\n",
      "tmp\\_23b0c2b21d1471204cd3e3a1de22e8d98849abfe.flv\n",
      "tmp\\_2a3a855c1a79ccfda28c57c4a2bcdaa85c725787.flv\n",
      "tmp\\_2cd2f88502bf8d74a3da0f257b47da823e0d42a0.flv\n",
      "tmp\\_2fe7b38b1cbdfdf5d6075ee2b2cd9fee2cf7d7c1.flv\n",
      "tmp\\_31c0c6ca1fb0a7c86e0aff458bffd0002d42ef3e.flv\n",
      "tmp\\_3325a3c9120eb6e7d55bf2963a52991f7f47538d.flv\n",
      "tmp\\_46b544ed68b9a32afb08f2509c1e6776e9807037.flv\n",
      "tmp\\_481f7052a3be44d9f7d1f6d2f809c0a4f17cb175.mp4\n",
      "tmp\\_5b14829fbd7b9a97df21db5b990a57bc13e38a89.flv\n",
      "tmp\\_72b76094f00ba7454dcf6fbeffc5f58f4977ce8b.flv\n",
      "tmp\\_75b4b9a9fc4801a2f625297c698e5eef4ec37cfe.flv\n",
      "tmp\\_76d63613abd080fe83b99cffe29e85ef01b12d40.flv\n",
      "tmp\\_7f520561558b365860cb88d5eb3e1e277f6a6a29.flv\n",
      "tmp\\_813837205d30049992f5fce833fcc668229cd204.flv\n",
      "tmp\\_931eee04c9bc764b3005c949528dec603d1d8394.flv\n",
      "tmp\\_99ed602c360a9781ed792eaa504ad1b89b51ae06.flv\n",
      "tmp\\_ac1543adad8ecc32d98d9a67d75fb0a39f67b685.flv\n",
      "tmp\\_b9d57bdc2d729020825f9617089e1aee6be798fe.flv\n",
      "tmp\\_c29e02d9e847bcde39ee667b454e4d67b22b105c.flv\n",
      "tmp\\_c9cee9c02cc23af3a26ee9548b895addd643974f.flv\n",
      "tmp\\_d1a19730dcc2b5ea5bec61756c452772aae031dd.flv\n",
      "tmp\\_d503fe96854919e67233ef3367d8fef6a23e0220.flv\n",
      "tmp\\_da1854c05d28b4d56f176c1aae5b14d7b9e36536.flv\n",
      "tmp\\_ddf4ea3ad374dad0d4abc418418581632547f2fc.flv\n",
      "tmp\\_e2409fb1749da3d3412fa0e5a1751c2fa0a6965d.flv\n",
      "tmp\\_e3e5cae3b58a6338c9a1b13d66b69c9e3d4fc785.flv\n",
      "tmp\\_e89539c5310189d7333610e2a4b57b8648d30af5.flv\n",
      "tmp\\_ee126b94478ec14c15bc7305974fbcfc07f4d40c.flv\n",
      "tmp\\_f30a503af68c95032a23557171ed7f788f0df018.flv\n",
      "tmp\\_f3c8c0c9b93e0a49d2508eee4aae618c1d69e082.flv\n",
      "tmp\\_fbd257e13786ad8bc65da9830f99da038a845079.flv\n",
      "tmp\\_09516f733d69613b8f6085b83d0aacd6f1a7f75d.mp4\n",
      "tmp\\_0bd7440f5fdf08fa30d2281f111ed4ae97d836a4.flv\n",
      "tmp\\_18f317405a4f8e49e546b3f4df689030a1f6664c.flv\n",
      "tmp\\_2bdf8029b38735a992a56e32cfc81466eea81286.flv\n",
      "tmp\\_35cea0d48b9b69a6cda373766ea586ccaa5ba78d.flv\n",
      "tmp\\_3d05bb64144049ccc7bc64001538f7e8ea50bf8b.flv\n",
      "tmp\\_3d0a3002441f682c7124806eb9b92c677af2ee9e.flv\n",
      "tmp\\_42daf76df2f31f0805f2f3f766bb348bb24feac7.flv\n",
      "tmp\\_44be6e5e82fced7f458b17c0230118034ffc7a57.flv\n",
      "tmp\\_5106b657cb3d1d98dd496150241aa529c80bd479.flv\n",
      "tmp\\_55aed88a8ca6116c8f83f3c0220414aa3d460ead.flv\n",
      "tmp\\_5df28e18b3d8fbdc0f4cd07ef5aefcdc1b4f8d42.flv\n",
      "tmp\\_60b45a875979efba30700f8e55728d17f0857212.flv\n",
      "tmp\\_668693ee5770ba3bfd7c6b5374d13c137a7c5942.flv\n",
      "tmp\\_8d222599bddb8d463bc7c7835f209cbc41072ca6.mp4\n",
      "tmp\\_92e46a8b5dcc5f1ad5db96e626d56234470f3c28.flv\n",
      "tmp\\_9ad3cc564c4f1b52ce076068e3830a70b9abccbf.flv\n",
      "tmp\\_a99ef662562ec242651946259b170b409c0d48d7.mp4\n",
      "tmp\\_b61905d41276ccf2af59d4985158f8b1ce1d4990.flv\n",
      "tmp\\_b75d15d45b34b0aba85ebc67fdc9fac93e20fd26.flv\n",
      "tmp\\_b87117db8a791ef534d91b79dd6d0ab57ffc644c.flv\n",
      "tmp\\_beb8ec624aae490c6f21a7bc7330da8e839623fb.mp4\n",
      "tmp\\_c4365f3b67428240a4e82a07ec373cc2db96e0a4.mp4\n",
      "tmp\\_e4b443e64c27a3364d16db8e11e6e85f2d3fd7ed.flv\n",
      "tmp\\_e862343f349018b392c1a389ff71cbe5eea67666.flv\n",
      "tmp\\_f8190a5d3e36b6bf01db0a4033c917c5cef93bcc.flv\n",
      "tmp\\_1e2598afd4d6a8728d6c0076354477db59702a5a.flv\n",
      "tmp\\_2c6e77e63a5b12547ccdd5d0c2a32db71428fc98.flv\n",
      "tmp\\_436657d23d80e9dbce2df57db62a3b45e05d475e.flv\n",
      "tmp\\_4a84b3090139a049a0dfd9cd4ae6db8b446fec99.flv\n",
      "tmp\\_5f8d7efc28c6dd3e20cfd0060177edcb243a0456.flv\n",
      "tmp\\_9067be820dde81e11fc69146317995110f408627.flv\n",
      "tmp\\_93cad7675cea2f7c761ad9fc2ee72baee61f38e3.flv\n",
      "tmp\\_94d686ecfa99d431b9f35e589e601057a2075b8e.flv\n",
      "tmp\\_9e94d3404faee3a1e3c78fb33064319511428103.flv\n",
      "tmp\\_a62ac3f909e921e2ae89e2ed4c272cfadab838a3.mp4\n",
      "tmp\\_b4d71ae78d81a607ddc2951bfd0a2e3ce46e6d91.flv\n",
      "tmp\\_c3ca62e39b8118a8773999ca5ed4757784032371.flv\n",
      "tmp\\_cbe5dff0d1f7658b8e37d32ade9fd9b27a9f3fc9.flv\n",
      "tmp\\_cf6db37d583044431cc33c4c723988cb6c5edc46.flv\n",
      "tmp\\_fa89363182761c182136f54fc7650930265a5bb4.flv\n",
      "tmp\\_0908a93749a07da23df25c1e7e13c4ceaeca1e23.flv\n",
      "tmp\\_36058f2303f8f3792127c3aba23a770e2ce3a2af.flv\n",
      "tmp\\_43e88c05606fa8939f8a1a908cc3ec7cbffb9acf.flv\n",
      "tmp\\_4849d1042b92a04fb2e019beec04a4f30188ba18.flv\n",
      "tmp\\_500bc7f5c5c61a19a8d4489fece07fdc1d7ed50e.flv\n",
      "tmp\\_50dfd1daee780fbf9722990387201e2b367a1f27.flv\n",
      "tmp\\_772259df16f837eb39a6d525748541fe6e15eecf.flv\n",
      "tmp\\_923b0fb622520f5e31207dc0c339639743cd77bd.flv\n",
      "tmp\\_976d46d661538fdfcff23979d4c0d9fff5fb5ee8.flv\n",
      "tmp\\_abd84397791c7c16a1718e37e2821f232889d9ac.flv\n",
      "tmp\\_b441a4e7885a6735296550f6e765a3fc1da1947b.flv\n",
      "tmp\\_b90b0fdb3035754c78e100577387be7c39ea2404.flv\n",
      "tmp\\_ffc734ab3e218f50f27286750b42a924fa151ef5.flv\n",
      "tmp\\_1c30bd1429c68113b2e9adc4e080488d743b14df.flv\n",
      "tmp\\_1c347b1b7ceb23e4b45f0965cafb6f981c0f61d5.flv\n",
      "tmp\\_1e0136fbd902af54aa012949158c995b75f9b443.flv\n",
      "tmp\\_1e65b3cc99734d5b44474fd883a58e27e7644360.flv\n",
      "tmp\\_28e2a70b9a97f4f501ec673368cdd9caa1d00831.flv\n",
      "tmp\\_4dd842508699d66636298376da31208a2e029c61.flv\n",
      "tmp\\_51dabd8f940a75182408db600fa74a5cfc9b3d29.flv\n",
      "tmp\\_74c3753f0751b532dd29c947777e5825dd3b2392.flv\n",
      "tmp\\_834a827de29c3955ab8cb0d7bf800bcb64acf555.flv\n",
      "tmp\\_8dab37af058628a51bd4b7e0a5a0c1cd5234f6ac.flv\n",
      "tmp\\_b97bd2c745407e22c671d36b64a5be29659aa0ba.mp4\n",
      "tmp\\_d821d4ffbf4f727e376164e2ad149757b70d0579.flv\n",
      "tmp\\_e7d95916555f9a89b377a0e9f94087416c8f9914.flv\n",
      "tmp\\_131233edfdfe1756ea474dab9f3a70d8530433d7.flv\n",
      "tmp\\_1803c61a647e94580b6b4fa9dd0677ae787df1fb.mp4\n",
      "tmp\\_18b795635784edf78f356c8fa2daf892c1fb7de0.flv\n",
      "tmp\\_2d033b088c2a341267c1329439506c206d6e7a87.flv\n",
      "tmp\\_34d8301dfa17beef7c5a703c03765e328c2c108e.flv\n",
      "tmp\\_48410b965d9e38987584d5ac39e3da0066a541df.flv\n",
      "tmp\\_4b8d5281f2235a0da86a784857fb44a7e5725c21.flv\n",
      "tmp\\_524ef63fbe3c17ac7dce07f21e19c22841269580.flv\n",
      "tmp\\_57c51ad056860d885f1f7535f07f1d82d1fe03c5.flv\n",
      "tmp\\_57e9e178196e922eda7174a756d3bdb80c1b4758.mp4\n",
      "tmp\\_5ceebbdf8bac4c15ff4657c73feee58dedd67c78.flv\n",
      "tmp\\_64de9d6b38ee8593d635a40baa74ace9a5316aa1.flv\n",
      "tmp\\_659b7a2003008951009b3edb5b61b455abae21a8.flv\n",
      "tmp\\_8105112836d236b232243624663911147a944ed4.mp4\n",
      "tmp\\_851a6c020ddd0b07bff00667ae8913fe8452f422.flv\n",
      "tmp\\_8b183ce1a33c5ab3eec1b3dc91e29b98f52bd3c1.flv\n",
      "tmp\\_8eced8631e728d892ecce8b2d916e8f12c03f63b.flv\n",
      "tmp\\_8f7a8b19c5309b39e0d2b908d6ab9ccb313da72b.flv\n",
      "tmp\\_90b2f3863d924c7aef594b86c1d3a10092ff141e.mp4\n",
      "tmp\\_988c10a00144e5cc99f35d5c2e819ae83a14af00.flv\n",
      "tmp\\_ac919b7ef7f4bd14fffddc17c41f9057f5cb408b.flv\n",
      "tmp\\_b2591211ef659b15f9ddb19f0d62086d880a25e7.flv\n",
      "tmp\\_b95fcc5bd9b38c2ace5c5e19d5f8e2faef086c2d.flv\n",
      "tmp\\_bdf029642e25b4e815c3bb602427babb2cbede2c.mp4\n",
      "tmp\\_be847241c99460843de85ffa104b07dcac62e588.flv\n",
      "tmp\\_c1ffd1a86d2b2451edda0bb4b25c914350aa9826.mp4\n",
      "tmp\\_c93fd45d975f63d8341fe603023a9d0258b4e02b.flv\n",
      "tmp\\_ced799f59617c20019ab9faa3be934b9c77f14c8.mp4\n",
      "tmp\\_d2442b3cf9396f6ae26a92e9165c8798297384ed.mp4\n",
      "tmp\\_de04dd21b7ef63a37ae70770dc0cfa0b2c1f52fc.flv\n",
      "tmp\\_e0159f1fa526854a81158d9cef89e31d2d189bf1.mp4\n",
      "tmp\\_eb97c61cfd330392a5d8c6d5c7e48fdfd1a0c859.flv\n",
      "tmp\\_ec6d9578723211eebde91393c69ba9f84507431c.mp4\n",
      "tmp\\_f277e9757d3eeeef647967a50e7c9211f9298de5.flv\n",
      "tmp\\_f39ab3318095c03b262a315d486a33dbcc41a535.flv\n",
      "tmp\\_fcbbdde0277a104a69b6bf013156f875ec9cfe0c.flv\n",
      "tmp\\_015d1827ee83949cba0db763a6d3d916d83f4f95.flv\n",
      "tmp\\_80f9281cacdfc5aef4a111d9286a66c30338e30a.flv\n",
      "tmp\\_e2397f231463229b2c93e61d7837f7c0e9b88377.flv\n",
      "tmp\\_0a6a553c5d2d7eb7409eb580e7da01f60e3176f1.flv\n",
      "tmp\\_0b3f9e88e5ab73e19dc4d1a32115ea3457867128.flv\n",
      "tmp\\_548e9ff21d5a54cf621986dc6047abf8db12e8b7.flv\n",
      "tmp\\_6280e17346f8c34c231180e8d659f804d111fa6b.mp4\n",
      "tmp\\_6fe097a963673b26c62f6ff6d6151d383c194b9d.flv\n",
      "tmp\\_7fdf8f5e4fb91b1af5b016242ad70fd0d74abb42.flv\n",
      "tmp\\_868f1ff130f7a0215de9abfacca746f96c4cd85d.flv\n",
      "tmp\\_8e4dcdacc0266b4836101656bcd0fd7721918e40.flv\n",
      "tmp\\_911169b1e685d943c7854a1c0ecdf9cef1250bec.mp4\n",
      "tmp\\_9185e2ba429ae15c5e2a2d0f624dee890e03d0f0.flv\n"
     ]
    },
    {
     "name": "stdout",
     "output_type": "stream",
     "text": [
      "tmp\\_97f5900df59435bc1230615987e24858e9a37f67.flv\n",
      "tmp\\_9b15a52652373497a10b8915b8cc025967962b72.flv\n",
      "tmp\\_9c5fde27983574ca7840da09d40c40bd20820957.flv\n",
      "tmp\\_9f7862bcee961fdec039a3f287ad7c8351cfbed9.flv\n",
      "tmp\\_a0fc0a97772388012c3d2062b36086d2cfb2bc82.flv\n",
      "tmp\\_a15a43f0cf9ce7eab781706a82ee0027d53aae4f.flv\n",
      "tmp\\_a86c9e954e46fae7936a0e70a2ecc1914a2f43e1.flv\n",
      "tmp\\_a89a3193db3354c059dfe4effac05c4667f9c239.flv\n",
      "tmp\\_a8ede4918fb583e92125f6ead7e7cdf6f331084d.flv\n",
      "tmp\\_b053607f9eae018c3916d3fdb0ccb1dc49777456.flv\n",
      "tmp\\_c1025681a6dfd43843735c07e9ec8ac2f08d80fc.flv\n",
      "tmp\\_ccc879ecfb35a1a77667dd8357b71a930c19092c.flv\n",
      "tmp\\_ee417a6b882853ffcd3f78b380b0205a9411f4d6.flv\n",
      "tmp\\_ffe9ad0e2519d04939e04ea128ee565fc3395e5b.flv\n",
      "tmp\\_0ab11b52561e9255423b01f29f7904a6dcadd87b.flv\n",
      "tmp\\_0c06d64856ceae3c5146fd0cae9ac6fc5107083e.flv\n",
      "tmp\\_0dbcff0b6d671e1579ad468eed54d84f7e9b7289.mp4\n",
      "tmp\\_0ed02c5bbb500542f88f0d7285e56e1186ac9bf5.flv\n",
      "tmp\\_13f06a567cbee6f40952cc13817a7774caa72903.flv\n",
      "tmp\\_1e04e15f77363ebb7cdfb8811cd3d5d6d8b18305.flv\n",
      "tmp\\_2d38fff9674d85ddccdd873df98475153c20aedd.flv\n",
      "tmp\\_42fe16072c4e7fbf1d1e280df7c1ad727446a615.mp4\n",
      "tmp\\_49eccab61ab137fc0ab04c8029e3caec0fa2b35f.flv\n",
      "tmp\\_5a6a49b7660b858476a69819cdf15a13ecf13c36.mp4\n",
      "tmp\\_8ad458ed4d45f32e8baa3bf5d84ad2a2a0324300.flv\n",
      "tmp\\_afc75e8c02a5ecba44739b0623befa16afa1d896.flv\n",
      "tmp\\_b91aa7020c5dd0a6518d11f745b275363f854bce.flv\n",
      "tmp\\_cb593efe5b194fe67a8e5ffe33b35cca954cdcd4.flv\n",
      "tmp\\_cc3b8791039b9e7f664260d76f8ca6cc48004823.flv\n",
      "tmp\\_e2d1ca4b2657cd82092765801adda59a7f71bc56.mp4\n"
     ]
    },
    {
     "data": {
      "text/html": [
       "<div>\n",
       "<style scoped>\n",
       "    .dataframe tbody tr th:only-of-type {\n",
       "        vertical-align: middle;\n",
       "    }\n",
       "\n",
       "    .dataframe tbody tr th {\n",
       "        vertical-align: top;\n",
       "    }\n",
       "\n",
       "    .dataframe thead th {\n",
       "        text-align: right;\n",
       "    }\n",
       "</style>\n",
       "<table border=\"1\" class=\"dataframe\">\n",
       "  <thead>\n",
       "    <tr style=\"text-align: right;\">\n",
       "      <th></th>\n",
       "      <th>feature</th>\n",
       "      <th>ts</th>\n",
       "      <th>id</th>\n",
       "    </tr>\n",
       "  </thead>\n",
       "  <tbody>\n",
       "    <tr>\n",
       "      <th>0</th>\n",
       "      <td>[1, 0, 0, 1, 1, 1, 0, 1, 1, 0, 0, 0, 1, 1, 1, ...</td>\n",
       "      <td>0.8</td>\n",
       "      <td>3504e360accbaccb1580befbb441f1019664c2bb.mp4</td>\n",
       "    </tr>\n",
       "    <tr>\n",
       "      <th>1</th>\n",
       "      <td>[0, 1, 1, 1, 1, 0, 1, 1, 1, 0, 0, 1, 1, 1, 1, ...</td>\n",
       "      <td>1.8</td>\n",
       "      <td>3504e360accbaccb1580befbb441f1019664c2bb.mp4</td>\n",
       "    </tr>\n",
       "    <tr>\n",
       "      <th>2</th>\n",
       "      <td>[0, 1, 1, 1, 1, 0, 1, 1, 1, 0, 0, 1, 1, 1, 1, ...</td>\n",
       "      <td>2.8</td>\n",
       "      <td>3504e360accbaccb1580befbb441f1019664c2bb.mp4</td>\n",
       "    </tr>\n",
       "    <tr>\n",
       "      <th>3</th>\n",
       "      <td>[0, 1, 1, 1, 1, 0, 1, 1, 1, 0, 0, 1, 1, 1, 1, ...</td>\n",
       "      <td>3.8</td>\n",
       "      <td>3504e360accbaccb1580befbb441f1019664c2bb.mp4</td>\n",
       "    </tr>\n",
       "    <tr>\n",
       "      <th>4</th>\n",
       "      <td>[1, 1, 1, 0, 0, 0, 1, 1, 1, 0, 0, 1, 1, 1, 1, ...</td>\n",
       "      <td>4.8</td>\n",
       "      <td>3504e360accbaccb1580befbb441f1019664c2bb.mp4</td>\n",
       "    </tr>\n",
       "  </tbody>\n",
       "</table>\n",
       "</div>"
      ],
      "text/plain": [
       "                                             feature   ts  \\\n",
       "0  [1, 0, 0, 1, 1, 1, 0, 1, 1, 0, 0, 0, 1, 1, 1, ...  0.8   \n",
       "1  [0, 1, 1, 1, 1, 0, 1, 1, 1, 0, 0, 1, 1, 1, 1, ...  1.8   \n",
       "2  [0, 1, 1, 1, 1, 0, 1, 1, 1, 0, 0, 1, 1, 1, 1, ...  2.8   \n",
       "3  [0, 1, 1, 1, 1, 0, 1, 1, 1, 0, 0, 1, 1, 1, 1, ...  3.8   \n",
       "4  [1, 1, 1, 0, 0, 0, 1, 1, 1, 0, 0, 1, 1, 1, 1, ...  4.8   \n",
       "\n",
       "                                             id  \n",
       "0  3504e360accbaccb1580befbb441f1019664c2bb.mp4  \n",
       "1  3504e360accbaccb1580befbb441f1019664c2bb.mp4  \n",
       "2  3504e360accbaccb1580befbb441f1019664c2bb.mp4  \n",
       "3  3504e360accbaccb1580befbb441f1019664c2bb.mp4  \n",
       "4  3504e360accbaccb1580befbb441f1019664c2bb.mp4  "
      ]
     },
     "execution_count": 88,
     "metadata": {},
     "output_type": "execute_result"
    }
   ],
   "source": [
    "query_df = get_rhash_df(query_processed_paths, buffer_size=TIRI_BUFFER_SIZE, hash_size=HASH_SIZE, write_frames_dir=FRAMES_DIR)\n",
    "query_df['id'] = query_df['id'].apply(lambda x: x.replace('_', ''))\n",
    "query_df.head()"
   ]
  },
  {
   "cell_type": "code",
   "execution_count": 89,
   "metadata": {
    "pycharm": {}
   },
   "outputs": [],
   "source": [
    "query_df.to_csv(DATA_DIR+'/vcdb_rhash_query.csv', index=False)"
   ]
  },
  {
   "cell_type": "code",
   "execution_count": null,
   "metadata": {
    "pycharm": {}
   },
   "outputs": [],
   "source": []
  },
  {
   "cell_type": "code",
   "execution_count": null,
   "metadata": {
    "pycharm": {}
   },
   "outputs": [],
   "source": []
  }
 ],
 "metadata": {
  "kernelspec": {
   "display_name": "Python 3",
   "language": "python",
   "name": "python3"
  },
  "language_info": {
   "codemirror_mode": {
    "name": "ipython",
    "version": 3
   },
   "file_extension": ".py",
   "mimetype": "text/x-python",
   "name": "python",
   "nbconvert_exporter": "python",
   "pygments_lexer": "ipython3",
   "version": "3.7.3"
  }
 },
 "nbformat": 4,
 "nbformat_minor": 2
}
