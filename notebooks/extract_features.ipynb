{
  "cells": [
    {
      "cell_type": "code",
      "execution_count": 8,
      "metadata": {
        "pycharm": {
          "is_executing": false
        }
      },
      "outputs": [],
      "source": "import os\nimport numpy as np\nimport pandas as pd\nimport scipy\nfrom scipy.spatial.distance import cosine\nimport random\nfrom sklearn.metrics import classification_report, accuracy_score\n%matplotlib inline"
    },
    {
      "cell_type": "code",
      "execution_count": 9,
      "outputs": [],
      "source": "from util import *",
      "metadata": {
        "pycharm": {
          "metadata": false,
          "name": "#%%\n",
          "is_executing": false
        }
      }
    },
    {
      "cell_type": "code",
      "execution_count": 10,
      "metadata": {
        "pycharm": {
          "is_executing": false
        }
      },
      "outputs": [],
      "source": "TEST_VID_DIR \u003d \u0027data/testvid\u0027\nFEATURES_OUT_DIR \u003d \u0027data/test_features\u0027\nFEATURE_EXTRACTOR \u003d local_histogram_features"
    },
    {
      "cell_type": "code",
      "execution_count": 11,
      "metadata": {
        "scrolled": false,
        "pycharm": {
          "is_executing": false
        }
      },
      "outputs": [
        {
          "name": "stdout",
          "text": [
            "Done 1.0\n",
            "Done 1.0\n",
            "Done 1.0\n",
            "Done 1.0\n",
            "Done 1.0\n",
            "Done 1.0\n"
          ],
          "output_type": "stream"
        }
      ],
      "source": "test_videos \u003d [os.path.join(TEST_VID_DIR, f) for f in os.listdir(TEST_VID_DIR)]\nfor fpath in test_videos:\n    test_df \u003d get_dataframe([fpath], feature_extractor\u003dFEATURE_EXTRACTOR)\n    test_df.to_csv(FEATURES_OUT_DIR+\u0027/\u0027+fpath.split(\u0027/\u0027)[-1] + \u0027.csv\u0027, index\u003dFalse)\n   \n"
    },
    {
      "cell_type": "code",
      "execution_count": null,
      "outputs": [],
      "source": "\n",
      "metadata": {
        "pycharm": {
          "metadata": false,
          "name": "#%%\n"
        }
      }
    }
  ],
  "metadata": {
    "kernelspec": {
      "name": "python2",
      "language": "python",
      "display_name": "Python 2"
    },
    "language_info": {
      "codemirror_mode": {
        "name": "ipython",
        "version": 3
      },
      "file_extension": ".py",
      "mimetype": "text/x-python",
      "name": "python",
      "nbconvert_exporter": "python",
      "pygments_lexer": "ipython3",
      "version": "3.6.4"
    }
  },
  "nbformat": 4,
  "nbformat_minor": 2
}